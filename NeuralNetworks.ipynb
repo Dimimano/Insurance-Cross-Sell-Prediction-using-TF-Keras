{
  "nbformat": 4,
  "nbformat_minor": 0,
  "metadata": {
    "colab": {
      "name": "NeuralNetworks.ipynb",
      "provenance": [],
      "mount_file_id": "1_p-tjHLcMOF9II-V0iRUjW_mh-yEFQnF",
      "authorship_tag": "ABX9TyMcfwuLwMzgNDxWzchK6A4H",
      "include_colab_link": true
    },
    "kernelspec": {
      "name": "python3",
      "display_name": "Python 3"
    },
    "language_info": {
      "name": "python"
    }
  },
  "cells": [
    {
      "cell_type": "markdown",
      "metadata": {
        "id": "view-in-github",
        "colab_type": "text"
      },
      "source": [
        "<a href=\"https://colab.research.google.com/github/Dimimano/Insurance-Cross-Sell-Prediction-using-TF-Keras/blob/main/NeuralNetworks.ipynb\" target=\"_parent\"><img src=\"https://colab.research.google.com/assets/colab-badge.svg\" alt=\"Open In Colab\"/></a>"
      ]
    },
    {
      "cell_type": "markdown",
      "metadata": {
        "id": "9-tHjD8e2nPC"
      },
      "source": [
        "<center><h1> <b>Neural Networks Assignment: </b></h1></center>\n",
        "<center><h1> <b>Insurance Cross Sell Prediction using TF Keras</b></h1></center>\n",
        "<br>"
      ]
    },
    {
      "cell_type": "markdown",
      "metadata": {
        "id": "AE5qtaMJEZKU"
      },
      "source": [
        "## Table of contents\n",
        "* [Introduction](#introduction)\n",
        "* [Data cleaning](#data)\n",
        "* [Exploratory Data Analysis](#methodology)\n",
        "* [Data Preprocessing](#data)\n",
        "* [Modeling](#analysis)\n",
        "* [Conclusion](#conclusion)"
      ]
    },
    {
      "cell_type": "markdown",
      "metadata": {
        "id": "vFgzM82-E6Bm"
      },
      "source": [
        "<h2><b>1. Introduction</b></h2>\n",
        "\n",
        "<h3><b>About the Problem</b></h3>\n",
        "\n",
        "\n",
        "Just like medical insurance, there is vehicle insurance where every year customer needs to pay a premium of certain amount to insurance provider company so that in case of unfortunate accident by the vehicle, the insurance provider company will provide a compensation (called ‘sum assured’) to the customer.\n",
        "\n",
        "Building a model to predict whether a customer would be interested in Vehicle Insurance is extremely helpful for companies because they can then accordingly plan their communication strategy to reach out to those customers and optimise its business model and revenue.\n",
        "\n",
        "Now, in order to predict, whether the customer would be interested in Vehicle insurance, information is given about demographics (gender, age, region code type), Vehicles (Vehicle Age, Damage), Policy (Premium, sourcing channel) etc."
      ]
    },
    {
      "cell_type": "markdown",
      "metadata": {
        "id": "vtSBgNqe6te1"
      },
      "source": [
        "<h3><b>About the Data </b></h3>\n",
        "\n",
        "*   **id:** Unique ID for the customer\n",
        "*   **Gender:** Gender of the customer\n",
        "*   **Age:** Age of the customer\n",
        "*   **Driving_License:** 0 --> Customer does not have DL,    1 --> Customer already has DL\n",
        "\n",
        "*   **Region_Code:** Unique code for the region of the customer\n",
        "*   **Previously_Insured:** 0 --> Customer doesn't have Vehicle Insurance,    1 --> Customer already has Vehicle Insurance\n",
        "*   **Vehicle_Age:** Age of the Vehicle\n",
        "*   **Vehicle_Damage:** 0 --> Customer didn't get his/her vehicle damaged in the past,    1 --> Customer got his/her vehicle damaged in the past\n",
        "*  **Annual_Premium:** The amount customer needs to pay as premium in the year\n",
        "*  **PolicySalesChannel:** Anonymized Code for the channel of outreaching to the customer ie. Different Agents, Over Mail, Over Phone, In Person, etc.\n",
        "*  **Vintage:** Number of Days, Customer has been associated with the company\n",
        "*  **Response:** 0 --> Customer in not interested 1 --> Customer is interested\n",
        "\n",
        "\n",
        "\n"
      ]
    },
    {
      "cell_type": "markdown",
      "metadata": {
        "id": "QYE7N1ICHllO"
      },
      "source": [
        "<h2><b>2. Data cleaning</b></h2>\n",
        "\n",
        "Before creating any model it is necessary to prepare the data and check for missing, invalid or duplicated values."
      ]
    },
    {
      "cell_type": "code",
      "metadata": {
        "colab": {
          "base_uri": "https://localhost:8080/"
        },
        "id": "U1_AyglK3mFw",
        "outputId": "9381b1ce-f842-4b2a-ceb2-877bc7b57f9c"
      },
      "source": [
        "#Import libraries:\n",
        "\n",
        "# Data Processing\n",
        "import numpy as np \n",
        "import pandas as pd \n",
        "\n",
        "# Data Visualization\n",
        "import matplotlib.pyplot as plt\n",
        "%matplotlib inline\n",
        "import seaborn as sns\n",
        "sns.set(style='whitegrid')\n",
        "a4_dims = (11.7, 8.27)\n",
        "\n",
        "# Modeling\n",
        "import sklearn\n",
        "from sklearn.metrics import confusion_matrix\n",
        "from sklearn.model_selection import train_test_split\n",
        "from sklearn.preprocessing import StandardScaler\n",
        "\n",
        "# Neural Networks\n",
        "import tensorflow as tf\n",
        "from tensorflow import keras\n",
        "\n",
        "# Resampling\n",
        "import imblearn\n",
        "from imblearn.over_sampling import RandomOverSampler\n",
        "from imblearn.under_sampling import RandomUnderSampler\n",
        "from collections import Counter"
      ],
      "execution_count": null,
      "outputs": [
        {
          "output_type": "stream",
          "text": [
            "/usr/local/lib/python3.7/dist-packages/sklearn/externals/six.py:31: FutureWarning: The module is deprecated in version 0.21 and will be removed in version 0.23 since we've dropped support for Python 2.7. Please rely on the official version of six (https://pypi.org/project/six/).\n",
            "  \"(https://pypi.org/project/six/).\", FutureWarning)\n",
            "/usr/local/lib/python3.7/dist-packages/sklearn/utils/deprecation.py:144: FutureWarning: The sklearn.neighbors.base module is  deprecated in version 0.22 and will be removed in version 0.24. The corresponding classes / functions should instead be imported from sklearn.neighbors. Anything that cannot be imported from sklearn.neighbors is now part of the private API.\n",
            "  warnings.warn(message, FutureWarning)\n"
          ],
          "name": "stderr"
        }
      ]
    },
    {
      "cell_type": "code",
      "metadata": {
        "id": "C5I4zQlsS8K5"
      },
      "source": [
        "#Classification matrix for evaluation.\n",
        "from sklearn.metrics import classification_report, confusion_matrix\n",
        "def plot_confusion_matrix(cm, classes,\n",
        "                          normalize=False,\n",
        "                          title='Confusion matrix',\n",
        "                          cmap=plt.cm.Blues):\n",
        "    \"\"\"\n",
        "    This function prints and plots the confusion matrix.\n",
        "    Normalization can be applied by setting `normalize=True`.\n",
        "    \"\"\"\n",
        "    import itertools\n",
        "    if normalize:\n",
        "        cm = cm.astype('float') / cm.sum(axis=1)[:, np.newaxis]\n",
        "        print(\"Normalized confusion matrix\")\n",
        "    else:\n",
        "        print('Confusion matrix, without normalization')\n",
        "\n",
        "    print(cm)\n",
        "\n",
        "    plt.imshow(cm, interpolation='nearest', cmap=cmap)\n",
        "    plt.title(title)\n",
        "    plt.colorbar()\n",
        "    tick_marks = np.arange(len(classes))\n",
        "    plt.xticks(tick_marks, classes, rotation=45)\n",
        "    plt.yticks(tick_marks, classes)\n",
        "\n",
        "    fmt = '.2f' if normalize else 'd'\n",
        "    thresh = cm.max() / 2.\n",
        "    for i, j in itertools.product(range(cm.shape[0]), range(cm.shape[1])):\n",
        "        plt.text(j, i, format(cm[i, j], fmt),\n",
        "                 horizontalalignment=\"center\",\n",
        "                 color=\"white\" if cm[i, j] > thresh else \"black\")\n",
        "\n",
        "    plt.ylabel('True label')\n",
        "    plt.xlabel('Predicted label')\n",
        "    plt.tight_layout()"
      ],
      "execution_count": null,
      "outputs": []
    },
    {
      "cell_type": "code",
      "metadata": {
        "colab": {
          "base_uri": "https://localhost:8080/",
          "height": 204
        },
        "id": "WvhSKsaM6PZZ",
        "outputId": "4158d1e2-d4fb-465f-ad1d-e5daa761385a"
      },
      "source": [
        "#Import the train dataset.\n",
        "df_train = pd.read_csv('drive/MyDrive/train.csv')\n",
        "df_train.head()"
      ],
      "execution_count": null,
      "outputs": [
        {
          "output_type": "execute_result",
          "data": {
            "text/html": [
              "<div>\n",
              "<style scoped>\n",
              "    .dataframe tbody tr th:only-of-type {\n",
              "        vertical-align: middle;\n",
              "    }\n",
              "\n",
              "    .dataframe tbody tr th {\n",
              "        vertical-align: top;\n",
              "    }\n",
              "\n",
              "    .dataframe thead th {\n",
              "        text-align: right;\n",
              "    }\n",
              "</style>\n",
              "<table border=\"1\" class=\"dataframe\">\n",
              "  <thead>\n",
              "    <tr style=\"text-align: right;\">\n",
              "      <th></th>\n",
              "      <th>id</th>\n",
              "      <th>Gender</th>\n",
              "      <th>Age</th>\n",
              "      <th>Driving_License</th>\n",
              "      <th>Region_Code</th>\n",
              "      <th>Previously_Insured</th>\n",
              "      <th>Vehicle_Age</th>\n",
              "      <th>Vehicle_Damage</th>\n",
              "      <th>Annual_Premium</th>\n",
              "      <th>Policy_Sales_Channel</th>\n",
              "      <th>Vintage</th>\n",
              "      <th>Response</th>\n",
              "    </tr>\n",
              "  </thead>\n",
              "  <tbody>\n",
              "    <tr>\n",
              "      <th>0</th>\n",
              "      <td>1</td>\n",
              "      <td>Male</td>\n",
              "      <td>44</td>\n",
              "      <td>1</td>\n",
              "      <td>28.0</td>\n",
              "      <td>0</td>\n",
              "      <td>&gt; 2 Years</td>\n",
              "      <td>Yes</td>\n",
              "      <td>40454.0</td>\n",
              "      <td>26.0</td>\n",
              "      <td>217</td>\n",
              "      <td>1</td>\n",
              "    </tr>\n",
              "    <tr>\n",
              "      <th>1</th>\n",
              "      <td>2</td>\n",
              "      <td>Male</td>\n",
              "      <td>76</td>\n",
              "      <td>1</td>\n",
              "      <td>3.0</td>\n",
              "      <td>0</td>\n",
              "      <td>1-2 Year</td>\n",
              "      <td>No</td>\n",
              "      <td>33536.0</td>\n",
              "      <td>26.0</td>\n",
              "      <td>183</td>\n",
              "      <td>0</td>\n",
              "    </tr>\n",
              "    <tr>\n",
              "      <th>2</th>\n",
              "      <td>3</td>\n",
              "      <td>Male</td>\n",
              "      <td>47</td>\n",
              "      <td>1</td>\n",
              "      <td>28.0</td>\n",
              "      <td>0</td>\n",
              "      <td>&gt; 2 Years</td>\n",
              "      <td>Yes</td>\n",
              "      <td>38294.0</td>\n",
              "      <td>26.0</td>\n",
              "      <td>27</td>\n",
              "      <td>1</td>\n",
              "    </tr>\n",
              "    <tr>\n",
              "      <th>3</th>\n",
              "      <td>4</td>\n",
              "      <td>Male</td>\n",
              "      <td>21</td>\n",
              "      <td>1</td>\n",
              "      <td>11.0</td>\n",
              "      <td>1</td>\n",
              "      <td>&lt; 1 Year</td>\n",
              "      <td>No</td>\n",
              "      <td>28619.0</td>\n",
              "      <td>152.0</td>\n",
              "      <td>203</td>\n",
              "      <td>0</td>\n",
              "    </tr>\n",
              "    <tr>\n",
              "      <th>4</th>\n",
              "      <td>5</td>\n",
              "      <td>Female</td>\n",
              "      <td>29</td>\n",
              "      <td>1</td>\n",
              "      <td>41.0</td>\n",
              "      <td>1</td>\n",
              "      <td>&lt; 1 Year</td>\n",
              "      <td>No</td>\n",
              "      <td>27496.0</td>\n",
              "      <td>152.0</td>\n",
              "      <td>39</td>\n",
              "      <td>0</td>\n",
              "    </tr>\n",
              "  </tbody>\n",
              "</table>\n",
              "</div>"
            ],
            "text/plain": [
              "   id  Gender  Age  ...  Policy_Sales_Channel  Vintage  Response\n",
              "0   1    Male   44  ...                  26.0      217         1\n",
              "1   2    Male   76  ...                  26.0      183         0\n",
              "2   3    Male   47  ...                  26.0       27         1\n",
              "3   4    Male   21  ...                 152.0      203         0\n",
              "4   5  Female   29  ...                 152.0       39         0\n",
              "\n",
              "[5 rows x 12 columns]"
            ]
          },
          "metadata": {
            "tags": []
          },
          "execution_count": 8
        }
      ]
    },
    {
      "cell_type": "code",
      "metadata": {
        "colab": {
          "base_uri": "https://localhost:8080/"
        },
        "id": "0rm5T4k0Jy2c",
        "outputId": "e02c5de1-f622-49f4-c64d-afb597252971"
      },
      "source": [
        "#Dimensions of train dataset.\n",
        "df_train.shape"
      ],
      "execution_count": null,
      "outputs": [
        {
          "output_type": "execute_result",
          "data": {
            "text/plain": [
              "(381109, 12)"
            ]
          },
          "metadata": {
            "tags": []
          },
          "execution_count": 9
        }
      ]
    },
    {
      "cell_type": "markdown",
      "metadata": {
        "id": "7yYBB2eoU7x9"
      },
      "source": [
        "The train dataset containts 381109 records. The id column does not offer any information so it is removed."
      ]
    },
    {
      "cell_type": "code",
      "metadata": {
        "colab": {
          "base_uri": "https://localhost:8080/"
        },
        "id": "aOSAPyvRKLab",
        "outputId": "d8e1d690-f3d8-46c6-b43e-0099c03d5e82"
      },
      "source": [
        "#Remove 'id' column from both datasets.\n",
        "df_train = df_train.drop(['id'], axis=1)\n",
        "df_train.columns"
      ],
      "execution_count": null,
      "outputs": [
        {
          "output_type": "execute_result",
          "data": {
            "text/plain": [
              "Index(['Gender', 'Age', 'Driving_License', 'Region_Code', 'Previously_Insured',\n",
              "       'Vehicle_Age', 'Vehicle_Damage', 'Annual_Premium',\n",
              "       'Policy_Sales_Channel', 'Vintage', 'Response'],\n",
              "      dtype='object')"
            ]
          },
          "metadata": {
            "tags": []
          },
          "execution_count": 10
        }
      ]
    },
    {
      "cell_type": "markdown",
      "metadata": {
        "id": "hC-D2yo3YyON"
      },
      "source": [
        "The dataset contains zero NULL values."
      ]
    },
    {
      "cell_type": "code",
      "metadata": {
        "colab": {
          "base_uri": "https://localhost:8080/"
        },
        "id": "TItjEXaGWAHu",
        "outputId": "25241451-b053-4c25-fdd2-abaadcd48d50"
      },
      "source": [
        "#Check for null values.\n",
        "df_train.isnull().sum()"
      ],
      "execution_count": null,
      "outputs": [
        {
          "output_type": "execute_result",
          "data": {
            "text/plain": [
              "Gender                  0\n",
              "Age                     0\n",
              "Driving_License         0\n",
              "Region_Code             0\n",
              "Previously_Insured      0\n",
              "Vehicle_Age             0\n",
              "Vehicle_Damage          0\n",
              "Annual_Premium          0\n",
              "Policy_Sales_Channel    0\n",
              "Vintage                 0\n",
              "Response                0\n",
              "dtype: int64"
            ]
          },
          "metadata": {
            "tags": []
          },
          "execution_count": 11
        }
      ]
    },
    {
      "cell_type": "markdown",
      "metadata": {
        "id": "19V-pUb7buRA"
      },
      "source": [
        "Each column needs to be checked for invalid values. For example anything other than 'Male' or 'Female' in the Gender column is invalid."
      ]
    },
    {
      "cell_type": "code",
      "metadata": {
        "colab": {
          "base_uri": "https://localhost:8080/"
        },
        "id": "LhESXa67YwQs",
        "outputId": "2bcbd81c-e0b5-4886-ae6b-5303d2e8982f"
      },
      "source": [
        "# Unique values for all the columns\n",
        "for col in df_train.columns[~(df_train.columns.isin(['age', 'id', 'region_code', 'annual_premium', 'policy_sales_channel', 'vintage']))].tolist():\n",
        "    print(\" Unique Values --> \" + col, ':', len(df_train[col].unique()), ': ', df_train[col].unique())\n",
        "    print()"
      ],
      "execution_count": null,
      "outputs": [
        {
          "output_type": "stream",
          "text": [
            " Unique Values --> Gender : 2 :  ['Male' 'Female']\n",
            "\n",
            " Unique Values --> Age : 66 :  [44 76 47 21 29 24 23 56 32 41 71 37 25 42 60 65 49 34 51 26 57 79 48 45\n",
            " 72 30 54 27 38 22 78 20 39 62 58 59 63 50 67 77 28 69 52 31 33 43 36 53\n",
            " 70 46 55 40 61 75 64 35 66 68 74 73 84 83 81 80 82 85]\n",
            "\n",
            " Unique Values --> Driving_License : 2 :  [1 0]\n",
            "\n",
            " Unique Values --> Region_Code : 53 :  [28.  3. 11. 41. 33.  6. 35. 50. 15. 45.  8. 36. 30. 26. 16. 47. 48. 19.\n",
            " 39. 23. 37.  5. 17.  2.  7. 29. 46. 27. 25. 13. 18. 20. 49. 22. 44.  0.\n",
            "  9. 31. 12. 34. 21. 10. 14. 38. 24. 40. 43. 32.  4. 51. 42.  1. 52.]\n",
            "\n",
            " Unique Values --> Previously_Insured : 2 :  [0 1]\n",
            "\n",
            " Unique Values --> Vehicle_Age : 3 :  ['> 2 Years' '1-2 Year' '< 1 Year']\n",
            "\n",
            " Unique Values --> Vehicle_Damage : 2 :  ['Yes' 'No']\n",
            "\n",
            " Unique Values --> Annual_Premium : 48838 :  [ 40454.  33536.  38294. ...  20706. 101664.  69845.]\n",
            "\n",
            " Unique Values --> Policy_Sales_Channel : 155 :  [ 26. 152. 160. 124.  14.  13.  30. 156. 163. 157. 122.  19.  22.  15.\n",
            " 154.  16.  52. 155.  11. 151. 125.  25.  61.   1.  86.  31. 150.  23.\n",
            "  60.  21. 121.   3. 139.  12.  29.  55.   7.  47. 127. 153.  78. 158.\n",
            "  89.  32.   8.  10. 120.  65.   4.  42.  83. 136.  24.  18.  56.  48.\n",
            " 106.  54.  93. 116.  91.  45.   9. 145. 147.  44. 109.  37. 140. 107.\n",
            " 128. 131. 114. 118. 159. 119. 105. 135.  62. 138. 129.  88.  92. 111.\n",
            " 113.  73.  36.  28.  35.  59.  53. 148. 133. 108.  64.  39.  94. 132.\n",
            "  46.  81. 103.  90.  51.  27. 146.  63.  96.  40.  66. 100.  95. 123.\n",
            "  98.  75.  69. 130. 134.  49.  97.  38.  17. 110.  80.  71. 117.  58.\n",
            "  20.  76. 104.  87.  84. 137. 126.  68.  67. 101. 115.  57.  82.  79.\n",
            " 112.  99.  70.   2.  34.  33.  74. 102. 149.  43.   6.  50. 144. 143.\n",
            "  41.]\n",
            "\n",
            " Unique Values --> Vintage : 290 :  [217 183  27 203  39 176 249  72  28  80  46 289 221  15  58 147 256 299\n",
            " 158 102 116 177 232  60 180  49  57 223 136 222 149 169  88 253 107 264\n",
            " 233  45 184 251 153 186  71  34  83  12 246 141 216 130 282  73 171 283\n",
            " 295 165  30 218  22  36  79  81 100  63 242 277  61 111 167  74 235 131\n",
            " 243 248 114 281  62 189 139 138 209 254 291  68  92  52  78 156 247 275\n",
            "  77 181 229 166  16  23  31 293 219  50 155  66 260  19 258 117 193 204\n",
            " 212 144 234 206 228 125  29  18  84 230  54 123 101  86  13 237  85  98\n",
            "  67 128  95  89  99 208 134 135 268 284 119 226 105 142 207 272 263  64\n",
            "  40 245 163  24 265 202 259  91 106 190 162  33 194 287 292  69 239 132\n",
            " 255 152 121 150 143 198 103 127 285 214 151 199  56  59 215 104 238 120\n",
            "  21  32 270 211 200 197  11 213  93 113 178  10 290  94 231 296  47 122\n",
            " 271 278 276  96 240 172 257 224 173 220 185  90  51 205  70 160 137 168\n",
            "  87 118 288 126 241  82 227 115 164 236 286 244 108 274 201  97  25 174\n",
            " 182 154  48  20  53  17 261  41 266  35 140 269 146 145  65 298 133 195\n",
            "  55 188  75  38  43 110  37 129 170 109 267 279 112 280  76 191  26 161\n",
            " 179 175 252  42 124 187 148 294  44 157 192 262 159 210 250  14 273 297\n",
            " 225 196]\n",
            "\n",
            " Unique Values --> Response : 2 :  [1 0]\n",
            "\n"
          ],
          "name": "stdout"
        }
      ]
    },
    {
      "cell_type": "markdown",
      "metadata": {
        "id": "6IG71QHVcMHZ"
      },
      "source": [
        "None of the columns looks like they include invalid values."
      ]
    },
    {
      "cell_type": "markdown",
      "metadata": {
        "id": "KkDQnBRScsFW"
      },
      "source": [
        "<h2><b>3. Exploratory Data Analysis</b></h2>"
      ]
    },
    {
      "cell_type": "markdown",
      "metadata": {
        "id": "QuSy86lydJZw"
      },
      "source": [
        "<p> In this section, most of the data is visualized and summarized in order to summarize the dataset's main characterestics and gain insight into its underlying  structure. </p>"
      ]
    },
    {
      "cell_type": "markdown",
      "metadata": {
        "id": "tBAnHqA3sq2O"
      },
      "source": [
        "<h3><b>Target Value - Response</b></h3>"
      ]
    },
    {
      "cell_type": "code",
      "metadata": {
        "colab": {
          "base_uri": "https://localhost:8080/"
        },
        "id": "QzTanV1scHi8",
        "outputId": "0bf10ba5-6c7a-4888-be1d-258672a9a88b"
      },
      "source": [
        "df_train['Response'].value_counts()"
      ],
      "execution_count": null,
      "outputs": [
        {
          "output_type": "execute_result",
          "data": {
            "text/plain": [
              "0    334399\n",
              "1     46710\n",
              "Name: Response, dtype: int64"
            ]
          },
          "metadata": {
            "tags": []
          },
          "execution_count": 13
        }
      ]
    },
    {
      "cell_type": "code",
      "metadata": {
        "colab": {
          "base_uri": "https://localhost:8080/"
        },
        "id": "991zJQk22_NA",
        "outputId": "bd63afa6-e76a-4813-cef2-afd366ea0f48"
      },
      "source": [
        "print('Only ' + str(round((46710/(46710+334399)*100),2)) + '% of the clients in the dataset, buy a vehicle insurance.')"
      ],
      "execution_count": null,
      "outputs": [
        {
          "output_type": "stream",
          "text": [
            "Only 12.26% of the clients in the dataset, buy a vehicle insurance.\n"
          ],
          "name": "stdout"
        }
      ]
    },
    {
      "cell_type": "code",
      "metadata": {
        "colab": {
          "base_uri": "https://localhost:8080/",
          "height": 550
        },
        "id": "11-34ytTs0dT",
        "outputId": "24acb456-ac02-451f-a4b5-3d22734064a9"
      },
      "source": [
        "fig, ax = plt.subplots(figsize=a4_dims)\n",
        "b = sns.countplot(x='Response', data=df_train)\n",
        "b.set_title(\"Response Distribution\")"
      ],
      "execution_count": null,
      "outputs": [
        {
          "output_type": "execute_result",
          "data": {
            "text/plain": [
              "Text(0.5, 1.0, 'Response Distribution')"
            ]
          },
          "metadata": {
            "tags": []
          },
          "execution_count": 15
        },
        {
          "output_type": "display_data",
          "data": {
            "image/png": "[encoded data removed]",
            "text/plain": [
              "<Figure size 842.4x595.44 with 1 Axes>"
            ]
          },
          "metadata": {
            "tags": []
          }
        }
      ]
    },
    {
      "cell_type": "markdown",
      "metadata": {
        "id": "Amj0xlCH2ygN"
      },
      "source": [
        "Looking at the plot it is obvious that there is an imbalance in the dataset. Just 12.26% of the clients in the dataset bought a vehicle insurance and this imbalance may become an issue later on when the selected neural network makes predictions."
      ]
    },
    {
      "cell_type": "markdown",
      "metadata": {
        "id": "sQEwa6CFE4U_"
      },
      "source": [
        "<h3><b>Gender</b></h3>"
      ]
    },
    {
      "cell_type": "code",
      "metadata": {
        "colab": {
          "base_uri": "https://localhost:8080/",
          "height": 550
        },
        "id": "gszmJ2wntWlR",
        "outputId": "114d6487-5599-4c6d-ca2c-5e0c26c29ae2"
      },
      "source": [
        "fig, ax = plt.subplots(figsize=a4_dims)\n",
        "b = sns.countplot(ax=ax,x='Gender', data=df_train)\n",
        "b.set_title(\"Gender Distribution\")"
      ],
      "execution_count": null,
      "outputs": [
        {
          "output_type": "execute_result",
          "data": {
            "text/plain": [
              "Text(0.5, 1.0, 'Gender Distribution')"
            ]
          },
          "metadata": {
            "tags": []
          },
          "execution_count": 16
        },
        {
          "output_type": "display_data",
          "data": {
            "image/png": "[encoded data removed]",
            "text/plain": [
              "<Figure size 842.4x595.44 with 1 Axes>"
            ]
          },
          "metadata": {
            "tags": []
          }
        }
      ]
    },
    {
      "cell_type": "code",
      "metadata": {
        "colab": {
          "base_uri": "https://localhost:8080/",
          "height": 550
        },
        "id": "00SBwWuK5WF1",
        "outputId": "a9f3a6dd-49c8-4a90-9bbc-a7c3644e8b91"
      },
      "source": [
        "pd.crosstab(df_train['Response'], df_train['Gender']).plot(kind=\"bar\", figsize=a4_dims)\n",
        "\n",
        "plt.title(\"Response distribution for Gender\")\n",
        "plt.xlabel(\"0 = Customer is Not interested, 1 = Customer is interested\")\n",
        "plt.ylabel(\"Amount\")\n",
        "plt.legend([\"Female\", \"Male\"])\n",
        "plt.xticks(rotation=0)"
      ],
      "execution_count": null,
      "outputs": [
        {
          "output_type": "execute_result",
          "data": {
            "text/plain": [
              "(array([0, 1]), <a list of 2 Text major ticklabel objects>)"
            ]
          },
          "metadata": {
            "tags": []
          },
          "execution_count": 17
        },
        {
          "output_type": "display_data",
          "data": {
            "image/png": "[encoded data removed]",
            "text/plain": [
              "<Figure size 842.4x595.44 with 1 Axes>"
            ]
          },
          "metadata": {
            "tags": []
          }
        }
      ]
    },
    {
      "cell_type": "markdown",
      "metadata": {
        "id": "fYTYOJMRFEQO"
      },
      "source": [
        "Positive and negative responses are equally distributed among the two Genders."
      ]
    },
    {
      "cell_type": "markdown",
      "metadata": {
        "id": "TCiWgM-eFZEQ"
      },
      "source": [
        "<h3><b>Age</b></h3>"
      ]
    },
    {
      "cell_type": "code",
      "metadata": {
        "colab": {
          "base_uri": "https://localhost:8080/",
          "height": 604
        },
        "id": "3B9vpeUL6vWw",
        "outputId": "56fc10c0-d088-4c71-cbdb-a446404803bf"
      },
      "source": [
        "fig, ax = plt.subplots(figsize=a4_dims)\n",
        "b = sns.distplot(df_train['Age'])\n",
        "b.set_title(\"Age Distribution\")"
      ],
      "execution_count": null,
      "outputs": [
        {
          "output_type": "stream",
          "text": [
            "/usr/local/lib/python3.7/dist-packages/seaborn/distributions.py:2557: FutureWarning: `distplot` is a deprecated function and will be removed in a future version. Please adapt your code to use either `displot` (a figure-level function with similar flexibility) or `histplot` (an axes-level function for histograms).\n",
            "  warnings.warn(msg, FutureWarning)\n"
          ],
          "name": "stderr"
        },
        {
          "output_type": "execute_result",
          "data": {
            "text/plain": [
              "Text(0.5, 1.0, 'Age Distribution')"
            ]
          },
          "metadata": {
            "tags": []
          },
          "execution_count": 18
        },
        {
          "output_type": "display_data",
          "data": {
            "image/png": "[encoded data removed]",
            "text/plain": [
              "<Figure size 842.4x595.44 with 1 Axes>"
            ]
          },
          "metadata": {
            "tags": []
          }
        }
      ]
    },
    {
      "cell_type": "code",
      "metadata": {
        "colab": {
          "base_uri": "https://localhost:8080/",
          "height": 533
        },
        "id": "O9v5VoO5GuBW",
        "outputId": "06d81f13-ffb2-4980-d28a-299b246abb96"
      },
      "source": [
        "fig, ax = plt.subplots(figsize=a4_dims)\n",
        "b = sns.boxplot(y='Age', x='Response', data=df_train);\n",
        "b.set_title(\"Age Distribution for each Response\");"
      ],
      "execution_count": null,
      "outputs": [
        {
          "output_type": "display_data",
          "data": {
            "image/png": "[encoded data removed]",
            "text/plain": [
              "<Figure size 842.4x595.44 with 1 Axes>"
            ]
          },
          "metadata": {
            "tags": []
          }
        }
      ]
    },
    {
      "cell_type": "markdown",
      "metadata": {
        "id": "4BOZyofOHL0z"
      },
      "source": [
        "Most of the customers are aged around 25 years old. However, the average age of the customers that are positive to a vehicle insurance is at 35-50 years old."
      ]
    },
    {
      "cell_type": "markdown",
      "metadata": {
        "id": "hMOj9se4KCcv"
      },
      "source": [
        "<h3><b>Driving Licence</b></h3>"
      ]
    },
    {
      "cell_type": "code",
      "metadata": {
        "colab": {
          "base_uri": "https://localhost:8080/"
        },
        "id": "vifVpMyk7GwB",
        "outputId": "d85f10a7-2d9e-4cb6-f711-8d2abca3dfae"
      },
      "source": [
        "df_train['Driving_License'].value_counts()"
      ],
      "execution_count": null,
      "outputs": [
        {
          "output_type": "execute_result",
          "data": {
            "text/plain": [
              "1    380297\n",
              "0       812\n",
              "Name: Driving_License, dtype: int64"
            ]
          },
          "metadata": {
            "tags": []
          },
          "execution_count": 20
        }
      ]
    },
    {
      "cell_type": "markdown",
      "metadata": {
        "id": "drSNvqFzKxvQ"
      },
      "source": [
        "<p> There are only a few of customers without a Driver's Licence so it is wise to not include this feature in the data. </p>"
      ]
    },
    {
      "cell_type": "code",
      "metadata": {
        "id": "spc8jl9Z7cbG"
      },
      "source": [
        "df_train = df_train.drop(\"Driving_License\", axis=1)"
      ],
      "execution_count": null,
      "outputs": []
    },
    {
      "cell_type": "markdown",
      "metadata": {
        "id": "B8fdBfNGMT3s"
      },
      "source": [
        "<h3><b>Previously Insured</b></h3>"
      ]
    },
    {
      "cell_type": "code",
      "metadata": {
        "colab": {
          "base_uri": "https://localhost:8080/",
          "height": 550
        },
        "id": "cjNDC3XU8ocS",
        "outputId": "1bcb7b7e-ffd1-4621-fc9b-59ef49726aa1"
      },
      "source": [
        "pd.crosstab(df_train['Response'], df_train['Previously_Insured']).plot(kind=\"bar\", figsize=a4_dims)\n",
        "\n",
        "plt.title(\"Response distribution for Previously_Insured\")\n",
        "plt.xlabel(\"0 = Customer is Not interested, 1 = Customer is interested\")\n",
        "plt.ylabel(\"Amount\")\n",
        "plt.legend([\"Customer doesn't have Vehicle Insurance\", \"Customer already has Vehicle Insurance\"])\n",
        "plt.xticks(rotation=0)"
      ],
      "execution_count": null,
      "outputs": [
        {
          "output_type": "execute_result",
          "data": {
            "text/plain": [
              "(array([0, 1]), <a list of 2 Text major ticklabel objects>)"
            ]
          },
          "metadata": {
            "tags": []
          },
          "execution_count": 22
        },
        {
          "output_type": "display_data",
          "data": {
            "image/png": "[encoded data removed]",
            "text/plain": [
              "<Figure size 842.4x595.44 with 1 Axes>"
            ]
          },
          "metadata": {
            "tags": []
          }
        }
      ]
    },
    {
      "cell_type": "markdown",
      "metadata": {
        "id": "yEyi_5BRM2IL"
      },
      "source": [
        "<p> Only customers that do not already have a Vehicle Insurance are interested to purchase one. </p>"
      ]
    },
    {
      "cell_type": "markdown",
      "metadata": {
        "id": "857fJ4duNMSJ"
      },
      "source": [
        "<h3><b>Vehicle Age</b></h3>"
      ]
    },
    {
      "cell_type": "code",
      "metadata": {
        "colab": {
          "base_uri": "https://localhost:8080/",
          "height": 550
        },
        "id": "Nju26DsB_i3r",
        "outputId": "d847d719-e4e8-4d2b-d7a1-0283ffdb04af"
      },
      "source": [
        "pd.crosstab(df_train['Response'], df_train['Vehicle_Age']).plot(kind=\"bar\", figsize=a4_dims)\n",
        "\n",
        "plt.title(\"Response distribution for Vehicle_Age\")\n",
        "plt.xlabel(\"0 = Customer is Not interested, 1 = Customer is interested\")\n",
        "plt.ylabel(\"Amount\")\n",
        "plt.legend([\"1-2 Year\", \"< 1 Year\", \"> 2 Years\"])\n",
        "plt.xticks(rotation=0)"
      ],
      "execution_count": null,
      "outputs": [
        {
          "output_type": "execute_result",
          "data": {
            "text/plain": [
              "(array([0, 1]), <a list of 2 Text major ticklabel objects>)"
            ]
          },
          "metadata": {
            "tags": []
          },
          "execution_count": 23
        },
        {
          "output_type": "display_data",
          "data": {
            "image/png": "[encoded data removed]",
            "text/plain": [
              "<Figure size 842.4x595.44 with 1 Axes>"
            ]
          },
          "metadata": {
            "tags": []
          }
        }
      ]
    },
    {
      "cell_type": "markdown",
      "metadata": {
        "id": "rBBsDLKVNXMX"
      },
      "source": [
        "<p> At first, it seems that mostly customers with new cars are interested to buy a vehicle insurance (as it is natural) but it is also true that most customers own new cars (hence, bumping the numbers) and a very high percentage of the customers that own old cars are interested into buying a vehicle insurance. </p>"
      ]
    },
    {
      "cell_type": "markdown",
      "metadata": {
        "id": "KU0i8eQFQN9S"
      },
      "source": [
        "<h3><b>Vehicle Damage</b></h3>"
      ]
    },
    {
      "cell_type": "code",
      "metadata": {
        "colab": {
          "base_uri": "https://localhost:8080/",
          "height": 550
        },
        "id": "uLaFfDo-_sdO",
        "outputId": "4227e7a7-5612-421d-a299-75b78ee2d5a3"
      },
      "source": [
        "pd.crosstab(df_train['Response'], df_train['Vehicle_Damage']).plot(kind=\"bar\", figsize=a4_dims)\n",
        "\n",
        "plt.title(\"Response distribution for Vehicle_Damage\")\n",
        "plt.xlabel(\"0 = Customer is Not interested, 1 = Customer is interested\")\n",
        "plt.ylabel(\"Amount\")\n",
        "plt.legend([\"Vehicle Damage\", \"No Vehicle Damage\"])\n",
        "plt.xticks(rotation=0)"
      ],
      "execution_count": null,
      "outputs": [
        {
          "output_type": "execute_result",
          "data": {
            "text/plain": [
              "(array([0, 1]), <a list of 2 Text major ticklabel objects>)"
            ]
          },
          "metadata": {
            "tags": []
          },
          "execution_count": 24
        },
        {
          "output_type": "display_data",
          "data": {
            "image/png": "[encoded data removed]",
            "text/plain": [
              "<Figure size 842.4x595.44 with 1 Axes>"
            ]
          },
          "metadata": {
            "tags": []
          }
        }
      ]
    },
    {
      "cell_type": "markdown",
      "metadata": {
        "id": "vrXrFehwQ40F"
      },
      "source": [
        "As it is expected, mostly customers with undamaged cars are interested for a vehicle insurance."
      ]
    },
    {
      "cell_type": "markdown",
      "metadata": {
        "id": "QFacw3PWShuz"
      },
      "source": [
        "<h2><b>4. Data Preprocessing</b></h2>\n",
        "\n",
        "<p> Before moving on creating neural networks and making predictions it is necessary to preprocess the data and convert them into the right format. In most cases (e.g Gender) the conversion are pretty simple since most of the variables are binary and are coded as -1 and 1 while others only need to be converted to integers (e.g. Region Code). </p>\n",
        "<p> However, in the case of Vehicle Age variable a more complex encoding is used, named level encoding as it tries to capture every level of information this variable includes. </p>"
      ]
    },
    {
      "cell_type": "code",
      "metadata": {
        "id": "-AL4kLF1DLsX"
      },
      "source": [
        "gender = {'Male': -1, 'Female': 1}\n",
        "previously_insured = {0: -1, 1: 1}\n",
        "vehicle_damage = {'Yes': 1, 'No': -1}\n",
        "df_train['Vehicle_Age_Over_Year'] = ''\n",
        "df_train['Vehicle_Age_Over_2Years'] = ''\n",
        "\n",
        "def level_encoding1(x):\n",
        "  if x == '> 2 Years':\n",
        "    return 1\n",
        "  elif x == '1-2 Year':\n",
        "    return 1\n",
        "  else:\n",
        "    return 0\n",
        "\n",
        "def level_encoding2(x):\n",
        "  if x == '> 2 Years':\n",
        "    return 1\n",
        "  elif x == '1-2 Year':\n",
        "    return 0\n",
        "  else:\n",
        "    return 0\n",
        "\n",
        "\n",
        "def preprocess(df):\n",
        "    df['Gender'] = df['Gender'].map(gender)\n",
        "    df['Previously_Insured'] = df['Previously_Insured'].map(previously_insured)\n",
        "    df['Vehicle_Damage'] = df['Vehicle_Damage'].map(vehicle_damage)\n",
        "    df['Vehicle_Age_Over_Year'] = df['Vehicle_Age'].apply(lambda x: level_encoding1(x))\n",
        "    df['Vehicle_Age_Over_2Years'] = df['Vehicle_Age'].apply(lambda x: level_encoding2(x))\n",
        "    df['Policy_Sales_Channel'] = df['Policy_Sales_Channel'].apply(lambda x: np.int(x))\n",
        "    df['Region_Code'] = df['Region_Code'].apply(lambda x: np.int(x))\n",
        "\n",
        "    return df"
      ],
      "execution_count": null,
      "outputs": []
    },
    {
      "cell_type": "code",
      "metadata": {
        "colab": {
          "base_uri": "https://localhost:8080/",
          "height": 297
        },
        "id": "9DpZpL8yV3qw",
        "outputId": "538c3f86-cad9-41e2-a682-e2b577a5eb2f"
      },
      "source": [
        "df_train.describe()"
      ],
      "execution_count": null,
      "outputs": [
        {
          "output_type": "execute_result",
          "data": {
            "text/html": [
              "<div>\n",
              "<style scoped>\n",
              "    .dataframe tbody tr th:only-of-type {\n",
              "        vertical-align: middle;\n",
              "    }\n",
              "\n",
              "    .dataframe tbody tr th {\n",
              "        vertical-align: top;\n",
              "    }\n",
              "\n",
              "    .dataframe thead th {\n",
              "        text-align: right;\n",
              "    }\n",
              "</style>\n",
              "<table border=\"1\" class=\"dataframe\">\n",
              "  <thead>\n",
              "    <tr style=\"text-align: right;\">\n",
              "      <th></th>\n",
              "      <th>Age</th>\n",
              "      <th>Region_Code</th>\n",
              "      <th>Previously_Insured</th>\n",
              "      <th>Annual_Premium</th>\n",
              "      <th>Policy_Sales_Channel</th>\n",
              "      <th>Vintage</th>\n",
              "      <th>Response</th>\n",
              "    </tr>\n",
              "  </thead>\n",
              "  <tbody>\n",
              "    <tr>\n",
              "      <th>count</th>\n",
              "      <td>381109.000000</td>\n",
              "      <td>381109.000000</td>\n",
              "      <td>381109.000000</td>\n",
              "      <td>381109.000000</td>\n",
              "      <td>381109.000000</td>\n",
              "      <td>381109.000000</td>\n",
              "      <td>381109.000000</td>\n",
              "    </tr>\n",
              "    <tr>\n",
              "      <th>mean</th>\n",
              "      <td>38.822584</td>\n",
              "      <td>26.388807</td>\n",
              "      <td>0.458210</td>\n",
              "      <td>30564.389581</td>\n",
              "      <td>112.034295</td>\n",
              "      <td>154.347397</td>\n",
              "      <td>0.122563</td>\n",
              "    </tr>\n",
              "    <tr>\n",
              "      <th>std</th>\n",
              "      <td>15.511611</td>\n",
              "      <td>13.229888</td>\n",
              "      <td>0.498251</td>\n",
              "      <td>17213.155057</td>\n",
              "      <td>54.203995</td>\n",
              "      <td>83.671304</td>\n",
              "      <td>0.327936</td>\n",
              "    </tr>\n",
              "    <tr>\n",
              "      <th>min</th>\n",
              "      <td>20.000000</td>\n",
              "      <td>0.000000</td>\n",
              "      <td>0.000000</td>\n",
              "      <td>2630.000000</td>\n",
              "      <td>1.000000</td>\n",
              "      <td>10.000000</td>\n",
              "      <td>0.000000</td>\n",
              "    </tr>\n",
              "    <tr>\n",
              "      <th>25%</th>\n",
              "      <td>25.000000</td>\n",
              "      <td>15.000000</td>\n",
              "      <td>0.000000</td>\n",
              "      <td>24405.000000</td>\n",
              "      <td>29.000000</td>\n",
              "      <td>82.000000</td>\n",
              "      <td>0.000000</td>\n",
              "    </tr>\n",
              "    <tr>\n",
              "      <th>50%</th>\n",
              "      <td>36.000000</td>\n",
              "      <td>28.000000</td>\n",
              "      <td>0.000000</td>\n",
              "      <td>31669.000000</td>\n",
              "      <td>133.000000</td>\n",
              "      <td>154.000000</td>\n",
              "      <td>0.000000</td>\n",
              "    </tr>\n",
              "    <tr>\n",
              "      <th>75%</th>\n",
              "      <td>49.000000</td>\n",
              "      <td>35.000000</td>\n",
              "      <td>1.000000</td>\n",
              "      <td>39400.000000</td>\n",
              "      <td>152.000000</td>\n",
              "      <td>227.000000</td>\n",
              "      <td>0.000000</td>\n",
              "    </tr>\n",
              "    <tr>\n",
              "      <th>max</th>\n",
              "      <td>85.000000</td>\n",
              "      <td>52.000000</td>\n",
              "      <td>1.000000</td>\n",
              "      <td>540165.000000</td>\n",
              "      <td>163.000000</td>\n",
              "      <td>299.000000</td>\n",
              "      <td>1.000000</td>\n",
              "    </tr>\n",
              "  </tbody>\n",
              "</table>\n",
              "</div>"
            ],
            "text/plain": [
              "                 Age    Region_Code  ...        Vintage       Response\n",
              "count  381109.000000  381109.000000  ...  381109.000000  381109.000000\n",
              "mean       38.822584      26.388807  ...     154.347397       0.122563\n",
              "std        15.511611      13.229888  ...      83.671304       0.327936\n",
              "min        20.000000       0.000000  ...      10.000000       0.000000\n",
              "25%        25.000000      15.000000  ...      82.000000       0.000000\n",
              "50%        36.000000      28.000000  ...     154.000000       0.000000\n",
              "75%        49.000000      35.000000  ...     227.000000       0.000000\n",
              "max        85.000000      52.000000  ...     299.000000       1.000000\n",
              "\n",
              "[8 rows x 7 columns]"
            ]
          },
          "metadata": {
            "tags": []
          },
          "execution_count": 26
        }
      ]
    },
    {
      "cell_type": "code",
      "metadata": {
        "colab": {
          "base_uri": "https://localhost:8080/",
          "height": 439
        },
        "id": "Y_nu9kT4Vrz9",
        "outputId": "bac634f3-8c4b-4fe9-a6a1-bba3cd017f30"
      },
      "source": [
        "preprocess(df_train)"
      ],
      "execution_count": null,
      "outputs": [
        {
          "output_type": "execute_result",
          "data": {
            "text/html": [
              "<div>\n",
              "<style scoped>\n",
              "    .dataframe tbody tr th:only-of-type {\n",
              "        vertical-align: middle;\n",
              "    }\n",
              "\n",
              "    .dataframe tbody tr th {\n",
              "        vertical-align: top;\n",
              "    }\n",
              "\n",
              "    .dataframe thead th {\n",
              "        text-align: right;\n",
              "    }\n",
              "</style>\n",
              "<table border=\"1\" class=\"dataframe\">\n",
              "  <thead>\n",
              "    <tr style=\"text-align: right;\">\n",
              "      <th></th>\n",
              "      <th>Gender</th>\n",
              "      <th>Age</th>\n",
              "      <th>Region_Code</th>\n",
              "      <th>Previously_Insured</th>\n",
              "      <th>Vehicle_Age</th>\n",
              "      <th>Vehicle_Damage</th>\n",
              "      <th>Annual_Premium</th>\n",
              "      <th>Policy_Sales_Channel</th>\n",
              "      <th>Vintage</th>\n",
              "      <th>Response</th>\n",
              "      <th>Vehicle_Age_Over_Year</th>\n",
              "      <th>Vehicle_Age_Over_2Years</th>\n",
              "    </tr>\n",
              "  </thead>\n",
              "  <tbody>\n",
              "    <tr>\n",
              "      <th>0</th>\n",
              "      <td>-1</td>\n",
              "      <td>44</td>\n",
              "      <td>28</td>\n",
              "      <td>-1</td>\n",
              "      <td>&gt; 2 Years</td>\n",
              "      <td>1</td>\n",
              "      <td>40454.0</td>\n",
              "      <td>26</td>\n",
              "      <td>217</td>\n",
              "      <td>1</td>\n",
              "      <td>1</td>\n",
              "      <td>1</td>\n",
              "    </tr>\n",
              "    <tr>\n",
              "      <th>1</th>\n",
              "      <td>-1</td>\n",
              "      <td>76</td>\n",
              "      <td>3</td>\n",
              "      <td>-1</td>\n",
              "      <td>1-2 Year</td>\n",
              "      <td>-1</td>\n",
              "      <td>33536.0</td>\n",
              "      <td>26</td>\n",
              "      <td>183</td>\n",
              "      <td>0</td>\n",
              "      <td>1</td>\n",
              "      <td>0</td>\n",
              "    </tr>\n",
              "    <tr>\n",
              "      <th>2</th>\n",
              "      <td>-1</td>\n",
              "      <td>47</td>\n",
              "      <td>28</td>\n",
              "      <td>-1</td>\n",
              "      <td>&gt; 2 Years</td>\n",
              "      <td>1</td>\n",
              "      <td>38294.0</td>\n",
              "      <td>26</td>\n",
              "      <td>27</td>\n",
              "      <td>1</td>\n",
              "      <td>1</td>\n",
              "      <td>1</td>\n",
              "    </tr>\n",
              "    <tr>\n",
              "      <th>3</th>\n",
              "      <td>-1</td>\n",
              "      <td>21</td>\n",
              "      <td>11</td>\n",
              "      <td>1</td>\n",
              "      <td>&lt; 1 Year</td>\n",
              "      <td>-1</td>\n",
              "      <td>28619.0</td>\n",
              "      <td>152</td>\n",
              "      <td>203</td>\n",
              "      <td>0</td>\n",
              "      <td>0</td>\n",
              "      <td>0</td>\n",
              "    </tr>\n",
              "    <tr>\n",
              "      <th>4</th>\n",
              "      <td>1</td>\n",
              "      <td>29</td>\n",
              "      <td>41</td>\n",
              "      <td>1</td>\n",
              "      <td>&lt; 1 Year</td>\n",
              "      <td>-1</td>\n",
              "      <td>27496.0</td>\n",
              "      <td>152</td>\n",
              "      <td>39</td>\n",
              "      <td>0</td>\n",
              "      <td>0</td>\n",
              "      <td>0</td>\n",
              "    </tr>\n",
              "    <tr>\n",
              "      <th>...</th>\n",
              "      <td>...</td>\n",
              "      <td>...</td>\n",
              "      <td>...</td>\n",
              "      <td>...</td>\n",
              "      <td>...</td>\n",
              "      <td>...</td>\n",
              "      <td>...</td>\n",
              "      <td>...</td>\n",
              "      <td>...</td>\n",
              "      <td>...</td>\n",
              "      <td>...</td>\n",
              "      <td>...</td>\n",
              "    </tr>\n",
              "    <tr>\n",
              "      <th>381104</th>\n",
              "      <td>-1</td>\n",
              "      <td>74</td>\n",
              "      <td>26</td>\n",
              "      <td>1</td>\n",
              "      <td>1-2 Year</td>\n",
              "      <td>-1</td>\n",
              "      <td>30170.0</td>\n",
              "      <td>26</td>\n",
              "      <td>88</td>\n",
              "      <td>0</td>\n",
              "      <td>1</td>\n",
              "      <td>0</td>\n",
              "    </tr>\n",
              "    <tr>\n",
              "      <th>381105</th>\n",
              "      <td>-1</td>\n",
              "      <td>30</td>\n",
              "      <td>37</td>\n",
              "      <td>1</td>\n",
              "      <td>&lt; 1 Year</td>\n",
              "      <td>-1</td>\n",
              "      <td>40016.0</td>\n",
              "      <td>152</td>\n",
              "      <td>131</td>\n",
              "      <td>0</td>\n",
              "      <td>0</td>\n",
              "      <td>0</td>\n",
              "    </tr>\n",
              "    <tr>\n",
              "      <th>381106</th>\n",
              "      <td>-1</td>\n",
              "      <td>21</td>\n",
              "      <td>30</td>\n",
              "      <td>1</td>\n",
              "      <td>&lt; 1 Year</td>\n",
              "      <td>-1</td>\n",
              "      <td>35118.0</td>\n",
              "      <td>160</td>\n",
              "      <td>161</td>\n",
              "      <td>0</td>\n",
              "      <td>0</td>\n",
              "      <td>0</td>\n",
              "    </tr>\n",
              "    <tr>\n",
              "      <th>381107</th>\n",
              "      <td>1</td>\n",
              "      <td>68</td>\n",
              "      <td>14</td>\n",
              "      <td>-1</td>\n",
              "      <td>&gt; 2 Years</td>\n",
              "      <td>1</td>\n",
              "      <td>44617.0</td>\n",
              "      <td>124</td>\n",
              "      <td>74</td>\n",
              "      <td>0</td>\n",
              "      <td>1</td>\n",
              "      <td>1</td>\n",
              "    </tr>\n",
              "    <tr>\n",
              "      <th>381108</th>\n",
              "      <td>-1</td>\n",
              "      <td>46</td>\n",
              "      <td>29</td>\n",
              "      <td>-1</td>\n",
              "      <td>1-2 Year</td>\n",
              "      <td>-1</td>\n",
              "      <td>41777.0</td>\n",
              "      <td>26</td>\n",
              "      <td>237</td>\n",
              "      <td>0</td>\n",
              "      <td>1</td>\n",
              "      <td>0</td>\n",
              "    </tr>\n",
              "  </tbody>\n",
              "</table>\n",
              "<p>381109 rows × 12 columns</p>\n",
              "</div>"
            ],
            "text/plain": [
              "        Gender  Age  ...  Vehicle_Age_Over_Year  Vehicle_Age_Over_2Years\n",
              "0           -1   44  ...                      1                        1\n",
              "1           -1   76  ...                      1                        0\n",
              "2           -1   47  ...                      1                        1\n",
              "3           -1   21  ...                      0                        0\n",
              "4            1   29  ...                      0                        0\n",
              "...        ...  ...  ...                    ...                      ...\n",
              "381104      -1   74  ...                      1                        0\n",
              "381105      -1   30  ...                      0                        0\n",
              "381106      -1   21  ...                      0                        0\n",
              "381107       1   68  ...                      1                        1\n",
              "381108      -1   46  ...                      1                        0\n",
              "\n",
              "[381109 rows x 12 columns]"
            ]
          },
          "metadata": {
            "tags": []
          },
          "execution_count": 27
        }
      ]
    },
    {
      "cell_type": "code",
      "metadata": {
        "id": "Pucps_1kH2Uq"
      },
      "source": [
        "df_train = df_train.drop('Vehicle_Age', axis=1)"
      ],
      "execution_count": null,
      "outputs": []
    },
    {
      "cell_type": "code",
      "metadata": {
        "colab": {
          "base_uri": "https://localhost:8080/"
        },
        "id": "LXMYhovqHozC",
        "outputId": "a1c6f1a5-f717-4bc5-c790-8064289f5e02"
      },
      "source": [
        "df_train.columns"
      ],
      "execution_count": null,
      "outputs": [
        {
          "output_type": "execute_result",
          "data": {
            "text/plain": [
              "Index(['Gender', 'Age', 'Region_Code', 'Previously_Insured', 'Vehicle_Damage',\n",
              "       'Annual_Premium', 'Policy_Sales_Channel', 'Vintage', 'Response',\n",
              "       'Vehicle_Age_Over_Year', 'Vehicle_Age_Over_2Years'],\n",
              "      dtype='object')"
            ]
          },
          "metadata": {
            "tags": []
          },
          "execution_count": 29
        }
      ]
    },
    {
      "cell_type": "code",
      "metadata": {
        "colab": {
          "base_uri": "https://localhost:8080/",
          "height": 317
        },
        "id": "m6u-WUr7VuyB",
        "outputId": "fb2f6f44-69a5-4cad-f243-4bbee11f69de"
      },
      "source": [
        "df_train.describe()"
      ],
      "execution_count": null,
      "outputs": [
        {
          "output_type": "execute_result",
          "data": {
            "text/html": [
              "<div>\n",
              "<style scoped>\n",
              "    .dataframe tbody tr th:only-of-type {\n",
              "        vertical-align: middle;\n",
              "    }\n",
              "\n",
              "    .dataframe tbody tr th {\n",
              "        vertical-align: top;\n",
              "    }\n",
              "\n",
              "    .dataframe thead th {\n",
              "        text-align: right;\n",
              "    }\n",
              "</style>\n",
              "<table border=\"1\" class=\"dataframe\">\n",
              "  <thead>\n",
              "    <tr style=\"text-align: right;\">\n",
              "      <th></th>\n",
              "      <th>Gender</th>\n",
              "      <th>Age</th>\n",
              "      <th>Region_Code</th>\n",
              "      <th>Previously_Insured</th>\n",
              "      <th>Vehicle_Damage</th>\n",
              "      <th>Annual_Premium</th>\n",
              "      <th>Policy_Sales_Channel</th>\n",
              "      <th>Vintage</th>\n",
              "      <th>Response</th>\n",
              "      <th>Vehicle_Age_Over_Year</th>\n",
              "      <th>Vehicle_Age_Over_2Years</th>\n",
              "    </tr>\n",
              "  </thead>\n",
              "  <tbody>\n",
              "    <tr>\n",
              "      <th>count</th>\n",
              "      <td>381109.000000</td>\n",
              "      <td>381109.000000</td>\n",
              "      <td>381109.000000</td>\n",
              "      <td>381109.000000</td>\n",
              "      <td>381109.000000</td>\n",
              "      <td>381109.000000</td>\n",
              "      <td>381109.000000</td>\n",
              "      <td>381109.000000</td>\n",
              "      <td>381109.000000</td>\n",
              "      <td>381109.000000</td>\n",
              "      <td>381109.000000</td>\n",
              "    </tr>\n",
              "    <tr>\n",
              "      <th>mean</th>\n",
              "      <td>-0.081523</td>\n",
              "      <td>38.822584</td>\n",
              "      <td>26.388807</td>\n",
              "      <td>-0.083580</td>\n",
              "      <td>0.009753</td>\n",
              "      <td>30564.389581</td>\n",
              "      <td>112.034295</td>\n",
              "      <td>154.347397</td>\n",
              "      <td>0.122563</td>\n",
              "      <td>0.567615</td>\n",
              "      <td>0.042001</td>\n",
              "    </tr>\n",
              "    <tr>\n",
              "      <th>std</th>\n",
              "      <td>0.996673</td>\n",
              "      <td>15.511611</td>\n",
              "      <td>13.229888</td>\n",
              "      <td>0.996502</td>\n",
              "      <td>0.999954</td>\n",
              "      <td>17213.155057</td>\n",
              "      <td>54.203995</td>\n",
              "      <td>83.671304</td>\n",
              "      <td>0.327936</td>\n",
              "      <td>0.495408</td>\n",
              "      <td>0.200592</td>\n",
              "    </tr>\n",
              "    <tr>\n",
              "      <th>min</th>\n",
              "      <td>-1.000000</td>\n",
              "      <td>20.000000</td>\n",
              "      <td>0.000000</td>\n",
              "      <td>-1.000000</td>\n",
              "      <td>-1.000000</td>\n",
              "      <td>2630.000000</td>\n",
              "      <td>1.000000</td>\n",
              "      <td>10.000000</td>\n",
              "      <td>0.000000</td>\n",
              "      <td>0.000000</td>\n",
              "      <td>0.000000</td>\n",
              "    </tr>\n",
              "    <tr>\n",
              "      <th>25%</th>\n",
              "      <td>-1.000000</td>\n",
              "      <td>25.000000</td>\n",
              "      <td>15.000000</td>\n",
              "      <td>-1.000000</td>\n",
              "      <td>-1.000000</td>\n",
              "      <td>24405.000000</td>\n",
              "      <td>29.000000</td>\n",
              "      <td>82.000000</td>\n",
              "      <td>0.000000</td>\n",
              "      <td>0.000000</td>\n",
              "      <td>0.000000</td>\n",
              "    </tr>\n",
              "    <tr>\n",
              "      <th>50%</th>\n",
              "      <td>-1.000000</td>\n",
              "      <td>36.000000</td>\n",
              "      <td>28.000000</td>\n",
              "      <td>-1.000000</td>\n",
              "      <td>1.000000</td>\n",
              "      <td>31669.000000</td>\n",
              "      <td>133.000000</td>\n",
              "      <td>154.000000</td>\n",
              "      <td>0.000000</td>\n",
              "      <td>1.000000</td>\n",
              "      <td>0.000000</td>\n",
              "    </tr>\n",
              "    <tr>\n",
              "      <th>75%</th>\n",
              "      <td>1.000000</td>\n",
              "      <td>49.000000</td>\n",
              "      <td>35.000000</td>\n",
              "      <td>1.000000</td>\n",
              "      <td>1.000000</td>\n",
              "      <td>39400.000000</td>\n",
              "      <td>152.000000</td>\n",
              "      <td>227.000000</td>\n",
              "      <td>0.000000</td>\n",
              "      <td>1.000000</td>\n",
              "      <td>0.000000</td>\n",
              "    </tr>\n",
              "    <tr>\n",
              "      <th>max</th>\n",
              "      <td>1.000000</td>\n",
              "      <td>85.000000</td>\n",
              "      <td>52.000000</td>\n",
              "      <td>1.000000</td>\n",
              "      <td>1.000000</td>\n",
              "      <td>540165.000000</td>\n",
              "      <td>163.000000</td>\n",
              "      <td>299.000000</td>\n",
              "      <td>1.000000</td>\n",
              "      <td>1.000000</td>\n",
              "      <td>1.000000</td>\n",
              "    </tr>\n",
              "  </tbody>\n",
              "</table>\n",
              "</div>"
            ],
            "text/plain": [
              "              Gender  ...  Vehicle_Age_Over_2Years\n",
              "count  381109.000000  ...            381109.000000\n",
              "mean       -0.081523  ...                 0.042001\n",
              "std         0.996673  ...                 0.200592\n",
              "min        -1.000000  ...                 0.000000\n",
              "25%        -1.000000  ...                 0.000000\n",
              "50%        -1.000000  ...                 0.000000\n",
              "75%         1.000000  ...                 0.000000\n",
              "max         1.000000  ...                 1.000000\n",
              "\n",
              "[8 rows x 11 columns]"
            ]
          },
          "metadata": {
            "tags": []
          },
          "execution_count": 30
        }
      ]
    },
    {
      "cell_type": "markdown",
      "metadata": {
        "id": "pY8AKEnkX3aE"
      },
      "source": [
        "<h2><b>5. Modeling</b></h2>\n",
        "\n",
        "The test dataset that was provided is unlabeled since the data were part of a Kaggle contest (where the contestants predict the response of each customer in the test data without knowing the true values). Because of that, before creating any neural networks, the 'train' data are split into train and validation sets for training and test set for validation."
      ]
    },
    {
      "cell_type": "code",
      "metadata": {
        "colab": {
          "base_uri": "https://localhost:8080/"
        },
        "id": "MXZv92MLV_o-",
        "outputId": "e8613e20-3ff4-4fa9-bdc5-53a66e98570d"
      },
      "source": [
        "train, test = train_test_split(df_train, test_size=0.1)\n",
        "print(len(train), 'train examples')\n",
        "print(len(test), 'test examples')"
      ],
      "execution_count": null,
      "outputs": [
        {
          "output_type": "stream",
          "text": [
            "342998 train examples\n",
            "38111 test examples\n"
          ],
          "name": "stdout"
        }
      ]
    },
    {
      "cell_type": "code",
      "metadata": {
        "colab": {
          "base_uri": "https://localhost:8080/"
        },
        "id": "HVp5LczRgb2X",
        "outputId": "52747f10-90c8-4144-ba67-b6d6618f6216"
      },
      "source": [
        "train, val = train_test_split(train, test_size=0.1)\n",
        "print(len(train), 'train examples')\n",
        "print(len(val), 'validation examples')"
      ],
      "execution_count": null,
      "outputs": [
        {
          "output_type": "stream",
          "text": [
            "308698 train examples\n",
            "34300 validation examples\n"
          ],
          "name": "stdout"
        }
      ]
    },
    {
      "cell_type": "code",
      "metadata": {
        "id": "dknuIUm0VfR6"
      },
      "source": [
        "#Save the proccesed data.\n",
        "train.to_csv('train.csv')\n",
        "test.to_csv('test.csv')\n",
        "val.to_csv('val.csv')"
      ],
      "execution_count": null,
      "outputs": []
    },
    {
      "cell_type": "code",
      "metadata": {
        "id": "8hAsYGp_Wzad"
      },
      "source": [
        "#Copy the files to the Drive.\n",
        "!cp -a /content/train.csv /content/drive/MyDrive/Colab\\ Notebooks\n",
        "!cp -a /content/test.csv /content/drive/MyDrive/Colab\\ Notebooks\n",
        "!cp -a /content/val.csv /content/drive/MyDrive/Colab\\ Notebooks"
      ],
      "execution_count": null,
      "outputs": []
    },
    {
      "cell_type": "code",
      "metadata": {
        "id": "kd6kt8ofa7wf"
      },
      "source": [
        "#Split the target variable from the features.\n",
        "train_labels = np.array(train['Response'])\n",
        "test_labels = np.array(test['Response'])\n",
        "val_labels = np.array(val['Response'])\n",
        "train = train.drop('Response', axis = 1)\n",
        "test = test.drop('Response', axis = 1)\n",
        "val = val.drop('Response', axis = 1)"
      ],
      "execution_count": null,
      "outputs": []
    },
    {
      "cell_type": "code",
      "metadata": {
        "id": "ts94OngIHYA0"
      },
      "source": [
        "#Standardize the features.\n",
        "scaler = StandardScaler()\n",
        "train_features = scaler.fit_transform(train)\n",
        "test_features = scaler.fit_transform(test)\n",
        "val_features = scaler.transform(val)"
      ],
      "execution_count": null,
      "outputs": []
    },
    {
      "cell_type": "markdown",
      "metadata": {
        "id": "-9Gxbg3x9Rrl"
      },
      "source": [
        "The first neural network that is created is composed by two hidden layers of 16 and 32 neurons, that use the relu activation function. Before the output layer, a dropout layer is added that ignores 50% of the randomly selected neurons in order to avoid overfitting. As it is usual in binary classifications, the sigmoid activation function is used in the output layer which contains only one neuron while the loss function that the model seeks to minimize is the Binary Crossentropy. Finally, the model uses the popular Adam optimizer with a 0.001 learning rate."
      ]
    },
    {
      "cell_type": "markdown",
      "metadata": {
        "id": "kwt2rRmEiRNr"
      },
      "source": [
        "<h4><b> Model 1 <h4><b>"
      ]
    },
    {
      "cell_type": "code",
      "metadata": {
        "id": "4YG7b1vWVNYB"
      },
      "source": [
        "METRICS = [\n",
        "      keras.metrics.TruePositives(name='tp'),\n",
        "      keras.metrics.FalsePositives(name='fp'),\n",
        "      keras.metrics.TrueNegatives(name='tn'),\n",
        "      keras.metrics.FalseNegatives(name='fn'), \n",
        "      keras.metrics.BinaryAccuracy(name='accuracy'),\n",
        "      keras.metrics.Precision(name='precision'),\n",
        "      keras.metrics.Recall(name='recall'),\n",
        "      keras.metrics.AUC(name='auc'),\n",
        "]\n",
        "\n",
        "def make_model(metrics = METRICS):\n",
        "  model = keras.Sequential([\n",
        "      keras.layers.Dense(\n",
        "          16, activation='relu',\n",
        "          input_shape=(train_features.shape[-1],)),\n",
        "      keras.layers.Dense(\n",
        "          32, activation='relu'),\n",
        "      keras.layers.Dropout(0.5),\n",
        "      keras.layers.Dense(1, activation='sigmoid'),\n",
        "  ])\n",
        "\n",
        "  model.compile(\n",
        "      optimizer=keras.optimizers.Adam(lr=1e-3),\n",
        "      loss=keras.losses.BinaryCrossentropy(),\n",
        "      metrics=metrics)\n",
        "\n",
        "  return model"
      ],
      "execution_count": null,
      "outputs": []
    },
    {
      "cell_type": "code",
      "metadata": {
        "colab": {
          "base_uri": "https://localhost:8080/"
        },
        "id": "RfmxfdZIVX4q",
        "outputId": "94bc49eb-6399-4fd4-f810-7b27447b1512"
      },
      "source": [
        "model = make_model()\n",
        "model.summary()"
      ],
      "execution_count": null,
      "outputs": [
        {
          "output_type": "stream",
          "text": [
            "Model: \"sequential\"\n",
            "_________________________________________________________________\n",
            "Layer (type)                 Output Shape              Param #   \n",
            "=================================================================\n",
            "dense (Dense)                (None, 16)                176       \n",
            "_________________________________________________________________\n",
            "dense_1 (Dense)              (None, 32)                544       \n",
            "_________________________________________________________________\n",
            "dropout (Dropout)            (None, 32)                0         \n",
            "_________________________________________________________________\n",
            "dense_2 (Dense)              (None, 1)                 33        \n",
            "=================================================================\n",
            "Total params: 753\n",
            "Trainable params: 753\n",
            "Non-trainable params: 0\n",
            "_________________________________________________________________\n"
          ],
          "name": "stdout"
        }
      ]
    },
    {
      "cell_type": "markdown",
      "metadata": {
        "id": "1U-5pxpNCXmR"
      },
      "source": [
        "In order to further minimize overfitting, an early stopping callback is applied to the model if there is no improvement in the selected metric after 10 epochs. The metric that was selected for this procedure is the Area Under the Curve metric (on the validation data). "
      ]
    },
    {
      "cell_type": "code",
      "metadata": {
        "id": "_-Ax3cms4k7s"
      },
      "source": [
        "EPOCHS = 100\n",
        "BATCH_SIZE = 2048\n",
        "\n",
        "early_stopping = tf.keras.callbacks.EarlyStopping(\n",
        "    monitor='val_auc', \n",
        "    verbose=1,\n",
        "    patience=10,\n",
        "    mode='max',\n",
        "    restore_best_weights=True)"
      ],
      "execution_count": null,
      "outputs": []
    },
    {
      "cell_type": "code",
      "metadata": {
        "colab": {
          "base_uri": "https://localhost:8080/"
        },
        "id": "3xI3OHhRVfbx",
        "outputId": "07968937-a56f-4397-b7e5-42e73b0957b3"
      },
      "source": [
        "baseline_history = model.fit(\n",
        "    train_features,\n",
        "    train_labels,\n",
        "    batch_size=BATCH_SIZE,\n",
        "    epochs=EPOCHS,\n",
        "    callbacks = [early_stopping],\n",
        "    validation_data=(val_features, val_labels))"
      ],
      "execution_count": null,
      "outputs": [
        {
          "output_type": "stream",
          "text": [
            "Epoch 1/100\n",
            "151/151 [==============================] - 5s 18ms/step - loss: 0.6240 - tp: 3167.6184 - fp: 27336.3224 - tn: 110097.1711 - fn: 16050.1776 - accuracy: 0.6498 - precision: 0.1034 - recall: 0.2365 - auc: 0.4771 - val_loss: 0.2948 - val_tp: 0.0000e+00 - val_fp: 0.0000e+00 - val_tn: 30125.0000 - val_fn: 4175.0000 - val_accuracy: 0.8783 - val_precision: 0.0000e+00 - val_recall: 0.0000e+00 - val_auc: 0.8190\n",
            "Epoch 2/100\n",
            "151/151 [==============================] - 1s 9ms/step - loss: 0.3098 - tp: 494.9737 - fp: 1093.2434 - tn: 136258.0263 - fn: 18805.0461 - accuracy: 0.8728 - precision: 0.3092 - recall: 0.0271 - auc: 0.7920 - val_loss: 0.2780 - val_tp: 0.0000e+00 - val_fp: 0.0000e+00 - val_tn: 30125.0000 - val_fn: 4175.0000 - val_accuracy: 0.8783 - val_precision: 0.0000e+00 - val_recall: 0.0000e+00 - val_auc: 0.8329\n",
            "Epoch 3/100\n",
            "151/151 [==============================] - 1s 9ms/step - loss: 0.2885 - tp: 180.8355 - fp: 332.0132 - tn: 137076.1382 - fn: 19062.3026 - accuracy: 0.8766 - precision: 0.3560 - recall: 0.0104 - auc: 0.8199 - val_loss: 0.2746 - val_tp: 0.0000e+00 - val_fp: 0.0000e+00 - val_tn: 30125.0000 - val_fn: 4175.0000 - val_accuracy: 0.8783 - val_precision: 0.0000e+00 - val_recall: 0.0000e+00 - val_auc: 0.8361\n",
            "Epoch 4/100\n",
            "151/151 [==============================] - 1s 9ms/step - loss: 0.2820 - tp: 45.5000 - fp: 94.0592 - tn: 137335.8026 - fn: 19175.9276 - accuracy: 0.8772 - precision: 0.3439 - recall: 0.0028 - auc: 0.8286 - val_loss: 0.2736 - val_tp: 0.0000e+00 - val_fp: 0.0000e+00 - val_tn: 30125.0000 - val_fn: 4175.0000 - val_accuracy: 0.8783 - val_precision: 0.0000e+00 - val_recall: 0.0000e+00 - val_auc: 0.8378\n",
            "Epoch 5/100\n",
            "151/151 [==============================] - 1s 10ms/step - loss: 0.2789 - tp: 9.4276 - fp: 20.7171 - tn: 137464.8684 - fn: 19156.2763 - accuracy: 0.8781 - precision: 0.2578 - recall: 4.1590e-04 - auc: 0.8313 - val_loss: 0.2731 - val_tp: 0.0000e+00 - val_fp: 0.0000e+00 - val_tn: 30125.0000 - val_fn: 4175.0000 - val_accuracy: 0.8783 - val_precision: 0.0000e+00 - val_recall: 0.0000e+00 - val_auc: 0.8391\n",
            "Epoch 6/100\n",
            "151/151 [==============================] - 1s 9ms/step - loss: 0.2783 - tp: 2.5921 - fp: 7.8026 - tn: 137352.2105 - fn: 19288.6842 - accuracy: 0.8770 - precision: 0.2253 - recall: 1.4395e-04 - auc: 0.8347 - val_loss: 0.2727 - val_tp: 0.0000e+00 - val_fp: 0.0000e+00 - val_tn: 30125.0000 - val_fn: 4175.0000 - val_accuracy: 0.8783 - val_precision: 0.0000e+00 - val_recall: 0.0000e+00 - val_auc: 0.8397\n",
            "Epoch 7/100\n",
            "151/151 [==============================] - 2s 10ms/step - loss: 0.2777 - tp: 3.8553 - fp: 1.9079 - tn: 137299.5329 - fn: 19345.9934 - accuracy: 0.8763 - precision: 0.6899 - recall: 2.0641e-04 - auc: 0.8367 - val_loss: 0.2723 - val_tp: 0.0000e+00 - val_fp: 0.0000e+00 - val_tn: 30125.0000 - val_fn: 4175.0000 - val_accuracy: 0.8783 - val_precision: 0.0000e+00 - val_recall: 0.0000e+00 - val_auc: 0.8405\n",
            "Epoch 8/100\n",
            "151/151 [==============================] - 1s 10ms/step - loss: 0.2758 - tp: 6.0263 - fp: 1.4013 - tn: 137493.7368 - fn: 19150.1250 - accuracy: 0.8784 - precision: 0.7333 - recall: 2.6458e-04 - auc: 0.8363 - val_loss: 0.2719 - val_tp: 0.0000e+00 - val_fp: 0.0000e+00 - val_tn: 30125.0000 - val_fn: 4175.0000 - val_accuracy: 0.8783 - val_precision: 0.0000e+00 - val_recall: 0.0000e+00 - val_auc: 0.8414\n",
            "Epoch 9/100\n",
            "151/151 [==============================] - 1s 10ms/step - loss: 0.2736 - tp: 10.6579 - fp: 7.2961 - tn: 137466.0197 - fn: 19167.3158 - accuracy: 0.8781 - precision: 0.5135 - recall: 4.6199e-04 - auc: 0.8406 - val_loss: 0.2715 - val_tp: 0.0000e+00 - val_fp: 0.0000e+00 - val_tn: 30125.0000 - val_fn: 4175.0000 - val_accuracy: 0.8783 - val_precision: 0.0000e+00 - val_recall: 0.0000e+00 - val_auc: 0.8423\n",
            "Epoch 10/100\n",
            "151/151 [==============================] - 1s 10ms/step - loss: 0.2747 - tp: 8.9342 - fp: 11.0592 - tn: 137408.7434 - fn: 19222.5526 - accuracy: 0.8774 - precision: 0.4249 - recall: 4.1231e-04 - auc: 0.8400 - val_loss: 0.2710 - val_tp: 1.0000 - val_fp: 0.0000e+00 - val_tn: 30125.0000 - val_fn: 4174.0000 - val_accuracy: 0.8783 - val_precision: 1.0000 - val_recall: 2.3952e-04 - val_auc: 0.8437\n",
            "Epoch 11/100\n",
            "151/151 [==============================] - 1s 10ms/step - loss: 0.2743 - tp: 32.6908 - fp: 17.6250 - tn: 137331.3947 - fn: 19269.5789 - accuracy: 0.8770 - precision: 0.6635 - recall: 0.0017 - auc: 0.8417 - val_loss: 0.2708 - val_tp: 6.0000 - val_fp: 4.0000 - val_tn: 30121.0000 - val_fn: 4169.0000 - val_accuracy: 0.8783 - val_precision: 0.6000 - val_recall: 0.0014 - val_auc: 0.8439\n",
            "Epoch 12/100\n",
            "151/151 [==============================] - 1s 10ms/step - loss: 0.2732 - tp: 56.6447 - fp: 46.6316 - tn: 137359.7632 - fn: 19188.2500 - accuracy: 0.8771 - precision: 0.5506 - recall: 0.0030 - auc: 0.8433 - val_loss: 0.2708 - val_tp: 6.0000 - val_fp: 3.0000 - val_tn: 30122.0000 - val_fn: 4169.0000 - val_accuracy: 0.8784 - val_precision: 0.6667 - val_recall: 0.0014 - val_auc: 0.8439\n",
            "Epoch 13/100\n",
            "151/151 [==============================] - 1s 10ms/step - loss: 0.2745 - tp: 59.3750 - fp: 39.3421 - tn: 137320.0197 - fn: 19232.5526 - accuracy: 0.8767 - precision: 0.6406 - recall: 0.0031 - auc: 0.8419 - val_loss: 0.2706 - val_tp: 7.0000 - val_fp: 6.0000 - val_tn: 30119.0000 - val_fn: 4168.0000 - val_accuracy: 0.8783 - val_precision: 0.5385 - val_recall: 0.0017 - val_auc: 0.8444\n",
            "Epoch 14/100\n",
            "151/151 [==============================] - 1s 10ms/step - loss: 0.2725 - tp: 40.9803 - fp: 40.9013 - tn: 137380.3947 - fn: 19189.0132 - accuracy: 0.8772 - precision: 0.4899 - recall: 0.0021 - auc: 0.8456 - val_loss: 0.2703 - val_tp: 7.0000 - val_fp: 6.0000 - val_tn: 30119.0000 - val_fn: 4168.0000 - val_accuracy: 0.8783 - val_precision: 0.5385 - val_recall: 0.0017 - val_auc: 0.8447\n",
            "Epoch 15/100\n",
            "151/151 [==============================] - 1s 10ms/step - loss: 0.2733 - tp: 53.6908 - fp: 51.9934 - tn: 137332.1579 - fn: 19213.4474 - accuracy: 0.8771 - precision: 0.5071 - recall: 0.0029 - auc: 0.8438 - val_loss: 0.2703 - val_tp: 6.0000 - val_fp: 5.0000 - val_tn: 30120.0000 - val_fn: 4169.0000 - val_accuracy: 0.8783 - val_precision: 0.5455 - val_recall: 0.0014 - val_auc: 0.8450\n",
            "Epoch 16/100\n",
            "151/151 [==============================] - 1s 9ms/step - loss: 0.2736 - tp: 41.6053 - fp: 42.3618 - tn: 137334.9803 - fn: 19232.3421 - accuracy: 0.8764 - precision: 0.4804 - recall: 0.0021 - auc: 0.8453 - val_loss: 0.2703 - val_tp: 6.0000 - val_fp: 6.0000 - val_tn: 30119.0000 - val_fn: 4169.0000 - val_accuracy: 0.8783 - val_precision: 0.5000 - val_recall: 0.0014 - val_auc: 0.8452\n",
            "Epoch 17/100\n",
            "151/151 [==============================] - 1s 9ms/step - loss: 0.2711 - tp: 59.7105 - fp: 48.9276 - tn: 137396.4145 - fn: 19146.2368 - accuracy: 0.8777 - precision: 0.5419 - recall: 0.0030 - auc: 0.8474 - val_loss: 0.2703 - val_tp: 6.0000 - val_fp: 5.0000 - val_tn: 30120.0000 - val_fn: 4169.0000 - val_accuracy: 0.8783 - val_precision: 0.5455 - val_recall: 0.0014 - val_auc: 0.8451\n",
            "Epoch 18/100\n",
            "151/151 [==============================] - 1s 9ms/step - loss: 0.2711 - tp: 45.6118 - fp: 41.7566 - tn: 137464.7566 - fn: 19099.1645 - accuracy: 0.8779 - precision: 0.5406 - recall: 0.0023 - auc: 0.8463 - val_loss: 0.2700 - val_tp: 5.0000 - val_fp: 4.0000 - val_tn: 30121.0000 - val_fn: 4170.0000 - val_accuracy: 0.8783 - val_precision: 0.5556 - val_recall: 0.0012 - val_auc: 0.8452\n",
            "Epoch 19/100\n",
            "151/151 [==============================] - 1s 9ms/step - loss: 0.2719 - tp: 45.2500 - fp: 32.4868 - tn: 137280.4803 - fn: 19293.0724 - accuracy: 0.8765 - precision: 0.5537 - recall: 0.0023 - auc: 0.8477 - val_loss: 0.2700 - val_tp: 5.0000 - val_fp: 4.0000 - val_tn: 30121.0000 - val_fn: 4170.0000 - val_accuracy: 0.8783 - val_precision: 0.5556 - val_recall: 0.0012 - val_auc: 0.8452\n",
            "Epoch 20/100\n",
            "151/151 [==============================] - 1s 9ms/step - loss: 0.2716 - tp: 51.3289 - fp: 41.2961 - tn: 137416.3092 - fn: 19142.3553 - accuracy: 0.8776 - precision: 0.5634 - recall: 0.0025 - auc: 0.8462 - val_loss: 0.2704 - val_tp: 5.0000 - val_fp: 3.0000 - val_tn: 30122.0000 - val_fn: 4170.0000 - val_accuracy: 0.8783 - val_precision: 0.6250 - val_recall: 0.0012 - val_auc: 0.8449\n",
            "Epoch 21/100\n",
            "151/151 [==============================] - 1s 9ms/step - loss: 0.2720 - tp: 30.8487 - fp: 23.5855 - tn: 137309.2763 - fn: 19287.5789 - accuracy: 0.8769 - precision: 0.5953 - recall: 0.0017 - auc: 0.8477 - val_loss: 0.2700 - val_tp: 5.0000 - val_fp: 3.0000 - val_tn: 30122.0000 - val_fn: 4170.0000 - val_accuracy: 0.8783 - val_precision: 0.6250 - val_recall: 0.0012 - val_auc: 0.8451\n",
            "Epoch 22/100\n",
            "151/151 [==============================] - 1s 9ms/step - loss: 0.2711 - tp: 43.3421 - fp: 30.4474 - tn: 137398.0526 - fn: 19179.4474 - accuracy: 0.8775 - precision: 0.6265 - recall: 0.0024 - auc: 0.8480 - val_loss: 0.2700 - val_tp: 5.0000 - val_fp: 4.0000 - val_tn: 30121.0000 - val_fn: 4170.0000 - val_accuracy: 0.8783 - val_precision: 0.5556 - val_recall: 0.0012 - val_auc: 0.8455\n",
            "Epoch 23/100\n",
            "151/151 [==============================] - 1s 9ms/step - loss: 0.2713 - tp: 56.5921 - fp: 45.7961 - tn: 137295.8026 - fn: 19253.0987 - accuracy: 0.8770 - precision: 0.5427 - recall: 0.0028 - auc: 0.8486 - val_loss: 0.2699 - val_tp: 5.0000 - val_fp: 3.0000 - val_tn: 30122.0000 - val_fn: 4170.0000 - val_accuracy: 0.8783 - val_precision: 0.6250 - val_recall: 0.0012 - val_auc: 0.8457\n",
            "Epoch 24/100\n",
            "151/151 [==============================] - 1s 9ms/step - loss: 0.2726 - tp: 38.6382 - fp: 34.8816 - tn: 137351.6513 - fn: 19226.1184 - accuracy: 0.8767 - precision: 0.5109 - recall: 0.0019 - auc: 0.8472 - val_loss: 0.2699 - val_tp: 5.0000 - val_fp: 3.0000 - val_tn: 30122.0000 - val_fn: 4170.0000 - val_accuracy: 0.8783 - val_precision: 0.6250 - val_recall: 0.0012 - val_auc: 0.8459\n",
            "Epoch 25/100\n",
            "151/151 [==============================] - 1s 9ms/step - loss: 0.2712 - tp: 51.8487 - fp: 44.4408 - tn: 137393.9474 - fn: 19161.0526 - accuracy: 0.8772 - precision: 0.5400 - recall: 0.0025 - auc: 0.8487 - val_loss: 0.2700 - val_tp: 5.0000 - val_fp: 4.0000 - val_tn: 30121.0000 - val_fn: 4170.0000 - val_accuracy: 0.8783 - val_precision: 0.5556 - val_recall: 0.0012 - val_auc: 0.8456\n",
            "Epoch 26/100\n",
            "151/151 [==============================] - 1s 10ms/step - loss: 0.2716 - tp: 46.5000 - fp: 26.0855 - tn: 137334.4145 - fn: 19244.2895 - accuracy: 0.8772 - precision: 0.6128 - recall: 0.0022 - auc: 0.8481 - val_loss: 0.2700 - val_tp: 5.0000 - val_fp: 4.0000 - val_tn: 30121.0000 - val_fn: 4170.0000 - val_accuracy: 0.8783 - val_precision: 0.5556 - val_recall: 0.0012 - val_auc: 0.8456\n",
            "Epoch 27/100\n",
            "151/151 [==============================] - 1s 9ms/step - loss: 0.2704 - tp: 45.5197 - fp: 39.9803 - tn: 137355.3750 - fn: 19210.4145 - accuracy: 0.8773 - precision: 0.5454 - recall: 0.0024 - auc: 0.8491 - val_loss: 0.2698 - val_tp: 5.0000 - val_fp: 4.0000 - val_tn: 30121.0000 - val_fn: 4170.0000 - val_accuracy: 0.8783 - val_precision: 0.5556 - val_recall: 0.0012 - val_auc: 0.8457\n",
            "Epoch 28/100\n",
            "151/151 [==============================] - 1s 10ms/step - loss: 0.2696 - tp: 43.5855 - fp: 40.2697 - tn: 137423.3092 - fn: 19144.1250 - accuracy: 0.8777 - precision: 0.5256 - recall: 0.0024 - auc: 0.8499 - val_loss: 0.2698 - val_tp: 5.0000 - val_fp: 4.0000 - val_tn: 30121.0000 - val_fn: 4170.0000 - val_accuracy: 0.8783 - val_precision: 0.5556 - val_recall: 0.0012 - val_auc: 0.8459\n",
            "Epoch 29/100\n",
            "151/151 [==============================] - 1s 9ms/step - loss: 0.2715 - tp: 58.0592 - fp: 47.7039 - tn: 137305.9671 - fn: 19239.5592 - accuracy: 0.8768 - precision: 0.5769 - recall: 0.0033 - auc: 0.8490 - val_loss: 0.2699 - val_tp: 5.0000 - val_fp: 4.0000 - val_tn: 30121.0000 - val_fn: 4170.0000 - val_accuracy: 0.8783 - val_precision: 0.5556 - val_recall: 0.0012 - val_auc: 0.8457\n",
            "Epoch 30/100\n",
            "151/151 [==============================] - 1s 10ms/step - loss: 0.2715 - tp: 59.8882 - fp: 56.5724 - tn: 137286.5987 - fn: 19248.2303 - accuracy: 0.8767 - precision: 0.4950 - recall: 0.0029 - auc: 0.8485 - val_loss: 0.2698 - val_tp: 5.0000 - val_fp: 4.0000 - val_tn: 30121.0000 - val_fn: 4170.0000 - val_accuracy: 0.8783 - val_precision: 0.5556 - val_recall: 0.0012 - val_auc: 0.8459\n",
            "Epoch 31/100\n",
            "151/151 [==============================] - 1s 9ms/step - loss: 0.2723 - tp: 54.5263 - fp: 51.6118 - tn: 137251.8882 - fn: 19293.2632 - accuracy: 0.8761 - precision: 0.5202 - recall: 0.0025 - auc: 0.8481 - val_loss: 0.2699 - val_tp: 5.0000 - val_fp: 4.0000 - val_tn: 30121.0000 - val_fn: 4170.0000 - val_accuracy: 0.8783 - val_precision: 0.5556 - val_recall: 0.0012 - val_auc: 0.8458\n",
            "Epoch 32/100\n",
            "151/151 [==============================] - 1s 9ms/step - loss: 0.2709 - tp: 58.2895 - fp: 55.5921 - tn: 137330.9474 - fn: 19206.4605 - accuracy: 0.8772 - precision: 0.5066 - recall: 0.0029 - auc: 0.8483 - val_loss: 0.2697 - val_tp: 5.0000 - val_fp: 4.0000 - val_tn: 30121.0000 - val_fn: 4170.0000 - val_accuracy: 0.8783 - val_precision: 0.5556 - val_recall: 0.0012 - val_auc: 0.8459\n",
            "Epoch 33/100\n",
            "151/151 [==============================] - 1s 10ms/step - loss: 0.2699 - tp: 60.0724 - fp: 62.7961 - tn: 137359.0329 - fn: 19169.3882 - accuracy: 0.8774 - precision: 0.5174 - recall: 0.0032 - auc: 0.8504 - val_loss: 0.2698 - val_tp: 7.0000 - val_fp: 4.0000 - val_tn: 30121.0000 - val_fn: 4168.0000 - val_accuracy: 0.8784 - val_precision: 0.6364 - val_recall: 0.0017 - val_auc: 0.8459\n",
            "Epoch 34/100\n",
            "151/151 [==============================] - 1s 9ms/step - loss: 0.2712 - tp: 67.9013 - fp: 80.4803 - tn: 137289.1184 - fn: 19213.7895 - accuracy: 0.8767 - precision: 0.4505 - recall: 0.0037 - auc: 0.8486 - val_loss: 0.2697 - val_tp: 5.0000 - val_fp: 4.0000 - val_tn: 30121.0000 - val_fn: 4170.0000 - val_accuracy: 0.8783 - val_precision: 0.5556 - val_recall: 0.0012 - val_auc: 0.8460\n",
            "Epoch 35/100\n",
            "151/151 [==============================] - 1s 10ms/step - loss: 0.2701 - tp: 57.8618 - fp: 58.7500 - tn: 137387.5592 - fn: 19147.1184 - accuracy: 0.8773 - precision: 0.4822 - recall: 0.0029 - auc: 0.8494 - val_loss: 0.2698 - val_tp: 6.0000 - val_fp: 4.0000 - val_tn: 30121.0000 - val_fn: 4169.0000 - val_accuracy: 0.8783 - val_precision: 0.6000 - val_recall: 0.0014 - val_auc: 0.8459\n",
            "Epoch 36/100\n",
            "151/151 [==============================] - 1s 9ms/step - loss: 0.2690 - tp: 90.2697 - fp: 83.7895 - tn: 137391.6382 - fn: 19085.5921 - accuracy: 0.8783 - precision: 0.5176 - recall: 0.0047 - auc: 0.8496 - val_loss: 0.2697 - val_tp: 7.0000 - val_fp: 4.0000 - val_tn: 30121.0000 - val_fn: 4168.0000 - val_accuracy: 0.8784 - val_precision: 0.6364 - val_recall: 0.0017 - val_auc: 0.8462\n",
            "Epoch 37/100\n",
            "151/151 [==============================] - 1s 9ms/step - loss: 0.2713 - tp: 105.1908 - fp: 102.3487 - tn: 137192.0658 - fn: 19251.6842 - accuracy: 0.8764 - precision: 0.5159 - recall: 0.0056 - auc: 0.8495 - val_loss: 0.2696 - val_tp: 6.0000 - val_fp: 4.0000 - val_tn: 30121.0000 - val_fn: 4169.0000 - val_accuracy: 0.8783 - val_precision: 0.6000 - val_recall: 0.0014 - val_auc: 0.8461\n",
            "Epoch 38/100\n",
            "151/151 [==============================] - 1s 10ms/step - loss: 0.2711 - tp: 92.3224 - fp: 96.0855 - tn: 137237.7368 - fn: 19225.1447 - accuracy: 0.8764 - precision: 0.4934 - recall: 0.0047 - auc: 0.8495 - val_loss: 0.2697 - val_tp: 8.0000 - val_fp: 5.0000 - val_tn: 30120.0000 - val_fn: 4167.0000 - val_accuracy: 0.8784 - val_precision: 0.6154 - val_recall: 0.0019 - val_auc: 0.8460\n",
            "Epoch 39/100\n",
            "151/151 [==============================] - 1s 10ms/step - loss: 0.2705 - tp: 114.2039 - fp: 115.7237 - tn: 137229.7763 - fn: 19191.5855 - accuracy: 0.8764 - precision: 0.4882 - recall: 0.0056 - auc: 0.8511 - val_loss: 0.2697 - val_tp: 6.0000 - val_fp: 4.0000 - val_tn: 30121.0000 - val_fn: 4169.0000 - val_accuracy: 0.8783 - val_precision: 0.6000 - val_recall: 0.0014 - val_auc: 0.8458\n",
            "Epoch 40/100\n",
            "151/151 [==============================] - 2s 10ms/step - loss: 0.2698 - tp: 102.6908 - fp: 75.9474 - tn: 137329.3026 - fn: 19143.3487 - accuracy: 0.8778 - precision: 0.5707 - recall: 0.0051 - auc: 0.8498 - val_loss: 0.2697 - val_tp: 7.0000 - val_fp: 5.0000 - val_tn: 30120.0000 - val_fn: 4168.0000 - val_accuracy: 0.8783 - val_precision: 0.5833 - val_recall: 0.0017 - val_auc: 0.8459\n",
            "Epoch 41/100\n",
            "151/151 [==============================] - 1s 10ms/step - loss: 0.2707 - tp: 72.0132 - fp: 67.9934 - tn: 137386.3355 - fn: 19124.9474 - accuracy: 0.8779 - precision: 0.5269 - recall: 0.0037 - auc: 0.8481 - val_loss: 0.2698 - val_tp: 7.0000 - val_fp: 6.0000 - val_tn: 30119.0000 - val_fn: 4168.0000 - val_accuracy: 0.8783 - val_precision: 0.5385 - val_recall: 0.0017 - val_auc: 0.8458\n",
            "Epoch 42/100\n",
            "151/151 [==============================] - 1s 10ms/step - loss: 0.2698 - tp: 110.0724 - fp: 112.2500 - tn: 137334.1579 - fn: 19094.8092 - accuracy: 0.8776 - precision: 0.4987 - recall: 0.0061 - auc: 0.8486 - val_loss: 0.2697 - val_tp: 7.0000 - val_fp: 6.0000 - val_tn: 30119.0000 - val_fn: 4168.0000 - val_accuracy: 0.8783 - val_precision: 0.5385 - val_recall: 0.0017 - val_auc: 0.8457\n",
            "Epoch 43/100\n",
            "151/151 [==============================] - 1s 10ms/step - loss: 0.2707 - tp: 163.9803 - fp: 144.6053 - tn: 137219.7237 - fn: 19122.9803 - accuracy: 0.8766 - precision: 0.5481 - recall: 0.0089 - auc: 0.8497 - val_loss: 0.2696 - val_tp: 7.0000 - val_fp: 5.0000 - val_tn: 30120.0000 - val_fn: 4168.0000 - val_accuracy: 0.8783 - val_precision: 0.5833 - val_recall: 0.0017 - val_auc: 0.8460\n",
            "Epoch 44/100\n",
            "151/151 [==============================] - 1s 9ms/step - loss: 0.2712 - tp: 120.3355 - fp: 103.8750 - tn: 137327.4868 - fn: 19099.5921 - accuracy: 0.8772 - precision: 0.5628 - recall: 0.0067 - auc: 0.8495 - val_loss: 0.2697 - val_tp: 9.0000 - val_fp: 5.0000 - val_tn: 30120.0000 - val_fn: 4166.0000 - val_accuracy: 0.8784 - val_precision: 0.6429 - val_recall: 0.0022 - val_auc: 0.8458\n",
            "Epoch 45/100\n",
            "151/151 [==============================] - 1s 10ms/step - loss: 0.2701 - tp: 141.9539 - fp: 122.6579 - tn: 137318.2500 - fn: 19068.4276 - accuracy: 0.8773 - precision: 0.5216 - recall: 0.0071 - auc: 0.8493 - val_loss: 0.2697 - val_tp: 10.0000 - val_fp: 9.0000 - val_tn: 30116.0000 - val_fn: 4165.0000 - val_accuracy: 0.8783 - val_precision: 0.5263 - val_recall: 0.0024 - val_auc: 0.8460\n",
            "Epoch 46/100\n",
            "151/151 [==============================] - 1s 10ms/step - loss: 0.2716 - tp: 142.5921 - fp: 125.5461 - tn: 137188.7632 - fn: 19194.3882 - accuracy: 0.8761 - precision: 0.5473 - recall: 0.0079 - auc: 0.8492 - val_loss: 0.2697 - val_tp: 9.0000 - val_fp: 7.0000 - val_tn: 30118.0000 - val_fn: 4166.0000 - val_accuracy: 0.8783 - val_precision: 0.5625 - val_recall: 0.0022 - val_auc: 0.8458\n",
            "Restoring model weights from the end of the best epoch.\n",
            "Epoch 00046: early stopping\n"
          ],
          "name": "stdout"
        }
      ]
    },
    {
      "cell_type": "code",
      "metadata": {
        "colab": {
          "base_uri": "https://localhost:8080/"
        },
        "id": "vhixW611QyKZ",
        "outputId": "ecef4ffe-7923-4cfb-ed80-59969864e1b1"
      },
      "source": [
        "#Make predictions on the 'unseen' test dataset.\n",
        "predictions = model.predict(test_features)\n",
        "predictions"
      ],
      "execution_count": null,
      "outputs": [
        {
          "output_type": "execute_result",
          "data": {
            "text/plain": [
              "array([[6.14e-05],\n",
              "       [5.17e-05],\n",
              "       [2.32e-01],\n",
              "       ...,\n",
              "       [2.29e-01],\n",
              "       [8.68e-02],\n",
              "       [6.44e-05]], dtype=float32)"
            ]
          },
          "metadata": {
            "tags": []
          },
          "execution_count": 39
        }
      ]
    },
    {
      "cell_type": "markdown",
      "metadata": {
        "id": "2_l3An_KESEZ"
      },
      "source": [
        "The predictions are numbers between 0 and 1 as they come from the sigmoid neuron in the output layer. Even though a sigmoid function is not a probability density function, as it integrates to infinity, it can still be interpreted as a confidence index (as it corresponds to the cumulative probability function of the logistic distribution). In our case, predictions of Positive Response are going to be rare since there are very few of them in the dataset, and because of that the threshold that is going to be used will be more 'strict' against Negative Responses. An output equal to or greater than 0.5 is going to be converted to 1 (Positive Response) and all the other outputs are converted to 0 (Negative Response).  \n"
      ]
    },
    {
      "cell_type": "code",
      "metadata": {
        "id": "mg9KpDOJ5RVD"
      },
      "source": [
        "def sigmoid_to_class(predictions):\n",
        "  for i in range(len(predictions)):\n",
        "    if predictions[i]>=0.5:\n",
        "      predictions[i] = 1\n",
        "    else:\n",
        "      predictions[i] = 0\n",
        "  return predictions\n",
        "  \n",
        "predictions = sigmoid_to_class(predictions)\n",
        "predictions"
      ],
      "execution_count": null,
      "outputs": []
    },
    {
      "cell_type": "markdown",
      "metadata": {
        "id": "s92Dtxp6H-2y"
      },
      "source": [
        "Looking at the model's accuracy on the validation data which is around 88%, it is natural to think that it does a very good job on predicting the two classes. Using a confusion matrix it is possible to gain a deeper insight in the model's perfomance."
      ]
    },
    {
      "cell_type": "code",
      "metadata": {
        "colab": {
          "base_uri": "https://localhost:8080/",
          "height": 348
        },
        "id": "_VLRpD1nTSdf",
        "outputId": "9a6c040d-164a-4867-b40d-fa8f5ac2a166"
      },
      "source": [
        "cnf_matrix = confusion_matrix(test_labels, predictions)\n",
        "np.set_printoptions(precision=2)\n",
        "\n",
        "# Plot non-normalized confusion matrix\n",
        "plt.figure()\n",
        "plot_confusion_matrix(cnf_matrix, classes = ['Negative','Positive'],\n",
        "                      title='Confusion matrix')"
      ],
      "execution_count": null,
      "outputs": [
        {
          "output_type": "stream",
          "text": [
            "Confusion matrix, without normalization\n",
            "[[33533     5]\n",
            " [ 4571     2]]\n"
          ],
          "name": "stdout"
        },
        {
          "output_type": "display_data",
          "data": {
            "image/png": "[encoded data removed]",
            "text/plain": [
              "<Figure size 432x288 with 2 Axes>"
            ]
          },
          "metadata": {
            "tags": [],
            "needs_background": "light"
          }
        }
      ]
    },
    {
      "cell_type": "code",
      "metadata": {
        "colab": {
          "base_uri": "https://localhost:8080/"
        },
        "id": "FPv2TIqKUrop",
        "outputId": "5e221a5d-5c7b-4ef4-bcb5-7ef9fd2d9b19"
      },
      "source": [
        "print('\\nClassification Report\\n')\n",
        "print(classification_report(test_labels, predictions, target_names=['Negative','Positive']))"
      ],
      "execution_count": null,
      "outputs": [
        {
          "output_type": "stream",
          "text": [
            "\n",
            "Classification Report\n",
            "\n",
            "              precision    recall  f1-score   support\n",
            "\n",
            "    Negative       0.88      1.00      0.94     33538\n",
            "    Positive       0.29      0.00      0.00      4573\n",
            "\n",
            "    accuracy                           0.88     38111\n",
            "   macro avg       0.58      0.50      0.47     38111\n",
            "weighted avg       0.81      0.88      0.82     38111\n",
            "\n"
          ],
          "name": "stdout"
        }
      ]
    },
    {
      "cell_type": "markdown",
      "metadata": {
        "id": "nAnW-7NBJAxc"
      },
      "source": [
        "The confusion matrix shows that the model has a high accuracy because it predicts almost all of the test data to be of Negative Response. Since 88% of the test data is composed from Negative Responses the model gets a high accuracy while it never predicts Positive Responses. The metric that better tracks this problem is the Macro Average f1 score since for its calculation, all classes contribute equally regardless of how often they appear in the dataset. This is going to be the metric that this project aims to maximize.\n",
        "Another metric that also tracks the model's perfomance on both classes is the Area Under the Curve metric (AUC) and this is the reason it is selected as the metric monitored by the Early Stopping callback (whenever it is used)."
      ]
    },
    {
      "cell_type": "markdown",
      "metadata": {
        "id": "HeKk-OiuLQWB"
      },
      "source": [
        "<h3><b>Resampling</b></h3>\n",
        "\n",
        "In order to do that, the problem that needs to be addressed is the imbalance that exists in the dataset where 84% of the Responses are Negative making the model's training very difficult. A widely adopted technique for dealing with highly unbalanced datasets is called resampling. It consists of removing samples from the majority class (under-sampling) and / or adding more examples from the minority class (over-sampling).\n",
        "Despite the advantage of balancing classes, these techniques also have their weaknesses (there is no free lunch). The simplest implementation of over-sampling is to duplicate random records from the minority class, which can cause overfitting. In under-sampling, the simplest technique involves removing random records from the majority class, which can cause loss of information."
      ]
    },
    {
      "cell_type": "markdown",
      "metadata": {
        "id": "CCsGLlXHL5uy"
      },
      "source": [
        "A very important step in this procedure is to first split our data into train and test datasets and then apply Resampling only on the training set, and not the testing set, in order to test our model on original data."
      ]
    },
    {
      "cell_type": "markdown",
      "metadata": {
        "id": "boBlMBKmL5yO"
      },
      "source": [
        "The first step will be to undersample the majority class."
      ]
    },
    {
      "cell_type": "code",
      "metadata": {
        "colab": {
          "base_uri": "https://localhost:8080/"
        },
        "id": "QPVBDIHPDi5h",
        "outputId": "ac539059-57bf-4dff-cf75-a3a53dc2a046"
      },
      "source": [
        "#Count the amount of samples for each class.\n",
        "unique_elements, counts_elements = np.unique(train_labels, return_counts=True)\n",
        "print(\"Frequency of unique values of the said array:\")\n",
        "print(np.asarray((unique_elements, counts_elements)))"
      ],
      "execution_count": null,
      "outputs": [
        {
          "output_type": "stream",
          "text": [
            "Frequency of unique values of the said array:\n",
            "[[     0      1]\n",
            " [270884  37814]]\n"
          ],
          "name": "stdout"
        }
      ]
    },
    {
      "cell_type": "markdown",
      "metadata": {
        "id": "W2IgEcIeNFqu"
      },
      "source": [
        "The code above prints samples for each class in the training set. We create our sampling strategy by copying the values for the second class. After that we undersample the first class to 200.000 samples and the a new model is created using the same parameteres as with the first one for better comparisons."
      ]
    },
    {
      "cell_type": "code",
      "metadata": {
        "colab": {
          "base_uri": "https://localhost:8080/"
        },
        "id": "dbYvHqUrE2RE",
        "outputId": "eafaa5ae-f4a7-4efe-97cd-d70512850cfa"
      },
      "source": [
        "# define undersample strategy\n",
        "sampling_strategy1 = {0: 200000 , 1: 37814}\n",
        "undersample = RandomUnderSampler(sampling_strategy=sampling_strategy1)\n",
        "# fit and apply the transform\n",
        "train_under, train_labels_under = undersample.fit_resample(train, train_labels)\n",
        "print(Counter(train_labels_under))"
      ],
      "execution_count": null,
      "outputs": [
        {
          "output_type": "stream",
          "text": [
            "Counter({0: 200000, 1: 37814})\n"
          ],
          "name": "stdout"
        },
        {
          "output_type": "stream",
          "text": [
            "/usr/local/lib/python3.7/dist-packages/sklearn/utils/deprecation.py:87: FutureWarning: Function safe_indexing is deprecated; safe_indexing is deprecated in version 0.22 and will be removed in version 0.24.\n",
            "  warnings.warn(msg, category=FutureWarning)\n"
          ],
          "name": "stderr"
        }
      ]
    },
    {
      "cell_type": "code",
      "metadata": {
        "id": "Xo2XKbqwjLDb"
      },
      "source": [
        "train_features = scaler.fit_transform(train_under)"
      ],
      "execution_count": null,
      "outputs": []
    },
    {
      "cell_type": "markdown",
      "metadata": {
        "id": "kw1nZD70ibK6"
      },
      "source": [
        "<h4><b> Model 2 (Undersampled) <h4><b>"
      ]
    },
    {
      "cell_type": "code",
      "metadata": {
        "colab": {
          "base_uri": "https://localhost:8080/"
        },
        "id": "2wGD0wQSY71r",
        "outputId": "0beb698f-9373-4269-c070-7b37f24d7c18"
      },
      "source": [
        "model2 = make_model()\n",
        "model2.summary()"
      ],
      "execution_count": null,
      "outputs": [
        {
          "output_type": "stream",
          "text": [
            "Model: \"sequential_1\"\n",
            "_________________________________________________________________\n",
            "Layer (type)                 Output Shape              Param #   \n",
            "=================================================================\n",
            "dense_3 (Dense)              (None, 16)                176       \n",
            "_________________________________________________________________\n",
            "dense_4 (Dense)              (None, 32)                544       \n",
            "_________________________________________________________________\n",
            "dropout_1 (Dropout)          (None, 32)                0         \n",
            "_________________________________________________________________\n",
            "dense_5 (Dense)              (None, 1)                 33        \n",
            "=================================================================\n",
            "Total params: 753\n",
            "Trainable params: 753\n",
            "Non-trainable params: 0\n",
            "_________________________________________________________________\n"
          ],
          "name": "stdout"
        }
      ]
    },
    {
      "cell_type": "code",
      "metadata": {
        "colab": {
          "base_uri": "https://localhost:8080/"
        },
        "id": "rnrp6tArY78M",
        "outputId": "f25bf929-cae9-4837-8108-6d3aa68db2b5"
      },
      "source": [
        "baseline_history = model2.fit(\n",
        "    train_under,\n",
        "    train_labels_under,\n",
        "    batch_size=BATCH_SIZE,\n",
        "    epochs=EPOCHS,\n",
        "    callbacks = [early_stopping],\n",
        "    validation_data=(val_features, val_labels))"
      ],
      "execution_count": null,
      "outputs": [
        {
          "output_type": "stream",
          "text": [
            "Epoch 1/100\n",
            "117/117 [==============================] - 5s 22ms/step - loss: 2266.6927 - tp: 6620.1186 - fp: 34933.5678 - tn: 97596.3051 - fn: 16958.1102 - accuracy: 0.6671 - precision: 0.1597 - recall: 0.2923 - auc: 0.5614 - val_loss: 0.8272 - val_tp: 3988.0000 - val_fp: 28493.0000 - val_tn: 1605.0000 - val_fn: 214.0000 - val_accuracy: 0.1631 - val_precision: 0.1228 - val_recall: 0.9491 - val_auc: 0.5877\n",
            "Epoch 2/100\n",
            "117/117 [==============================] - 2s 15ms/step - loss: 498.3894 - tp: 3738.3220 - fp: 19470.7203 - tn: 83000.4068 - fn: 15598.6525 - accuracy: 0.7121 - precision: 0.1613 - recall: 0.1941 - auc: 0.5021 - val_loss: 0.8570 - val_tp: 4116.0000 - val_fp: 29655.0000 - val_tn: 443.0000 - val_fn: 86.0000 - val_accuracy: 0.1329 - val_precision: 0.1219 - val_recall: 0.9795 - val_auc: 0.6002\n",
            "Epoch 3/100\n",
            "117/117 [==============================] - 2s 13ms/step - loss: 52.0631 - tp: 3758.6610 - fp: 19737.4661 - tn: 82745.1695 - fn: 15566.8051 - accuracy: 0.7184 - precision: 0.1601 - recall: 0.1826 - auc: 0.5009 - val_loss: 0.8427 - val_tp: 4022.0000 - val_fp: 29401.0000 - val_tn: 697.0000 - val_fn: 180.0000 - val_accuracy: 0.1376 - val_precision: 0.1203 - val_recall: 0.9572 - val_auc: 0.6039\n",
            "Epoch 4/100\n",
            "117/117 [==============================] - 2s 16ms/step - loss: 2.0504 - tp: 4617.5339 - fp: 22279.2203 - tn: 80162.5847 - fn: 14748.7627 - accuracy: 0.6970 - precision: 0.1707 - recall: 0.2332 - auc: 0.5156 - val_loss: 0.7952 - val_tp: 3728.0000 - val_fp: 27540.0000 - val_tn: 2558.0000 - val_fn: 474.0000 - val_accuracy: 0.1833 - val_precision: 0.1192 - val_recall: 0.8872 - val_auc: 0.6029\n",
            "Epoch 5/100\n",
            "117/117 [==============================] - 2s 15ms/step - loss: 0.5538 - tp: 4987.7881 - fp: 23323.6017 - tn: 79113.0678 - fn: 14383.6441 - accuracy: 0.6899 - precision: 0.1763 - recall: 0.2582 - auc: 0.5258 - val_loss: 0.7378 - val_tp: 3116.0000 - val_fp: 20507.0000 - val_tn: 9591.0000 - val_fn: 1086.0000 - val_accuracy: 0.3705 - val_precision: 0.1319 - val_recall: 0.7416 - val_auc: 0.6065\n",
            "Epoch 6/100\n",
            "117/117 [==============================] - 2s 14ms/step - loss: 0.5378 - tp: 4055.2881 - fp: 19169.1610 - tn: 83258.0424 - fn: 15325.6102 - accuracy: 0.7145 - precision: 0.1750 - recall: 0.2154 - auc: 0.5215 - val_loss: 0.6895 - val_tp: 2540.0000 - val_fp: 12763.0000 - val_tn: 17335.0000 - val_fn: 1662.0000 - val_accuracy: 0.5794 - val_precision: 0.1660 - val_recall: 0.6045 - val_auc: 0.6089\n",
            "Epoch 7/100\n",
            "117/117 [==============================] - 2s 13ms/step - loss: 0.5314 - tp: 1505.1186 - fp: 6971.8390 - tn: 95410.7627 - fn: 17920.3814 - accuracy: 0.7842 - precision: 0.1791 - recall: 0.0987 - auc: 0.5253 - val_loss: 0.6470 - val_tp: 1897.0000 - val_fp: 7098.0000 - val_tn: 23000.0000 - val_fn: 2305.0000 - val_accuracy: 0.7259 - val_precision: 0.2109 - val_recall: 0.4515 - val_auc: 0.6110\n",
            "Epoch 8/100\n",
            "117/117 [==============================] - 2s 14ms/step - loss: 0.5202 - tp: 2.6695 - fp: 31.0847 - tn: 102457.2119 - fn: 19317.1356 - accuracy: 0.8410 - precision: 0.0615 - recall: 1.0806e-04 - auc: 0.4950 - val_loss: 0.6111 - val_tp: 1334.0000 - val_fp: 3944.0000 - val_tn: 26154.0000 - val_fn: 2868.0000 - val_accuracy: 0.8014 - val_precision: 0.2527 - val_recall: 0.3175 - val_auc: 0.6119\n",
            "Epoch 9/100\n",
            "117/117 [==============================] - 2s 14ms/step - loss: 0.5135 - tp: 0.6949 - fp: 22.8983 - tn: 102398.3136 - fn: 19386.1949 - accuracy: 0.8405 - precision: 0.0194 - recall: 2.2000e-05 - auc: 0.5050 - val_loss: 0.5802 - val_tp: 884.0000 - val_fp: 2541.0000 - val_tn: 27557.0000 - val_fn: 3318.0000 - val_accuracy: 0.8292 - val_precision: 0.2581 - val_recall: 0.2104 - val_auc: 0.6125\n",
            "Epoch 10/100\n",
            "117/117 [==============================] - 2s 13ms/step - loss: 0.5004 - tp: 3.2203 - fp: 19.5932 - tn: 102456.9407 - fn: 19328.3475 - accuracy: 0.8413 - precision: 0.1056 - recall: 1.2706e-04 - auc: 0.4965 - val_loss: 0.5525 - val_tp: 546.0000 - val_fp: 1640.0000 - val_tn: 28458.0000 - val_fn: 3656.0000 - val_accuracy: 0.8456 - val_precision: 0.2498 - val_recall: 0.1299 - val_auc: 0.6132\n",
            "Epoch 11/100\n",
            "117/117 [==============================] - 1s 12ms/step - loss: 0.5021 - tp: 7.9661 - fp: 54.9407 - tn: 102453.6017 - fn: 19291.5932 - accuracy: 0.8419 - precision: 0.1175 - recall: 5.5079e-04 - auc: 0.5063 - val_loss: 0.5274 - val_tp: 281.0000 - val_fp: 927.0000 - val_tn: 29171.0000 - val_fn: 3921.0000 - val_accuracy: 0.8587 - val_precision: 0.2326 - val_recall: 0.0669 - val_auc: 0.6133\n",
            "Epoch 12/100\n",
            "117/117 [==============================] - 1s 12ms/step - loss: 0.4910 - tp: 2.2542 - fp: 10.2373 - tn: 102441.1695 - fn: 19354.4407 - accuracy: 0.8412 - precision: 0.1671 - recall: 1.1421e-04 - auc: 0.4863 - val_loss: 0.5053 - val_tp: 106.0000 - val_fp: 414.0000 - val_tn: 29684.0000 - val_fn: 4096.0000 - val_accuracy: 0.8685 - val_precision: 0.2038 - val_recall: 0.0252 - val_auc: 0.6135\n",
            "Epoch 13/100\n",
            "117/117 [==============================] - 1s 13ms/step - loss: 0.4819 - tp: 2.4068 - fp: 6.9322 - tn: 102471.4492 - fn: 19327.3136 - accuracy: 0.8414 - precision: 0.3226 - recall: 1.4351e-04 - auc: 0.4901 - val_loss: 0.4863 - val_tp: 26.0000 - val_fp: 153.0000 - val_tn: 29945.0000 - val_fn: 4176.0000 - val_accuracy: 0.8738 - val_precision: 0.1453 - val_recall: 0.0062 - val_auc: 0.6140\n",
            "Epoch 14/100\n",
            "117/117 [==============================] - 2s 14ms/step - loss: 0.4842 - tp: 9.1525 - fp: 48.4492 - tn: 102383.6610 - fn: 19366.8390 - accuracy: 0.8407 - precision: 0.1608 - recall: 5.5171e-04 - auc: 0.4916 - val_loss: 0.4700 - val_tp: 5.0000 - val_fp: 49.0000 - val_tn: 30049.0000 - val_fn: 4197.0000 - val_accuracy: 0.8762 - val_precision: 0.0926 - val_recall: 0.0012 - val_auc: 0.6149\n",
            "Epoch 15/100\n",
            "117/117 [==============================] - 2s 13ms/step - loss: 0.4746 - tp: 0.0000e+00 - fp: 3.0678 - tn: 102469.4576 - fn: 19335.5763 - accuracy: 0.8409 - precision: 0.0000e+00 - recall: 0.0000e+00 - auc: 0.4915 - val_loss: 0.4554 - val_tp: 0.0000e+00 - val_fp: 12.0000 - val_tn: 30086.0000 - val_fn: 4202.0000 - val_accuracy: 0.8771 - val_precision: 0.0000e+00 - val_recall: 0.0000e+00 - val_auc: 0.6161\n",
            "Epoch 16/100\n",
            "117/117 [==============================] - 1s 13ms/step - loss: 0.4660 - tp: 0.0000e+00 - fp: 2.8898 - tn: 102504.1949 - fn: 19301.0169 - accuracy: 0.8417 - precision: 0.0000e+00 - recall: 0.0000e+00 - auc: 0.4922 - val_loss: 0.4427 - val_tp: 0.0000e+00 - val_fp: 4.0000 - val_tn: 30094.0000 - val_fn: 4202.0000 - val_accuracy: 0.8774 - val_precision: 0.0000e+00 - val_recall: 0.0000e+00 - val_auc: 0.6168\n",
            "Epoch 17/100\n",
            "117/117 [==============================] - 2s 14ms/step - loss: 0.4652 - tp: 0.0000e+00 - fp: 1.4407 - tn: 102449.7203 - fn: 19356.9407 - accuracy: 0.8408 - precision: 0.0000e+00 - recall: 0.0000e+00 - auc: 0.4918 - val_loss: 0.4318 - val_tp: 0.0000e+00 - val_fp: 0.0000e+00 - val_tn: 30098.0000 - val_fn: 4202.0000 - val_accuracy: 0.8775 - val_precision: 0.0000e+00 - val_recall: 0.0000e+00 - val_auc: 0.6177\n",
            "Epoch 18/100\n",
            "117/117 [==============================] - 2s 13ms/step - loss: 0.4603 - tp: 0.0763 - fp: 2.2712 - tn: 102515.3136 - fn: 19290.4407 - accuracy: 0.8422 - precision: 0.0191 - recall: 2.0632e-06 - auc: 0.4970 - val_loss: 0.4223 - val_tp: 0.0000e+00 - val_fp: 0.0000e+00 - val_tn: 30098.0000 - val_fn: 4202.0000 - val_accuracy: 0.8775 - val_precision: 0.0000e+00 - val_recall: 0.0000e+00 - val_auc: 0.6191\n",
            "Epoch 19/100\n",
            "117/117 [==============================] - 1s 13ms/step - loss: 0.4546 - tp: 0.0000e+00 - fp: 0.0000e+00 - tn: 102485.2034 - fn: 19322.8983 - accuracy: 0.8416 - precision: 0.0000e+00 - recall: 0.0000e+00 - auc: 0.4928 - val_loss: 0.4139 - val_tp: 0.0000e+00 - val_fp: 0.0000e+00 - val_tn: 30098.0000 - val_fn: 4202.0000 - val_accuracy: 0.8775 - val_precision: 0.0000e+00 - val_recall: 0.0000e+00 - val_auc: 0.6203\n",
            "Epoch 20/100\n",
            "117/117 [==============================] - 1s 13ms/step - loss: 0.4541 - tp: 2.6695 - fp: 4.0085 - tn: 102457.5932 - fn: 19343.8305 - accuracy: 0.8414 - precision: 0.3078 - recall: 1.1569e-04 - auc: 0.5064 - val_loss: 0.4069 - val_tp: 0.0000e+00 - val_fp: 0.0000e+00 - val_tn: 30098.0000 - val_fn: 4202.0000 - val_accuracy: 0.8775 - val_precision: 0.0000e+00 - val_recall: 0.0000e+00 - val_auc: 0.6221\n",
            "Epoch 21/100\n",
            "117/117 [==============================] - 2s 13ms/step - loss: 0.4502 - tp: 0.0000e+00 - fp: 1.4407 - tn: 102479.6864 - fn: 19326.9746 - accuracy: 0.8419 - precision: 0.0000e+00 - recall: 0.0000e+00 - auc: 0.5082 - val_loss: 0.4010 - val_tp: 0.0000e+00 - val_fp: 0.0000e+00 - val_tn: 30098.0000 - val_fn: 4202.0000 - val_accuracy: 0.8775 - val_precision: 0.0000e+00 - val_recall: 0.0000e+00 - val_auc: 0.6241\n",
            "Epoch 22/100\n",
            "117/117 [==============================] - 2s 13ms/step - loss: 0.4447 - tp: 0.0000e+00 - fp: 0.0763 - tn: 102528.9322 - fn: 19279.0932 - accuracy: 0.8427 - precision: 0.0000e+00 - recall: 0.0000e+00 - auc: 0.5064 - val_loss: 0.3956 - val_tp: 0.0000e+00 - val_fp: 0.0000e+00 - val_tn: 30098.0000 - val_fn: 4202.0000 - val_accuracy: 0.8775 - val_precision: 0.0000e+00 - val_recall: 0.0000e+00 - val_auc: 0.6253\n",
            "Epoch 23/100\n",
            "117/117 [==============================] - 2s 13ms/step - loss: 0.4457 - tp: 0.0000e+00 - fp: 2.5169 - tn: 102497.6610 - fn: 19307.9237 - accuracy: 0.8414 - precision: 0.0000e+00 - recall: 0.0000e+00 - auc: 0.5108 - val_loss: 0.3910 - val_tp: 0.0000e+00 - val_fp: 0.0000e+00 - val_tn: 30098.0000 - val_fn: 4202.0000 - val_accuracy: 0.8775 - val_precision: 0.0000e+00 - val_recall: 0.0000e+00 - val_auc: 0.6260\n",
            "Epoch 24/100\n",
            "117/117 [==============================] - 2s 14ms/step - loss: 0.4468 - tp: 0.4576 - fp: 6.0508 - tn: 102465.1356 - fn: 19336.4576 - accuracy: 0.8409 - precision: 0.0477 - recall: 1.5865e-05 - auc: 0.5069 - val_loss: 0.3869 - val_tp: 0.0000e+00 - val_fp: 0.0000e+00 - val_tn: 30098.0000 - val_fn: 4202.0000 - val_accuracy: 0.8775 - val_precision: 0.0000e+00 - val_recall: 0.0000e+00 - val_auc: 0.6276\n",
            "Epoch 25/100\n",
            "117/117 [==============================] - 2s 13ms/step - loss: 0.4448 - tp: 1.0000 - fp: 0.0000e+00 - tn: 102400.4237 - fn: 19406.6780 - accuracy: 0.8402 - precision: 1.0000 - recall: 1.3831e-04 - auc: 0.5037 - val_loss: 0.3832 - val_tp: 0.0000e+00 - val_fp: 0.0000e+00 - val_tn: 30098.0000 - val_fn: 4202.0000 - val_accuracy: 0.8775 - val_precision: 0.0000e+00 - val_recall: 0.0000e+00 - val_auc: 0.6289\n",
            "Epoch 26/100\n",
            "117/117 [==============================] - 2s 13ms/step - loss: 0.4452 - tp: 0.7966 - fp: 0.0000e+00 - tn: 102488.5254 - fn: 19318.7797 - accuracy: 0.8410 - precision: 0.7966 - recall: 4.1186e-05 - auc: 0.5106 - val_loss: 0.3803 - val_tp: 0.0000e+00 - val_fp: 0.0000e+00 - val_tn: 30098.0000 - val_fn: 4202.0000 - val_accuracy: 0.8775 - val_precision: 0.0000e+00 - val_recall: 0.0000e+00 - val_auc: 0.6300\n",
            "Epoch 27/100\n",
            "117/117 [==============================] - 2s 13ms/step - loss: 0.4400 - tp: 0.0000e+00 - fp: 1.7797 - tn: 102436.7797 - fn: 19369.5424 - accuracy: 0.8419 - precision: 0.0000e+00 - recall: 0.0000e+00 - auc: 0.5092 - val_loss: 0.3776 - val_tp: 0.0000e+00 - val_fp: 0.0000e+00 - val_tn: 30098.0000 - val_fn: 4202.0000 - val_accuracy: 0.8775 - val_precision: 0.0000e+00 - val_recall: 0.0000e+00 - val_auc: 0.6310\n",
            "Epoch 28/100\n",
            "117/117 [==============================] - 1s 13ms/step - loss: 0.4410 - tp: 0.9492 - fp: 1.9915 - tn: 102487.2034 - fn: 19317.9576 - accuracy: 0.8416 - precision: 0.4703 - recall: 6.6667e-05 - auc: 0.5068 - val_loss: 0.3753 - val_tp: 0.0000e+00 - val_fp: 0.0000e+00 - val_tn: 30098.0000 - val_fn: 4202.0000 - val_accuracy: 0.8775 - val_precision: 0.0000e+00 - val_recall: 0.0000e+00 - val_auc: 0.6321\n",
            "Epoch 29/100\n",
            "117/117 [==============================] - 1s 12ms/step - loss: 0.4413 - tp: 0.0000e+00 - fp: 1.7542 - tn: 102479.9153 - fn: 19326.4322 - accuracy: 0.8411 - precision: 0.0000e+00 - recall: 0.0000e+00 - auc: 0.5080 - val_loss: 0.3733 - val_tp: 0.0000e+00 - val_fp: 0.0000e+00 - val_tn: 30098.0000 - val_fn: 4202.0000 - val_accuracy: 0.8775 - val_precision: 0.0000e+00 - val_recall: 0.0000e+00 - val_auc: 0.6333\n",
            "Epoch 30/100\n",
            "117/117 [==============================] - 1s 12ms/step - loss: 0.4407 - tp: 0.6356 - fp: 2.6017 - tn: 102432.1949 - fn: 19372.6695 - accuracy: 0.8409 - precision: 0.1377 - recall: 2.6072e-05 - auc: 0.5077 - val_loss: 0.3715 - val_tp: 0.0000e+00 - val_fp: 0.0000e+00 - val_tn: 30098.0000 - val_fn: 4202.0000 - val_accuracy: 0.8775 - val_precision: 0.0000e+00 - val_recall: 0.0000e+00 - val_auc: 0.6342\n",
            "Epoch 31/100\n",
            "117/117 [==============================] - 2s 13ms/step - loss: 0.4418 - tp: 0.2881 - fp: 5.9746 - tn: 102407.4831 - fn: 19394.3559 - accuracy: 0.8402 - precision: 0.0315 - recall: 8.8073e-06 - auc: 0.5101 - val_loss: 0.3700 - val_tp: 0.0000e+00 - val_fp: 0.0000e+00 - val_tn: 30098.0000 - val_fn: 4202.0000 - val_accuracy: 0.8775 - val_precision: 0.0000e+00 - val_recall: 0.0000e+00 - val_auc: 0.6355\n",
            "Epoch 32/100\n",
            "117/117 [==============================] - 1s 13ms/step - loss: 0.4401 - tp: 0.0000e+00 - fp: 1.9915 - tn: 102423.8390 - fn: 19382.2712 - accuracy: 0.8404 - precision: 0.0000e+00 - recall: 0.0000e+00 - auc: 0.5109 - val_loss: 0.3688 - val_tp: 0.0000e+00 - val_fp: 0.0000e+00 - val_tn: 30098.0000 - val_fn: 4202.0000 - val_accuracy: 0.8775 - val_precision: 0.0000e+00 - val_recall: 0.0000e+00 - val_auc: 0.6353\n",
            "Epoch 33/100\n",
            "117/117 [==============================] - 1s 13ms/step - loss: 0.4405 - tp: 0.0000e+00 - fp: 6.9746 - tn: 102442.4153 - fn: 19358.7119 - accuracy: 0.8411 - precision: 0.0000e+00 - recall: 0.0000e+00 - auc: 0.5128 - val_loss: 0.3678 - val_tp: 0.0000e+00 - val_fp: 0.0000e+00 - val_tn: 30098.0000 - val_fn: 4202.0000 - val_accuracy: 0.8775 - val_precision: 0.0000e+00 - val_recall: 0.0000e+00 - val_auc: 0.6368\n",
            "Epoch 34/100\n",
            "117/117 [==============================] - 1s 13ms/step - loss: 0.4386 - tp: 2.7627 - fp: 5.4153 - tn: 102507.8898 - fn: 19292.0339 - accuracy: 0.8418 - precision: 0.3278 - recall: 2.0008e-04 - auc: 0.5109 - val_loss: 0.3669 - val_tp: 0.0000e+00 - val_fp: 0.0000e+00 - val_tn: 30098.0000 - val_fn: 4202.0000 - val_accuracy: 0.8775 - val_precision: 0.0000e+00 - val_recall: 0.0000e+00 - val_auc: 0.6375\n",
            "Epoch 35/100\n",
            "117/117 [==============================] - 1s 12ms/step - loss: 0.4413 - tp: 3.4153 - fp: 3.8729 - tn: 102323.8051 - fn: 19477.0085 - accuracy: 0.8397 - precision: 0.5408 - recall: 2.7593e-04 - auc: 0.5103 - val_loss: 0.3661 - val_tp: 0.0000e+00 - val_fp: 0.0000e+00 - val_tn: 30098.0000 - val_fn: 4202.0000 - val_accuracy: 0.8775 - val_precision: 0.0000e+00 - val_recall: 0.0000e+00 - val_auc: 0.6382\n",
            "Epoch 36/100\n",
            "117/117 [==============================] - 1s 13ms/step - loss: 0.4383 - tp: 0.9492 - fp: 1.3898 - tn: 102420.2881 - fn: 19385.4746 - accuracy: 0.8407 - precision: 0.2171 - recall: 3.2526e-05 - auc: 0.5093 - val_loss: 0.3655 - val_tp: 0.0000e+00 - val_fp: 0.0000e+00 - val_tn: 30098.0000 - val_fn: 4202.0000 - val_accuracy: 0.8775 - val_precision: 0.0000e+00 - val_recall: 0.0000e+00 - val_auc: 0.6385\n",
            "Epoch 37/100\n",
            "117/117 [==============================] - 1s 13ms/step - loss: 0.4380 - tp: 0.9153 - fp: 2.9153 - tn: 102450.1610 - fn: 19354.1102 - accuracy: 0.8412 - precision: 0.2397 - recall: 6.3329e-05 - auc: 0.5043 - val_loss: 0.3649 - val_tp: 0.0000e+00 - val_fp: 0.0000e+00 - val_tn: 30098.0000 - val_fn: 4202.0000 - val_accuracy: 0.8775 - val_precision: 0.0000e+00 - val_recall: 0.0000e+00 - val_auc: 0.6388\n",
            "Epoch 38/100\n",
            "117/117 [==============================] - 2s 15ms/step - loss: 0.4379 - tp: 0.2034 - fp: 4.5593 - tn: 102490.0932 - fn: 19313.2458 - accuracy: 0.8416 - precision: 0.0229 - recall: 5.8965e-06 - auc: 0.5060 - val_loss: 0.3644 - val_tp: 0.0000e+00 - val_fp: 0.0000e+00 - val_tn: 30098.0000 - val_fn: 4202.0000 - val_accuracy: 0.8775 - val_precision: 0.0000e+00 - val_recall: 0.0000e+00 - val_auc: 0.6396\n",
            "Epoch 39/100\n",
            "117/117 [==============================] - 2s 13ms/step - loss: 0.4372 - tp: 1.4068 - fp: 3.1271 - tn: 102473.0763 - fn: 19330.4915 - accuracy: 0.8417 - precision: 0.2582 - recall: 6.4207e-05 - auc: 0.5097 - val_loss: 0.3641 - val_tp: 0.0000e+00 - val_fp: 0.0000e+00 - val_tn: 30098.0000 - val_fn: 4202.0000 - val_accuracy: 0.8775 - val_precision: 0.0000e+00 - val_recall: 0.0000e+00 - val_auc: 0.6393\n",
            "Epoch 40/100\n",
            "117/117 [==============================] - 2s 13ms/step - loss: 0.4378 - tp: 0.2203 - fp: 1.1356 - tn: 102447.5847 - fn: 19359.1610 - accuracy: 0.8402 - precision: 0.0686 - recall: 6.4545e-06 - auc: 0.5083 - val_loss: 0.3637 - val_tp: 0.0000e+00 - val_fp: 0.0000e+00 - val_tn: 30098.0000 - val_fn: 4202.0000 - val_accuracy: 0.8775 - val_precision: 0.0000e+00 - val_recall: 0.0000e+00 - val_auc: 0.6397\n",
            "Epoch 41/100\n",
            "117/117 [==============================] - 2s 14ms/step - loss: 0.4361 - tp: 0.9576 - fp: 1.1780 - tn: 102514.4746 - fn: 19291.4915 - accuracy: 0.8418 - precision: 0.4421 - recall: 8.0532e-05 - auc: 0.5102 - val_loss: 0.3633 - val_tp: 0.0000e+00 - val_fp: 0.0000e+00 - val_tn: 30098.0000 - val_fn: 4202.0000 - val_accuracy: 0.8775 - val_precision: 0.0000e+00 - val_recall: 0.0000e+00 - val_auc: 0.6409\n",
            "Epoch 42/100\n",
            "117/117 [==============================] - 1s 13ms/step - loss: 0.4415 - tp: 14.7034 - fp: 63.2712 - tn: 102385.8898 - fn: 19344.2373 - accuracy: 0.8410 - precision: 0.0738 - recall: 4.5419e-04 - auc: 0.5129 - val_loss: 0.3640 - val_tp: 0.0000e+00 - val_fp: 0.0000e+00 - val_tn: 30098.0000 - val_fn: 4202.0000 - val_accuracy: 0.8775 - val_precision: 0.0000e+00 - val_recall: 0.0000e+00 - val_auc: 0.6339\n",
            "Epoch 43/100\n",
            "117/117 [==============================] - 2s 13ms/step - loss: 0.4387 - tp: 0.9661 - fp: 3.4492 - tn: 102451.4831 - fn: 19352.2034 - accuracy: 0.8410 - precision: 0.2560 - recall: 5.3981e-05 - auc: 0.5039 - val_loss: 0.3637 - val_tp: 0.0000e+00 - val_fp: 0.0000e+00 - val_tn: 30098.0000 - val_fn: 4202.0000 - val_accuracy: 0.8775 - val_precision: 0.0000e+00 - val_recall: 0.0000e+00 - val_auc: 0.6336\n",
            "Epoch 44/100\n",
            "117/117 [==============================] - 2s 14ms/step - loss: 0.4413 - tp: 1.5678 - fp: 9.6186 - tn: 102401.1949 - fn: 19395.7203 - accuracy: 0.8402 - precision: 0.1615 - recall: 1.5861e-04 - auc: 0.5055 - val_loss: 0.3635 - val_tp: 0.0000e+00 - val_fp: 0.0000e+00 - val_tn: 30098.0000 - val_fn: 4202.0000 - val_accuracy: 0.8775 - val_precision: 0.0000e+00 - val_recall: 0.0000e+00 - val_auc: 0.6333\n",
            "Epoch 45/100\n",
            "117/117 [==============================] - 2s 13ms/step - loss: 0.4368 - tp: 1.7034 - fp: 1.4153 - tn: 102520.9661 - fn: 19284.0169 - accuracy: 0.8421 - precision: 0.5197 - recall: 7.1543e-05 - auc: 0.5006 - val_loss: 0.3633 - val_tp: 0.0000e+00 - val_fp: 0.0000e+00 - val_tn: 30098.0000 - val_fn: 4202.0000 - val_accuracy: 0.8775 - val_precision: 0.0000e+00 - val_recall: 0.0000e+00 - val_auc: 0.6340\n",
            "Epoch 46/100\n",
            "117/117 [==============================] - 2s 14ms/step - loss: 0.4399 - tp: 0.0000e+00 - fp: 8.1017 - tn: 102418.9492 - fn: 19381.0508 - accuracy: 0.8404 - precision: 0.0000e+00 - recall: 0.0000e+00 - auc: 0.4999 - val_loss: 0.3632 - val_tp: 0.0000e+00 - val_fp: 0.0000e+00 - val_tn: 30098.0000 - val_fn: 4202.0000 - val_accuracy: 0.8775 - val_precision: 0.0000e+00 - val_recall: 0.0000e+00 - val_auc: 0.6341\n",
            "Epoch 47/100\n",
            "117/117 [==============================] - 2s 13ms/step - loss: 0.4371 - tp: 1.5254 - fp: 4.3136 - tn: 102504.4407 - fn: 19297.8220 - accuracy: 0.8419 - precision: 0.1570 - recall: 5.2024e-05 - auc: 0.5027 - val_loss: 0.3631 - val_tp: 0.0000e+00 - val_fp: 0.0000e+00 - val_tn: 30098.0000 - val_fn: 4202.0000 - val_accuracy: 0.8775 - val_precision: 0.0000e+00 - val_recall: 0.0000e+00 - val_auc: 0.6346\n",
            "Epoch 48/100\n",
            "117/117 [==============================] - 2s 14ms/step - loss: 0.4358 - tp: 2.3220 - fp: 5.2712 - tn: 102517.0763 - fn: 19283.4322 - accuracy: 0.8424 - precision: 0.4042 - recall: 1.5419e-04 - auc: 0.5114 - val_loss: 0.3630 - val_tp: 0.0000e+00 - val_fp: 0.0000e+00 - val_tn: 30098.0000 - val_fn: 4202.0000 - val_accuracy: 0.8775 - val_precision: 0.0000e+00 - val_recall: 0.0000e+00 - val_auc: 0.6345\n",
            "Epoch 49/100\n",
            "117/117 [==============================] - 2s 13ms/step - loss: 0.4382 - tp: 6.8898 - fp: 9.5254 - tn: 102414.2458 - fn: 19377.4407 - accuracy: 0.8409 - precision: 0.4864 - recall: 4.5359e-04 - auc: 0.5206 - val_loss: 0.3629 - val_tp: 0.0000e+00 - val_fp: 0.0000e+00 - val_tn: 30098.0000 - val_fn: 4202.0000 - val_accuracy: 0.8775 - val_precision: 0.0000e+00 - val_recall: 0.0000e+00 - val_auc: 0.6351\n",
            "Epoch 50/100\n",
            "117/117 [==============================] - 2s 15ms/step - loss: 0.4385 - tp: 0.4576 - fp: 5.4492 - tn: 102491.4831 - fn: 19310.7119 - accuracy: 0.8408 - precision: 0.0518 - recall: 1.5917e-05 - auc: 0.5079 - val_loss: 0.3630 - val_tp: 0.0000e+00 - val_fp: 0.0000e+00 - val_tn: 30098.0000 - val_fn: 4202.0000 - val_accuracy: 0.8775 - val_precision: 0.0000e+00 - val_recall: 0.0000e+00 - val_auc: 0.6346\n",
            "Epoch 51/100\n",
            "117/117 [==============================] - 2s 14ms/step - loss: 0.4379 - tp: 0.8475 - fp: 5.2797 - tn: 102446.7966 - fn: 19355.1780 - accuracy: 0.8411 - precision: 0.1196 - recall: 3.8163e-05 - auc: 0.5169 - val_loss: 0.3633 - val_tp: 0.0000e+00 - val_fp: 0.0000e+00 - val_tn: 30098.0000 - val_fn: 4202.0000 - val_accuracy: 0.8775 - val_precision: 0.0000e+00 - val_recall: 0.0000e+00 - val_auc: 0.6333\n",
            "Restoring model weights from the end of the best epoch.\n",
            "Epoch 00051: early stopping\n"
          ],
          "name": "stdout"
        }
      ]
    },
    {
      "cell_type": "code",
      "metadata": {
        "id": "Hd2ut5MgY8AQ"
      },
      "source": [
        "predictions2 = model2.predict(test_features)"
      ],
      "execution_count": null,
      "outputs": []
    },
    {
      "cell_type": "code",
      "metadata": {
        "id": "hNHUoWU0Z5uS"
      },
      "source": [
        "predictions2 = sigmoid_to_class(predictions2)"
      ],
      "execution_count": null,
      "outputs": []
    },
    {
      "cell_type": "code",
      "metadata": {
        "colab": {
          "base_uri": "https://localhost:8080/",
          "height": 348
        },
        "id": "t0ZA420iYILa",
        "outputId": "a85b0aff-f213-4f91-e65b-3755025a448e"
      },
      "source": [
        "cnf_matrix = confusion_matrix(test_labels, predictions2)\n",
        "np.set_printoptions(precision=2)\n",
        "\n",
        "# Plot non-normalized confusion matrix\n",
        "plt.figure()\n",
        "plot_confusion_matrix(cnf_matrix, classes = ['Negative','Positive'],\n",
        "                      title='Confusion matrix')"
      ],
      "execution_count": null,
      "outputs": [
        {
          "output_type": "stream",
          "text": [
            "Confusion matrix, without normalization\n",
            "[[33417     0]\n",
            " [ 4694     0]]\n"
          ],
          "name": "stdout"
        },
        {
          "output_type": "display_data",
          "data": {
            "image/png": "[encoded data removed]",
            "text/plain": [
              "<Figure size 432x288 with 2 Axes>"
            ]
          },
          "metadata": {
            "tags": [],
            "needs_background": "light"
          }
        }
      ]
    },
    {
      "cell_type": "code",
      "metadata": {
        "colab": {
          "base_uri": "https://localhost:8080/"
        },
        "id": "xWZ6VV6gYMBZ",
        "outputId": "4ac3800b-1893-4e5d-b590-4a54f652fbb9"
      },
      "source": [
        "print('\\nClassification Report\\n')\n",
        "print(classification_report(test_labels, predictions2, target_names=['Negative','Positive']))"
      ],
      "execution_count": null,
      "outputs": [
        {
          "output_type": "stream",
          "text": [
            "\n",
            "Classification Report\n",
            "\n",
            "              precision    recall  f1-score   support\n",
            "\n",
            "    Negative       0.88      1.00      0.93     33417\n",
            "    Positive       0.00      0.00      0.00      4694\n",
            "\n",
            "    accuracy                           0.88     38111\n",
            "   macro avg       0.44      0.50      0.47     38111\n",
            "weighted avg       0.77      0.88      0.82     38111\n",
            "\n"
          ],
          "name": "stdout"
        },
        {
          "output_type": "stream",
          "text": [
            "/usr/local/lib/python3.7/dist-packages/sklearn/metrics/_classification.py:1272: UndefinedMetricWarning: Precision and F-score are ill-defined and being set to 0.0 in labels with no predicted samples. Use `zero_division` parameter to control this behavior.\n",
            "  _warn_prf(average, modifier, msg_start, len(result))\n"
          ],
          "name": "stderr"
        }
      ]
    },
    {
      "cell_type": "markdown",
      "metadata": {
        "id": "HaoNMtZyNk0Z"
      },
      "source": [
        "Undersampling the Negative Responses to 200.000 did not affect the new model at all since it is still the only class that gets predicted. Let's try again undersampling the majority class even more, to 100.000."
      ]
    },
    {
      "cell_type": "code",
      "metadata": {
        "colab": {
          "base_uri": "https://localhost:8080/"
        },
        "id": "pRQSTmnBaffp",
        "outputId": "18e9b37b-9a5a-42b7-8aa3-3077be5f4d6b"
      },
      "source": [
        "# define undersample strategy\n",
        "sampling_strategy1 = {0: 100000 , 1: 37814}\n",
        "undersample = RandomUnderSampler(sampling_strategy=sampling_strategy1)\n",
        "# fit and apply the transform\n",
        "train_under, train_labels_under = undersample.fit_resample(train, train_labels)\n",
        "print(Counter(train_labels_under))"
      ],
      "execution_count": null,
      "outputs": [
        {
          "output_type": "stream",
          "text": [
            "Counter({0: 100000, 1: 37814})\n"
          ],
          "name": "stdout"
        },
        {
          "output_type": "stream",
          "text": [
            "/usr/local/lib/python3.7/dist-packages/sklearn/utils/deprecation.py:87: FutureWarning: Function safe_indexing is deprecated; safe_indexing is deprecated in version 0.22 and will be removed in version 0.24.\n",
            "  warnings.warn(msg, category=FutureWarning)\n"
          ],
          "name": "stderr"
        }
      ]
    },
    {
      "cell_type": "code",
      "metadata": {
        "id": "m71PaYkEatQ2"
      },
      "source": [
        "train_features = scaler.fit_transform(train_under)"
      ],
      "execution_count": null,
      "outputs": []
    },
    {
      "cell_type": "markdown",
      "metadata": {
        "id": "8XqMdm4UiiOT"
      },
      "source": [
        "<h4><b> Model 3 (Undersampled)<h4><b>"
      ]
    },
    {
      "cell_type": "code",
      "metadata": {
        "colab": {
          "base_uri": "https://localhost:8080/"
        },
        "id": "alcwygCpau7h",
        "outputId": "8d6795f1-4a59-465e-d8e9-d81fdf52d4c2"
      },
      "source": [
        "model3 = make_model()\n",
        "model3.summary()"
      ],
      "execution_count": null,
      "outputs": [
        {
          "output_type": "stream",
          "text": [
            "Model: \"sequential_2\"\n",
            "_________________________________________________________________\n",
            "Layer (type)                 Output Shape              Param #   \n",
            "=================================================================\n",
            "dense_6 (Dense)              (None, 16)                176       \n",
            "_________________________________________________________________\n",
            "dense_7 (Dense)              (None, 32)                544       \n",
            "_________________________________________________________________\n",
            "dropout_2 (Dropout)          (None, 32)                0         \n",
            "_________________________________________________________________\n",
            "dense_8 (Dense)              (None, 1)                 33        \n",
            "=================================================================\n",
            "Total params: 753\n",
            "Trainable params: 753\n",
            "Non-trainable params: 0\n",
            "_________________________________________________________________\n"
          ],
          "name": "stdout"
        }
      ]
    },
    {
      "cell_type": "code",
      "metadata": {
        "colab": {
          "base_uri": "https://localhost:8080/"
        },
        "id": "0qUZd-vSa3Qn",
        "outputId": "02297e6c-1431-4815-956f-4e8b37634f07"
      },
      "source": [
        "baseline_history = model3.fit(\n",
        "    train_under,\n",
        "    train_labels_under,\n",
        "    batch_size=BATCH_SIZE,\n",
        "    epochs=EPOCHS,\n",
        "    callbacks = [early_stopping],\n",
        "    validation_data=(val_features, val_labels))"
      ],
      "execution_count": null,
      "outputs": [
        {
          "output_type": "stream",
          "text": [
            "Epoch 1/100\n",
            "68/68 [==============================] - 4s 33ms/step - loss: 2463.8692 - tp: 8468.6087 - fp: 22105.3188 - tn: 59887.5797 - fn: 15446.7826 - accuracy: 0.6614 - precision: 0.2782 - recall: 0.3520 - auc: 0.5202 - val_loss: 1.1681 - val_tp: 4197.0000 - val_fp: 29939.0000 - val_tn: 159.0000 - val_fn: 5.0000 - val_accuracy: 0.1270 - val_precision: 0.1229 - val_recall: 0.9988 - val_auc: 0.5087\n",
            "Epoch 2/100\n",
            "68/68 [==============================] - 1s 13ms/step - loss: 1121.5157 - tp: 5940.0145 - fp: 15936.6377 - tn: 36041.4928 - fn: 13690.1449 - accuracy: 0.5849 - precision: 0.2704 - recall: 0.3038 - auc: 0.4974 - val_loss: 1.1859 - val_tp: 4198.0000 - val_fp: 30038.0000 - val_tn: 60.0000 - val_fn: 4.0000 - val_accuracy: 0.1241 - val_precision: 0.1226 - val_recall: 0.9990 - val_auc: 0.5483\n",
            "Epoch 3/100\n",
            "68/68 [==============================] - 1s 14ms/step - loss: 546.0583 - tp: 5902.6957 - fp: 15757.6522 - tn: 36242.0000 - fn: 13705.9420 - accuracy: 0.5887 - precision: 0.2722 - recall: 0.3012 - auc: 0.4991 - val_loss: 1.2019 - val_tp: 4199.0000 - val_fp: 30065.0000 - val_tn: 33.0000 - val_fn: 3.0000 - val_accuracy: 0.1234 - val_precision: 0.1225 - val_recall: 0.9993 - val_auc: 0.5654\n",
            "Epoch 4/100\n",
            "68/68 [==============================] - 1s 14ms/step - loss: 221.9950 - tp: 6072.6522 - fp: 15965.9565 - tn: 36050.4203 - fn: 13519.2609 - accuracy: 0.5874 - precision: 0.2754 - recall: 0.3096 - auc: 0.5010 - val_loss: 1.2063 - val_tp: 4193.0000 - val_fp: 30057.0000 - val_tn: 41.0000 - val_fn: 9.0000 - val_accuracy: 0.1234 - val_precision: 0.1224 - val_recall: 0.9979 - val_auc: 0.5703\n",
            "Epoch 5/100\n",
            "68/68 [==============================] - 1s 14ms/step - loss: 43.8878 - tp: 6774.4928 - fp: 17200.6522 - tn: 34706.3913 - fn: 12926.7536 - accuracy: 0.5833 - precision: 0.2814 - recall: 0.3314 - auc: 0.5055 - val_loss: 1.1874 - val_tp: 4183.0000 - val_fp: 30027.0000 - val_tn: 71.0000 - val_fn: 19.0000 - val_accuracy: 0.1240 - val_precision: 0.1223 - val_recall: 0.9955 - val_auc: 0.5757\n",
            "Epoch 6/100\n",
            "68/68 [==============================] - 1s 13ms/step - loss: 0.8687 - tp: 7288.2174 - fp: 19171.0145 - tn: 32745.2029 - fn: 12403.8551 - accuracy: 0.5598 - precision: 0.2752 - recall: 0.3653 - auc: 0.5058 - val_loss: 1.1388 - val_tp: 4171.0000 - val_fp: 29939.0000 - val_tn: 159.0000 - val_fn: 31.0000 - val_accuracy: 0.1262 - val_precision: 0.1223 - val_recall: 0.9926 - val_auc: 0.5830\n",
            "Epoch 7/100\n",
            "68/68 [==============================] - 1s 13ms/step - loss: 0.8034 - tp: 7374.6232 - fp: 19288.1594 - tn: 32653.1014 - fn: 12292.4058 - accuracy: 0.5595 - precision: 0.2778 - recall: 0.3769 - auc: 0.5104 - val_loss: 1.0933 - val_tp: 4148.0000 - val_fp: 29792.0000 - val_tn: 306.0000 - val_fn: 54.0000 - val_accuracy: 0.1299 - val_precision: 0.1222 - val_recall: 0.9871 - val_auc: 0.5891\n",
            "Epoch 8/100\n",
            "68/68 [==============================] - 1s 13ms/step - loss: 0.7732 - tp: 6970.5072 - fp: 18294.0580 - tn: 33631.4783 - fn: 12712.2464 - accuracy: 0.5684 - precision: 0.2766 - recall: 0.3533 - auc: 0.5121 - val_loss: 1.0508 - val_tp: 4120.0000 - val_fp: 29568.0000 - val_tn: 530.0000 - val_fn: 82.0000 - val_accuracy: 0.1356 - val_precision: 0.1223 - val_recall: 0.9805 - val_auc: 0.5952\n",
            "Epoch 9/100\n",
            "68/68 [==============================] - 1s 13ms/step - loss: 0.7648 - tp: 6998.5942 - fp: 18436.6087 - tn: 33471.0000 - fn: 12702.0870 - accuracy: 0.5645 - precision: 0.2736 - recall: 0.3531 - auc: 0.5083 - val_loss: 1.0117 - val_tp: 4087.0000 - val_fp: 29281.0000 - val_tn: 817.0000 - val_fn: 115.0000 - val_accuracy: 0.1430 - val_precision: 0.1225 - val_recall: 0.9726 - val_auc: 0.6012\n",
            "Epoch 10/100\n",
            "68/68 [==============================] - 1s 14ms/step - loss: 0.7465 - tp: 6687.9130 - fp: 17538.3768 - tn: 34467.7536 - fn: 12914.2464 - accuracy: 0.5745 - precision: 0.2748 - recall: 0.3385 - auc: 0.5061 - val_loss: 0.9756 - val_tp: 4042.0000 - val_fp: 28844.0000 - val_tn: 1254.0000 - val_fn: 160.0000 - val_accuracy: 0.1544 - val_precision: 0.1229 - val_recall: 0.9619 - val_auc: 0.6072\n",
            "Epoch 11/100\n",
            "68/68 [==============================] - 1s 13ms/step - loss: 0.7277 - tp: 6400.1594 - fp: 16570.9710 - tn: 35386.9130 - fn: 13250.2464 - accuracy: 0.5850 - precision: 0.2786 - recall: 0.3233 - auc: 0.5074 - val_loss: 0.9408 - val_tp: 3994.0000 - val_fp: 28337.0000 - val_tn: 1761.0000 - val_fn: 208.0000 - val_accuracy: 0.1678 - val_precision: 0.1235 - val_recall: 0.9505 - val_auc: 0.6111\n",
            "Epoch 12/100\n",
            "68/68 [==============================] - 1s 13ms/step - loss: 0.7157 - tp: 6465.8696 - fp: 16303.6377 - tn: 35593.8551 - fn: 13244.9275 - accuracy: 0.5872 - precision: 0.2853 - recall: 0.3326 - auc: 0.5134 - val_loss: 0.9079 - val_tp: 3925.0000 - val_fp: 27730.0000 - val_tn: 2368.0000 - val_fn: 277.0000 - val_accuracy: 0.1835 - val_precision: 0.1240 - val_recall: 0.9341 - val_auc: 0.6150\n",
            "Epoch 13/100\n",
            "68/68 [==============================] - 1s 13ms/step - loss: 0.7047 - tp: 6302.1449 - fp: 15957.0725 - tn: 36020.7246 - fn: 13328.3478 - accuracy: 0.5890 - precision: 0.2823 - recall: 0.3248 - auc: 0.5095 - val_loss: 0.8773 - val_tp: 3864.0000 - val_fp: 27052.0000 - val_tn: 3046.0000 - val_fn: 338.0000 - val_accuracy: 0.2015 - val_precision: 0.1250 - val_recall: 0.9196 - val_auc: 0.6188\n",
            "Epoch 14/100\n",
            "68/68 [==============================] - 1s 13ms/step - loss: 0.6912 - tp: 5981.8986 - fp: 14954.2464 - tn: 36954.2754 - fn: 13717.8696 - accuracy: 0.6005 - precision: 0.2860 - recall: 0.3021 - auc: 0.5091 - val_loss: 0.8483 - val_tp: 3788.0000 - val_fp: 26206.0000 - val_tn: 3892.0000 - val_fn: 414.0000 - val_accuracy: 0.2239 - val_precision: 0.1263 - val_recall: 0.9015 - val_auc: 0.6219\n",
            "Epoch 15/100\n",
            "68/68 [==============================] - 1s 14ms/step - loss: 0.6887 - tp: 6285.7971 - fp: 15592.2464 - tn: 36305.6377 - fn: 13424.6087 - accuracy: 0.5954 - precision: 0.2869 - recall: 0.3130 - auc: 0.5067 - val_loss: 0.8212 - val_tp: 3678.0000 - val_fp: 25313.0000 - val_tn: 4785.0000 - val_fn: 524.0000 - val_accuracy: 0.2467 - val_precision: 0.1269 - val_recall: 0.8753 - val_auc: 0.6249\n",
            "Epoch 16/100\n",
            "68/68 [==============================] - 1s 14ms/step - loss: 0.6808 - tp: 6121.5797 - fp: 15266.1304 - tn: 36686.5652 - fn: 13534.0145 - accuracy: 0.5997 - precision: 0.2865 - recall: 0.3068 - auc: 0.5094 - val_loss: 0.7961 - val_tp: 3585.0000 - val_fp: 24442.0000 - val_tn: 5656.0000 - val_fn: 617.0000 - val_accuracy: 0.2694 - val_precision: 0.1279 - val_recall: 0.8532 - val_auc: 0.6280\n",
            "Epoch 17/100\n",
            "68/68 [==============================] - 1s 14ms/step - loss: 0.6692 - tp: 5927.4928 - fp: 14934.4348 - tn: 37028.9565 - fn: 13717.4058 - accuracy: 0.6009 - precision: 0.2837 - recall: 0.3008 - auc: 0.5091 - val_loss: 0.7722 - val_tp: 3479.0000 - val_fp: 23470.0000 - val_tn: 6628.0000 - val_fn: 723.0000 - val_accuracy: 0.2947 - val_precision: 0.1291 - val_recall: 0.8279 - val_auc: 0.6310\n",
            "Epoch 18/100\n",
            "68/68 [==============================] - 1s 14ms/step - loss: 0.6638 - tp: 6109.3478 - fp: 15193.1739 - tn: 36782.0145 - fn: 13523.7536 - accuracy: 0.5976 - precision: 0.2875 - recall: 0.3171 - auc: 0.5116 - val_loss: 0.7495 - val_tp: 3374.0000 - val_fp: 22336.0000 - val_tn: 7762.0000 - val_fn: 828.0000 - val_accuracy: 0.3247 - val_precision: 0.1312 - val_recall: 0.8030 - val_auc: 0.6336\n",
            "Epoch 19/100\n",
            "68/68 [==============================] - 1s 13ms/step - loss: 0.6656 - tp: 6251.2319 - fp: 15418.4783 - tn: 36497.2754 - fn: 13441.3043 - accuracy: 0.5948 - precision: 0.2878 - recall: 0.3212 - auc: 0.5105 - val_loss: 0.7285 - val_tp: 3225.0000 - val_fp: 20700.0000 - val_tn: 9398.0000 - val_fn: 977.0000 - val_accuracy: 0.3680 - val_precision: 0.1348 - val_recall: 0.7675 - val_auc: 0.6365\n",
            "Epoch 20/100\n",
            "68/68 [==============================] - 1s 14ms/step - loss: 0.6512 - tp: 5668.0580 - fp: 14112.0435 - tn: 37830.3623 - fn: 13997.8261 - accuracy: 0.6069 - precision: 0.2868 - recall: 0.2879 - auc: 0.5094 - val_loss: 0.7083 - val_tp: 3061.0000 - val_fp: 18212.0000 - val_tn: 11886.0000 - val_fn: 1141.0000 - val_accuracy: 0.4358 - val_precision: 0.1439 - val_recall: 0.7285 - val_auc: 0.6390\n",
            "Epoch 21/100\n",
            "68/68 [==============================] - 1s 14ms/step - loss: 0.6445 - tp: 4844.3188 - fp: 12190.2319 - tn: 39793.7101 - fn: 14780.0290 - accuracy: 0.6205 - precision: 0.2833 - recall: 0.2508 - auc: 0.5075 - val_loss: 0.6892 - val_tp: 2858.0000 - val_fp: 14703.0000 - val_tn: 15395.0000 - val_fn: 1344.0000 - val_accuracy: 0.5322 - val_precision: 0.1627 - val_recall: 0.6802 - val_auc: 0.6414\n",
            "Epoch 22/100\n",
            "68/68 [==============================] - 1s 13ms/step - loss: 0.6570 - tp: 1029.0580 - fp: 2532.8986 - tn: 49368.0000 - fn: 18678.3333 - accuracy: 0.6989 - precision: 0.2889 - recall: 0.0622 - auc: 0.5109 - val_loss: 0.6720 - val_tp: 2624.0000 - val_fp: 11724.0000 - val_tn: 18374.0000 - val_fn: 1578.0000 - val_accuracy: 0.6122 - val_precision: 0.1829 - val_recall: 0.6245 - val_auc: 0.6420\n",
            "Epoch 23/100\n",
            "68/68 [==============================] - 1s 13ms/step - loss: 0.6378 - tp: 247.5942 - fp: 607.2174 - tn: 51392.7101 - fn: 19360.7681 - accuracy: 0.7207 - precision: 0.2878 - recall: 0.0146 - auc: 0.5135 - val_loss: 0.6561 - val_tp: 2421.0000 - val_fp: 9140.0000 - val_tn: 20958.0000 - val_fn: 1781.0000 - val_accuracy: 0.6816 - val_precision: 0.2094 - val_recall: 0.5762 - val_auc: 0.6420\n",
            "Epoch 24/100\n",
            "68/68 [==============================] - 1s 13ms/step - loss: 0.6512 - tp: 1234.6232 - fp: 3104.4058 - tn: 48885.2754 - fn: 18383.9855 - accuracy: 0.7025 - precision: 0.2938 - recall: 0.0576 - auc: 0.5126 - val_loss: 0.6414 - val_tp: 2178.0000 - val_fp: 7180.0000 - val_tn: 22918.0000 - val_fn: 2024.0000 - val_accuracy: 0.7317 - val_precision: 0.2327 - val_recall: 0.5183 - val_auc: 0.6418\n",
            "Epoch 25/100\n",
            "68/68 [==============================] - 1s 13ms/step - loss: 0.6275 - tp: 401.5217 - fp: 985.9710 - tn: 50977.9275 - fn: 19242.8696 - accuracy: 0.7190 - precision: 0.3057 - recall: 0.0164 - auc: 0.5130 - val_loss: 0.6272 - val_tp: 1921.0000 - val_fp: 5866.0000 - val_tn: 24232.0000 - val_fn: 2281.0000 - val_accuracy: 0.7625 - val_precision: 0.2467 - val_recall: 0.4572 - val_auc: 0.6412\n",
            "Epoch 26/100\n",
            "68/68 [==============================] - 1s 13ms/step - loss: 0.6220 - tp: 122.0435 - fp: 223.0290 - tn: 51687.7681 - fn: 19575.4493 - accuracy: 0.7233 - precision: 0.3591 - recall: 0.0074 - auc: 0.5156 - val_loss: 0.6141 - val_tp: 1647.0000 - val_fp: 4778.0000 - val_tn: 25320.0000 - val_fn: 2555.0000 - val_accuracy: 0.7862 - val_precision: 0.2563 - val_recall: 0.3920 - val_auc: 0.6403\n",
            "Epoch 27/100\n",
            "68/68 [==============================] - 1s 13ms/step - loss: 0.6149 - tp: 52.6522 - fp: 146.3768 - tn: 51913.4203 - fn: 19495.8406 - accuracy: 0.7268 - precision: 0.2670 - recall: 0.0028 - auc: 0.5142 - val_loss: 0.6016 - val_tp: 1346.0000 - val_fp: 3914.0000 - val_tn: 26184.0000 - val_fn: 2856.0000 - val_accuracy: 0.8026 - val_precision: 0.2559 - val_recall: 0.3203 - val_auc: 0.6392\n",
            "Epoch 28/100\n",
            "68/68 [==============================] - 1s 14ms/step - loss: 0.6178 - tp: 256.8406 - fp: 571.9710 - tn: 51310.4203 - fn: 19469.0580 - accuracy: 0.7199 - precision: 0.3011 - recall: 0.0116 - auc: 0.5187 - val_loss: 0.5902 - val_tp: 1070.0000 - val_fp: 3134.0000 - val_tn: 26964.0000 - val_fn: 3132.0000 - val_accuracy: 0.8173 - val_precision: 0.2545 - val_recall: 0.2546 - val_auc: 0.6380\n",
            "Epoch 29/100\n",
            "68/68 [==============================] - 1s 13ms/step - loss: 0.6129 - tp: 131.5797 - fp: 315.6232 - tn: 51645.2609 - fn: 19515.8261 - accuracy: 0.7216 - precision: 0.2860 - recall: 0.0100 - auc: 0.5162 - val_loss: 0.5792 - val_tp: 817.0000 - val_fp: 2373.0000 - val_tn: 27725.0000 - val_fn: 3385.0000 - val_accuracy: 0.8321 - val_precision: 0.2561 - val_recall: 0.1944 - val_auc: 0.6364\n",
            "Epoch 30/100\n",
            "68/68 [==============================] - 1s 13ms/step - loss: 0.6123 - tp: 204.4058 - fp: 484.0435 - tn: 51436.6232 - fn: 19483.2174 - accuracy: 0.7209 - precision: 0.3058 - recall: 0.0098 - auc: 0.5189 - val_loss: 0.5692 - val_tp: 677.0000 - val_fp: 1901.0000 - val_tn: 28197.0000 - val_fn: 3525.0000 - val_accuracy: 0.8418 - val_precision: 0.2626 - val_recall: 0.1611 - val_auc: 0.6349\n",
            "Epoch 31/100\n",
            "68/68 [==============================] - 1s 14ms/step - loss: 0.6144 - tp: 423.4203 - fp: 977.7971 - tn: 50993.4783 - fn: 19213.5942 - accuracy: 0.7177 - precision: 0.2855 - recall: 0.0223 - auc: 0.5141 - val_loss: 0.5596 - val_tp: 586.0000 - val_fp: 1545.0000 - val_tn: 28553.0000 - val_fn: 3616.0000 - val_accuracy: 0.8495 - val_precision: 0.2750 - val_recall: 0.1395 - val_auc: 0.6328\n",
            "Epoch 32/100\n",
            "68/68 [==============================] - 1s 14ms/step - loss: 0.6120 - tp: 55.9275 - fp: 127.4928 - tn: 51852.4203 - fn: 19572.4493 - accuracy: 0.7245 - precision: 0.3010 - recall: 0.0040 - auc: 0.5010 - val_loss: 0.5495 - val_tp: 529.0000 - val_fp: 1309.0000 - val_tn: 28789.0000 - val_fn: 3673.0000 - val_accuracy: 0.8548 - val_precision: 0.2878 - val_recall: 0.1259 - val_auc: 0.6303\n",
            "Epoch 33/100\n",
            "68/68 [==============================] - 1s 13ms/step - loss: 0.6166 - tp: 338.4348 - fp: 803.2029 - tn: 51157.9275 - fn: 19308.7246 - accuracy: 0.7190 - precision: 0.3030 - recall: 0.0199 - auc: 0.4983 - val_loss: 0.5403 - val_tp: 484.0000 - val_fp: 1133.0000 - val_tn: 28965.0000 - val_fn: 3718.0000 - val_accuracy: 0.8586 - val_precision: 0.2993 - val_recall: 0.1152 - val_auc: 0.6279\n",
            "Restoring model weights from the end of the best epoch.\n",
            "Epoch 00033: early stopping\n"
          ],
          "name": "stdout"
        }
      ]
    },
    {
      "cell_type": "code",
      "metadata": {
        "id": "Ln0xtanEbGpM"
      },
      "source": [
        "predictions3 = model3.predict(test_features)"
      ],
      "execution_count": null,
      "outputs": []
    },
    {
      "cell_type": "code",
      "metadata": {
        "id": "IXkvpZ6ejcJl"
      },
      "source": [
        "predictions3 = sigmoid_to_class(predictions3)"
      ],
      "execution_count": null,
      "outputs": []
    },
    {
      "cell_type": "code",
      "metadata": {
        "colab": {
          "base_uri": "https://localhost:8080/",
          "height": 348
        },
        "id": "8l7CQIuVbfvk",
        "outputId": "686cd1b7-3c48-4e39-e432-ce43fcaeffe2"
      },
      "source": [
        "cnf_matrix = confusion_matrix(test_labels, predictions3)\n",
        "np.set_printoptions(precision=2)\n",
        "\n",
        "# Plot non-normalized confusion matrix\n",
        "plt.figure()\n",
        "plot_confusion_matrix(cnf_matrix, classes = ['Negative','Positive'],\n",
        "                      title='Confusion matrix')"
      ],
      "execution_count": null,
      "outputs": [
        {
          "output_type": "stream",
          "text": [
            "Confusion matrix, without normalization\n",
            "[[22998 10419]\n",
            " [ 2063  2631]]\n"
          ],
          "name": "stdout"
        },
        {
          "output_type": "display_data",
          "data": {
            "image/png": "[encoded data removed]",
            "text/plain": [
              "<Figure size 432x288 with 2 Axes>"
            ]
          },
          "metadata": {
            "tags": [],
            "needs_background": "light"
          }
        }
      ]
    },
    {
      "cell_type": "code",
      "metadata": {
        "colab": {
          "base_uri": "https://localhost:8080/"
        },
        "id": "RMwH9N63cs4f",
        "outputId": "4cfda815-153e-42be-88e0-39de2c4b553c"
      },
      "source": [
        "print('\\nClassification Report\\n')\n",
        "print(classification_report(test_labels, predictions3, target_names=['Negative','Positive']))"
      ],
      "execution_count": null,
      "outputs": [
        {
          "output_type": "stream",
          "text": [
            "\n",
            "Classification Report\n",
            "\n",
            "              precision    recall  f1-score   support\n",
            "\n",
            "    Negative       0.92      0.69      0.79     33417\n",
            "    Positive       0.20      0.56      0.30      4694\n",
            "\n",
            "    accuracy                           0.67     38111\n",
            "   macro avg       0.56      0.62      0.54     38111\n",
            "weighted avg       0.83      0.67      0.73     38111\n",
            "\n"
          ],
          "name": "stdout"
        }
      ]
    },
    {
      "cell_type": "markdown",
      "metadata": {
        "id": "Fy2qRBImiry1"
      },
      "source": [
        "Finally, the model starts predicting Positive Responses and it succefully found 2.631 clients that will have a Positve Response to a Vehicle Insurance. This of course came at a cost of total accurasy since 10.419 clients were predicted to have a Positive Response while it was Negative, giving us an accuracy of 67%. This loss is expected though considering we aim for the model to correctly predict both classes, in which it definitely got better, giving an Macro Average f1 score of 0.54 from 0.47."
      ]
    },
    {
      "cell_type": "markdown",
      "metadata": {
        "id": "zZ_Zrp_vk7zF"
      },
      "source": [
        "In one final attempt, the minority class (Negative Response) is oversampled to 60.000 from 37.814 samples, in order to increase the quantity (hopefully the quality as well) of the model's predictions for Positive Responses. "
      ]
    },
    {
      "cell_type": "code",
      "metadata": {
        "colab": {
          "base_uri": "https://localhost:8080/"
        },
        "id": "6twxyxUpGpk_",
        "outputId": "fe2c99f4-b31d-46be-aed8-544bab0605db"
      },
      "source": [
        "# define oversampling strategy\n",
        "sampling_strategy2 = {0: 100000, 1: 60000}\n",
        "oversample = RandomOverSampler(sampling_strategy=sampling_strategy2)\n",
        "# fit and apply the transform\n",
        "train_under, train_labels_under = oversample.fit_resample(train_under, train_labels_under)\n",
        "print(Counter(train_labels_under))                            "
      ],
      "execution_count": null,
      "outputs": [
        {
          "output_type": "stream",
          "text": [
            "Counter({0: 100000, 1: 60000})\n"
          ],
          "name": "stdout"
        },
        {
          "output_type": "stream",
          "text": [
            "/usr/local/lib/python3.7/dist-packages/sklearn/utils/deprecation.py:87: FutureWarning: Function safe_indexing is deprecated; safe_indexing is deprecated in version 0.22 and will be removed in version 0.24.\n",
            "  warnings.warn(msg, category=FutureWarning)\n"
          ],
          "name": "stderr"
        }
      ]
    },
    {
      "cell_type": "markdown",
      "metadata": {
        "id": "_F6PcTuQmPMN"
      },
      "source": [
        "<h4><b> Model 4 (Oversampled) <h4><b>"
      ]
    },
    {
      "cell_type": "code",
      "metadata": {
        "id": "2u2drv6idEI_"
      },
      "source": [
        "train_features = scaler.fit_transform(train_under)"
      ],
      "execution_count": null,
      "outputs": []
    },
    {
      "cell_type": "code",
      "metadata": {
        "colab": {
          "base_uri": "https://localhost:8080/"
        },
        "id": "YuOcaVdDdEJA",
        "outputId": "a53a8320-5f3f-4f26-f7b3-c2b3591d38fa"
      },
      "source": [
        "model4 = make_model()\n",
        "model4.summary()"
      ],
      "execution_count": null,
      "outputs": [
        {
          "output_type": "stream",
          "text": [
            "Model: \"sequential_3\"\n",
            "_________________________________________________________________\n",
            "Layer (type)                 Output Shape              Param #   \n",
            "=================================================================\n",
            "dense_9 (Dense)              (None, 16)                176       \n",
            "_________________________________________________________________\n",
            "dense_10 (Dense)             (None, 32)                544       \n",
            "_________________________________________________________________\n",
            "dropout_3 (Dropout)          (None, 32)                0         \n",
            "_________________________________________________________________\n",
            "dense_11 (Dense)             (None, 1)                 33        \n",
            "=================================================================\n",
            "Total params: 753\n",
            "Trainable params: 753\n",
            "Non-trainable params: 0\n",
            "_________________________________________________________________\n"
          ],
          "name": "stdout"
        }
      ]
    },
    {
      "cell_type": "code",
      "metadata": {
        "colab": {
          "base_uri": "https://localhost:8080/"
        },
        "id": "Wy8x2dbpdEJA",
        "outputId": "7e7394a9-8913-43d9-9a96-3a1c919a25cc"
      },
      "source": [
        "baseline_history = model4.fit(\n",
        "    train_under,\n",
        "    train_labels_under,\n",
        "    batch_size=BATCH_SIZE,\n",
        "    epochs=EPOCHS,\n",
        "    callbacks = [early_stopping],\n",
        "    validation_data=(val_features, val_labels))"
      ],
      "execution_count": null,
      "outputs": [
        {
          "output_type": "stream",
          "text": [
            "Epoch 1/100\n",
            "79/79 [==============================] - 4s 28ms/step - loss: 2223.0876 - tp: 17192.9625 - fp: 28856.8500 - tn: 53046.6000 - fn: 18077.1875 - accuracy: 0.6190 - precision: 0.3723 - recall: 0.5081 - auc: 0.5526 - val_loss: 0.8971 - val_tp: 3326.0000 - val_fp: 27287.0000 - val_tn: 2811.0000 - val_fn: 876.0000 - val_accuracy: 0.1789 - val_precision: 0.1086 - val_recall: 0.7915 - val_auc: 0.2867\n",
            "Epoch 2/100\n",
            "79/79 [==============================] - 1s 14ms/step - loss: 453.3015 - tp: 11684.3250 - fp: 19754.2375 - tn: 32057.7875 - fn: 19377.2500 - accuracy: 0.5278 - precision: 0.3715 - recall: 0.3749 - auc: 0.4971 - val_loss: 0.8908 - val_tp: 3938.0000 - val_fp: 29150.0000 - val_tn: 948.0000 - val_fn: 264.0000 - val_accuracy: 0.1424 - val_precision: 0.1190 - val_recall: 0.9372 - val_auc: 0.3601\n",
            "Epoch 3/100\n",
            "79/79 [==============================] - 1s 15ms/step - loss: 25.5536 - tp: 11987.2000 - fp: 19859.0375 - tn: 31904.1125 - fn: 19123.2500 - accuracy: 0.5323 - precision: 0.3744 - recall: 0.3710 - auc: 0.4988 - val_loss: 0.9020 - val_tp: 4102.0000 - val_fp: 29626.0000 - val_tn: 472.0000 - val_fn: 100.0000 - val_accuracy: 0.1334 - val_precision: 0.1216 - val_recall: 0.9762 - val_auc: 0.4190\n",
            "Epoch 4/100\n",
            "79/79 [==============================] - 1s 14ms/step - loss: 1.4028 - tp: 12189.8250 - fp: 20703.3000 - tn: 31080.5875 - fn: 18899.8875 - accuracy: 0.5167 - precision: 0.3704 - recall: 0.4087 - auc: 0.4891 - val_loss: 0.8757 - val_tp: 4021.0000 - val_fp: 29325.0000 - val_tn: 773.0000 - val_fn: 181.0000 - val_accuracy: 0.1398 - val_precision: 0.1206 - val_recall: 0.9569 - val_auc: 0.4453\n",
            "Epoch 5/100\n",
            "79/79 [==============================] - 1s 14ms/step - loss: 1.0351 - tp: 8685.3125 - fp: 14453.5375 - tn: 37281.6875 - fn: 22453.0625 - accuracy: 0.5546 - precision: 0.3781 - recall: 0.2802 - auc: 0.4949 - val_loss: 0.8510 - val_tp: 3898.0000 - val_fp: 28691.0000 - val_tn: 1407.0000 - val_fn: 304.0000 - val_accuracy: 0.1547 - val_precision: 0.1196 - val_recall: 0.9277 - val_auc: 0.4605\n",
            "Epoch 6/100\n",
            "79/79 [==============================] - 1s 14ms/step - loss: 0.8658 - tp: 9057.7875 - fp: 15051.1750 - tn: 36739.1750 - fn: 22025.4625 - accuracy: 0.5530 - precision: 0.3746 - recall: 0.2872 - auc: 0.4931 - val_loss: 0.8270 - val_tp: 3683.0000 - val_fp: 27470.0000 - val_tn: 2628.0000 - val_fn: 519.0000 - val_accuracy: 0.1840 - val_precision: 0.1182 - val_recall: 0.8765 - val_auc: 0.4687\n",
            "Epoch 7/100\n",
            "79/79 [==============================] - 1s 13ms/step - loss: 0.7665 - tp: 8519.7000 - fp: 14009.6500 - tn: 37805.3000 - fn: 22538.9500 - accuracy: 0.5603 - precision: 0.3795 - recall: 0.2769 - auc: 0.5009 - val_loss: 0.8046 - val_tp: 3451.0000 - val_fp: 25967.0000 - val_tn: 4131.0000 - val_fn: 751.0000 - val_accuracy: 0.2210 - val_precision: 0.1173 - val_recall: 0.8213 - val_auc: 0.4749\n",
            "Epoch 8/100\n",
            "79/79 [==============================] - 1s 13ms/step - loss: 0.7261 - tp: 8419.9625 - fp: 13721.0625 - tn: 38083.2250 - fn: 22649.3500 - accuracy: 0.5621 - precision: 0.3783 - recall: 0.2631 - auc: 0.5007 - val_loss: 0.7837 - val_tp: 3186.0000 - val_fp: 24111.0000 - val_tn: 5987.0000 - val_fn: 1016.0000 - val_accuracy: 0.2674 - val_precision: 0.1167 - val_recall: 0.7582 - val_auc: 0.4807\n",
            "Epoch 9/100\n",
            "79/79 [==============================] - 1s 14ms/step - loss: 0.7179 - tp: 9331.0125 - fp: 15005.7000 - tn: 36820.0250 - fn: 21716.8625 - accuracy: 0.5552 - precision: 0.3856 - recall: 0.3123 - auc: 0.5058 - val_loss: 0.7657 - val_tp: 2908.0000 - val_fp: 21972.0000 - val_tn: 8126.0000 - val_fn: 1294.0000 - val_accuracy: 0.3217 - val_precision: 0.1169 - val_recall: 0.6921 - val_auc: 0.4850\n",
            "Epoch 10/100\n",
            "79/79 [==============================] - 1s 14ms/step - loss: 0.6894 - tp: 6681.5375 - fp: 10658.2250 - tn: 41095.3750 - fn: 24438.4625 - accuracy: 0.5759 - precision: 0.3867 - recall: 0.2169 - auc: 0.5097 - val_loss: 0.7494 - val_tp: 2640.0000 - val_fp: 19697.0000 - val_tn: 10401.0000 - val_fn: 1562.0000 - val_accuracy: 0.3802 - val_precision: 0.1182 - val_recall: 0.6283 - val_auc: 0.4885\n",
            "Epoch 11/100\n",
            "79/79 [==============================] - 1s 14ms/step - loss: 0.7012 - tp: 4109.5500 - fp: 6436.2875 - tn: 45323.7875 - fn: 27003.9750 - accuracy: 0.5903 - precision: 0.3882 - recall: 0.1556 - auc: 0.5068 - val_loss: 0.7341 - val_tp: 2419.0000 - val_fp: 17558.0000 - val_tn: 12540.0000 - val_fn: 1783.0000 - val_accuracy: 0.4361 - val_precision: 0.1211 - val_recall: 0.5757 - val_auc: 0.4913\n",
            "Epoch 12/100\n",
            "79/79 [==============================] - 1s 14ms/step - loss: 0.6782 - tp: 2184.1000 - fp: 3430.0750 - tn: 48394.1125 - fn: 28865.3125 - accuracy: 0.6126 - precision: 0.3875 - recall: 0.0604 - auc: 0.5146 - val_loss: 0.7202 - val_tp: 2232.0000 - val_fp: 15591.0000 - val_tn: 14507.0000 - val_fn: 1970.0000 - val_accuracy: 0.4880 - val_precision: 0.1252 - val_recall: 0.5312 - val_auc: 0.4935\n",
            "Epoch 13/100\n",
            "79/79 [==============================] - 1s 14ms/step - loss: 0.6833 - tp: 2947.6500 - fp: 4624.6625 - tn: 47141.6375 - fn: 28159.6500 - accuracy: 0.6075 - precision: 0.4001 - recall: 0.0847 - auc: 0.5114 - val_loss: 0.7075 - val_tp: 2068.0000 - val_fp: 13861.0000 - val_tn: 16237.0000 - val_fn: 2134.0000 - val_accuracy: 0.5337 - val_precision: 0.1298 - val_recall: 0.4921 - val_auc: 0.4953\n",
            "Epoch 14/100\n",
            "79/79 [==============================] - 1s 14ms/step - loss: 0.6859 - tp: 2803.8875 - fp: 4400.8500 - tn: 47456.6500 - fn: 28212.2125 - accuracy: 0.6027 - precision: 0.3866 - recall: 0.1021 - auc: 0.5070 - val_loss: 0.6956 - val_tp: 1913.0000 - val_fp: 12520.0000 - val_tn: 17578.0000 - val_fn: 2289.0000 - val_accuracy: 0.5683 - val_precision: 0.1325 - val_recall: 0.4553 - val_auc: 0.4972\n",
            "Epoch 15/100\n",
            "79/79 [==============================] - 1s 14ms/step - loss: 0.6840 - tp: 3640.1250 - fp: 5745.2500 - tn: 46010.2625 - fn: 27477.9625 - accuracy: 0.6039 - precision: 0.3923 - recall: 0.1037 - auc: 0.5071 - val_loss: 0.6852 - val_tp: 1771.0000 - val_fp: 11505.0000 - val_tn: 18593.0000 - val_fn: 2431.0000 - val_accuracy: 0.5937 - val_precision: 0.1334 - val_recall: 0.4215 - val_auc: 0.4984\n",
            "Epoch 16/100\n",
            "79/79 [==============================] - 1s 13ms/step - loss: 0.6762 - tp: 2200.0500 - fp: 3322.2125 - tn: 48491.4750 - fn: 28859.8625 - accuracy: 0.6104 - precision: 0.3979 - recall: 0.0773 - auc: 0.5119 - val_loss: 0.6753 - val_tp: 1618.0000 - val_fp: 10654.0000 - val_tn: 19444.0000 - val_fn: 2584.0000 - val_accuracy: 0.6141 - val_precision: 0.1318 - val_recall: 0.3851 - val_auc: 0.5001\n",
            "Epoch 17/100\n",
            "79/79 [==============================] - 1s 14ms/step - loss: 0.6761 - tp: 1789.7500 - fp: 2776.3625 - tn: 48971.0250 - fn: 29336.4625 - accuracy: 0.6078 - precision: 0.3894 - recall: 0.0750 - auc: 0.5138 - val_loss: 0.6664 - val_tp: 1482.0000 - val_fp: 9997.0000 - val_tn: 20101.0000 - val_fn: 2720.0000 - val_accuracy: 0.6292 - val_precision: 0.1291 - val_recall: 0.3527 - val_auc: 0.5014\n",
            "Epoch 18/100\n",
            "79/79 [==============================] - 1s 14ms/step - loss: 0.6846 - tp: 2220.6250 - fp: 3364.3000 - tn: 48432.1125 - fn: 28856.5625 - accuracy: 0.6085 - precision: 0.4035 - recall: 0.0810 - auc: 0.5094 - val_loss: 0.6583 - val_tp: 1383.0000 - val_fp: 9398.0000 - val_tn: 20700.0000 - val_fn: 2819.0000 - val_accuracy: 0.6438 - val_precision: 0.1283 - val_recall: 0.3291 - val_auc: 0.5029\n",
            "Epoch 19/100\n",
            "79/79 [==============================] - 1s 15ms/step - loss: 0.6725 - tp: 2051.9125 - fp: 2962.7750 - tn: 48729.6250 - fn: 29129.2875 - accuracy: 0.6119 - precision: 0.4065 - recall: 0.0669 - auc: 0.5128 - val_loss: 0.6506 - val_tp: 1281.0000 - val_fp: 8792.0000 - val_tn: 21306.0000 - val_fn: 2921.0000 - val_accuracy: 0.6585 - val_precision: 0.1272 - val_recall: 0.3049 - val_auc: 0.5044\n",
            "Epoch 20/100\n",
            "79/79 [==============================] - 1s 14ms/step - loss: 0.6876 - tp: 2728.1125 - fp: 4289.3375 - tn: 47485.4875 - fn: 28370.6625 - accuracy: 0.6020 - precision: 0.3830 - recall: 0.0999 - auc: 0.5073 - val_loss: 0.6438 - val_tp: 1188.0000 - val_fp: 8252.0000 - val_tn: 21846.0000 - val_fn: 3014.0000 - val_accuracy: 0.6715 - val_precision: 0.1258 - val_recall: 0.2827 - val_auc: 0.5063\n",
            "Epoch 21/100\n",
            "79/79 [==============================] - 1s 13ms/step - loss: 0.6661 - tp: 644.1500 - fp: 896.6000 - tn: 50935.4000 - fn: 30397.4500 - accuracy: 0.6228 - precision: 0.4196 - recall: 0.0208 - auc: 0.5169 - val_loss: 0.6371 - val_tp: 1108.0000 - val_fp: 7728.0000 - val_tn: 22370.0000 - val_fn: 3094.0000 - val_accuracy: 0.6845 - val_precision: 0.1254 - val_recall: 0.2637 - val_auc: 0.5081\n",
            "Epoch 22/100\n",
            "79/79 [==============================] - 1s 14ms/step - loss: 0.6805 - tp: 3567.5000 - fp: 5458.3750 - tn: 46368.2000 - fn: 27479.5250 - accuracy: 0.6043 - precision: 0.4015 - recall: 0.1088 - auc: 0.5125 - val_loss: 0.6314 - val_tp: 1049.0000 - val_fp: 7236.0000 - val_tn: 22862.0000 - val_fn: 3153.0000 - val_accuracy: 0.6971 - val_precision: 0.1266 - val_recall: 0.2496 - val_auc: 0.5096\n",
            "Epoch 23/100\n",
            "79/79 [==============================] - 1s 14ms/step - loss: 0.6807 - tp: 3304.1625 - fp: 5111.6000 - tn: 46646.0250 - fn: 27811.8125 - accuracy: 0.6045 - precision: 0.3913 - recall: 0.1034 - auc: 0.5114 - val_loss: 0.6263 - val_tp: 1001.0000 - val_fp: 6767.0000 - val_tn: 23331.0000 - val_fn: 3201.0000 - val_accuracy: 0.7094 - val_precision: 0.1289 - val_recall: 0.2382 - val_auc: 0.5112\n",
            "Epoch 24/100\n",
            "79/79 [==============================] - 1s 13ms/step - loss: 0.6770 - tp: 2634.4375 - fp: 4080.1625 - tn: 47756.8375 - fn: 28402.1625 - accuracy: 0.6075 - precision: 0.3887 - recall: 0.0832 - auc: 0.5087 - val_loss: 0.6217 - val_tp: 925.0000 - val_fp: 6324.0000 - val_tn: 23774.0000 - val_fn: 3277.0000 - val_accuracy: 0.7201 - val_precision: 0.1276 - val_recall: 0.2201 - val_auc: 0.5124\n",
            "Epoch 25/100\n",
            "79/79 [==============================] - 1s 13ms/step - loss: 0.6804 - tp: 2649.1000 - fp: 3995.6625 - tn: 47931.0000 - fn: 28297.8375 - accuracy: 0.6104 - precision: 0.4053 - recall: 0.0921 - auc: 0.5130 - val_loss: 0.6174 - val_tp: 868.0000 - val_fp: 5898.0000 - val_tn: 24200.0000 - val_fn: 3334.0000 - val_accuracy: 0.7308 - val_precision: 0.1283 - val_recall: 0.2066 - val_auc: 0.5142\n",
            "Epoch 26/100\n",
            "79/79 [==============================] - 1s 13ms/step - loss: 0.6690 - tp: 2099.2125 - fp: 3015.1250 - tn: 48888.7875 - fn: 28870.4750 - accuracy: 0.6163 - precision: 0.4079 - recall: 0.0698 - auc: 0.5191 - val_loss: 0.6135 - val_tp: 807.0000 - val_fp: 5471.0000 - val_tn: 24627.0000 - val_fn: 3395.0000 - val_accuracy: 0.7415 - val_precision: 0.1285 - val_recall: 0.1921 - val_auc: 0.5160\n",
            "Epoch 27/100\n",
            "79/79 [==============================] - 1s 14ms/step - loss: 0.6759 - tp: 3020.9500 - fp: 4434.0625 - tn: 47327.2375 - fn: 28091.3500 - accuracy: 0.6070 - precision: 0.4008 - recall: 0.0964 - auc: 0.5139 - val_loss: 0.6096 - val_tp: 755.0000 - val_fp: 5044.0000 - val_tn: 25054.0000 - val_fn: 3447.0000 - val_accuracy: 0.7524 - val_precision: 0.1302 - val_recall: 0.1797 - val_auc: 0.5179\n",
            "Epoch 28/100\n",
            "79/79 [==============================] - 1s 14ms/step - loss: 0.6871 - tp: 3792.8625 - fp: 5660.9125 - tn: 46032.4750 - fn: 27387.3500 - accuracy: 0.6009 - precision: 0.4062 - recall: 0.1265 - auc: 0.5132 - val_loss: 0.6060 - val_tp: 698.0000 - val_fp: 4648.0000 - val_tn: 25450.0000 - val_fn: 3504.0000 - val_accuracy: 0.7623 - val_precision: 0.1306 - val_recall: 0.1661 - val_auc: 0.5195\n",
            "Epoch 29/100\n",
            "79/79 [==============================] - 1s 14ms/step - loss: 0.6673 - tp: 1252.8500 - fp: 1746.6500 - tn: 50037.8125 - fn: 29836.2875 - accuracy: 0.6188 - precision: 0.4232 - recall: 0.0446 - auc: 0.5180 - val_loss: 0.6026 - val_tp: 651.0000 - val_fp: 4277.0000 - val_tn: 25821.0000 - val_fn: 3551.0000 - val_accuracy: 0.7718 - val_precision: 0.1321 - val_recall: 0.1549 - val_auc: 0.5218\n",
            "Epoch 30/100\n",
            "79/79 [==============================] - 1s 13ms/step - loss: 0.6750 - tp: 2798.8000 - fp: 4291.3125 - tn: 47558.2625 - fn: 28225.2250 - accuracy: 0.6091 - precision: 0.3989 - recall: 0.0879 - auc: 0.5118 - val_loss: 0.5998 - val_tp: 609.0000 - val_fp: 3986.0000 - val_tn: 26112.0000 - val_fn: 3593.0000 - val_accuracy: 0.7790 - val_precision: 0.1325 - val_recall: 0.1449 - val_auc: 0.5237\n",
            "Epoch 31/100\n",
            "79/79 [==============================] - 1s 13ms/step - loss: 0.6704 - tp: 1765.5250 - fp: 2644.6375 - tn: 49168.9125 - fn: 29294.5250 - accuracy: 0.6125 - precision: 0.3938 - recall: 0.0653 - auc: 0.5148 - val_loss: 0.5971 - val_tp: 563.0000 - val_fp: 3666.0000 - val_tn: 26432.0000 - val_fn: 3639.0000 - val_accuracy: 0.7870 - val_precision: 0.1331 - val_recall: 0.1340 - val_auc: 0.5255\n",
            "Epoch 32/100\n",
            "79/79 [==============================] - 1s 14ms/step - loss: 0.6872 - tp: 3015.3000 - fp: 4762.0625 - tn: 46990.2125 - fn: 28106.0250 - accuracy: 0.6014 - precision: 0.3760 - recall: 0.0986 - auc: 0.5088 - val_loss: 0.5947 - val_tp: 527.0000 - val_fp: 3395.0000 - val_tn: 26703.0000 - val_fn: 3675.0000 - val_accuracy: 0.7939 - val_precision: 0.1344 - val_recall: 0.1254 - val_auc: 0.5281\n",
            "Epoch 33/100\n",
            "79/79 [==============================] - 1s 13ms/step - loss: 0.6875 - tp: 3459.2500 - fp: 5257.6750 - tn: 46537.3750 - fn: 27619.3000 - accuracy: 0.5993 - precision: 0.3974 - recall: 0.1339 - auc: 0.5163 - val_loss: 0.5931 - val_tp: 502.0000 - val_fp: 3253.0000 - val_tn: 26845.0000 - val_fn: 3700.0000 - val_accuracy: 0.7973 - val_precision: 0.1337 - val_recall: 0.1195 - val_auc: 0.5306\n",
            "Epoch 34/100\n",
            "79/79 [==============================] - 1s 15ms/step - loss: 0.6650 - tp: 1049.9500 - fp: 1321.2750 - tn: 50481.6125 - fn: 30020.7625 - accuracy: 0.6208 - precision: 0.4438 - recall: 0.0330 - auc: 0.5204 - val_loss: 0.5909 - val_tp: 474.0000 - val_fp: 3058.0000 - val_tn: 27040.0000 - val_fn: 3728.0000 - val_accuracy: 0.8022 - val_precision: 0.1342 - val_recall: 0.1128 - val_auc: 0.5329\n",
            "Epoch 35/100\n",
            "79/79 [==============================] - 1s 13ms/step - loss: 0.6685 - tp: 1908.3750 - fp: 2637.7500 - tn: 49137.2000 - fn: 29190.2750 - accuracy: 0.6159 - precision: 0.4222 - recall: 0.0671 - auc: 0.5198 - val_loss: 0.5888 - val_tp: 460.0000 - val_fp: 2941.0000 - val_tn: 27157.0000 - val_fn: 3742.0000 - val_accuracy: 0.8052 - val_precision: 0.1353 - val_recall: 0.1095 - val_auc: 0.5358\n",
            "Epoch 36/100\n",
            "79/79 [==============================] - 1s 13ms/step - loss: 0.6705 - tp: 2070.4500 - fp: 3064.6625 - tn: 48761.9750 - fn: 28976.5125 - accuracy: 0.6156 - precision: 0.4147 - recall: 0.0650 - auc: 0.5159 - val_loss: 0.5870 - val_tp: 447.0000 - val_fp: 2812.0000 - val_tn: 27286.0000 - val_fn: 3755.0000 - val_accuracy: 0.8085 - val_precision: 0.1372 - val_recall: 0.1064 - val_auc: 0.5381\n",
            "Epoch 37/100\n",
            "79/79 [==============================] - 1s 14ms/step - loss: 0.6662 - tp: 1462.9750 - fp: 1969.8500 - tn: 49814.3250 - fn: 29626.4500 - accuracy: 0.6189 - precision: 0.4197 - recall: 0.0440 - auc: 0.5203 - val_loss: 0.5856 - val_tp: 434.0000 - val_fp: 2734.0000 - val_tn: 27364.0000 - val_fn: 3768.0000 - val_accuracy: 0.8104 - val_precision: 0.1370 - val_recall: 0.1033 - val_auc: 0.5405\n",
            "Epoch 38/100\n",
            "79/79 [==============================] - 1s 13ms/step - loss: 0.6737 - tp: 2435.8500 - fp: 3543.2875 - tn: 48249.4250 - fn: 28645.0375 - accuracy: 0.6099 - precision: 0.4056 - recall: 0.0869 - auc: 0.5140 - val_loss: 0.5841 - val_tp: 427.0000 - val_fp: 2664.0000 - val_tn: 27434.0000 - val_fn: 3775.0000 - val_accuracy: 0.8123 - val_precision: 0.1381 - val_recall: 0.1016 - val_auc: 0.5435\n",
            "Epoch 39/100\n",
            "79/79 [==============================] - 1s 13ms/step - loss: 0.6800 - tp: 3396.2750 - fp: 5062.2875 - tn: 46781.2500 - fn: 27633.7875 - accuracy: 0.6047 - precision: 0.4055 - recall: 0.1108 - auc: 0.5149 - val_loss: 0.5826 - val_tp: 418.0000 - val_fp: 2605.0000 - val_tn: 27493.0000 - val_fn: 3784.0000 - val_accuracy: 0.8137 - val_precision: 0.1383 - val_recall: 0.0995 - val_auc: 0.5470\n",
            "Epoch 40/100\n",
            "79/79 [==============================] - 1s 13ms/step - loss: 0.6634 - tp: 1271.1625 - fp: 1820.6750 - tn: 50003.6750 - fn: 29778.0875 - accuracy: 0.6207 - precision: 0.4330 - recall: 0.0309 - auc: 0.5283 - val_loss: 0.5816 - val_tp: 414.0000 - val_fp: 2584.0000 - val_tn: 27514.0000 - val_fn: 3788.0000 - val_accuracy: 0.8142 - val_precision: 0.1381 - val_recall: 0.0985 - val_auc: 0.5503\n",
            "Epoch 41/100\n",
            "79/79 [==============================] - 1s 13ms/step - loss: 0.6677 - tp: 1077.4250 - fp: 1492.9500 - tn: 50335.5250 - fn: 29967.7000 - accuracy: 0.6195 - precision: 0.4153 - recall: 0.0441 - auc: 0.5260 - val_loss: 0.5809 - val_tp: 411.0000 - val_fp: 2574.0000 - val_tn: 27524.0000 - val_fn: 3791.0000 - val_accuracy: 0.8144 - val_precision: 0.1377 - val_recall: 0.0978 - val_auc: 0.5537\n",
            "Epoch 42/100\n",
            "79/79 [==============================] - 1s 14ms/step - loss: 0.6679 - tp: 1560.7250 - fp: 2158.3625 - tn: 49608.9625 - fn: 29545.5500 - accuracy: 0.6171 - precision: 0.4227 - recall: 0.0534 - auc: 0.5209 - val_loss: 0.5799 - val_tp: 409.0000 - val_fp: 2539.0000 - val_tn: 27559.0000 - val_fn: 3793.0000 - val_accuracy: 0.8154 - val_precision: 0.1387 - val_recall: 0.0973 - val_auc: 0.5578\n",
            "Epoch 43/100\n",
            "79/79 [==============================] - 1s 15ms/step - loss: 0.6691 - tp: 1953.9375 - fp: 2714.6500 - tn: 49066.5625 - fn: 29138.4500 - accuracy: 0.6161 - precision: 0.4223 - recall: 0.0654 - auc: 0.5221 - val_loss: 0.5791 - val_tp: 413.0000 - val_fp: 2516.0000 - val_tn: 27582.0000 - val_fn: 3789.0000 - val_accuracy: 0.8162 - val_precision: 0.1410 - val_recall: 0.0983 - val_auc: 0.5622\n",
            "Epoch 44/100\n",
            "79/79 [==============================] - 1s 14ms/step - loss: 0.6619 - tp: 1330.5250 - fp: 1736.0500 - tn: 50177.4625 - fn: 29629.5625 - accuracy: 0.6229 - precision: 0.4428 - recall: 0.0367 - auc: 0.5290 - val_loss: 0.5785 - val_tp: 417.0000 - val_fp: 2528.0000 - val_tn: 27570.0000 - val_fn: 3785.0000 - val_accuracy: 0.8159 - val_precision: 0.1416 - val_recall: 0.0992 - val_auc: 0.5671\n",
            "Epoch 45/100\n",
            "79/79 [==============================] - 1s 13ms/step - loss: 0.6702 - tp: 2097.4500 - fp: 3067.9125 - tn: 48771.3125 - fn: 28936.9250 - accuracy: 0.6173 - precision: 0.4312 - recall: 0.0535 - auc: 0.5241 - val_loss: 0.5778 - val_tp: 428.0000 - val_fp: 2536.0000 - val_tn: 27562.0000 - val_fn: 3774.0000 - val_accuracy: 0.8160 - val_precision: 0.1444 - val_recall: 0.1019 - val_auc: 0.5719\n",
            "Epoch 46/100\n",
            "79/79 [==============================] - 1s 14ms/step - loss: 0.6657 - tp: 1674.1000 - fp: 2296.7625 - tn: 49371.1875 - fn: 29531.5500 - accuracy: 0.6160 - precision: 0.4305 - recall: 0.0483 - auc: 0.5284 - val_loss: 0.5773 - val_tp: 429.0000 - val_fp: 2557.0000 - val_tn: 27541.0000 - val_fn: 3773.0000 - val_accuracy: 0.8155 - val_precision: 0.1437 - val_recall: 0.1021 - val_auc: 0.5779\n",
            "Epoch 47/100\n",
            "79/79 [==============================] - 1s 15ms/step - loss: 0.6783 - tp: 2472.3875 - fp: 3667.5750 - tn: 48119.8750 - fn: 28613.7625 - accuracy: 0.6050 - precision: 0.3982 - recall: 0.0979 - auc: 0.5221 - val_loss: 0.5769 - val_tp: 437.0000 - val_fp: 2544.0000 - val_tn: 27554.0000 - val_fn: 3765.0000 - val_accuracy: 0.8161 - val_precision: 0.1466 - val_recall: 0.1040 - val_auc: 0.5836\n",
            "Epoch 48/100\n",
            "79/79 [==============================] - 1s 15ms/step - loss: 0.6615 - tp: 862.6250 - fp: 1077.0750 - tn: 50640.8625 - fn: 30293.0375 - accuracy: 0.6205 - precision: 0.4539 - recall: 0.0248 - auc: 0.5353 - val_loss: 0.5771 - val_tp: 465.0000 - val_fp: 2626.0000 - val_tn: 27472.0000 - val_fn: 3737.0000 - val_accuracy: 0.8145 - val_precision: 0.1504 - val_recall: 0.1107 - val_auc: 0.5912\n",
            "Epoch 49/100\n",
            "79/79 [==============================] - 1s 15ms/step - loss: 0.6645 - tp: 1912.6125 - fp: 2576.0250 - tn: 49275.9875 - fn: 29108.9750 - accuracy: 0.6195 - precision: 0.4367 - recall: 0.0546 - auc: 0.5320 - val_loss: 0.5776 - val_tp: 537.0000 - val_fp: 2781.0000 - val_tn: 27317.0000 - val_fn: 3665.0000 - val_accuracy: 0.8121 - val_precision: 0.1618 - val_recall: 0.1278 - val_auc: 0.6011\n",
            "Epoch 50/100\n",
            "79/79 [==============================] - 1s 14ms/step - loss: 0.6704 - tp: 2540.2500 - fp: 3604.2750 - tn: 48184.0375 - fn: 28545.0375 - accuracy: 0.6103 - precision: 0.4119 - recall: 0.0847 - auc: 0.5195 - val_loss: 0.5775 - val_tp: 613.0000 - val_fp: 2989.0000 - val_tn: 27109.0000 - val_fn: 3589.0000 - val_accuracy: 0.8082 - val_precision: 0.1702 - val_recall: 0.1459 - val_auc: 0.6120\n",
            "Epoch 51/100\n",
            "79/79 [==============================] - 1s 14ms/step - loss: 0.6625 - tp: 1136.0000 - fp: 1493.3500 - tn: 50308.9500 - fn: 29935.3000 - accuracy: 0.6202 - precision: 0.4304 - recall: 0.0401 - auc: 0.5340 - val_loss: 0.5787 - val_tp: 753.0000 - val_fp: 3357.0000 - val_tn: 26741.0000 - val_fn: 3449.0000 - val_accuracy: 0.8016 - val_precision: 0.1832 - val_recall: 0.1792 - val_auc: 0.6250\n",
            "Epoch 52/100\n",
            "79/79 [==============================] - 1s 15ms/step - loss: 0.6596 - tp: 1310.8625 - fp: 1752.9375 - tn: 49976.0250 - fn: 29833.7750 - accuracy: 0.6198 - precision: 0.4408 - recall: 0.0392 - auc: 0.5437 - val_loss: 0.5799 - val_tp: 879.0000 - val_fp: 3747.0000 - val_tn: 26351.0000 - val_fn: 3323.0000 - val_accuracy: 0.7939 - val_precision: 0.1900 - val_recall: 0.2092 - val_auc: 0.6389\n",
            "Epoch 53/100\n",
            "79/79 [==============================] - 1s 14ms/step - loss: 0.6623 - tp: 1640.8375 - fp: 2095.3000 - tn: 49743.8500 - fn: 29393.6125 - accuracy: 0.6211 - precision: 0.4472 - recall: 0.0516 - auc: 0.5377 - val_loss: 0.5819 - val_tp: 1100.0000 - val_fp: 4215.0000 - val_tn: 25883.0000 - val_fn: 3102.0000 - val_accuracy: 0.7867 - val_precision: 0.2070 - val_recall: 0.2618 - val_auc: 0.6563\n",
            "Epoch 54/100\n",
            "79/79 [==============================] - 1s 14ms/step - loss: 0.6730 - tp: 3424.7375 - fp: 4939.3375 - tn: 46779.9750 - fn: 27729.5500 - accuracy: 0.6057 - precision: 0.4148 - recall: 0.1079 - auc: 0.5371 - val_loss: 0.5838 - val_tp: 1282.0000 - val_fp: 4591.0000 - val_tn: 25507.0000 - val_fn: 2920.0000 - val_accuracy: 0.7810 - val_precision: 0.2183 - val_recall: 0.3051 - val_auc: 0.6767\n",
            "Epoch 55/100\n",
            "79/79 [==============================] - 1s 14ms/step - loss: 0.6580 - tp: 1177.8750 - fp: 1517.6375 - tn: 50251.1125 - fn: 29926.9750 - accuracy: 0.6197 - precision: 0.4351 - recall: 0.0495 - auc: 0.5439 - val_loss: 0.5863 - val_tp: 1446.0000 - val_fp: 4867.0000 - val_tn: 25231.0000 - val_fn: 2756.0000 - val_accuracy: 0.7778 - val_precision: 0.2291 - val_recall: 0.3441 - val_auc: 0.6909\n",
            "Epoch 56/100\n",
            "79/79 [==============================] - 1s 15ms/step - loss: 0.6577 - tp: 1352.6625 - fp: 1643.0625 - tn: 50160.9125 - fn: 29716.9625 - accuracy: 0.6218 - precision: 0.4529 - recall: 0.0454 - auc: 0.5486 - val_loss: 0.5899 - val_tp: 1608.0000 - val_fp: 5306.0000 - val_tn: 24792.0000 - val_fn: 2594.0000 - val_accuracy: 0.7697 - val_precision: 0.2326 - val_recall: 0.3827 - val_auc: 0.7028\n",
            "Epoch 57/100\n",
            "79/79 [==============================] - 1s 14ms/step - loss: 0.8591 - tp: 3007.3250 - fp: 4439.9125 - tn: 47382.4125 - fn: 28043.9500 - accuracy: 0.6098 - precision: 0.4156 - recall: 0.0885 - auc: 0.5379 - val_loss: 0.6060 - val_tp: 2280.0000 - val_fp: 6739.0000 - val_tn: 23359.0000 - val_fn: 1922.0000 - val_accuracy: 0.7475 - val_precision: 0.2528 - val_recall: 0.5426 - val_auc: 0.7437\n",
            "Epoch 58/100\n",
            "79/79 [==============================] - 1s 14ms/step - loss: 0.6648 - tp: 231.9625 - fp: 315.5625 - tn: 51583.2000 - fn: 30742.8750 - accuracy: 0.6258 - precision: 0.4231 - recall: 0.0085 - auc: 0.5003 - val_loss: 0.5955 - val_tp: 2053.0000 - val_fp: 5896.0000 - val_tn: 24202.0000 - val_fn: 2149.0000 - val_accuracy: 0.7655 - val_precision: 0.2583 - val_recall: 0.4886 - val_auc: 0.7436\n",
            "Epoch 59/100\n",
            "79/79 [==============================] - 1s 16ms/step - loss: 0.6665 - tp: 729.5125 - fp: 1023.6000 - tn: 50713.5125 - fn: 30406.9750 - accuracy: 0.6202 - precision: 0.4182 - recall: 0.0201 - auc: 0.5043 - val_loss: 0.5897 - val_tp: 1966.0000 - val_fp: 5604.0000 - val_tn: 24494.0000 - val_fn: 2236.0000 - val_accuracy: 0.7714 - val_precision: 0.2597 - val_recall: 0.4679 - val_auc: 0.7453\n",
            "Epoch 60/100\n",
            "79/79 [==============================] - 1s 16ms/step - loss: 0.6665 - tp: 731.6625 - fp: 1086.0375 - tn: 50734.2625 - fn: 30321.6375 - accuracy: 0.6205 - precision: 0.3953 - recall: 0.0226 - auc: 0.5039 - val_loss: 0.5858 - val_tp: 1918.0000 - val_fp: 5471.0000 - val_tn: 24627.0000 - val_fn: 2284.0000 - val_accuracy: 0.7739 - val_precision: 0.2596 - val_recall: 0.4564 - val_auc: 0.7472\n",
            "Epoch 61/100\n",
            "79/79 [==============================] - 1s 16ms/step - loss: 0.6669 - tp: 1195.0875 - fp: 1693.3000 - tn: 50113.5250 - fn: 29871.6875 - accuracy: 0.6194 - precision: 0.4202 - recall: 0.0388 - auc: 0.5050 - val_loss: 0.5822 - val_tp: 1888.0000 - val_fp: 5353.0000 - val_tn: 24745.0000 - val_fn: 2314.0000 - val_accuracy: 0.7765 - val_precision: 0.2607 - val_recall: 0.4493 - val_auc: 0.7493\n",
            "Epoch 62/100\n",
            "79/79 [==============================] - 1s 16ms/step - loss: 0.6653 - tp: 777.6000 - fp: 1113.9625 - tn: 50743.7875 - fn: 30238.2500 - accuracy: 0.6219 - precision: 0.3957 - recall: 0.0252 - auc: 0.5055 - val_loss: 0.5796 - val_tp: 1875.0000 - val_fp: 5288.0000 - val_tn: 24810.0000 - val_fn: 2327.0000 - val_accuracy: 0.7780 - val_precision: 0.2618 - val_recall: 0.4462 - val_auc: 0.7515\n",
            "Epoch 63/100\n",
            "79/79 [==============================] - 1s 15ms/step - loss: 0.6622 - tp: 270.7375 - fp: 303.8375 - tn: 51602.5125 - fn: 30696.5125 - accuracy: 0.6258 - precision: 0.4921 - recall: 0.0082 - auc: 0.5055 - val_loss: 0.5778 - val_tp: 1872.0000 - val_fp: 5275.0000 - val_tn: 24823.0000 - val_fn: 2330.0000 - val_accuracy: 0.7783 - val_precision: 0.2619 - val_recall: 0.4455 - val_auc: 0.7537\n",
            "Epoch 64/100\n",
            "79/79 [==============================] - 1s 16ms/step - loss: 0.6695 - tp: 1315.0875 - fp: 2073.2375 - tn: 49639.2250 - fn: 29846.0500 - accuracy: 0.6110 - precision: 0.3846 - recall: 0.0499 - auc: 0.5049 - val_loss: 0.5768 - val_tp: 1890.0000 - val_fp: 5320.0000 - val_tn: 24778.0000 - val_fn: 2312.0000 - val_accuracy: 0.7775 - val_precision: 0.2621 - val_recall: 0.4498 - val_auc: 0.7561\n",
            "Epoch 65/100\n",
            "79/79 [==============================] - 1s 14ms/step - loss: 0.6630 - tp: 411.9500 - fp: 550.0375 - tn: 51256.2000 - fn: 30655.4125 - accuracy: 0.6237 - precision: 0.4166 - recall: 0.0111 - auc: 0.5076 - val_loss: 0.5758 - val_tp: 1909.0000 - val_fp: 5362.0000 - val_tn: 24736.0000 - val_fn: 2293.0000 - val_accuracy: 0.7768 - val_precision: 0.2625 - val_recall: 0.4543 - val_auc: 0.7582\n",
            "Epoch 66/100\n",
            "79/79 [==============================] - 1s 13ms/step - loss: 0.6621 - tp: 626.9250 - fp: 830.2500 - tn: 50958.3875 - fn: 30458.0375 - accuracy: 0.6223 - precision: 0.4255 - recall: 0.0156 - auc: 0.5195 - val_loss: 0.5753 - val_tp: 1946.0000 - val_fp: 5439.0000 - val_tn: 24659.0000 - val_fn: 2256.0000 - val_accuracy: 0.7757 - val_precision: 0.2635 - val_recall: 0.4631 - val_auc: 0.7609\n",
            "Epoch 67/100\n",
            "79/79 [==============================] - 1s 14ms/step - loss: 0.6618 - tp: 526.1750 - fp: 618.3625 - tn: 51093.0125 - fn: 30636.0500 - accuracy: 0.6227 - precision: 0.4751 - recall: 0.0148 - auc: 0.5253 - val_loss: 0.5746 - val_tp: 1981.0000 - val_fp: 5509.0000 - val_tn: 24589.0000 - val_fn: 2221.0000 - val_accuracy: 0.7746 - val_precision: 0.2645 - val_recall: 0.4714 - val_auc: 0.7634\n",
            "Epoch 68/100\n",
            "79/79 [==============================] - 1s 13ms/step - loss: 0.6605 - tp: 569.8250 - fp: 647.4375 - tn: 51134.6000 - fn: 30521.7375 - accuracy: 0.6238 - precision: 0.4787 - recall: 0.0201 - auc: 0.5263 - val_loss: 0.5744 - val_tp: 2024.0000 - val_fp: 5670.0000 - val_tn: 24428.0000 - val_fn: 2178.0000 - val_accuracy: 0.7712 - val_precision: 0.2631 - val_recall: 0.4817 - val_auc: 0.7668\n",
            "Epoch 69/100\n",
            "79/79 [==============================] - 1s 14ms/step - loss: 0.6629 - tp: 1354.9625 - fp: 1715.1375 - tn: 50112.2000 - fn: 29691.3000 - accuracy: 0.6208 - precision: 0.4391 - recall: 0.0486 - auc: 0.5233 - val_loss: 0.5737 - val_tp: 2078.0000 - val_fp: 5837.0000 - val_tn: 24261.0000 - val_fn: 2124.0000 - val_accuracy: 0.7679 - val_precision: 0.2625 - val_recall: 0.4945 - val_auc: 0.7707\n",
            "Epoch 70/100\n",
            "79/79 [==============================] - 1s 14ms/step - loss: 0.6578 - tp: 788.9000 - fp: 862.4500 - tn: 50940.1750 - fn: 30282.0750 - accuracy: 0.6249 - precision: 0.4993 - recall: 0.0245 - auc: 0.5365 - val_loss: 0.5739 - val_tp: 2181.0000 - val_fp: 6117.0000 - val_tn: 23981.0000 - val_fn: 2021.0000 - val_accuracy: 0.7627 - val_precision: 0.2628 - val_recall: 0.5190 - val_auc: 0.7746\n",
            "Epoch 71/100\n",
            "79/79 [==============================] - 1s 14ms/step - loss: 0.6585 - tp: 847.5625 - fp: 921.1250 - tn: 50825.0500 - fn: 30279.8625 - accuracy: 0.6230 - precision: 0.4790 - recall: 0.0300 - auc: 0.5366 - val_loss: 0.5751 - val_tp: 2331.0000 - val_fp: 6592.0000 - val_tn: 23506.0000 - val_fn: 1871.0000 - val_accuracy: 0.7533 - val_precision: 0.2612 - val_recall: 0.5547 - val_auc: 0.7793\n",
            "Epoch 72/100\n",
            "79/79 [==============================] - 1s 14ms/step - loss: 0.6546 - tp: 922.0125 - fp: 914.7250 - tn: 50930.7250 - fn: 30106.1375 - accuracy: 0.6267 - precision: 0.5115 - recall: 0.0284 - auc: 0.5404 - val_loss: 0.5763 - val_tp: 2480.0000 - val_fp: 7054.0000 - val_tn: 23044.0000 - val_fn: 1722.0000 - val_accuracy: 0.7441 - val_precision: 0.2601 - val_recall: 0.5902 - val_auc: 0.7831\n",
            "Epoch 73/100\n",
            "79/79 [==============================] - 1s 14ms/step - loss: 0.6595 - tp: 1024.6625 - fp: 1257.4625 - tn: 50549.2625 - fn: 30042.2125 - accuracy: 0.6217 - precision: 0.4552 - recall: 0.0420 - auc: 0.5274 - val_loss: 0.5832 - val_tp: 2737.0000 - val_fp: 7780.0000 - val_tn: 22318.0000 - val_fn: 1465.0000 - val_accuracy: 0.7305 - val_precision: 0.2602 - val_recall: 0.6514 - val_auc: 0.7860\n",
            "Epoch 74/100\n",
            "79/79 [==============================] - 1s 14ms/step - loss: 0.6591 - tp: 994.2875 - fp: 1321.4625 - tn: 50521.0125 - fn: 30036.8375 - accuracy: 0.6220 - precision: 0.4260 - recall: 0.0292 - auc: 0.5214 - val_loss: 0.5908 - val_tp: 2965.0000 - val_fp: 8481.0000 - val_tn: 21617.0000 - val_fn: 1237.0000 - val_accuracy: 0.7167 - val_precision: 0.2590 - val_recall: 0.7056 - val_auc: 0.7885\n",
            "Epoch 75/100\n",
            "79/79 [==============================] - 1s 14ms/step - loss: 0.6568 - tp: 859.1000 - fp: 1117.5000 - tn: 50749.7375 - fn: 30147.2625 - accuracy: 0.6233 - precision: 0.4365 - recall: 0.0329 - auc: 0.5207 - val_loss: 0.5972 - val_tp: 3157.0000 - val_fp: 9040.0000 - val_tn: 21058.0000 - val_fn: 1045.0000 - val_accuracy: 0.7060 - val_precision: 0.2588 - val_recall: 0.7513 - val_auc: 0.7905\n",
            "Epoch 76/100\n",
            "79/79 [==============================] - 1s 14ms/step - loss: 0.6564 - tp: 538.6125 - fp: 657.4000 - tn: 51127.8000 - fn: 30549.7875 - accuracy: 0.6232 - precision: 0.4525 - recall: 0.0255 - auc: 0.5248 - val_loss: 0.6037 - val_tp: 3316.0000 - val_fp: 9543.0000 - val_tn: 20555.0000 - val_fn: 886.0000 - val_accuracy: 0.6959 - val_precision: 0.2579 - val_recall: 0.7891 - val_auc: 0.7922\n",
            "Epoch 77/100\n",
            "79/79 [==============================] - 1s 14ms/step - loss: 0.6585 - tp: 1553.5000 - fp: 2183.2250 - tn: 49663.1500 - fn: 29473.7250 - accuracy: 0.6188 - precision: 0.4218 - recall: 0.0514 - auc: 0.5225 - val_loss: 0.6089 - val_tp: 3443.0000 - val_fp: 9931.0000 - val_tn: 20167.0000 - val_fn: 759.0000 - val_accuracy: 0.6883 - val_precision: 0.2574 - val_recall: 0.8194 - val_auc: 0.7936\n",
            "Epoch 78/100\n",
            "79/79 [==============================] - 1s 14ms/step - loss: 0.6535 - tp: 129.5250 - fp: 127.6000 - tn: 51665.5875 - fn: 30950.8875 - accuracy: 0.6255 - precision: 0.5058 - recall: 0.0040 - auc: 0.5231 - val_loss: 0.6144 - val_tp: 3554.0000 - val_fp: 10309.0000 - val_tn: 19789.0000 - val_fn: 648.0000 - val_accuracy: 0.6806 - val_precision: 0.2564 - val_recall: 0.8458 - val_auc: 0.7947\n",
            "Epoch 79/100\n",
            "79/79 [==============================] - 1s 15ms/step - loss: 0.6530 - tp: 181.7500 - fp: 161.0625 - tn: 51640.1000 - fn: 30890.6875 - accuracy: 0.6253 - precision: 0.5494 - recall: 0.0058 - auc: 0.5240 - val_loss: 0.6190 - val_tp: 3639.0000 - val_fp: 10604.0000 - val_tn: 19494.0000 - val_fn: 563.0000 - val_accuracy: 0.6744 - val_precision: 0.2555 - val_recall: 0.8660 - val_auc: 0.7957\n",
            "Epoch 80/100\n",
            "79/79 [==============================] - 1s 14ms/step - loss: 0.6523 - tp: 180.5000 - fp: 163.2625 - tn: 51662.6875 - fn: 30867.1500 - accuracy: 0.6253 - precision: 0.5203 - recall: 0.0057 - auc: 0.5252 - val_loss: 0.6236 - val_tp: 3715.0000 - val_fp: 10851.0000 - val_tn: 19247.0000 - val_fn: 487.0000 - val_accuracy: 0.6694 - val_precision: 0.2550 - val_recall: 0.8841 - val_auc: 0.7964\n",
            "Epoch 81/100\n",
            "79/79 [==============================] - 1s 14ms/step - loss: 0.6595 - tp: 823.3125 - fp: 973.3125 - tn: 50860.3750 - fn: 30216.6000 - accuracy: 0.6240 - precision: 0.4716 - recall: 0.0259 - auc: 0.5260 - val_loss: 0.6205 - val_tp: 3579.0000 - val_fp: 10392.0000 - val_tn: 19706.0000 - val_fn: 623.0000 - val_accuracy: 0.6789 - val_precision: 0.2562 - val_recall: 0.8517 - val_auc: 0.7959\n",
            "Epoch 82/100\n",
            "79/79 [==============================] - 1s 14ms/step - loss: 0.6632 - tp: 368.6125 - fp: 429.4500 - tn: 51376.1375 - fn: 30699.4000 - accuracy: 0.6242 - precision: 0.4618 - recall: 0.0130 - auc: 0.5047 - val_loss: 0.6147 - val_tp: 3523.0000 - val_fp: 10173.0000 - val_tn: 19925.0000 - val_fn: 679.0000 - val_accuracy: 0.6836 - val_precision: 0.2572 - val_recall: 0.8384 - val_auc: 0.7958\n",
            "Epoch 83/100\n",
            "79/79 [==============================] - 1s 14ms/step - loss: 0.6624 - tp: 392.2625 - fp: 490.6125 - tn: 51290.5125 - fn: 30700.2125 - accuracy: 0.6238 - precision: 0.4355 - recall: 0.0156 - auc: 0.5048 - val_loss: 0.6123 - val_tp: 3496.0000 - val_fp: 10075.0000 - val_tn: 20023.0000 - val_fn: 706.0000 - val_accuracy: 0.6857 - val_precision: 0.2576 - val_recall: 0.8320 - val_auc: 0.7957\n",
            "Epoch 84/100\n",
            "79/79 [==============================] - 1s 14ms/step - loss: 0.6659 - tp: 786.7875 - fp: 1072.7625 - tn: 50811.6000 - fn: 30202.4500 - accuracy: 0.6217 - precision: 0.4087 - recall: 0.0236 - auc: 0.5024 - val_loss: 0.6101 - val_tp: 3485.0000 - val_fp: 9984.0000 - val_tn: 20114.0000 - val_fn: 717.0000 - val_accuracy: 0.6880 - val_precision: 0.2587 - val_recall: 0.8294 - val_auc: 0.7956\n",
            "Epoch 85/100\n",
            "79/79 [==============================] - 1s 15ms/step - loss: 0.6608 - tp: 422.8125 - fp: 425.0000 - tn: 51394.7875 - fn: 30631.0000 - accuracy: 0.6260 - precision: 0.5271 - recall: 0.0103 - auc: 0.5081 - val_loss: 0.6070 - val_tp: 3461.0000 - val_fp: 9874.0000 - val_tn: 20224.0000 - val_fn: 741.0000 - val_accuracy: 0.6905 - val_precision: 0.2595 - val_recall: 0.8237 - val_auc: 0.7956\n",
            "Epoch 86/100\n",
            "79/79 [==============================] - 1s 14ms/step - loss: 0.6623 - tp: 309.0500 - fp: 287.2000 - tn: 51476.3625 - fn: 30800.9875 - accuracy: 0.6248 - precision: 0.5385 - recall: 0.0094 - auc: 0.5050 - val_loss: 0.6074 - val_tp: 3463.0000 - val_fp: 9877.0000 - val_tn: 20221.0000 - val_fn: 739.0000 - val_accuracy: 0.6905 - val_precision: 0.2596 - val_recall: 0.8241 - val_auc: 0.7956\n",
            "Epoch 87/100\n",
            "79/79 [==============================] - 1s 13ms/step - loss: 0.6650 - tp: 591.6750 - fp: 632.5750 - tn: 51126.8375 - fn: 30522.5125 - accuracy: 0.6241 - precision: 0.4879 - recall: 0.0203 - auc: 0.5016 - val_loss: 0.6066 - val_tp: 3450.0000 - val_fp: 9817.0000 - val_tn: 20281.0000 - val_fn: 752.0000 - val_accuracy: 0.6919 - val_precision: 0.2600 - val_recall: 0.8210 - val_auc: 0.7956\n",
            "Epoch 88/100\n",
            "79/79 [==============================] - 1s 14ms/step - loss: 0.6626 - tp: 291.1250 - fp: 325.6500 - tn: 51434.4500 - fn: 30822.3750 - accuracy: 0.6242 - precision: 0.4946 - recall: 0.0087 - auc: 0.5016 - val_loss: 0.6077 - val_tp: 3466.0000 - val_fp: 9876.0000 - val_tn: 20222.0000 - val_fn: 736.0000 - val_accuracy: 0.6906 - val_precision: 0.2598 - val_recall: 0.8248 - val_auc: 0.7956\n",
            "Epoch 89/100\n",
            "79/79 [==============================] - 1s 14ms/step - loss: 0.6615 - tp: 220.3125 - fp: 219.6500 - tn: 51563.8625 - fn: 30869.7750 - accuracy: 0.6252 - precision: 0.5551 - recall: 0.0060 - auc: 0.5053 - val_loss: 0.6076 - val_tp: 3459.0000 - val_fp: 9857.0000 - val_tn: 20241.0000 - val_fn: 743.0000 - val_accuracy: 0.6910 - val_precision: 0.2598 - val_recall: 0.8232 - val_auc: 0.7953\n",
            "Epoch 90/100\n",
            "79/79 [==============================] - 1s 14ms/step - loss: 0.6609 - tp: 244.4500 - fp: 238.6625 - tn: 51564.2000 - fn: 30826.2875 - accuracy: 0.6257 - precision: 0.5190 - recall: 0.0069 - auc: 0.5061 - val_loss: 0.6079 - val_tp: 3461.0000 - val_fp: 9850.0000 - val_tn: 20248.0000 - val_fn: 741.0000 - val_accuracy: 0.6912 - val_precision: 0.2600 - val_recall: 0.8237 - val_auc: 0.7951\n",
            "Restoring model weights from the end of the best epoch.\n",
            "Epoch 00090: early stopping\n"
          ],
          "name": "stdout"
        }
      ]
    },
    {
      "cell_type": "code",
      "metadata": {
        "id": "UZOLasAmdEJB"
      },
      "source": [
        "predictions4 = model4.predict(test_features)"
      ],
      "execution_count": null,
      "outputs": []
    },
    {
      "cell_type": "code",
      "metadata": {
        "id": "RD3YSXKndEJB"
      },
      "source": [
        "predictions4 = sigmoid_to_class(predictions4)"
      ],
      "execution_count": null,
      "outputs": []
    },
    {
      "cell_type": "code",
      "metadata": {
        "colab": {
          "base_uri": "https://localhost:8080/",
          "height": 348
        },
        "id": "ifjPBGC9dEJC",
        "outputId": "c34ce15b-76e7-4892-d831-a061eecd223b"
      },
      "source": [
        "cnf_matrix = confusion_matrix(test_labels, predictions4)\n",
        "np.set_printoptions(precision=2)\n",
        "\n",
        "# Plot non-normalized confusion matrix\n",
        "plt.figure()\n",
        "plot_confusion_matrix(cnf_matrix, classes = ['Negative','Positive'],\n",
        "                      title='Confusion matrix')"
      ],
      "execution_count": null,
      "outputs": [
        {
          "output_type": "stream",
          "text": [
            "Confusion matrix, without normalization\n",
            "[[21283 12134]\n",
            " [  559  4135]]\n"
          ],
          "name": "stdout"
        },
        {
          "output_type": "display_data",
          "data": {
            "image/png": "[encoded data removed]",
            "text/plain": [
              "<Figure size 432x288 with 2 Axes>"
            ]
          },
          "metadata": {
            "tags": [],
            "needs_background": "light"
          }
        }
      ]
    },
    {
      "cell_type": "code",
      "metadata": {
        "colab": {
          "base_uri": "https://localhost:8080/"
        },
        "id": "-NmBiMxHdEJC",
        "outputId": "fccdcabb-a9b0-4c8b-c23a-610c971a6c0b"
      },
      "source": [
        "print('\\nClassification Report\\n')\n",
        "print(classification_report(test_labels, predictions4, target_names=['Negative','Positive']))"
      ],
      "execution_count": null,
      "outputs": [
        {
          "output_type": "stream",
          "text": [
            "\n",
            "Classification Report\n",
            "\n",
            "              precision    recall  f1-score   support\n",
            "\n",
            "    Negative       0.97      0.64      0.77     33417\n",
            "    Positive       0.25      0.88      0.39      4694\n",
            "\n",
            "    accuracy                           0.67     38111\n",
            "   macro avg       0.61      0.76      0.58     38111\n",
            "weighted avg       0.89      0.67      0.72     38111\n",
            "\n"
          ],
          "name": "stdout"
        }
      ]
    },
    {
      "cell_type": "markdown",
      "metadata": {
        "id": "iMhpItN4m52S"
      },
      "source": [
        "The model improves even more. Without sacrifising its accuracy since it is still at 67%, the model finds 88% of the Positive Responses in the test dataset, only missing 559 clients."
      ]
    },
    {
      "cell_type": "markdown",
      "metadata": {
        "id": "f9qZxQ1YomcA"
      },
      "source": [
        "<h3><b> Cost-Sensitive Neural Networks <b><h3>\n",
        "\n",
        "Using resampling on the dataset, definitely improved the model's perfomance but there is room for even more improvement. Resampling is a generic solution when solving machine learning problems on imbalanced datasets. However, another method exists for imbalanced datasets which is Neural Network specific.\n",
        "\n",
        "Neural networks are trained using the backpropagation of error algorithm that involves calculating errors made by the model on the training dataset and updating the model weights in proportion to those errors. The limitation of this method of training is that examples from each class are treated the same, which for imbalanced datasets means that the model is adapted a lot more for one class than another.\n",
        "\n",
        "The backpropagation algorithm can be updated to weigh misclassification errors in proportion to the importance of the class, referred to as weighted neural networks or cost-sensitive neural networks. This has the effect of allowing the model to pay more attention to examples from the minority class than the majority class in datasets with a severely skewed class distribution."
      ]
    },
    {
      "cell_type": "markdown",
      "metadata": {
        "id": "IqJZpI9Yp0z6"
      },
      "source": [
        "<h4><b> Model 5 (Cost-Sensitive NN) <h4><b>"
      ]
    },
    {
      "cell_type": "markdown",
      "metadata": {
        "id": "PbEb1fhXqttn"
      },
      "source": [
        "A best practice for using the class weighting is to use the inverse of the class distribution present in the training dataset.\n",
        "\n",
        "For example, the class distribution of the train dataset is a 46.710:334.399 ratio that is equal to a 14:100 ratio for the minority class to the majority class. The invert of this ratio could be used with 14 for the majority class and 100 for the minority class.\n",
        "\n",
        "The next three models use the same architecture but different ratio's in order to better compare them. The architecture consists of one hidden layer of 10 neurons with the relu activation function and one output layer of one sigmoid neuron. The initial random weights are defined by the He Uniform initializers while the model uses Stochastic Gradient Descent as its optimizer. The same Early Stopping procedure is used in these models as well."
      ]
    },
    {
      "cell_type": "code",
      "metadata": {
        "id": "u6mh5l3ToHaP"
      },
      "source": [
        "train_features = scaler.fit_transform(train)"
      ],
      "execution_count": null,
      "outputs": []
    },
    {
      "cell_type": "code",
      "metadata": {
        "colab": {
          "base_uri": "https://localhost:8080/"
        },
        "id": "4AGjoZKNgRg0",
        "outputId": "bc712572-48ea-4c61-9af0-a80f1f1070d9"
      },
      "source": [
        "# class weighted neural network on an imbalanced classification dataset\n",
        "from sklearn.datasets import make_classification\n",
        "from sklearn.metrics import roc_auc_score\n",
        "from keras.layers import Dense\n",
        "from keras.models import Sequential\n",
        " \n",
        "# define the neural network model\n",
        "def define_model(n_input):\n",
        "\t# define model\n",
        "\tmodel = Sequential()\n",
        "\t# define first hidden layer and visible layer\n",
        "\tmodel.add(Dense(10, input_dim=n_input, activation='relu', kernel_initializer='he_uniform'))\n",
        "\t# define output layer\n",
        "\tmodel.add(Dense(1, activation='sigmoid'))\n",
        "\t# define loss and optimizer\n",
        "\tmodel.compile(loss='binary_crossentropy', optimizer='sgd', metrics=METRICS)\n",
        "\treturn model\n",
        " \n",
        "# get the model\n",
        "n_input = train_features.shape[-1]\n",
        "model5 = define_model(n_input)\n",
        "# fit model\n",
        "weights = {0:14, 1:100}\n",
        "history = model5.fit(train_features, train_labels, class_weight=weights, batch_size=BATCH_SIZE, epochs=EPOCHS, callbacks = [early_stopping], validation_data=(val_features, val_labels))"
      ],
      "execution_count": null,
      "outputs": [
        {
          "output_type": "stream",
          "text": [
            "Epoch 1/100\n",
            "151/151 [==============================] - 4s 15ms/step - loss: 13.6066 - tp: 21128.4671 - fp: 66680.5789 - tn: 100859.9803 - fn: 2282.2632 - accuracy: 0.6371 - precision: 0.2382 - recall: 0.8898 - auc: 0.7982 - val_loss: 0.4996 - val_tp: 4128.0000 - val_fp: 11984.0000 - val_tn: 18022.0000 - val_fn: 166.0000 - val_accuracy: 0.6458 - val_precision: 0.2562 - val_recall: 0.9613 - val_auc: 0.8276\n",
            "Epoch 2/100\n",
            "151/151 [==============================] - 1s 9ms/step - loss: 10.9169 - tp: 18366.7434 - fp: 54325.5263 - tn: 83224.5526 - fn: 734.4671 - accuracy: 0.6481 - precision: 0.2529 - recall: 0.9631 - auc: 0.8333 - val_loss: 0.4771 - val_tp: 4049.0000 - val_fp: 11426.0000 - val_tn: 18580.0000 - val_fn: 245.0000 - val_accuracy: 0.6597 - val_precision: 0.2616 - val_recall: 0.9429 - val_auc: 0.8334\n",
            "Epoch 3/100\n",
            "151/151 [==============================] - 1s 9ms/step - loss: 10.7726 - tp: 18264.5329 - fp: 53106.7500 - tn: 84456.1053 - fn: 823.9013 - accuracy: 0.6562 - precision: 0.2563 - recall: 0.9569 - auc: 0.8368 - val_loss: 0.4807 - val_tp: 4055.0000 - val_fp: 11255.0000 - val_tn: 18751.0000 - val_fn: 239.0000 - val_accuracy: 0.6649 - val_precision: 0.2649 - val_recall: 0.9443 - val_auc: 0.8364\n",
            "Epoch 4/100\n",
            "151/151 [==============================] - 1s 9ms/step - loss: 10.7358 - tp: 18295.5592 - fp: 52146.1645 - tn: 85342.1250 - fn: 867.4408 - accuracy: 0.6611 - precision: 0.2592 - recall: 0.9547 - auc: 0.8387 - val_loss: 0.4775 - val_tp: 4037.0000 - val_fp: 11021.0000 - val_tn: 18985.0000 - val_fn: 257.0000 - val_accuracy: 0.6712 - val_precision: 0.2681 - val_recall: 0.9401 - val_auc: 0.8384\n",
            "Epoch 5/100\n",
            "151/151 [==============================] - 1s 9ms/step - loss: 10.6449 - tp: 18126.4803 - fp: 51015.7763 - tn: 86569.9737 - fn: 939.0592 - accuracy: 0.6696 - precision: 0.2617 - recall: 0.9510 - auc: 0.8409 - val_loss: 0.4793 - val_tp: 4065.0000 - val_fp: 11132.0000 - val_tn: 18874.0000 - val_fn: 229.0000 - val_accuracy: 0.6688 - val_precision: 0.2675 - val_recall: 0.9467 - val_auc: 0.8400\n",
            "Epoch 6/100\n",
            "151/151 [==============================] - 1s 9ms/step - loss: 10.7185 - tp: 18230.7632 - fp: 50951.4408 - tn: 86481.5197 - fn: 987.5658 - accuracy: 0.6677 - precision: 0.2643 - recall: 0.9500 - auc: 0.8415 - val_loss: 0.4963 - val_tp: 4066.0000 - val_fp: 11073.0000 - val_tn: 18933.0000 - val_fn: 228.0000 - val_accuracy: 0.6705 - val_precision: 0.2686 - val_recall: 0.9469 - val_auc: 0.8408\n",
            "Epoch 7/100\n",
            "151/151 [==============================] - 1s 9ms/step - loss: 10.6619 - tp: 18007.0921 - fp: 50218.7632 - tn: 87385.3618 - fn: 1040.0724 - accuracy: 0.6721 - precision: 0.2644 - recall: 0.9461 - auc: 0.8425 - val_loss: 0.4852 - val_tp: 4076.0000 - val_fp: 11167.0000 - val_tn: 18839.0000 - val_fn: 218.0000 - val_accuracy: 0.6681 - val_precision: 0.2674 - val_recall: 0.9492 - val_auc: 0.8424\n",
            "Epoch 8/100\n",
            "151/151 [==============================] - 1s 9ms/step - loss: 10.6006 - tp: 18024.9408 - fp: 50295.3355 - tn: 87303.2039 - fn: 1027.8092 - accuracy: 0.6722 - precision: 0.2636 - recall: 0.9468 - auc: 0.8432 - val_loss: 0.4824 - val_tp: 4065.0000 - val_fp: 11068.0000 - val_tn: 18938.0000 - val_fn: 229.0000 - val_accuracy: 0.6706 - val_precision: 0.2686 - val_recall: 0.9467 - val_auc: 0.8432\n",
            "Epoch 9/100\n",
            "151/151 [==============================] - 1s 9ms/step - loss: 10.6043 - tp: 18074.4342 - fp: 49694.7500 - tn: 87803.6184 - fn: 1078.4868 - accuracy: 0.6753 - precision: 0.2665 - recall: 0.9450 - auc: 0.8439 - val_loss: 0.4763 - val_tp: 4028.0000 - val_fp: 10656.0000 - val_tn: 19350.0000 - val_fn: 266.0000 - val_accuracy: 0.6816 - val_precision: 0.2743 - val_recall: 0.9381 - val_auc: 0.8457\n",
            "Epoch 10/100\n",
            "151/151 [==============================] - 1s 9ms/step - loss: 10.5819 - tp: 17914.3355 - fp: 48084.3750 - tn: 89412.3092 - fn: 1240.2697 - accuracy: 0.6843 - precision: 0.2710 - recall: 0.9359 - auc: 0.8446 - val_loss: 0.4824 - val_tp: 4029.0000 - val_fp: 10531.0000 - val_tn: 19475.0000 - val_fn: 265.0000 - val_accuracy: 0.6852 - val_precision: 0.2767 - val_recall: 0.9383 - val_auc: 0.8470\n",
            "Epoch 11/100\n",
            "151/151 [==============================] - 1s 9ms/step - loss: 10.6044 - tp: 17960.7763 - fp: 47748.5066 - tn: 89667.6316 - fn: 1274.3750 - accuracy: 0.6874 - precision: 0.2732 - recall: 0.9336 - auc: 0.8458 - val_loss: 0.4593 - val_tp: 3979.0000 - val_fp: 10201.0000 - val_tn: 19805.0000 - val_fn: 315.0000 - val_accuracy: 0.6934 - val_precision: 0.2806 - val_recall: 0.9266 - val_auc: 0.8484\n",
            "Epoch 12/100\n",
            "151/151 [==============================] - 1s 9ms/step - loss: 10.5178 - tp: 17819.1908 - fp: 47777.5329 - tn: 89795.7697 - fn: 1258.7961 - accuracy: 0.6878 - precision: 0.2713 - recall: 0.9340 - auc: 0.8471 - val_loss: 0.4823 - val_tp: 4005.0000 - val_fp: 10364.0000 - val_tn: 19642.0000 - val_fn: 289.0000 - val_accuracy: 0.6894 - val_precision: 0.2787 - val_recall: 0.9327 - val_auc: 0.8480\n",
            "Epoch 13/100\n",
            "151/151 [==============================] - 1s 9ms/step - loss: 10.5410 - tp: 17722.3553 - fp: 47366.1250 - tn: 90247.9276 - fn: 1314.8816 - accuracy: 0.6889 - precision: 0.2718 - recall: 0.9305 - auc: 0.8461 - val_loss: 0.4874 - val_tp: 4063.0000 - val_fp: 10816.0000 - val_tn: 19190.0000 - val_fn: 231.0000 - val_accuracy: 0.6779 - val_precision: 0.2731 - val_recall: 0.9462 - val_auc: 0.8490\n",
            "Epoch 14/100\n",
            "151/151 [==============================] - 1s 9ms/step - loss: 10.5640 - tp: 17817.6974 - fp: 47846.0329 - tn: 89706.8816 - fn: 1280.6776 - accuracy: 0.6862 - precision: 0.2708 - recall: 0.9333 - auc: 0.8469 - val_loss: 0.4753 - val_tp: 3998.0000 - val_fp: 10291.0000 - val_tn: 19715.0000 - val_fn: 296.0000 - val_accuracy: 0.6913 - val_precision: 0.2798 - val_recall: 0.9311 - val_auc: 0.8492\n",
            "Epoch 15/100\n",
            "151/151 [==============================] - 1s 9ms/step - loss: 10.5176 - tp: 17796.9342 - fp: 47361.6184 - tn: 90178.6447 - fn: 1314.0921 - accuracy: 0.6895 - precision: 0.2736 - recall: 0.9312 - auc: 0.8478 - val_loss: 0.4733 - val_tp: 4010.0000 - val_fp: 10362.0000 - val_tn: 19644.0000 - val_fn: 284.0000 - val_accuracy: 0.6896 - val_precision: 0.2790 - val_recall: 0.9339 - val_auc: 0.8498\n",
            "Epoch 16/100\n",
            "151/151 [==============================] - 1s 9ms/step - loss: 10.5692 - tp: 17828.5789 - fp: 47400.0789 - tn: 90092.7303 - fn: 1329.9013 - accuracy: 0.6890 - precision: 0.2740 - recall: 0.9309 - auc: 0.8480 - val_loss: 0.4828 - val_tp: 4018.0000 - val_fp: 10467.0000 - val_tn: 19539.0000 - val_fn: 276.0000 - val_accuracy: 0.6868 - val_precision: 0.2774 - val_recall: 0.9357 - val_auc: 0.8499\n",
            "Epoch 17/100\n",
            "151/151 [==============================] - 1s 9ms/step - loss: 10.4843 - tp: 17810.8421 - fp: 47329.0987 - tn: 90173.5921 - fn: 1337.7566 - accuracy: 0.6892 - precision: 0.2727 - recall: 0.9306 - auc: 0.8483 - val_loss: 0.4667 - val_tp: 3995.0000 - val_fp: 10241.0000 - val_tn: 19765.0000 - val_fn: 299.0000 - val_accuracy: 0.6927 - val_precision: 0.2806 - val_recall: 0.9304 - val_auc: 0.8501\n",
            "Epoch 18/100\n",
            "151/151 [==============================] - 1s 9ms/step - loss: 10.6243 - tp: 17879.8882 - fp: 47303.4408 - tn: 90127.2566 - fn: 1340.7039 - accuracy: 0.6880 - precision: 0.2736 - recall: 0.9293 - auc: 0.8461 - val_loss: 0.4490 - val_tp: 3932.0000 - val_fp: 9825.0000 - val_tn: 20181.0000 - val_fn: 362.0000 - val_accuracy: 0.7030 - val_precision: 0.2858 - val_recall: 0.9157 - val_auc: 0.8504\n",
            "Epoch 19/100\n",
            "151/151 [==============================] - 1s 9ms/step - loss: 10.5583 - tp: 17839.1053 - fp: 47335.0197 - tn: 90129.7500 - fn: 1347.4145 - accuracy: 0.6890 - precision: 0.2735 - recall: 0.9293 - auc: 0.8479 - val_loss: 0.4838 - val_tp: 4002.0000 - val_fp: 10311.0000 - val_tn: 19695.0000 - val_fn: 292.0000 - val_accuracy: 0.6909 - val_precision: 0.2796 - val_recall: 0.9320 - val_auc: 0.8501\n",
            "Epoch 20/100\n",
            "151/151 [==============================] - 1s 9ms/step - loss: 10.5188 - tp: 17662.2039 - fp: 46867.7829 - tn: 90756.8092 - fn: 1364.4934 - accuracy: 0.6924 - precision: 0.2731 - recall: 0.9280 - auc: 0.8486 - val_loss: 0.4662 - val_tp: 4001.0000 - val_fp: 10345.0000 - val_tn: 19661.0000 - val_fn: 293.0000 - val_accuracy: 0.6899 - val_precision: 0.2789 - val_recall: 0.9318 - val_auc: 0.8508\n",
            "Epoch 21/100\n",
            "151/151 [==============================] - 1s 9ms/step - loss: 10.5640 - tp: 17900.5000 - fp: 47351.8026 - tn: 90080.5592 - fn: 1318.4276 - accuracy: 0.6895 - precision: 0.2752 - recall: 0.9324 - auc: 0.8478 - val_loss: 0.4597 - val_tp: 3935.0000 - val_fp: 9800.0000 - val_tn: 20206.0000 - val_fn: 359.0000 - val_accuracy: 0.7038 - val_precision: 0.2865 - val_recall: 0.9164 - val_auc: 0.8502\n",
            "Epoch 22/100\n",
            "151/151 [==============================] - 1s 9ms/step - loss: 10.5216 - tp: 17739.0724 - fp: 47170.9737 - tn: 90390.3618 - fn: 1350.8816 - accuracy: 0.6912 - precision: 0.2737 - recall: 0.9291 - auc: 0.8475 - val_loss: 0.4712 - val_tp: 3970.0000 - val_fp: 10080.0000 - val_tn: 19926.0000 - val_fn: 324.0000 - val_accuracy: 0.6967 - val_precision: 0.2826 - val_recall: 0.9245 - val_auc: 0.8507\n",
            "Epoch 23/100\n",
            "151/151 [==============================] - 1s 9ms/step - loss: 10.4968 - tp: 17638.0789 - fp: 46724.3553 - tn: 90883.3092 - fn: 1405.5461 - accuracy: 0.6925 - precision: 0.2732 - recall: 0.9250 - auc: 0.8491 - val_loss: 0.4909 - val_tp: 4049.0000 - val_fp: 10666.0000 - val_tn: 19340.0000 - val_fn: 245.0000 - val_accuracy: 0.6819 - val_precision: 0.2752 - val_recall: 0.9429 - val_auc: 0.8509\n",
            "Epoch 24/100\n",
            "151/151 [==============================] - 1s 9ms/step - loss: 10.4766 - tp: 17805.5724 - fp: 46847.4671 - tn: 90623.7368 - fn: 1374.5132 - accuracy: 0.6923 - precision: 0.2759 - recall: 0.9296 - auc: 0.8511 - val_loss: 0.4847 - val_tp: 4007.0000 - val_fp: 10319.0000 - val_tn: 19687.0000 - val_fn: 287.0000 - val_accuracy: 0.6908 - val_precision: 0.2797 - val_recall: 0.9332 - val_auc: 0.8504\n",
            "Epoch 25/100\n",
            "151/151 [==============================] - 1s 9ms/step - loss: 10.5289 - tp: 17817.9539 - fp: 47207.0658 - tn: 90294.2039 - fn: 1332.0658 - accuracy: 0.6903 - precision: 0.2741 - recall: 0.9307 - auc: 0.8481 - val_loss: 0.4618 - val_tp: 3959.0000 - val_fp: 9971.0000 - val_tn: 20035.0000 - val_fn: 335.0000 - val_accuracy: 0.6995 - val_precision: 0.2842 - val_recall: 0.9220 - val_auc: 0.8510\n",
            "Epoch 26/100\n",
            "151/151 [==============================] - 1s 9ms/step - loss: 10.5201 - tp: 17753.8355 - fp: 46690.1842 - tn: 90804.8618 - fn: 1402.4079 - accuracy: 0.6943 - precision: 0.2763 - recall: 0.9267 - auc: 0.8496 - val_loss: 0.4711 - val_tp: 4016.0000 - val_fp: 10354.0000 - val_tn: 19652.0000 - val_fn: 278.0000 - val_accuracy: 0.6900 - val_precision: 0.2795 - val_recall: 0.9353 - val_auc: 0.8513\n",
            "Epoch 27/100\n",
            "151/151 [==============================] - 1s 9ms/step - loss: 10.5174 - tp: 17794.8487 - fp: 47114.8750 - tn: 90407.7895 - fn: 1333.7763 - accuracy: 0.6908 - precision: 0.2744 - recall: 0.9294 - auc: 0.8487 - val_loss: 0.4800 - val_tp: 3985.0000 - val_fp: 10199.0000 - val_tn: 19807.0000 - val_fn: 309.0000 - val_accuracy: 0.6936 - val_precision: 0.2810 - val_recall: 0.9280 - val_auc: 0.8505\n",
            "Epoch 28/100\n",
            "151/151 [==============================] - 1s 9ms/step - loss: 10.5899 - tp: 17772.1842 - fp: 47116.1974 - tn: 90363.2500 - fn: 1399.6579 - accuracy: 0.6889 - precision: 0.2727 - recall: 0.9262 - auc: 0.8469 - val_loss: 0.4671 - val_tp: 3989.0000 - val_fp: 10163.0000 - val_tn: 19843.0000 - val_fn: 305.0000 - val_accuracy: 0.6948 - val_precision: 0.2819 - val_recall: 0.9290 - val_auc: 0.8512\n",
            "Epoch 29/100\n",
            "151/151 [==============================] - 1s 9ms/step - loss: 10.5905 - tp: 17782.8684 - fp: 47020.8092 - tn: 90438.3684 - fn: 1409.2434 - accuracy: 0.6901 - precision: 0.2746 - recall: 0.9260 - auc: 0.8478 - val_loss: 0.4765 - val_tp: 4016.0000 - val_fp: 10349.0000 - val_tn: 19657.0000 - val_fn: 278.0000 - val_accuracy: 0.6902 - val_precision: 0.2796 - val_recall: 0.9353 - val_auc: 0.8510\n",
            "Epoch 30/100\n",
            "151/151 [==============================] - 1s 9ms/step - loss: 10.5038 - tp: 17725.7566 - fp: 46810.9013 - tn: 90727.0197 - fn: 1387.6118 - accuracy: 0.6926 - precision: 0.2751 - recall: 0.9273 - auc: 0.8492 - val_loss: 0.4776 - val_tp: 3999.0000 - val_fp: 10264.0000 - val_tn: 19742.0000 - val_fn: 295.0000 - val_accuracy: 0.6922 - val_precision: 0.2804 - val_recall: 0.9313 - val_auc: 0.8509\n",
            "Epoch 31/100\n",
            "151/151 [==============================] - 1s 9ms/step - loss: 10.5281 - tp: 17760.9605 - fp: 47149.2697 - tn: 90360.7829 - fn: 1380.2763 - accuracy: 0.6902 - precision: 0.2732 - recall: 0.9269 - auc: 0.8482 - val_loss: 0.4642 - val_tp: 3966.0000 - val_fp: 9985.0000 - val_tn: 20021.0000 - val_fn: 328.0000 - val_accuracy: 0.6993 - val_precision: 0.2843 - val_recall: 0.9236 - val_auc: 0.8512\n",
            "Epoch 32/100\n",
            "151/151 [==============================] - 1s 9ms/step - loss: 10.4822 - tp: 17667.1711 - fp: 46740.9539 - tn: 90849.2566 - fn: 1393.9079 - accuracy: 0.6928 - precision: 0.2745 - recall: 0.9264 - auc: 0.8491 - val_loss: 0.4703 - val_tp: 4002.0000 - val_fp: 10301.0000 - val_tn: 19705.0000 - val_fn: 292.0000 - val_accuracy: 0.6912 - val_precision: 0.2798 - val_recall: 0.9320 - val_auc: 0.8514\n",
            "Epoch 33/100\n",
            "151/151 [==============================] - 1s 9ms/step - loss: 10.5478 - tp: 17776.9671 - fp: 46830.3224 - tn: 90663.8092 - fn: 1380.1908 - accuracy: 0.6913 - precision: 0.2745 - recall: 0.9283 - auc: 0.8489 - val_loss: 0.4686 - val_tp: 4004.0000 - val_fp: 10272.0000 - val_tn: 19734.0000 - val_fn: 290.0000 - val_accuracy: 0.6921 - val_precision: 0.2805 - val_recall: 0.9325 - val_auc: 0.8515\n",
            "Epoch 34/100\n",
            "151/151 [==============================] - 1s 9ms/step - loss: 10.4949 - tp: 17792.0789 - fp: 46812.7829 - tn: 90676.7105 - fn: 1369.7171 - accuracy: 0.6920 - precision: 0.2753 - recall: 0.9288 - auc: 0.8508 - val_loss: 0.4939 - val_tp: 4019.0000 - val_fp: 10449.0000 - val_tn: 19557.0000 - val_fn: 275.0000 - val_accuracy: 0.6873 - val_precision: 0.2778 - val_recall: 0.9360 - val_auc: 0.8512\n",
            "Epoch 35/100\n",
            "151/151 [==============================] - 1s 9ms/step - loss: 10.4823 - tp: 17740.4868 - fp: 46812.5724 - tn: 90722.6711 - fn: 1375.5592 - accuracy: 0.6926 - precision: 0.2749 - recall: 0.9293 - auc: 0.8495 - val_loss: 0.4879 - val_tp: 4005.0000 - val_fp: 10342.0000 - val_tn: 19664.0000 - val_fn: 289.0000 - val_accuracy: 0.6901 - val_precision: 0.2792 - val_recall: 0.9327 - val_auc: 0.8507\n",
            "Epoch 36/100\n",
            "151/151 [==============================] - 1s 9ms/step - loss: 10.4945 - tp: 17671.8882 - fp: 46756.7697 - tn: 90842.9605 - fn: 1379.6711 - accuracy: 0.6931 - precision: 0.2731 - recall: 0.9267 - auc: 0.8492 - val_loss: 0.4675 - val_tp: 3999.0000 - val_fp: 10269.0000 - val_tn: 19737.0000 - val_fn: 295.0000 - val_accuracy: 0.6920 - val_precision: 0.2803 - val_recall: 0.9313 - val_auc: 0.8517\n",
            "Epoch 37/100\n",
            "151/151 [==============================] - 1s 9ms/step - loss: 10.5502 - tp: 17879.8092 - fp: 46920.4868 - tn: 90489.2632 - fn: 1361.7303 - accuracy: 0.6915 - precision: 0.2779 - recall: 0.9308 - auc: 0.8491 - val_loss: 0.4876 - val_tp: 4040.0000 - val_fp: 10578.0000 - val_tn: 19428.0000 - val_fn: 254.0000 - val_accuracy: 0.6842 - val_precision: 0.2764 - val_recall: 0.9408 - val_auc: 0.8516\n",
            "Epoch 38/100\n",
            "151/151 [==============================] - 1s 9ms/step - loss: 10.5158 - tp: 17760.6842 - fp: 46877.1447 - tn: 90630.7763 - fn: 1382.6842 - accuracy: 0.6914 - precision: 0.2750 - recall: 0.9299 - auc: 0.8501 - val_loss: 0.4683 - val_tp: 3984.0000 - val_fp: 10186.0000 - val_tn: 19820.0000 - val_fn: 310.0000 - val_accuracy: 0.6940 - val_precision: 0.2812 - val_recall: 0.9278 - val_auc: 0.8516\n",
            "Epoch 39/100\n",
            "151/151 [==============================] - 1s 9ms/step - loss: 10.5054 - tp: 17778.8553 - fp: 46901.6579 - tn: 90591.7237 - fn: 1379.0526 - accuracy: 0.6915 - precision: 0.2752 - recall: 0.9277 - auc: 0.8489 - val_loss: 0.4665 - val_tp: 3952.0000 - val_fp: 9968.0000 - val_tn: 20038.0000 - val_fn: 342.0000 - val_accuracy: 0.6994 - val_precision: 0.2839 - val_recall: 0.9204 - val_auc: 0.8514\n",
            "Epoch 40/100\n",
            "151/151 [==============================] - 1s 9ms/step - loss: 10.4928 - tp: 17761.2697 - fp: 46671.1316 - tn: 90825.6776 - fn: 1393.2105 - accuracy: 0.6941 - precision: 0.2765 - recall: 0.9271 - auc: 0.8500 - val_loss: 0.4605 - val_tp: 3963.0000 - val_fp: 10004.0000 - val_tn: 20002.0000 - val_fn: 331.0000 - val_accuracy: 0.6987 - val_precision: 0.2837 - val_recall: 0.9229 - val_auc: 0.8516\n",
            "Epoch 41/100\n",
            "151/151 [==============================] - 1s 9ms/step - loss: 10.5000 - tp: 17696.1250 - fp: 46841.3487 - tn: 90709.1316 - fn: 1404.6842 - accuracy: 0.6926 - precision: 0.2741 - recall: 0.9262 - auc: 0.8492 - val_loss: 0.4744 - val_tp: 3992.0000 - val_fp: 10237.0000 - val_tn: 19769.0000 - val_fn: 302.0000 - val_accuracy: 0.6927 - val_precision: 0.2806 - val_recall: 0.9297 - val_auc: 0.8516\n",
            "Epoch 42/100\n",
            "151/151 [==============================] - 1s 9ms/step - loss: 10.4962 - tp: 17726.4474 - fp: 46948.8224 - tn: 90586.3750 - fn: 1389.6447 - accuracy: 0.6915 - precision: 0.2737 - recall: 0.9267 - auc: 0.8492 - val_loss: 0.4714 - val_tp: 3994.0000 - val_fp: 10278.0000 - val_tn: 19728.0000 - val_fn: 300.0000 - val_accuracy: 0.6916 - val_precision: 0.2798 - val_recall: 0.9301 - val_auc: 0.8514\n",
            "Epoch 43/100\n",
            "151/151 [==============================] - 1s 9ms/step - loss: 10.4921 - tp: 17692.3224 - fp: 46798.2566 - tn: 90755.3750 - fn: 1405.3355 - accuracy: 0.6930 - precision: 0.2745 - recall: 0.9260 - auc: 0.8495 - val_loss: 0.4458 - val_tp: 3905.0000 - val_fp: 9629.0000 - val_tn: 20377.0000 - val_fn: 389.0000 - val_accuracy: 0.7079 - val_precision: 0.2885 - val_recall: 0.9094 - val_auc: 0.8517\n",
            "Epoch 44/100\n",
            "151/151 [==============================] - 1s 9ms/step - loss: 10.4817 - tp: 17801.1579 - fp: 46642.1908 - tn: 90814.3750 - fn: 1393.5658 - accuracy: 0.6946 - precision: 0.2777 - recall: 0.9282 - auc: 0.8503 - val_loss: 0.4663 - val_tp: 3959.0000 - val_fp: 9995.0000 - val_tn: 20011.0000 - val_fn: 335.0000 - val_accuracy: 0.6988 - val_precision: 0.2837 - val_recall: 0.9220 - val_auc: 0.8517\n",
            "Epoch 45/100\n",
            "151/151 [==============================] - 1s 9ms/step - loss: 10.5050 - tp: 17749.6579 - fp: 46946.5921 - tn: 90571.4737 - fn: 1383.5658 - accuracy: 0.6917 - precision: 0.2743 - recall: 0.9274 - auc: 0.8481 - val_loss: 0.4531 - val_tp: 3943.0000 - val_fp: 9864.0000 - val_tn: 20142.0000 - val_fn: 351.0000 - val_accuracy: 0.7022 - val_precision: 0.2856 - val_recall: 0.9183 - val_auc: 0.8515\n",
            "Epoch 46/100\n",
            "151/151 [==============================] - 1s 9ms/step - loss: 10.4852 - tp: 17669.6908 - fp: 46721.5197 - tn: 90865.7434 - fn: 1394.3355 - accuracy: 0.6937 - precision: 0.2743 - recall: 0.9259 - auc: 0.8497 - val_loss: 0.4904 - val_tp: 4043.0000 - val_fp: 10608.0000 - val_tn: 19398.0000 - val_fn: 251.0000 - val_accuracy: 0.6834 - val_precision: 0.2760 - val_recall: 0.9415 - val_auc: 0.8518\n",
            "Epoch 47/100\n",
            "151/151 [==============================] - 1s 9ms/step - loss: 10.4762 - tp: 17791.2303 - fp: 46852.1579 - tn: 90649.7763 - fn: 1358.1250 - accuracy: 0.6925 - precision: 0.2752 - recall: 0.9299 - auc: 0.8495 - val_loss: 0.4715 - val_tp: 3978.0000 - val_fp: 10131.0000 - val_tn: 19875.0000 - val_fn: 316.0000 - val_accuracy: 0.6954 - val_precision: 0.2819 - val_recall: 0.9264 - val_auc: 0.8518\n",
            "Epoch 48/100\n",
            "151/151 [==============================] - 1s 9ms/step - loss: 10.5135 - tp: 17813.5592 - fp: 46792.4342 - tn: 90683.3092 - fn: 1361.9868 - accuracy: 0.6928 - precision: 0.2768 - recall: 0.9298 - auc: 0.8499 - val_loss: 0.4715 - val_tp: 4001.0000 - val_fp: 10267.0000 - val_tn: 19739.0000 - val_fn: 293.0000 - val_accuracy: 0.6921 - val_precision: 0.2804 - val_recall: 0.9318 - val_auc: 0.8518\n",
            "Epoch 49/100\n",
            "151/151 [==============================] - 1s 9ms/step - loss: 10.4956 - tp: 17704.0526 - fp: 46591.4605 - tn: 90946.8092 - fn: 1408.9671 - accuracy: 0.6929 - precision: 0.2749 - recall: 0.9263 - auc: 0.8497 - val_loss: 0.4722 - val_tp: 4022.0000 - val_fp: 10467.0000 - val_tn: 19539.0000 - val_fn: 272.0000 - val_accuracy: 0.6869 - val_precision: 0.2776 - val_recall: 0.9367 - val_auc: 0.8520\n",
            "Epoch 50/100\n",
            "151/151 [==============================] - 1s 9ms/step - loss: 10.4689 - tp: 17693.2632 - fp: 46845.7434 - tn: 90754.1908 - fn: 1358.0921 - accuracy: 0.6917 - precision: 0.2744 - recall: 0.9302 - auc: 0.8502 - val_loss: 0.4823 - val_tp: 4015.0000 - val_fp: 10352.0000 - val_tn: 19654.0000 - val_fn: 279.0000 - val_accuracy: 0.6901 - val_precision: 0.2795 - val_recall: 0.9350 - val_auc: 0.8518\n",
            "Epoch 51/100\n",
            "151/151 [==============================] - 1s 9ms/step - loss: 10.5213 - tp: 17757.3750 - fp: 46912.5263 - tn: 90606.4342 - fn: 1374.9539 - accuracy: 0.6913 - precision: 0.2744 - recall: 0.9293 - auc: 0.8487 - val_loss: 0.4673 - val_tp: 3987.0000 - val_fp: 10181.0000 - val_tn: 19825.0000 - val_fn: 307.0000 - val_accuracy: 0.6942 - val_precision: 0.2814 - val_recall: 0.9285 - val_auc: 0.8517\n",
            "Epoch 52/100\n",
            "151/151 [==============================] - 1s 9ms/step - loss: 10.4455 - tp: 17672.1382 - fp: 46681.4803 - tn: 90924.8224 - fn: 1372.8487 - accuracy: 0.6943 - precision: 0.2751 - recall: 0.9287 - auc: 0.8500 - val_loss: 0.4675 - val_tp: 3960.0000 - val_fp: 10002.0000 - val_tn: 20004.0000 - val_fn: 334.0000 - val_accuracy: 0.6987 - val_precision: 0.2836 - val_recall: 0.9222 - val_auc: 0.8517\n",
            "Epoch 53/100\n",
            "151/151 [==============================] - 1s 9ms/step - loss: 10.4795 - tp: 17690.1776 - fp: 46633.9934 - tn: 90928.4539 - fn: 1398.6645 - accuracy: 0.6938 - precision: 0.2745 - recall: 0.9263 - auc: 0.8494 - val_loss: 0.4618 - val_tp: 3960.0000 - val_fp: 10015.0000 - val_tn: 19991.0000 - val_fn: 334.0000 - val_accuracy: 0.6983 - val_precision: 0.2834 - val_recall: 0.9222 - val_auc: 0.8518\n",
            "Epoch 54/100\n",
            "151/151 [==============================] - 1s 9ms/step - loss: 10.5199 - tp: 17866.5461 - fp: 46767.3882 - tn: 90640.4145 - fn: 1376.9408 - accuracy: 0.6934 - precision: 0.2778 - recall: 0.9294 - auc: 0.8497 - val_loss: 0.4453 - val_tp: 3904.0000 - val_fp: 9599.0000 - val_tn: 20407.0000 - val_fn: 390.0000 - val_accuracy: 0.7088 - val_precision: 0.2891 - val_recall: 0.9092 - val_auc: 0.8517\n",
            "Epoch 55/100\n",
            "151/151 [==============================] - 1s 9ms/step - loss: 10.5445 - tp: 17674.6974 - fp: 46717.5921 - tn: 90842.5658 - fn: 1416.4342 - accuracy: 0.6932 - precision: 0.2751 - recall: 0.9248 - auc: 0.8481 - val_loss: 0.4703 - val_tp: 3965.0000 - val_fp: 10038.0000 - val_tn: 19968.0000 - val_fn: 329.0000 - val_accuracy: 0.6978 - val_precision: 0.2832 - val_recall: 0.9234 - val_auc: 0.8519\n",
            "Epoch 56/100\n",
            "151/151 [==============================] - 1s 9ms/step - loss: 10.4465 - tp: 17726.9671 - fp: 46589.1513 - tn: 90935.8750 - fn: 1399.2961 - accuracy: 0.6948 - precision: 0.2763 - recall: 0.9265 - auc: 0.8506 - val_loss: 0.4724 - val_tp: 3980.0000 - val_fp: 10097.0000 - val_tn: 19909.0000 - val_fn: 314.0000 - val_accuracy: 0.6965 - val_precision: 0.2827 - val_recall: 0.9269 - val_auc: 0.8518\n",
            "Epoch 57/100\n",
            "151/151 [==============================] - 1s 9ms/step - loss: 10.5308 - tp: 17771.8289 - fp: 46820.3092 - tn: 90685.5526 - fn: 1373.5987 - accuracy: 0.6917 - precision: 0.2751 - recall: 0.9288 - auc: 0.8487 - val_loss: 0.4777 - val_tp: 3997.0000 - val_fp: 10256.0000 - val_tn: 19750.0000 - val_fn: 297.0000 - val_accuracy: 0.6923 - val_precision: 0.2804 - val_recall: 0.9308 - val_auc: 0.8517\n",
            "Epoch 58/100\n",
            "151/151 [==============================] - 1s 9ms/step - loss: 10.4657 - tp: 17755.9737 - fp: 46810.0658 - tn: 90704.0000 - fn: 1381.2500 - accuracy: 0.6925 - precision: 0.2742 - recall: 0.9275 - auc: 0.8498 - val_loss: 0.4820 - val_tp: 3998.0000 - val_fp: 10262.0000 - val_tn: 19744.0000 - val_fn: 296.0000 - val_accuracy: 0.6922 - val_precision: 0.2804 - val_recall: 0.9311 - val_auc: 0.8517\n",
            "Epoch 59/100\n",
            "151/151 [==============================] - 1s 9ms/step - loss: 10.5306 - tp: 17723.9079 - fp: 46809.0461 - tn: 90708.6974 - fn: 1409.6382 - accuracy: 0.6916 - precision: 0.2744 - recall: 0.9265 - auc: 0.8482 - val_loss: 0.4673 - val_tp: 3979.0000 - val_fp: 10149.0000 - val_tn: 19857.0000 - val_fn: 315.0000 - val_accuracy: 0.6949 - val_precision: 0.2816 - val_recall: 0.9266 - val_auc: 0.8519\n",
            "Restoring model weights from the end of the best epoch.\n",
            "Epoch 00059: early stopping\n"
          ],
          "name": "stdout"
        }
      ]
    },
    {
      "cell_type": "code",
      "metadata": {
        "id": "GPfP0jqgFAWk"
      },
      "source": [
        "predictions5 = model5.predict(test_features)"
      ],
      "execution_count": null,
      "outputs": []
    },
    {
      "cell_type": "code",
      "metadata": {
        "id": "aIls5MPNFAWv"
      },
      "source": [
        "predictions5 = sigmoid_to_class(predictions5)"
      ],
      "execution_count": null,
      "outputs": []
    },
    {
      "cell_type": "code",
      "metadata": {
        "colab": {
          "base_uri": "https://localhost:8080/",
          "height": 344
        },
        "id": "dLVCjfr-FAWz",
        "outputId": "f079355c-46c1-42f8-e65f-431bb7a3c784"
      },
      "source": [
        "cnf_matrix = confusion_matrix(test_labels, predictions5)\n",
        "np.set_printoptions(precision=2)\n",
        "\n",
        "# Plot non-normalized confusion matrix\n",
        "plt.figure()\n",
        "plot_confusion_matrix(cnf_matrix, classes = ['Negative','Positive'],\n",
        "                      title='Confusion matrix')"
      ],
      "execution_count": null,
      "outputs": [
        {
          "output_type": "stream",
          "text": [
            "Confusion matrix, without normalization\n",
            "[[21796 11585]\n",
            " [  270  4460]]\n"
          ],
          "name": "stdout"
        },
        {
          "output_type": "display_data",
          "data": {
            "image/png": "[encoded data removed]",
            "text/plain": [
              "<Figure size 432x288 with 2 Axes>"
            ]
          },
          "metadata": {
            "tags": []
          }
        }
      ]
    },
    {
      "cell_type": "code",
      "metadata": {
        "colab": {
          "base_uri": "https://localhost:8080/"
        },
        "id": "6wgW6Z94FAW1",
        "outputId": "8c360173-3387-44fc-afec-fcc4075951f5"
      },
      "source": [
        "print('\\nClassification Report\\n')\n",
        "print(classification_report(test_labels, predictions5, target_names=['Negative','Positive']))"
      ],
      "execution_count": null,
      "outputs": [
        {
          "output_type": "stream",
          "text": [
            "\n",
            "Classification Report\n",
            "\n",
            "              precision    recall  f1-score   support\n",
            "\n",
            "    Negative       0.99      0.65      0.79     33381\n",
            "    Positive       0.28      0.94      0.43      4730\n",
            "\n",
            "    accuracy                           0.69     38111\n",
            "   macro avg       0.63      0.80      0.61     38111\n",
            "weighted avg       0.90      0.69      0.74     38111\n",
            "\n"
          ],
          "name": "stdout"
        }
      ]
    },
    {
      "cell_type": "markdown",
      "metadata": {
        "id": "e6wlExx2zm9E"
      },
      "source": [
        "Success! With a slight better accuracy (0.69 from 0.67) the model is also able to find almost all (4460 from 4135) of the clients that will have a Positive Response, giving a Macro Average f1 score of 0.61 (from 0.58). Lets see if it is possible to achieve an even higher Macro Average f1 score, hence an even better model, by adjusting the ratio in favor of the majority class."
      ]
    },
    {
      "cell_type": "markdown",
      "metadata": {
        "id": "-PJzCxsI1nlR"
      },
      "source": [
        "<h4><b> Model 6 (Cost-Sensitive NN) <h4><b>"
      ]
    },
    {
      "cell_type": "code",
      "metadata": {
        "colab": {
          "base_uri": "https://localhost:8080/"
        },
        "id": "_tWhzA4ETq7Q",
        "outputId": "16574e6a-7537-442f-afb9-30d43082a328"
      },
      "source": [
        "# define the neural network model\n",
        "def define_model(n_input):\n",
        "\t# define model\n",
        "\tmodel = Sequential()\n",
        "\t# define first hidden layer and visible layer\n",
        "\tmodel.add(Dense(10, input_dim=n_input, activation='relu', kernel_initializer='he_uniform'))\n",
        "\t# define output layer\n",
        "\tmodel.add(Dense(1, activation='sigmoid'))\n",
        "\t# define loss and optimizer\n",
        "\tmodel.compile(loss='binary_crossentropy', optimizer='sgd', metrics=METRICS)\n",
        "\treturn model\n",
        " \n",
        "# get the model\n",
        "n_input = train_features.shape[-1]\n",
        "model6 = define_model(n_input)\n",
        "# fit model\n",
        "weights = {0:28, 1:100}\n",
        "history = model6.fit(train_features, train_labels, class_weight=weights, batch_size=BATCH_SIZE, epochs=EPOCHS, callbacks = [early_stopping], validation_data=(val_features, val_labels))"
      ],
      "execution_count": null,
      "outputs": [
        {
          "output_type": "stream",
          "text": [
            "Epoch 1/100\n",
            "151/151 [==============================] - 4s 15ms/step - loss: 19.4560 - tp: 15884.8355 - fp: 41405.4079 - tn: 126164.6776 - fn: 7496.3684 - accuracy: 0.7360 - precision: 0.2722 - recall: 0.6847 - auc: 0.8016 - val_loss: 0.3665 - val_tp: 3064.0000 - val_fp: 6896.0000 - val_tn: 23110.0000 - val_fn: 1230.0000 - val_accuracy: 0.7631 - val_precision: 0.3076 - val_recall: 0.7136 - val_auc: 0.8323\n",
            "Epoch 2/100\n",
            "151/151 [==============================] - 1s 9ms/step - loss: 15.7847 - tp: 14086.2763 - fp: 32116.6184 - tn: 105380.4605 - fn: 5067.9342 - accuracy: 0.7631 - precision: 0.3034 - recall: 0.7299 - auc: 0.8355 - val_loss: 0.3649 - val_tp: 3263.0000 - val_fp: 7298.0000 - val_tn: 22708.0000 - val_fn: 1031.0000 - val_accuracy: 0.7572 - val_precision: 0.3090 - val_recall: 0.7599 - val_auc: 0.8374\n",
            "Epoch 3/100\n",
            "151/151 [==============================] - 1s 9ms/step - loss: 15.6011 - tp: 14306.2895 - fp: 32779.9342 - tn: 104780.0461 - fn: 4785.0197 - accuracy: 0.7602 - precision: 0.3018 - recall: 0.7455 - auc: 0.8376 - val_loss: 0.3484 - val_tp: 3133.0000 - val_fp: 6793.0000 - val_tn: 23213.0000 - val_fn: 1161.0000 - val_accuracy: 0.7681 - val_precision: 0.3156 - val_recall: 0.7296 - val_auc: 0.8397\n",
            "Epoch 4/100\n",
            "151/151 [==============================] - 1s 9ms/step - loss: 15.5232 - tp: 14407.7829 - fp: 32480.4408 - tn: 105090.2632 - fn: 4672.8026 - accuracy: 0.7629 - precision: 0.3083 - recall: 0.7565 - auc: 0.8416 - val_loss: 0.3631 - val_tp: 3345.0000 - val_fp: 7348.0000 - val_tn: 22658.0000 - val_fn: 949.0000 - val_accuracy: 0.7581 - val_precision: 0.3128 - val_recall: 0.7790 - val_auc: 0.8421\n",
            "Epoch 5/100\n",
            "151/151 [==============================] - 1s 9ms/step - loss: 15.5128 - tp: 14603.7566 - fp: 32907.7368 - tn: 104561.1250 - fn: 4578.6711 - accuracy: 0.7605 - precision: 0.3065 - recall: 0.7608 - auc: 0.8414 - val_loss: 0.3596 - val_tp: 3326.0000 - val_fp: 7195.0000 - val_tn: 22811.0000 - val_fn: 968.0000 - val_accuracy: 0.7620 - val_precision: 0.3161 - val_recall: 0.7746 - val_auc: 0.8431\n",
            "Epoch 6/100\n",
            "151/151 [==============================] - 1s 9ms/step - loss: 15.4357 - tp: 14514.5921 - fp: 32555.0197 - tn: 105017.0329 - fn: 4564.6447 - accuracy: 0.7635 - precision: 0.3074 - recall: 0.7580 - auc: 0.8426 - val_loss: 0.3585 - val_tp: 3320.0000 - val_fp: 7146.0000 - val_tn: 22860.0000 - val_fn: 974.0000 - val_accuracy: 0.7633 - val_precision: 0.3172 - val_recall: 0.7732 - val_auc: 0.8444\n",
            "Epoch 7/100\n",
            "151/151 [==============================] - 1s 9ms/step - loss: 15.4047 - tp: 14648.9474 - fp: 32440.9145 - tn: 105063.2632 - fn: 4498.1645 - accuracy: 0.7642 - precision: 0.3105 - recall: 0.7637 - auc: 0.8443 - val_loss: 0.3565 - val_tp: 3341.0000 - val_fp: 7190.0000 - val_tn: 22816.0000 - val_fn: 953.0000 - val_accuracy: 0.7626 - val_precision: 0.3173 - val_recall: 0.7781 - val_auc: 0.8453\n",
            "Epoch 8/100\n",
            "151/151 [==============================] - 1s 9ms/step - loss: 15.3995 - tp: 14716.5855 - fp: 32538.4145 - tn: 104973.0592 - fn: 4423.2303 - accuracy: 0.7640 - precision: 0.3114 - recall: 0.7690 - auc: 0.8449 - val_loss: 0.3477 - val_tp: 3249.0000 - val_fp: 6871.0000 - val_tn: 23135.0000 - val_fn: 1045.0000 - val_accuracy: 0.7692 - val_precision: 0.3210 - val_recall: 0.7566 - val_auc: 0.8461\n",
            "Epoch 9/100\n",
            "151/151 [==============================] - 1s 9ms/step - loss: 15.3610 - tp: 14697.0789 - fp: 32703.3092 - tn: 104854.5263 - fn: 4396.3750 - accuracy: 0.7631 - precision: 0.3087 - recall: 0.7668 - auc: 0.8448 - val_loss: 0.3663 - val_tp: 3466.0000 - val_fp: 7587.0000 - val_tn: 22419.0000 - val_fn: 828.0000 - val_accuracy: 0.7547 - val_precision: 0.3136 - val_recall: 0.8072 - val_auc: 0.8468\n",
            "Epoch 10/100\n",
            "151/151 [==============================] - 1s 9ms/step - loss: 15.3747 - tp: 14858.9211 - fp: 32759.7961 - tn: 104717.6579 - fn: 4314.9145 - accuracy: 0.7631 - precision: 0.3127 - recall: 0.7767 - auc: 0.8464 - val_loss: 0.3607 - val_tp: 3405.0000 - val_fp: 7323.0000 - val_tn: 22683.0000 - val_fn: 889.0000 - val_accuracy: 0.7606 - val_precision: 0.3174 - val_recall: 0.7930 - val_auc: 0.8480\n",
            "Epoch 11/100\n",
            "151/151 [==============================] - 1s 9ms/step - loss: 15.2953 - tp: 14835.8487 - fp: 32647.1513 - tn: 104866.4803 - fn: 4301.8092 - accuracy: 0.7645 - precision: 0.3124 - recall: 0.7758 - auc: 0.8477 - val_loss: 0.3503 - val_tp: 3274.0000 - val_fp: 6916.0000 - val_tn: 23090.0000 - val_fn: 1020.0000 - val_accuracy: 0.7686 - val_precision: 0.3213 - val_recall: 0.7625 - val_auc: 0.8484\n",
            "Epoch 12/100\n",
            "151/151 [==============================] - 1s 9ms/step - loss: 15.2753 - tp: 14851.0658 - fp: 32764.0658 - tn: 104772.1447 - fn: 4264.0132 - accuracy: 0.7645 - precision: 0.3115 - recall: 0.7746 - auc: 0.8471 - val_loss: 0.3561 - val_tp: 3343.0000 - val_fp: 7137.0000 - val_tn: 22869.0000 - val_fn: 951.0000 - val_accuracy: 0.7642 - val_precision: 0.3190 - val_recall: 0.7785 - val_auc: 0.8487\n",
            "Epoch 13/100\n",
            "151/151 [==============================] - 1s 9ms/step - loss: 15.3147 - tp: 14751.4539 - fp: 32682.0066 - tn: 104847.8487 - fn: 4369.9803 - accuracy: 0.7640 - precision: 0.3107 - recall: 0.7693 - auc: 0.8469 - val_loss: 0.3523 - val_tp: 3322.0000 - val_fp: 7030.0000 - val_tn: 22976.0000 - val_fn: 972.0000 - val_accuracy: 0.7667 - val_precision: 0.3209 - val_recall: 0.7736 - val_auc: 0.8486\n",
            "Epoch 14/100\n",
            "151/151 [==============================] - 1s 9ms/step - loss: 15.3546 - tp: 14969.0592 - fp: 32707.6842 - tn: 104712.4342 - fn: 4262.1118 - accuracy: 0.7638 - precision: 0.3141 - recall: 0.7779 - auc: 0.8471 - val_loss: 0.3452 - val_tp: 3232.0000 - val_fp: 6727.0000 - val_tn: 23279.0000 - val_fn: 1062.0000 - val_accuracy: 0.7729 - val_precision: 0.3245 - val_recall: 0.7527 - val_auc: 0.8493\n",
            "Epoch 15/100\n",
            "151/151 [==============================] - 1s 9ms/step - loss: 15.2993 - tp: 14745.9737 - fp: 32565.8092 - tn: 105017.6382 - fn: 4321.8684 - accuracy: 0.7651 - precision: 0.3107 - recall: 0.7708 - auc: 0.8469 - val_loss: 0.3496 - val_tp: 3289.0000 - val_fp: 6933.0000 - val_tn: 23073.0000 - val_fn: 1005.0000 - val_accuracy: 0.7686 - val_precision: 0.3218 - val_recall: 0.7660 - val_auc: 0.8488\n",
            "Epoch 16/100\n",
            "151/151 [==============================] - 1s 9ms/step - loss: 15.3482 - tp: 15051.2632 - fp: 32726.9013 - tn: 104666.1842 - fn: 4206.9408 - accuracy: 0.7637 - precision: 0.3165 - recall: 0.7857 - auc: 0.8485 - val_loss: 0.3561 - val_tp: 3406.0000 - val_fp: 7303.0000 - val_tn: 22703.0000 - val_fn: 888.0000 - val_accuracy: 0.7612 - val_precision: 0.3181 - val_recall: 0.7932 - val_auc: 0.8495\n",
            "Epoch 17/100\n",
            "151/151 [==============================] - 1s 9ms/step - loss: 15.3247 - tp: 14866.5921 - fp: 32758.8553 - tn: 104762.2039 - fn: 4263.6382 - accuracy: 0.7637 - precision: 0.3114 - recall: 0.7755 - auc: 0.8478 - val_loss: 0.3509 - val_tp: 3305.0000 - val_fp: 7040.0000 - val_tn: 22966.0000 - val_fn: 989.0000 - val_accuracy: 0.7659 - val_precision: 0.3195 - val_recall: 0.7697 - val_auc: 0.8496\n",
            "Epoch 18/100\n",
            "151/151 [==============================] - 1s 9ms/step - loss: 15.2279 - tp: 14836.6908 - fp: 32494.4539 - tn: 105070.1184 - fn: 4250.0263 - accuracy: 0.7662 - precision: 0.3146 - recall: 0.7782 - auc: 0.8500 - val_loss: 0.3489 - val_tp: 3291.0000 - val_fp: 6946.0000 - val_tn: 23060.0000 - val_fn: 1003.0000 - val_accuracy: 0.7683 - val_precision: 0.3215 - val_recall: 0.7664 - val_auc: 0.8496\n",
            "Epoch 19/100\n",
            "151/151 [==============================] - 1s 9ms/step - loss: 15.3022 - tp: 14794.4474 - fp: 32659.8684 - tn: 104871.9934 - fn: 4324.9803 - accuracy: 0.7637 - precision: 0.3110 - recall: 0.7714 - auc: 0.8483 - val_loss: 0.3583 - val_tp: 3411.0000 - val_fp: 7354.0000 - val_tn: 22652.0000 - val_fn: 883.0000 - val_accuracy: 0.7599 - val_precision: 0.3169 - val_recall: 0.7944 - val_auc: 0.8497\n",
            "Epoch 20/100\n",
            "151/151 [==============================] - 1s 9ms/step - loss: 15.2778 - tp: 14737.4276 - fp: 32534.5987 - tn: 105094.6645 - fn: 4284.5987 - accuracy: 0.7646 - precision: 0.3118 - recall: 0.7758 - auc: 0.8479 - val_loss: 0.3521 - val_tp: 3356.0000 - val_fp: 7158.0000 - val_tn: 22848.0000 - val_fn: 938.0000 - val_accuracy: 0.7640 - val_precision: 0.3192 - val_recall: 0.7816 - val_auc: 0.8497\n",
            "Epoch 21/100\n",
            "151/151 [==============================] - 1s 9ms/step - loss: 15.2924 - tp: 14791.2895 - fp: 32643.7895 - tn: 104913.9145 - fn: 4302.2961 - accuracy: 0.7636 - precision: 0.3105 - recall: 0.7719 - auc: 0.8481 - val_loss: 0.3451 - val_tp: 3238.0000 - val_fp: 6746.0000 - val_tn: 23260.0000 - val_fn: 1056.0000 - val_accuracy: 0.7725 - val_precision: 0.3243 - val_recall: 0.7541 - val_auc: 0.8500\n",
            "Epoch 22/100\n",
            "151/151 [==============================] - 1s 9ms/step - loss: 15.2986 - tp: 14945.6908 - fp: 32760.6447 - tn: 104716.5000 - fn: 4228.4539 - accuracy: 0.7638 - precision: 0.3146 - recall: 0.7807 - auc: 0.8500 - val_loss: 0.3467 - val_tp: 3236.0000 - val_fp: 6805.0000 - val_tn: 23201.0000 - val_fn: 1058.0000 - val_accuracy: 0.7708 - val_precision: 0.3223 - val_recall: 0.7536 - val_auc: 0.8501\n",
            "Epoch 23/100\n",
            "151/151 [==============================] - 1s 9ms/step - loss: 15.2795 - tp: 14704.9145 - fp: 32674.0395 - tn: 104938.4474 - fn: 4333.8882 - accuracy: 0.7635 - precision: 0.3093 - recall: 0.7690 - auc: 0.8476 - val_loss: 0.3486 - val_tp: 3289.0000 - val_fp: 6950.0000 - val_tn: 23056.0000 - val_fn: 1005.0000 - val_accuracy: 0.7681 - val_precision: 0.3212 - val_recall: 0.7660 - val_auc: 0.8503\n",
            "Epoch 24/100\n",
            "151/151 [==============================] - 1s 9ms/step - loss: 15.2916 - tp: 14794.7632 - fp: 32416.0789 - tn: 105147.9605 - fn: 4292.4868 - accuracy: 0.7653 - precision: 0.3130 - recall: 0.7744 - auc: 0.8486 - val_loss: 0.3446 - val_tp: 3247.0000 - val_fp: 6798.0000 - val_tn: 23208.0000 - val_fn: 1047.0000 - val_accuracy: 0.7713 - val_precision: 0.3232 - val_recall: 0.7562 - val_auc: 0.8504\n",
            "Epoch 25/100\n",
            "151/151 [==============================] - 1s 9ms/step - loss: 15.2259 - tp: 14772.9803 - fp: 32692.4803 - tn: 104907.1118 - fn: 4278.7171 - accuracy: 0.7649 - precision: 0.3120 - recall: 0.7767 - auc: 0.8490 - val_loss: 0.3588 - val_tp: 3419.0000 - val_fp: 7332.0000 - val_tn: 22674.0000 - val_fn: 875.0000 - val_accuracy: 0.7607 - val_precision: 0.3180 - val_recall: 0.7962 - val_auc: 0.8506\n",
            "Epoch 26/100\n",
            "151/151 [==============================] - 1s 9ms/step - loss: 15.1643 - tp: 14875.2763 - fp: 32638.2697 - tn: 104926.0461 - fn: 4211.6974 - accuracy: 0.7657 - precision: 0.3126 - recall: 0.7789 - auc: 0.8502 - val_loss: 0.3468 - val_tp: 3240.0000 - val_fp: 6829.0000 - val_tn: 23177.0000 - val_fn: 1054.0000 - val_accuracy: 0.7702 - val_precision: 0.3218 - val_recall: 0.7545 - val_auc: 0.8504\n",
            "Epoch 27/100\n",
            "151/151 [==============================] - 1s 9ms/step - loss: 15.1678 - tp: 14762.6645 - fp: 32450.2171 - tn: 105175.1316 - fn: 4263.2763 - accuracy: 0.7667 - precision: 0.3122 - recall: 0.7748 - auc: 0.8499 - val_loss: 0.3626 - val_tp: 3495.0000 - val_fp: 7650.0000 - val_tn: 22356.0000 - val_fn: 799.0000 - val_accuracy: 0.7537 - val_precision: 0.3136 - val_recall: 0.8139 - val_auc: 0.8504\n",
            "Epoch 28/100\n",
            "151/151 [==============================] - 1s 9ms/step - loss: 15.2142 - tp: 14738.5724 - fp: 32657.9737 - tn: 104995.0724 - fn: 4259.6711 - accuracy: 0.7641 - precision: 0.3081 - recall: 0.7725 - auc: 0.8477 - val_loss: 0.3489 - val_tp: 3247.0000 - val_fp: 6840.0000 - val_tn: 23166.0000 - val_fn: 1047.0000 - val_accuracy: 0.7701 - val_precision: 0.3219 - val_recall: 0.7562 - val_auc: 0.8504\n",
            "Epoch 29/100\n",
            "151/151 [==============================] - 1s 9ms/step - loss: 15.2990 - tp: 14885.3421 - fp: 32643.2895 - tn: 104859.4605 - fn: 4263.1974 - accuracy: 0.7639 - precision: 0.3140 - recall: 0.7792 - auc: 0.8492 - val_loss: 0.3502 - val_tp: 3294.0000 - val_fp: 7005.0000 - val_tn: 23001.0000 - val_fn: 1000.0000 - val_accuracy: 0.7666 - val_precision: 0.3198 - val_recall: 0.7671 - val_auc: 0.8505\n",
            "Epoch 30/100\n",
            "151/151 [==============================] - 1s 9ms/step - loss: 15.2785 - tp: 14834.4079 - fp: 32505.5000 - tn: 105048.8487 - fn: 4262.5329 - accuracy: 0.7658 - precision: 0.3146 - recall: 0.7777 - auc: 0.8492 - val_loss: 0.3625 - val_tp: 3457.0000 - val_fp: 7496.0000 - val_tn: 22510.0000 - val_fn: 837.0000 - val_accuracy: 0.7571 - val_precision: 0.3156 - val_recall: 0.8051 - val_auc: 0.8505\n",
            "Epoch 31/100\n",
            "151/151 [==============================] - 1s 9ms/step - loss: 15.2674 - tp: 14884.8882 - fp: 32755.5329 - tn: 104774.3816 - fn: 4236.4868 - accuracy: 0.7633 - precision: 0.3117 - recall: 0.7775 - auc: 0.8489 - val_loss: 0.3507 - val_tp: 3271.0000 - val_fp: 6910.0000 - val_tn: 23096.0000 - val_fn: 1023.0000 - val_accuracy: 0.7687 - val_precision: 0.3213 - val_recall: 0.7618 - val_auc: 0.8502\n",
            "Epoch 32/100\n",
            "151/151 [==============================] - 1s 9ms/step - loss: 15.1720 - tp: 14730.1316 - fp: 32231.7368 - tn: 105384.8355 - fn: 4304.5855 - accuracy: 0.7676 - precision: 0.3130 - recall: 0.7719 - auc: 0.8501 - val_loss: 0.3560 - val_tp: 3382.0000 - val_fp: 7237.0000 - val_tn: 22769.0000 - val_fn: 912.0000 - val_accuracy: 0.7624 - val_precision: 0.3185 - val_recall: 0.7876 - val_auc: 0.8504\n",
            "Epoch 33/100\n",
            "151/151 [==============================] - 1s 9ms/step - loss: 15.2653 - tp: 14983.1053 - fp: 32882.3026 - tn: 104587.9211 - fn: 4197.9605 - accuracy: 0.7626 - precision: 0.3129 - recall: 0.7824 - auc: 0.8487 - val_loss: 0.3433 - val_tp: 3212.0000 - val_fp: 6686.0000 - val_tn: 23320.0000 - val_fn: 1082.0000 - val_accuracy: 0.7735 - val_precision: 0.3245 - val_recall: 0.7480 - val_auc: 0.8504\n",
            "Epoch 34/100\n",
            "151/151 [==============================] - 1s 9ms/step - loss: 15.2674 - tp: 14873.5987 - fp: 32348.5526 - tn: 105145.3816 - fn: 4283.7566 - accuracy: 0.7668 - precision: 0.3158 - recall: 0.7761 - auc: 0.8504 - val_loss: 0.3739 - val_tp: 3577.0000 - val_fp: 8076.0000 - val_tn: 21930.0000 - val_fn: 717.0000 - val_accuracy: 0.7436 - val_precision: 0.3070 - val_recall: 0.8330 - val_auc: 0.8499\n",
            "Epoch 35/100\n",
            "151/151 [==============================] - 1s 9ms/step - loss: 15.2580 - tp: 14934.7632 - fp: 32804.4539 - tn: 104728.0066 - fn: 4184.0658 - accuracy: 0.7626 - precision: 0.3118 - recall: 0.7814 - auc: 0.8488 - val_loss: 0.3513 - val_tp: 3286.0000 - val_fp: 6979.0000 - val_tn: 23027.0000 - val_fn: 1008.0000 - val_accuracy: 0.7671 - val_precision: 0.3201 - val_recall: 0.7653 - val_auc: 0.8509\n",
            "Epoch 36/100\n",
            "151/151 [==============================] - 1s 9ms/step - loss: 15.3592 - tp: 14873.7303 - fp: 32560.1711 - tn: 104923.0197 - fn: 4294.3684 - accuracy: 0.7636 - precision: 0.3132 - recall: 0.7743 - auc: 0.8479 - val_loss: 0.3488 - val_tp: 3290.0000 - val_fp: 6939.0000 - val_tn: 23067.0000 - val_fn: 1004.0000 - val_accuracy: 0.7684 - val_precision: 0.3216 - val_recall: 0.7662 - val_auc: 0.8504\n",
            "Epoch 37/100\n",
            "151/151 [==============================] - 1s 9ms/step - loss: 15.1854 - tp: 14751.8882 - fp: 32391.8026 - tn: 105192.0395 - fn: 4315.5592 - accuracy: 0.7667 - precision: 0.3115 - recall: 0.7700 - auc: 0.8490 - val_loss: 0.3718 - val_tp: 3564.0000 - val_fp: 7996.0000 - val_tn: 22010.0000 - val_fn: 730.0000 - val_accuracy: 0.7456 - val_precision: 0.3083 - val_recall: 0.8300 - val_auc: 0.8499\n",
            "Epoch 38/100\n",
            "151/151 [==============================] - 1s 9ms/step - loss: 15.2601 - tp: 14881.0132 - fp: 32716.8289 - tn: 104790.9868 - fn: 4262.4605 - accuracy: 0.7634 - precision: 0.3122 - recall: 0.7798 - auc: 0.8488 - val_loss: 0.3551 - val_tp: 3375.0000 - val_fp: 7237.0000 - val_tn: 22769.0000 - val_fn: 919.0000 - val_accuracy: 0.7622 - val_precision: 0.3180 - val_recall: 0.7860 - val_auc: 0.8507\n",
            "Epoch 39/100\n",
            "151/151 [==============================] - 1s 9ms/step - loss: 15.2277 - tp: 14891.7303 - fp: 32605.4145 - tn: 104901.7829 - fn: 4252.3618 - accuracy: 0.7650 - precision: 0.3141 - recall: 0.7805 - auc: 0.8499 - val_loss: 0.3511 - val_tp: 3301.0000 - val_fp: 6998.0000 - val_tn: 23008.0000 - val_fn: 993.0000 - val_accuracy: 0.7670 - val_precision: 0.3205 - val_recall: 0.7687 - val_auc: 0.8508\n",
            "Epoch 40/100\n",
            "151/151 [==============================] - 1s 9ms/step - loss: 15.2071 - tp: 14885.5987 - fp: 32485.8158 - tn: 105017.0132 - fn: 4262.8618 - accuracy: 0.7661 - precision: 0.3138 - recall: 0.7750 - auc: 0.8505 - val_loss: 0.3593 - val_tp: 3423.0000 - val_fp: 7398.0000 - val_tn: 22608.0000 - val_fn: 871.0000 - val_accuracy: 0.7589 - val_precision: 0.3163 - val_recall: 0.7972 - val_auc: 0.8507\n",
            "Epoch 41/100\n",
            "151/151 [==============================] - 1s 9ms/step - loss: 15.2202 - tp: 14951.6579 - fp: 32598.3158 - tn: 104875.6316 - fn: 4225.6842 - accuracy: 0.7650 - precision: 0.3146 - recall: 0.7803 - auc: 0.8504 - val_loss: 0.3415 - val_tp: 3169.0000 - val_fp: 6449.0000 - val_tn: 23557.0000 - val_fn: 1125.0000 - val_accuracy: 0.7792 - val_precision: 0.3295 - val_recall: 0.7380 - val_auc: 0.8507\n",
            "Epoch 42/100\n",
            "151/151 [==============================] - 1s 9ms/step - loss: 15.3453 - tp: 14869.8882 - fp: 32523.1184 - tn: 104961.6447 - fn: 4296.6382 - accuracy: 0.7648 - precision: 0.3139 - recall: 0.7738 - auc: 0.8483 - val_loss: 0.3500 - val_tp: 3289.0000 - val_fp: 6983.0000 - val_tn: 23023.0000 - val_fn: 1005.0000 - val_accuracy: 0.7671 - val_precision: 0.3202 - val_recall: 0.7660 - val_auc: 0.8511\n",
            "Epoch 43/100\n",
            "151/151 [==============================] - 1s 9ms/step - loss: 15.2372 - tp: 14776.1842 - fp: 32469.2303 - tn: 105120.8355 - fn: 4285.0395 - accuracy: 0.7653 - precision: 0.3122 - recall: 0.7738 - auc: 0.8491 - val_loss: 0.3517 - val_tp: 3348.0000 - val_fp: 7120.0000 - val_tn: 22886.0000 - val_fn: 946.0000 - val_accuracy: 0.7648 - val_precision: 0.3198 - val_recall: 0.7797 - val_auc: 0.8511\n",
            "Epoch 44/100\n",
            "151/151 [==============================] - 1s 9ms/step - loss: 15.2616 - tp: 14871.0724 - fp: 32668.1447 - tn: 104846.0855 - fn: 4265.9868 - accuracy: 0.7644 - precision: 0.3127 - recall: 0.7770 - auc: 0.8490 - val_loss: 0.3488 - val_tp: 3283.0000 - val_fp: 6911.0000 - val_tn: 23095.0000 - val_fn: 1011.0000 - val_accuracy: 0.7690 - val_precision: 0.3221 - val_recall: 0.7646 - val_auc: 0.8509\n",
            "Epoch 45/100\n",
            "151/151 [==============================] - 1s 9ms/step - loss: 15.2488 - tp: 14732.3553 - fp: 32282.6184 - tn: 105299.6579 - fn: 4336.6579 - accuracy: 0.7670 - precision: 0.3140 - recall: 0.7725 - auc: 0.8499 - val_loss: 0.3437 - val_tp: 3240.0000 - val_fp: 6729.0000 - val_tn: 23277.0000 - val_fn: 1054.0000 - val_accuracy: 0.7731 - val_precision: 0.3250 - val_recall: 0.7545 - val_auc: 0.8509\n",
            "Epoch 46/100\n",
            "151/151 [==============================] - 1s 9ms/step - loss: 15.3182 - tp: 14971.6776 - fp: 32752.1908 - tn: 104700.5987 - fn: 4226.8224 - accuracy: 0.7632 - precision: 0.3130 - recall: 0.7791 - auc: 0.8481 - val_loss: 0.3468 - val_tp: 3272.0000 - val_fp: 6874.0000 - val_tn: 23132.0000 - val_fn: 1022.0000 - val_accuracy: 0.7698 - val_precision: 0.3225 - val_recall: 0.7620 - val_auc: 0.8508\n",
            "Epoch 47/100\n",
            "151/151 [==============================] - 1s 9ms/step - loss: 15.2930 - tp: 14883.3947 - fp: 32429.4079 - tn: 105085.0395 - fn: 4253.4474 - accuracy: 0.7654 - precision: 0.3147 - recall: 0.7780 - auc: 0.8494 - val_loss: 0.3600 - val_tp: 3417.0000 - val_fp: 7366.0000 - val_tn: 22640.0000 - val_fn: 877.0000 - val_accuracy: 0.7597 - val_precision: 0.3169 - val_recall: 0.7958 - val_auc: 0.8512\n",
            "Epoch 48/100\n",
            "151/151 [==============================] - 1s 9ms/step - loss: 15.1849 - tp: 14773.2566 - fp: 32501.7763 - tn: 105106.3553 - fn: 4269.9013 - accuracy: 0.7660 - precision: 0.3125 - recall: 0.7762 - auc: 0.8497 - val_loss: 0.3504 - val_tp: 3346.0000 - val_fp: 7100.0000 - val_tn: 22906.0000 - val_fn: 948.0000 - val_accuracy: 0.7654 - val_precision: 0.3203 - val_recall: 0.7792 - val_auc: 0.8510\n",
            "Epoch 49/100\n",
            "151/151 [==============================] - 1s 9ms/step - loss: 15.2579 - tp: 14877.0789 - fp: 32528.8355 - tn: 104989.7105 - fn: 4255.6645 - accuracy: 0.7651 - precision: 0.3143 - recall: 0.7779 - auc: 0.8496 - val_loss: 0.3481 - val_tp: 3286.0000 - val_fp: 6911.0000 - val_tn: 23095.0000 - val_fn: 1008.0000 - val_accuracy: 0.7691 - val_precision: 0.3223 - val_recall: 0.7653 - val_auc: 0.8513\n",
            "Epoch 50/100\n",
            "151/151 [==============================] - 1s 9ms/step - loss: 15.1877 - tp: 14830.7368 - fp: 32388.9934 - tn: 105148.7171 - fn: 4282.8421 - accuracy: 0.7672 - precision: 0.3151 - recall: 0.7757 - auc: 0.8515 - val_loss: 0.3504 - val_tp: 3330.0000 - val_fp: 7053.0000 - val_tn: 22953.0000 - val_fn: 964.0000 - val_accuracy: 0.7663 - val_precision: 0.3207 - val_recall: 0.7755 - val_auc: 0.8513\n",
            "Epoch 51/100\n",
            "151/151 [==============================] - 1s 9ms/step - loss: 15.1943 - tp: 14805.9079 - fp: 32402.7039 - tn: 105148.2105 - fn: 4294.4671 - accuracy: 0.7667 - precision: 0.3137 - recall: 0.7752 - auc: 0.8504 - val_loss: 0.3516 - val_tp: 3333.0000 - val_fp: 7062.0000 - val_tn: 22944.0000 - val_fn: 961.0000 - val_accuracy: 0.7661 - val_precision: 0.3206 - val_recall: 0.7762 - val_auc: 0.8511\n",
            "Epoch 52/100\n",
            "151/151 [==============================] - 1s 9ms/step - loss: 15.2986 - tp: 14897.1382 - fp: 32594.4474 - tn: 104875.1974 - fn: 4284.5066 - accuracy: 0.7636 - precision: 0.3135 - recall: 0.7768 - auc: 0.8491 - val_loss: 0.3480 - val_tp: 3288.0000 - val_fp: 6931.0000 - val_tn: 23075.0000 - val_fn: 1006.0000 - val_accuracy: 0.7686 - val_precision: 0.3218 - val_recall: 0.7657 - val_auc: 0.8514\n",
            "Epoch 53/100\n",
            "151/151 [==============================] - 1s 9ms/step - loss: 15.2853 - tp: 14930.1645 - fp: 32592.4211 - tn: 104898.7303 - fn: 4229.9737 - accuracy: 0.7637 - precision: 0.3141 - recall: 0.7802 - auc: 0.8492 - val_loss: 0.3639 - val_tp: 3463.0000 - val_fp: 7557.0000 - val_tn: 22449.0000 - val_fn: 831.0000 - val_accuracy: 0.7555 - val_precision: 0.3142 - val_recall: 0.8065 - val_auc: 0.8509\n",
            "Epoch 54/100\n",
            "151/151 [==============================] - 1s 9ms/step - loss: 15.2714 - tp: 14834.7566 - fp: 32514.9408 - tn: 105024.2237 - fn: 4277.3684 - accuracy: 0.7650 - precision: 0.3133 - recall: 0.7774 - auc: 0.8492 - val_loss: 0.3519 - val_tp: 3334.0000 - val_fp: 7061.0000 - val_tn: 22945.0000 - val_fn: 960.0000 - val_accuracy: 0.7662 - val_precision: 0.3207 - val_recall: 0.7764 - val_auc: 0.8512\n",
            "Epoch 55/100\n",
            "151/151 [==============================] - 1s 9ms/step - loss: 15.2223 - tp: 14937.3618 - fp: 32416.4605 - tn: 105039.9013 - fn: 4257.5658 - accuracy: 0.7664 - precision: 0.3164 - recall: 0.7790 - auc: 0.8513 - val_loss: 0.3382 - val_tp: 3165.0000 - val_fp: 6434.0000 - val_tn: 23572.0000 - val_fn: 1129.0000 - val_accuracy: 0.7795 - val_precision: 0.3297 - val_recall: 0.7371 - val_auc: 0.8515\n",
            "Epoch 56/100\n",
            "151/151 [==============================] - 1s 9ms/step - loss: 15.3131 - tp: 14959.2697 - fp: 32594.1447 - tn: 104813.0789 - fn: 4284.7961 - accuracy: 0.7651 - precision: 0.3157 - recall: 0.7774 - auc: 0.8496 - val_loss: 0.3468 - val_tp: 3307.0000 - val_fp: 6943.0000 - val_tn: 23063.0000 - val_fn: 987.0000 - val_accuracy: 0.7688 - val_precision: 0.3226 - val_recall: 0.7701 - val_auc: 0.8512\n",
            "Epoch 57/100\n",
            "151/151 [==============================] - 1s 9ms/step - loss: 15.2277 - tp: 14902.1776 - fp: 32477.3816 - tn: 105011.0526 - fn: 4260.6776 - accuracy: 0.7657 - precision: 0.3152 - recall: 0.7780 - auc: 0.8507 - val_loss: 0.3590 - val_tp: 3432.0000 - val_fp: 7393.0000 - val_tn: 22613.0000 - val_fn: 862.0000 - val_accuracy: 0.7593 - val_precision: 0.3170 - val_recall: 0.7993 - val_auc: 0.8510\n",
            "Epoch 58/100\n",
            "151/151 [==============================] - 1s 9ms/step - loss: 15.2227 - tp: 14812.4737 - fp: 32321.5132 - tn: 105236.8618 - fn: 4280.4408 - accuracy: 0.7659 - precision: 0.3142 - recall: 0.7774 - auc: 0.8503 - val_loss: 0.3556 - val_tp: 3385.0000 - val_fp: 7216.0000 - val_tn: 22790.0000 - val_fn: 909.0000 - val_accuracy: 0.7631 - val_precision: 0.3193 - val_recall: 0.7883 - val_auc: 0.8516\n",
            "Epoch 59/100\n",
            "151/151 [==============================] - 1s 9ms/step - loss: 15.1589 - tp: 14857.5329 - fp: 32432.4342 - tn: 105096.8289 - fn: 4264.4934 - accuracy: 0.7663 - precision: 0.3146 - recall: 0.7774 - auc: 0.8513 - val_loss: 0.3544 - val_tp: 3393.0000 - val_fp: 7238.0000 - val_tn: 22768.0000 - val_fn: 901.0000 - val_accuracy: 0.7627 - val_precision: 0.3192 - val_recall: 0.7902 - val_auc: 0.8510\n",
            "Epoch 60/100\n",
            "151/151 [==============================] - 1s 9ms/step - loss: 15.2813 - tp: 14848.3092 - fp: 32409.4539 - tn: 105076.8224 - fn: 4316.7039 - accuracy: 0.7647 - precision: 0.3138 - recall: 0.7753 - auc: 0.8503 - val_loss: 0.3674 - val_tp: 3520.0000 - val_fp: 7777.0000 - val_tn: 22229.0000 - val_fn: 774.0000 - val_accuracy: 0.7507 - val_precision: 0.3116 - val_recall: 0.8197 - val_auc: 0.8512\n",
            "Epoch 61/100\n",
            "151/151 [==============================] - 1s 9ms/step - loss: 15.1969 - tp: 14903.9276 - fp: 32570.0592 - tn: 104974.0197 - fn: 4203.2829 - accuracy: 0.7645 - precision: 0.3138 - recall: 0.7839 - auc: 0.8497 - val_loss: 0.3560 - val_tp: 3390.0000 - val_fp: 7235.0000 - val_tn: 22771.0000 - val_fn: 904.0000 - val_accuracy: 0.7627 - val_precision: 0.3191 - val_recall: 0.7895 - val_auc: 0.8512\n",
            "Epoch 62/100\n",
            "151/151 [==============================] - 1s 9ms/step - loss: 15.2526 - tp: 14942.7829 - fp: 32488.6053 - tn: 104964.5461 - fn: 4255.3553 - accuracy: 0.7650 - precision: 0.3154 - recall: 0.7798 - auc: 0.8506 - val_loss: 0.3485 - val_tp: 3293.0000 - val_fp: 6968.0000 - val_tn: 23038.0000 - val_fn: 1001.0000 - val_accuracy: 0.7677 - val_precision: 0.3209 - val_recall: 0.7669 - val_auc: 0.8513\n",
            "Epoch 63/100\n",
            "151/151 [==============================] - 1s 9ms/step - loss: 15.3331 - tp: 14862.8026 - fp: 32597.6776 - tn: 104887.9605 - fn: 4302.8487 - accuracy: 0.7635 - precision: 0.3132 - recall: 0.7761 - auc: 0.8491 - val_loss: 0.3508 - val_tp: 3314.0000 - val_fp: 7030.0000 - val_tn: 22976.0000 - val_fn: 980.0000 - val_accuracy: 0.7665 - val_precision: 0.3204 - val_recall: 0.7718 - val_auc: 0.8512\n",
            "Epoch 64/100\n",
            "151/151 [==============================] - 1s 9ms/step - loss: 15.3147 - tp: 14839.7829 - fp: 32341.3092 - tn: 105187.9342 - fn: 4282.2632 - accuracy: 0.7658 - precision: 0.3151 - recall: 0.7766 - auc: 0.8491 - val_loss: 0.3599 - val_tp: 3431.0000 - val_fp: 7369.0000 - val_tn: 22637.0000 - val_fn: 863.0000 - val_accuracy: 0.7600 - val_precision: 0.3177 - val_recall: 0.7990 - val_auc: 0.8516\n",
            "Epoch 65/100\n",
            "151/151 [==============================] - 1s 9ms/step - loss: 15.2445 - tp: 14917.6513 - fp: 32532.2566 - tn: 104931.6118 - fn: 4269.7697 - accuracy: 0.7650 - precision: 0.3144 - recall: 0.7784 - auc: 0.8502 - val_loss: 0.3545 - val_tp: 3338.0000 - val_fp: 7106.0000 - val_tn: 22900.0000 - val_fn: 956.0000 - val_accuracy: 0.7650 - val_precision: 0.3196 - val_recall: 0.7774 - val_auc: 0.8505\n",
            "Epoch 66/100\n",
            "151/151 [==============================] - 1s 9ms/step - loss: 15.1409 - tp: 14734.0461 - fp: 32240.9934 - tn: 105364.5658 - fn: 4311.6842 - accuracy: 0.7680 - precision: 0.3127 - recall: 0.7719 - auc: 0.8501 - val_loss: 0.3531 - val_tp: 3356.0000 - val_fp: 7149.0000 - val_tn: 22857.0000 - val_fn: 938.0000 - val_accuracy: 0.7642 - val_precision: 0.3195 - val_recall: 0.7816 - val_auc: 0.8504\n",
            "Epoch 67/100\n",
            "151/151 [==============================] - 1s 9ms/step - loss: 15.2761 - tp: 14829.1382 - fp: 32285.5526 - tn: 105215.0855 - fn: 4321.5132 - accuracy: 0.7659 - precision: 0.3136 - recall: 0.7725 - auc: 0.8492 - val_loss: 0.3614 - val_tp: 3463.0000 - val_fp: 7508.0000 - val_tn: 22498.0000 - val_fn: 831.0000 - val_accuracy: 0.7569 - val_precision: 0.3157 - val_recall: 0.8065 - val_auc: 0.8512\n",
            "Epoch 68/100\n",
            "151/151 [==============================] - 1s 9ms/step - loss: 15.2461 - tp: 14861.5855 - fp: 32329.8355 - tn: 105197.2961 - fn: 4262.5724 - accuracy: 0.7663 - precision: 0.3149 - recall: 0.7785 - auc: 0.8502 - val_loss: 0.3438 - val_tp: 3223.0000 - val_fp: 6691.0000 - val_tn: 23315.0000 - val_fn: 1071.0000 - val_accuracy: 0.7737 - val_precision: 0.3251 - val_recall: 0.7506 - val_auc: 0.8511\n",
            "Epoch 69/100\n",
            "151/151 [==============================] - 1s 9ms/step - loss: 15.2342 - tp: 14880.9342 - fp: 32396.6316 - tn: 105093.8355 - fn: 4279.8882 - accuracy: 0.7662 - precision: 0.3142 - recall: 0.7735 - auc: 0.8497 - val_loss: 0.3512 - val_tp: 3317.0000 - val_fp: 6976.0000 - val_tn: 23030.0000 - val_fn: 977.0000 - val_accuracy: 0.7681 - val_precision: 0.3223 - val_recall: 0.7725 - val_auc: 0.8515\n",
            "Epoch 70/100\n",
            "151/151 [==============================] - 1s 9ms/step - loss: 15.2651 - tp: 14776.4211 - fp: 32211.5132 - tn: 105331.9276 - fn: 4331.4276 - accuracy: 0.7671 - precision: 0.3149 - recall: 0.7726 - auc: 0.8500 - val_loss: 0.3561 - val_tp: 3400.0000 - val_fp: 7277.0000 - val_tn: 22729.0000 - val_fn: 894.0000 - val_accuracy: 0.7618 - val_precision: 0.3184 - val_recall: 0.7918 - val_auc: 0.8516\n",
            "Epoch 71/100\n",
            "151/151 [==============================] - 1s 9ms/step - loss: 15.2078 - tp: 14774.1579 - fp: 32328.3618 - tn: 105260.3618 - fn: 4288.4079 - accuracy: 0.7659 - precision: 0.3130 - recall: 0.7748 - auc: 0.8502 - val_loss: 0.3612 - val_tp: 3420.0000 - val_fp: 7379.0000 - val_tn: 22627.0000 - val_fn: 874.0000 - val_accuracy: 0.7594 - val_precision: 0.3167 - val_recall: 0.7965 - val_auc: 0.8512\n",
            "Epoch 72/100\n",
            "151/151 [==============================] - 1s 9ms/step - loss: 15.2206 - tp: 14808.2039 - fp: 32425.8092 - tn: 105135.8816 - fn: 4281.3947 - accuracy: 0.7659 - precision: 0.3129 - recall: 0.7745 - auc: 0.8502 - val_loss: 0.3407 - val_tp: 3154.0000 - val_fp: 6445.0000 - val_tn: 23561.0000 - val_fn: 1140.0000 - val_accuracy: 0.7789 - val_precision: 0.3286 - val_recall: 0.7345 - val_auc: 0.8514\n",
            "Epoch 73/100\n",
            "151/151 [==============================] - 1s 10ms/step - loss: 15.2625 - tp: 14820.7895 - fp: 32238.1908 - tn: 105268.3289 - fn: 4323.9803 - accuracy: 0.7672 - precision: 0.3149 - recall: 0.7720 - auc: 0.8493 - val_loss: 0.3507 - val_tp: 3315.0000 - val_fp: 7003.0000 - val_tn: 23003.0000 - val_fn: 979.0000 - val_accuracy: 0.7673 - val_precision: 0.3213 - val_recall: 0.7720 - val_auc: 0.8516\n",
            "Epoch 74/100\n",
            "151/151 [==============================] - 1s 9ms/step - loss: 15.2377 - tp: 14856.5658 - fp: 32447.7829 - tn: 105067.1711 - fn: 4279.7697 - accuracy: 0.7648 - precision: 0.3131 - recall: 0.7748 - auc: 0.8496 - val_loss: 0.3487 - val_tp: 3256.0000 - val_fp: 6828.0000 - val_tn: 23178.0000 - val_fn: 1038.0000 - val_accuracy: 0.7707 - val_precision: 0.3229 - val_recall: 0.7583 - val_auc: 0.8512\n",
            "Restoring model weights from the end of the best epoch.\n",
            "Epoch 00074: early stopping\n"
          ],
          "name": "stdout"
        }
      ]
    },
    {
      "cell_type": "code",
      "metadata": {
        "id": "NsbhbvC3Tq7T"
      },
      "source": [
        "predictions6 = model6.predict(test_features)"
      ],
      "execution_count": null,
      "outputs": []
    },
    {
      "cell_type": "code",
      "metadata": {
        "id": "daAuqVeYTq7U"
      },
      "source": [
        "predictions6 = sigmoid_to_class(predictions6)"
      ],
      "execution_count": null,
      "outputs": []
    },
    {
      "cell_type": "code",
      "metadata": {
        "colab": {
          "base_uri": "https://localhost:8080/",
          "height": 344
        },
        "id": "ALDrk_ckTq7U",
        "outputId": "6a7f4b50-9e02-422a-8066-d7caad59df90"
      },
      "source": [
        "cnf_matrix = confusion_matrix(test_labels, predictions6)\n",
        "np.set_printoptions(precision=2)\n",
        "\n",
        "# Plot non-normalized confusion matrix\n",
        "plt.figure()\n",
        "plot_confusion_matrix(cnf_matrix, classes = ['Negative','Positive'],\n",
        "                      title='Confusion matrix')"
      ],
      "execution_count": null,
      "outputs": [
        {
          "output_type": "stream",
          "text": [
            "Confusion matrix, without normalization\n",
            "[[25189  8192]\n",
            " [  954  3776]]\n"
          ],
          "name": "stdout"
        },
        {
          "output_type": "display_data",
          "data": {
            "image/png": "[encoded data removed]",
            "text/plain": [
              "<Figure size 432x288 with 2 Axes>"
            ]
          },
          "metadata": {
            "tags": []
          }
        }
      ]
    },
    {
      "cell_type": "code",
      "metadata": {
        "colab": {
          "base_uri": "https://localhost:8080/"
        },
        "id": "is6dDCcTTq7V",
        "outputId": "1476e550-e0cc-4884-d820-a9bc94af5580"
      },
      "source": [
        "print('\\nClassification Report\\n')\n",
        "print(classification_report(test_labels, predictions6, target_names=['Negative','Positive']))"
      ],
      "execution_count": null,
      "outputs": [
        {
          "output_type": "stream",
          "text": [
            "\n",
            "Classification Report\n",
            "\n",
            "              precision    recall  f1-score   support\n",
            "\n",
            "    Negative       0.96      0.75      0.85     33381\n",
            "    Positive       0.32      0.80      0.45      4730\n",
            "\n",
            "    accuracy                           0.76     38111\n",
            "   macro avg       0.64      0.78      0.65     38111\n",
            "weighted avg       0.88      0.76      0.80     38111\n",
            "\n"
          ],
          "name": "stdout"
        }
      ]
    },
    {
      "cell_type": "markdown",
      "metadata": {
        "id": "XBTE4rdI1tZe"
      },
      "source": [
        "The Macro Average f1 score is improved to 0.65 from 0.61. In one final attempt, the ratio is adjusted even more to the majority class's favor in order to achieve even higher Macro Average f1 score."
      ]
    },
    {
      "cell_type": "markdown",
      "metadata": {
        "id": "9ouv0tXS2Iw-"
      },
      "source": [
        "<h4><b> Model 7 (Cost-Sensitive NN) <h4><b>"
      ]
    },
    {
      "cell_type": "code",
      "metadata": {
        "colab": {
          "base_uri": "https://localhost:8080/"
        },
        "id": "-3rcIQ6PUoC1",
        "outputId": "6a203bb4-dc11-4f46-f95c-1bd81617f98d"
      },
      "source": [
        "# define the neural network model\n",
        "def define_model(n_input):\n",
        "\t# define model\n",
        "\tmodel = Sequential()\n",
        "\t# define first hidden layer and visible layer\n",
        "\tmodel.add(Dense(10, input_dim=n_input, activation='relu', kernel_initializer='he_uniform'))\n",
        "\t# define output layer\n",
        "\tmodel.add(Dense(1, activation='sigmoid'))\n",
        "\t# define loss and optimizer\n",
        "\tmodel.compile(loss='binary_crossentropy', optimizer='sgd', metrics=METRICS)\n",
        "\treturn model\n",
        " \n",
        "# get the model\n",
        "n_input = train_features.shape[-1]\n",
        "model7 = define_model(n_input)\n",
        "# fit model\n",
        "weights = {0:35, 1:100}\n",
        "history = model7.fit(train_features, train_labels, class_weight=weights, batch_size=BATCH_SIZE, epochs=EPOCHS, callbacks = [early_stopping], validation_data=(val_features, val_labels))"
      ],
      "execution_count": null,
      "outputs": [
        {
          "output_type": "stream",
          "text": [
            "Epoch 1/100\n",
            "151/151 [==============================] - 4s 15ms/step - loss: 21.2256 - tp: 12412.0921 - fp: 29058.2566 - tn: 138513.2368 - fn: 10967.7039 - accuracy: 0.7890 - precision: 0.2957 - recall: 0.5217 - auc: 0.8053 - val_loss: 0.3404 - val_tp: 2933.0000 - val_fp: 6214.0000 - val_tn: 23792.0000 - val_fn: 1361.0000 - val_accuracy: 0.7792 - val_precision: 0.3207 - val_recall: 0.6830 - val_auc: 0.8388\n",
            "Epoch 2/100\n",
            "151/151 [==============================] - 1s 9ms/step - loss: 17.4814 - tp: 12450.6250 - fp: 27220.3289 - tn: 110275.6447 - fn: 6704.6908 - accuracy: 0.7833 - precision: 0.3146 - recall: 0.6503 - auc: 0.8376 - val_loss: 0.3319 - val_tp: 2966.0000 - val_fp: 6234.0000 - val_tn: 23772.0000 - val_fn: 1328.0000 - val_accuracy: 0.7795 - val_precision: 0.3224 - val_recall: 0.6907 - val_auc: 0.8409\n",
            "Epoch 3/100\n",
            "151/151 [==============================] - 1s 9ms/step - loss: 17.2998 - tp: 12825.2039 - fp: 27714.5724 - tn: 109814.0197 - fn: 6297.4934 - accuracy: 0.7828 - precision: 0.3155 - recall: 0.6682 - auc: 0.8405 - val_loss: 0.3245 - val_tp: 2798.0000 - val_fp: 5715.0000 - val_tn: 24291.0000 - val_fn: 1496.0000 - val_accuracy: 0.7898 - val_precision: 0.3287 - val_recall: 0.6516 - val_auc: 0.8432\n",
            "Epoch 4/100\n",
            "151/151 [==============================] - 1s 9ms/step - loss: 17.3193 - tp: 12939.7697 - fp: 27932.4737 - tn: 109543.2500 - fn: 6235.7961 - accuracy: 0.7819 - precision: 0.3159 - recall: 0.6709 - auc: 0.8410 - val_loss: 0.3269 - val_tp: 2934.0000 - val_fp: 6050.0000 - val_tn: 23956.0000 - val_fn: 1360.0000 - val_accuracy: 0.7840 - val_precision: 0.3266 - val_recall: 0.6833 - val_auc: 0.8442\n",
            "Epoch 5/100\n",
            "151/151 [==============================] - 1s 9ms/step - loss: 17.1849 - tp: 12968.9868 - fp: 27667.6118 - tn: 109879.3026 - fn: 6135.3882 - accuracy: 0.7842 - precision: 0.3189 - recall: 0.6806 - auc: 0.8432 - val_loss: 0.3283 - val_tp: 2899.0000 - val_fp: 5907.0000 - val_tn: 24099.0000 - val_fn: 1395.0000 - val_accuracy: 0.7871 - val_precision: 0.3292 - val_recall: 0.6751 - val_auc: 0.8458\n",
            "Epoch 6/100\n",
            "151/151 [==============================] - 1s 9ms/step - loss: 17.1297 - tp: 12652.8026 - fp: 26946.7237 - tn: 110702.9079 - fn: 6348.8553 - accuracy: 0.7876 - precision: 0.3196 - recall: 0.6652 - auc: 0.8444 - val_loss: 0.3238 - val_tp: 2845.0000 - val_fp: 5673.0000 - val_tn: 24333.0000 - val_fn: 1449.0000 - val_accuracy: 0.7924 - val_precision: 0.3340 - val_recall: 0.6626 - val_auc: 0.8466\n",
            "Epoch 7/100\n",
            "151/151 [==============================] - 1s 9ms/step - loss: 17.1472 - tp: 12733.4408 - fp: 26742.4605 - tn: 110798.3355 - fn: 6377.0526 - accuracy: 0.7890 - precision: 0.3229 - recall: 0.6667 - auc: 0.8454 - val_loss: 0.3237 - val_tp: 2836.0000 - val_fp: 5644.0000 - val_tn: 24362.0000 - val_fn: 1458.0000 - val_accuracy: 0.7929 - val_precision: 0.3344 - val_recall: 0.6605 - val_auc: 0.8475\n",
            "Epoch 8/100\n",
            "151/151 [==============================] - 1s 9ms/step - loss: 16.9872 - tp: 12624.5395 - fp: 26454.6974 - tn: 111238.5066 - fn: 6333.5461 - accuracy: 0.7918 - precision: 0.3231 - recall: 0.6643 - auc: 0.8471 - val_loss: 0.3303 - val_tp: 2951.0000 - val_fp: 5940.0000 - val_tn: 24066.0000 - val_fn: 1343.0000 - val_accuracy: 0.7877 - val_precision: 0.3319 - val_recall: 0.6872 - val_auc: 0.8485\n",
            "Epoch 9/100\n",
            "151/151 [==============================] - 1s 9ms/step - loss: 17.1340 - tp: 12687.6776 - fp: 26370.9211 - tn: 111212.0855 - fn: 6380.6053 - accuracy: 0.7909 - precision: 0.3241 - recall: 0.6635 - auc: 0.8461 - val_loss: 0.3235 - val_tp: 2791.0000 - val_fp: 5492.0000 - val_tn: 24514.0000 - val_fn: 1503.0000 - val_accuracy: 0.7961 - val_precision: 0.3370 - val_recall: 0.6500 - val_auc: 0.8489\n",
            "Epoch 10/100\n",
            "151/151 [==============================] - 1s 9ms/step - loss: 17.0919 - tp: 12593.7303 - fp: 26280.8224 - tn: 111337.0395 - fn: 6439.6974 - accuracy: 0.7914 - precision: 0.3237 - recall: 0.6596 - auc: 0.8462 - val_loss: 0.3240 - val_tp: 2864.0000 - val_fp: 5663.0000 - val_tn: 24343.0000 - val_fn: 1430.0000 - val_accuracy: 0.7932 - val_precision: 0.3359 - val_recall: 0.6670 - val_auc: 0.8488\n",
            "Epoch 11/100\n",
            "151/151 [==============================] - 1s 9ms/step - loss: 17.1179 - tp: 12824.8487 - fp: 26440.5658 - tn: 111028.1645 - fn: 6357.7105 - accuracy: 0.7915 - precision: 0.3274 - recall: 0.6689 - auc: 0.8475 - val_loss: 0.3236 - val_tp: 2837.0000 - val_fp: 5594.0000 - val_tn: 24412.0000 - val_fn: 1457.0000 - val_accuracy: 0.7944 - val_precision: 0.3365 - val_recall: 0.6607 - val_auc: 0.8490\n",
            "Epoch 12/100\n",
            "151/151 [==============================] - 1s 9ms/step - loss: 17.0859 - tp: 12750.7763 - fp: 26270.3684 - tn: 111261.8750 - fn: 6368.2697 - accuracy: 0.7916 - precision: 0.3271 - recall: 0.6684 - auc: 0.8474 - val_loss: 0.3142 - val_tp: 2601.0000 - val_fp: 5069.0000 - val_tn: 24937.0000 - val_fn: 1693.0000 - val_accuracy: 0.8029 - val_precision: 0.3391 - val_recall: 0.6057 - val_auc: 0.8484\n",
            "Epoch 13/100\n",
            "151/151 [==============================] - 1s 9ms/step - loss: 17.1074 - tp: 12773.8947 - fp: 26290.8158 - tn: 111241.8553 - fn: 6344.7237 - accuracy: 0.7912 - precision: 0.3287 - recall: 0.6719 - auc: 0.8481 - val_loss: 0.3278 - val_tp: 2933.0000 - val_fp: 5890.0000 - val_tn: 24116.0000 - val_fn: 1361.0000 - val_accuracy: 0.7886 - val_precision: 0.3324 - val_recall: 0.6830 - val_auc: 0.8496\n",
            "Epoch 14/100\n",
            "151/151 [==============================] - 1s 9ms/step - loss: 17.0391 - tp: 12854.5855 - fp: 26356.7829 - tn: 111174.2566 - fn: 6265.6645 - accuracy: 0.7914 - precision: 0.3282 - recall: 0.6749 - auc: 0.8481 - val_loss: 0.3257 - val_tp: 2898.0000 - val_fp: 5834.0000 - val_tn: 24172.0000 - val_fn: 1396.0000 - val_accuracy: 0.7892 - val_precision: 0.3319 - val_recall: 0.6749 - val_auc: 0.8493\n",
            "Epoch 15/100\n",
            "151/151 [==============================] - 1s 9ms/step - loss: 17.0490 - tp: 12662.5197 - fp: 26067.1118 - tn: 111511.3092 - fn: 6410.3487 - accuracy: 0.7929 - precision: 0.3268 - recall: 0.6635 - auc: 0.8476 - val_loss: 0.3372 - val_tp: 3179.0000 - val_fp: 6566.0000 - val_tn: 23440.0000 - val_fn: 1115.0000 - val_accuracy: 0.7761 - val_precision: 0.3262 - val_recall: 0.7403 - val_auc: 0.8493\n",
            "Epoch 16/100\n",
            "151/151 [==============================] - 1s 9ms/step - loss: 17.0210 - tp: 12795.1447 - fp: 26332.6579 - tn: 111222.5855 - fn: 6300.9013 - accuracy: 0.7915 - precision: 0.3271 - recall: 0.6750 - auc: 0.8490 - val_loss: 0.3287 - val_tp: 2990.0000 - val_fp: 6055.0000 - val_tn: 23951.0000 - val_fn: 1304.0000 - val_accuracy: 0.7855 - val_precision: 0.3306 - val_recall: 0.6963 - val_auc: 0.8493\n",
            "Epoch 17/100\n",
            "151/151 [==============================] - 1s 9ms/step - loss: 17.0567 - tp: 12771.7105 - fp: 26254.0395 - tn: 111300.2303 - fn: 6325.3092 - accuracy: 0.7921 - precision: 0.3262 - recall: 0.6669 - auc: 0.8476 - val_loss: 0.3273 - val_tp: 2882.0000 - val_fp: 5799.0000 - val_tn: 24207.0000 - val_fn: 1412.0000 - val_accuracy: 0.7898 - val_precision: 0.3320 - val_recall: 0.6712 - val_auc: 0.8494\n",
            "Epoch 18/100\n",
            "151/151 [==============================] - 1s 9ms/step - loss: 17.0331 - tp: 12617.2566 - fp: 25856.8487 - tn: 111767.8092 - fn: 6409.3750 - accuracy: 0.7949 - precision: 0.3295 - recall: 0.6639 - auc: 0.8487 - val_loss: 0.3321 - val_tp: 3033.0000 - val_fp: 6149.0000 - val_tn: 23857.0000 - val_fn: 1261.0000 - val_accuracy: 0.7840 - val_precision: 0.3303 - val_recall: 0.7063 - val_auc: 0.8498\n",
            "Epoch 19/100\n",
            "151/151 [==============================] - 1s 9ms/step - loss: 17.0248 - tp: 12705.1579 - fp: 26097.8487 - tn: 111442.9408 - fn: 6405.3421 - accuracy: 0.7925 - precision: 0.3273 - recall: 0.6673 - auc: 0.8483 - val_loss: 0.3210 - val_tp: 2794.0000 - val_fp: 5495.0000 - val_tn: 24511.0000 - val_fn: 1500.0000 - val_accuracy: 0.7961 - val_precision: 0.3371 - val_recall: 0.6507 - val_auc: 0.8495\n",
            "Epoch 20/100\n",
            "151/151 [==============================] - 1s 9ms/step - loss: 17.0870 - tp: 12687.3289 - fp: 26028.7368 - tn: 111500.0526 - fn: 6435.1711 - accuracy: 0.7926 - precision: 0.3269 - recall: 0.6623 - auc: 0.8476 - val_loss: 0.3229 - val_tp: 2817.0000 - val_fp: 5537.0000 - val_tn: 24469.0000 - val_fn: 1477.0000 - val_accuracy: 0.7955 - val_precision: 0.3372 - val_recall: 0.6560 - val_auc: 0.8498\n",
            "Epoch 21/100\n",
            "151/151 [==============================] - 1s 8ms/step - loss: 17.1394 - tp: 12801.1776 - fp: 26187.3289 - tn: 111270.9276 - fn: 6391.8553 - accuracy: 0.7918 - precision: 0.3278 - recall: 0.6662 - auc: 0.8473 - val_loss: 0.3270 - val_tp: 2903.0000 - val_fp: 5811.0000 - val_tn: 24195.0000 - val_fn: 1391.0000 - val_accuracy: 0.7900 - val_precision: 0.3331 - val_recall: 0.6761 - val_auc: 0.8500\n",
            "Epoch 22/100\n",
            "151/151 [==============================] - 1s 9ms/step - loss: 17.0683 - tp: 12744.7039 - fp: 25988.6776 - tn: 111489.2895 - fn: 6428.6184 - accuracy: 0.7935 - precision: 0.3297 - recall: 0.6655 - auc: 0.8490 - val_loss: 0.3250 - val_tp: 2863.0000 - val_fp: 5716.0000 - val_tn: 24290.0000 - val_fn: 1431.0000 - val_accuracy: 0.7916 - val_precision: 0.3337 - val_recall: 0.6667 - val_auc: 0.8499\n",
            "Epoch 23/100\n",
            "151/151 [==============================] - 1s 9ms/step - loss: 17.0603 - tp: 12598.3355 - fp: 25851.9013 - tn: 111716.2105 - fn: 6484.8421 - accuracy: 0.7939 - precision: 0.3263 - recall: 0.6566 - auc: 0.8475 - val_loss: 0.3321 - val_tp: 3034.0000 - val_fp: 6161.0000 - val_tn: 23845.0000 - val_fn: 1260.0000 - val_accuracy: 0.7836 - val_precision: 0.3300 - val_recall: 0.7066 - val_auc: 0.8497\n",
            "Epoch 24/100\n",
            "151/151 [==============================] - 1s 9ms/step - loss: 17.0245 - tp: 12649.5263 - fp: 25936.1776 - tn: 111613.9934 - fn: 6451.5921 - accuracy: 0.7932 - precision: 0.3271 - recall: 0.6624 - auc: 0.8484 - val_loss: 0.3197 - val_tp: 2725.0000 - val_fp: 5349.0000 - val_tn: 24657.0000 - val_fn: 1569.0000 - val_accuracy: 0.7983 - val_precision: 0.3375 - val_recall: 0.6346 - val_auc: 0.8498\n",
            "Epoch 25/100\n",
            "151/151 [==============================] - 1s 9ms/step - loss: 17.0968 - tp: 12720.0197 - fp: 26025.1250 - tn: 111453.9671 - fn: 6452.1776 - accuracy: 0.7925 - precision: 0.3280 - recall: 0.6611 - auc: 0.8481 - val_loss: 0.3256 - val_tp: 2851.0000 - val_fp: 5662.0000 - val_tn: 24344.0000 - val_fn: 1443.0000 - val_accuracy: 0.7929 - val_precision: 0.3349 - val_recall: 0.6639 - val_auc: 0.8502\n",
            "Epoch 26/100\n",
            "151/151 [==============================] - 1s 9ms/step - loss: 17.0621 - tp: 12507.5461 - fp: 25683.7829 - tn: 111944.8618 - fn: 6515.0987 - accuracy: 0.7941 - precision: 0.3267 - recall: 0.6556 - auc: 0.8477 - val_loss: 0.3185 - val_tp: 2659.0000 - val_fp: 5138.0000 - val_tn: 24868.0000 - val_fn: 1635.0000 - val_accuracy: 0.8025 - val_precision: 0.3410 - val_recall: 0.6192 - val_auc: 0.8503\n",
            "Epoch 27/100\n",
            "151/151 [==============================] - 1s 9ms/step - loss: 16.9838 - tp: 12618.5329 - fp: 25656.1513 - tn: 111892.0592 - fn: 6484.5461 - accuracy: 0.7949 - precision: 0.3306 - recall: 0.6616 - auc: 0.8496 - val_loss: 0.3221 - val_tp: 2722.0000 - val_fp: 5316.0000 - val_tn: 24690.0000 - val_fn: 1572.0000 - val_accuracy: 0.7992 - val_precision: 0.3386 - val_recall: 0.6339 - val_auc: 0.8498\n",
            "Epoch 28/100\n",
            "151/151 [==============================] - 1s 9ms/step - loss: 17.0826 - tp: 12670.5263 - fp: 25711.0592 - tn: 111773.5526 - fn: 6496.1513 - accuracy: 0.7940 - precision: 0.3320 - recall: 0.6644 - auc: 0.8495 - val_loss: 0.3204 - val_tp: 2726.0000 - val_fp: 5352.0000 - val_tn: 24654.0000 - val_fn: 1568.0000 - val_accuracy: 0.7983 - val_precision: 0.3375 - val_recall: 0.6348 - val_auc: 0.8498\n",
            "Epoch 29/100\n",
            "151/151 [==============================] - 1s 9ms/step - loss: 17.0447 - tp: 12520.9671 - fp: 25550.7434 - tn: 112030.9737 - fn: 6548.6053 - accuracy: 0.7955 - precision: 0.3281 - recall: 0.6526 - auc: 0.8479 - val_loss: 0.3301 - val_tp: 2999.0000 - val_fp: 6086.0000 - val_tn: 23920.0000 - val_fn: 1295.0000 - val_accuracy: 0.7848 - val_precision: 0.3301 - val_recall: 0.6984 - val_auc: 0.8499\n",
            "Epoch 30/100\n",
            "151/151 [==============================] - 1s 9ms/step - loss: 17.0126 - tp: 12585.6579 - fp: 25788.0987 - tn: 111770.7171 - fn: 6506.8158 - accuracy: 0.7943 - precision: 0.3277 - recall: 0.6591 - auc: 0.8484 - val_loss: 0.3285 - val_tp: 2940.0000 - val_fp: 5911.0000 - val_tn: 24095.0000 - val_fn: 1354.0000 - val_accuracy: 0.7882 - val_precision: 0.3322 - val_recall: 0.6847 - val_auc: 0.8504\n",
            "Epoch 31/100\n",
            "151/151 [==============================] - 1s 9ms/step - loss: 17.0798 - tp: 12581.3750 - fp: 25823.0658 - tn: 111746.5197 - fn: 6500.3289 - accuracy: 0.7931 - precision: 0.3273 - recall: 0.6618 - auc: 0.8475 - val_loss: 0.3234 - val_tp: 2791.0000 - val_fp: 5471.0000 - val_tn: 24535.0000 - val_fn: 1503.0000 - val_accuracy: 0.7967 - val_precision: 0.3378 - val_recall: 0.6500 - val_auc: 0.8503\n",
            "Epoch 32/100\n",
            "151/151 [==============================] - 1s 9ms/step - loss: 16.9788 - tp: 12503.6842 - fp: 25471.0724 - tn: 112116.7434 - fn: 6559.7895 - accuracy: 0.7965 - precision: 0.3279 - recall: 0.6499 - auc: 0.8491 - val_loss: 0.3434 - val_tp: 3262.0000 - val_fp: 6853.0000 - val_tn: 23153.0000 - val_fn: 1032.0000 - val_accuracy: 0.7701 - val_precision: 0.3225 - val_recall: 0.7597 - val_auc: 0.8500\n",
            "Epoch 33/100\n",
            "151/151 [==============================] - 1s 9ms/step - loss: 17.0104 - tp: 12910.5724 - fp: 26133.0526 - tn: 111292.8618 - fn: 6314.8026 - accuracy: 0.7915 - precision: 0.3306 - recall: 0.6784 - auc: 0.8498 - val_loss: 0.3363 - val_tp: 3115.0000 - val_fp: 6379.0000 - val_tn: 23627.0000 - val_fn: 1179.0000 - val_accuracy: 0.7797 - val_precision: 0.3281 - val_recall: 0.7254 - val_auc: 0.8501\n",
            "Epoch 34/100\n",
            "151/151 [==============================] - 1s 9ms/step - loss: 17.1066 - tp: 12753.7961 - fp: 25777.5921 - tn: 111647.9671 - fn: 6471.9342 - accuracy: 0.7937 - precision: 0.3313 - recall: 0.6659 - auc: 0.8489 - val_loss: 0.3168 - val_tp: 2629.0000 - val_fp: 5039.0000 - val_tn: 24967.0000 - val_fn: 1665.0000 - val_accuracy: 0.8045 - val_precision: 0.3429 - val_recall: 0.6122 - val_auc: 0.8502\n",
            "Epoch 35/100\n",
            "151/151 [==============================] - 1s 9ms/step - loss: 17.0623 - tp: 12566.3224 - fp: 25499.4211 - tn: 112034.3882 - fn: 6551.1579 - accuracy: 0.7963 - precision: 0.3317 - recall: 0.6575 - auc: 0.8488 - val_loss: 0.3369 - val_tp: 3141.0000 - val_fp: 6422.0000 - val_tn: 23584.0000 - val_fn: 1153.0000 - val_accuracy: 0.7792 - val_precision: 0.3285 - val_recall: 0.7315 - val_auc: 0.8504\n",
            "Epoch 36/100\n",
            "151/151 [==============================] - 1s 9ms/step - loss: 17.0535 - tp: 12684.5526 - fp: 26001.7895 - tn: 111489.2632 - fn: 6475.6842 - accuracy: 0.7920 - precision: 0.3273 - recall: 0.6647 - auc: 0.8487 - val_loss: 0.3252 - val_tp: 2888.0000 - val_fp: 5731.0000 - val_tn: 24275.0000 - val_fn: 1406.0000 - val_accuracy: 0.7919 - val_precision: 0.3351 - val_recall: 0.6726 - val_auc: 0.8504\n",
            "Epoch 37/100\n",
            "151/151 [==============================] - 1s 9ms/step - loss: 17.0139 - tp: 12423.9276 - fp: 25325.0066 - tn: 112313.5921 - fn: 6588.7632 - accuracy: 0.7963 - precision: 0.3282 - recall: 0.6514 - auc: 0.8485 - val_loss: 0.3258 - val_tp: 2899.0000 - val_fp: 5807.0000 - val_tn: 24199.0000 - val_fn: 1395.0000 - val_accuracy: 0.7900 - val_precision: 0.3330 - val_recall: 0.6751 - val_auc: 0.8504\n",
            "Epoch 38/100\n",
            "151/151 [==============================] - 1s 9ms/step - loss: 17.1864 - tp: 12702.1974 - fp: 25946.8487 - tn: 111522.4539 - fn: 6479.7895 - accuracy: 0.7912 - precision: 0.3286 - recall: 0.6656 - auc: 0.8472 - val_loss: 0.3280 - val_tp: 2934.0000 - val_fp: 5838.0000 - val_tn: 24168.0000 - val_fn: 1360.0000 - val_accuracy: 0.7901 - val_precision: 0.3345 - val_recall: 0.6833 - val_auc: 0.8505\n",
            "Epoch 39/100\n",
            "151/151 [==============================] - 1s 9ms/step - loss: 17.1056 - tp: 12667.6184 - fp: 25800.8947 - tn: 111707.2105 - fn: 6475.5658 - accuracy: 0.7939 - precision: 0.3292 - recall: 0.6616 - auc: 0.8478 - val_loss: 0.3201 - val_tp: 2707.0000 - val_fp: 5238.0000 - val_tn: 24768.0000 - val_fn: 1587.0000 - val_accuracy: 0.8010 - val_precision: 0.3407 - val_recall: 0.6304 - val_auc: 0.8504\n",
            "Epoch 40/100\n",
            "151/151 [==============================] - 1s 9ms/step - loss: 17.0659 - tp: 12614.7368 - fp: 25677.1447 - tn: 111851.7237 - fn: 6507.6842 - accuracy: 0.7940 - precision: 0.3299 - recall: 0.6615 - auc: 0.8488 - val_loss: 0.3254 - val_tp: 2857.0000 - val_fp: 5631.0000 - val_tn: 24375.0000 - val_fn: 1437.0000 - val_accuracy: 0.7939 - val_precision: 0.3366 - val_recall: 0.6653 - val_auc: 0.8506\n",
            "Epoch 41/100\n",
            "151/151 [==============================] - 1s 9ms/step - loss: 17.0061 - tp: 12577.0197 - fp: 25532.9145 - tn: 111998.7368 - fn: 6542.6184 - accuracy: 0.7964 - precision: 0.3297 - recall: 0.6551 - auc: 0.8492 - val_loss: 0.3292 - val_tp: 2954.0000 - val_fp: 5906.0000 - val_tn: 24100.0000 - val_fn: 1340.0000 - val_accuracy: 0.7887 - val_precision: 0.3334 - val_recall: 0.6879 - val_auc: 0.8509\n",
            "Epoch 42/100\n",
            "151/151 [==============================] - 1s 9ms/step - loss: 17.1274 - tp: 12713.3224 - fp: 25890.3158 - tn: 111593.5658 - fn: 6454.0855 - accuracy: 0.7923 - precision: 0.3286 - recall: 0.6641 - auc: 0.8476 - val_loss: 0.3217 - val_tp: 2778.0000 - val_fp: 5435.0000 - val_tn: 24571.0000 - val_fn: 1516.0000 - val_accuracy: 0.7973 - val_precision: 0.3382 - val_recall: 0.6469 - val_auc: 0.8505\n",
            "Epoch 43/100\n",
            "151/151 [==============================] - 1s 9ms/step - loss: 17.0578 - tp: 12779.4145 - fp: 25943.3553 - tn: 111529.4342 - fn: 6399.0855 - accuracy: 0.7931 - precision: 0.3304 - recall: 0.6681 - auc: 0.8488 - val_loss: 0.3306 - val_tp: 2955.0000 - val_fp: 5886.0000 - val_tn: 24120.0000 - val_fn: 1339.0000 - val_accuracy: 0.7894 - val_precision: 0.3342 - val_recall: 0.6882 - val_auc: 0.8508\n",
            "Epoch 44/100\n",
            "151/151 [==============================] - 1s 9ms/step - loss: 17.0443 - tp: 12752.7105 - fp: 25704.0526 - tn: 111776.4211 - fn: 6418.1053 - accuracy: 0.7952 - precision: 0.3325 - recall: 0.6666 - auc: 0.8497 - val_loss: 0.3216 - val_tp: 2744.0000 - val_fp: 5339.0000 - val_tn: 24667.0000 - val_fn: 1550.0000 - val_accuracy: 0.7992 - val_precision: 0.3395 - val_recall: 0.6390 - val_auc: 0.8502\n",
            "Epoch 45/100\n",
            "151/151 [==============================] - 1s 9ms/step - loss: 16.9873 - tp: 12707.9539 - fp: 25692.3947 - tn: 111825.0263 - fn: 6425.9145 - accuracy: 0.7952 - precision: 0.3312 - recall: 0.6645 - auc: 0.8498 - val_loss: 0.3156 - val_tp: 2590.0000 - val_fp: 4871.0000 - val_tn: 25135.0000 - val_fn: 1704.0000 - val_accuracy: 0.8083 - val_precision: 0.3471 - val_recall: 0.6032 - val_auc: 0.8508\n",
            "Epoch 46/100\n",
            "151/151 [==============================] - 1s 9ms/step - loss: 17.0269 - tp: 12599.8289 - fp: 25687.9868 - tn: 111882.6908 - fn: 6480.7829 - accuracy: 0.7953 - precision: 0.3290 - recall: 0.6557 - auc: 0.8488 - val_loss: 0.3321 - val_tp: 2975.0000 - val_fp: 5943.0000 - val_tn: 24063.0000 - val_fn: 1319.0000 - val_accuracy: 0.7883 - val_precision: 0.3336 - val_recall: 0.6928 - val_auc: 0.8508\n",
            "Epoch 47/100\n",
            "151/151 [==============================] - 1s 9ms/step - loss: 16.9978 - tp: 12530.0329 - fp: 25564.1908 - tn: 111988.9408 - fn: 6568.1250 - accuracy: 0.7947 - precision: 0.3282 - recall: 0.6554 - auc: 0.8492 - val_loss: 0.3216 - val_tp: 2773.0000 - val_fp: 5431.0000 - val_tn: 24575.0000 - val_fn: 1521.0000 - val_accuracy: 0.7973 - val_precision: 0.3380 - val_recall: 0.6458 - val_auc: 0.8504\n",
            "Epoch 48/100\n",
            "151/151 [==============================] - 1s 9ms/step - loss: 17.0162 - tp: 12573.0000 - fp: 25546.9539 - tn: 112024.4803 - fn: 6506.8553 - accuracy: 0.7959 - precision: 0.3299 - recall: 0.6579 - auc: 0.8491 - val_loss: 0.3180 - val_tp: 2674.0000 - val_fp: 5161.0000 - val_tn: 24845.0000 - val_fn: 1620.0000 - val_accuracy: 0.8023 - val_precision: 0.3413 - val_recall: 0.6227 - val_auc: 0.8508\n",
            "Epoch 49/100\n",
            "151/151 [==============================] - 1s 9ms/step - loss: 17.1202 - tp: 12559.8026 - fp: 25427.1513 - tn: 112097.5132 - fn: 6566.8224 - accuracy: 0.7955 - precision: 0.3304 - recall: 0.6551 - auc: 0.8478 - val_loss: 0.3114 - val_tp: 2439.0000 - val_fp: 4520.0000 - val_tn: 25486.0000 - val_fn: 1855.0000 - val_accuracy: 0.8141 - val_precision: 0.3505 - val_recall: 0.5680 - val_auc: 0.8505\n",
            "Epoch 50/100\n",
            "151/151 [==============================] - 1s 9ms/step - loss: 16.9795 - tp: 12432.7105 - fp: 25385.9145 - tn: 112254.0921 - fn: 6578.5724 - accuracy: 0.7965 - precision: 0.3286 - recall: 0.6509 - auc: 0.8490 - val_loss: 0.3242 - val_tp: 2759.0000 - val_fp: 5373.0000 - val_tn: 24633.0000 - val_fn: 1535.0000 - val_accuracy: 0.7986 - val_precision: 0.3393 - val_recall: 0.6425 - val_auc: 0.8506\n",
            "Epoch 51/100\n",
            "151/151 [==============================] - 1s 9ms/step - loss: 16.9690 - tp: 12414.9539 - fp: 25425.7368 - tn: 112201.7566 - fn: 6608.8421 - accuracy: 0.7964 - precision: 0.3268 - recall: 0.6477 - auc: 0.8482 - val_loss: 0.3410 - val_tp: 3178.0000 - val_fp: 6556.0000 - val_tn: 23450.0000 - val_fn: 1116.0000 - val_accuracy: 0.7763 - val_precision: 0.3265 - val_recall: 0.7401 - val_auc: 0.8508\n",
            "Restoring model weights from the end of the best epoch.\n",
            "Epoch 00051: early stopping\n"
          ],
          "name": "stdout"
        }
      ]
    },
    {
      "cell_type": "code",
      "metadata": {
        "id": "pG_1OikQUoC7"
      },
      "source": [
        "predictions7 = model7.predict(test_features)"
      ],
      "execution_count": null,
      "outputs": []
    },
    {
      "cell_type": "code",
      "metadata": {
        "id": "rDeN-PhFUoC7"
      },
      "source": [
        "predictions7 = sigmoid_to_class(predictions7)"
      ],
      "execution_count": null,
      "outputs": []
    },
    {
      "cell_type": "code",
      "metadata": {
        "colab": {
          "base_uri": "https://localhost:8080/",
          "height": 344
        },
        "id": "ZeOPtqY6UoC7",
        "outputId": "7a344826-3853-4835-a985-068612f1f443"
      },
      "source": [
        "cnf_matrix = confusion_matrix(test_labels, predictions7)\n",
        "np.set_printoptions(precision=2)\n",
        "\n",
        "# Plot non-normalized confusion matrix\n",
        "plt.figure()\n",
        "plot_confusion_matrix(cnf_matrix, classes = ['Negative','Positive'],\n",
        "                      title='Confusion matrix')"
      ],
      "execution_count": null,
      "outputs": [
        {
          "output_type": "stream",
          "text": [
            "Confusion matrix, without normalization\n",
            "[[26802  6579]\n",
            " [ 1477  3253]]\n"
          ],
          "name": "stdout"
        },
        {
          "output_type": "display_data",
          "data": {
            "image/png": "[encoded data removed]",
            "text/plain": [
              "<Figure size 432x288 with 2 Axes>"
            ]
          },
          "metadata": {
            "tags": []
          }
        }
      ]
    },
    {
      "cell_type": "code",
      "metadata": {
        "colab": {
          "base_uri": "https://localhost:8080/"
        },
        "id": "MQJVsjaFUoC8",
        "outputId": "c59b5eb6-aebf-4f10-81d0-e7dcbd27b85d"
      },
      "source": [
        "print('\\nClassification Report\\n')\n",
        "print(classification_report(test_labels, predictions7, target_names=['Negative','Positive']))"
      ],
      "execution_count": null,
      "outputs": [
        {
          "output_type": "stream",
          "text": [
            "\n",
            "Classification Report\n",
            "\n",
            "              precision    recall  f1-score   support\n",
            "\n",
            "    Negative       0.95      0.80      0.87     33381\n",
            "    Positive       0.33      0.69      0.45      4730\n",
            "\n",
            "    accuracy                           0.79     38111\n",
            "   macro avg       0.64      0.75      0.66     38111\n",
            "weighted avg       0.87      0.79      0.82     38111\n",
            "\n"
          ],
          "name": "stdout"
        }
      ]
    },
    {
      "cell_type": "markdown",
      "metadata": {
        "id": "1i9pHlvH5ivs"
      },
      "source": [
        "The highest Macro Average f1 score until this point is achieved with a value of 0.66 while the accuracy is at 0.79. This model is the most balanced one since it offers a respectable accuracy while it predicts both of the classes."
      ]
    },
    {
      "cell_type": "markdown",
      "metadata": {
        "id": "_cZDvBXi7WNU"
      },
      "source": [
        "<h4><b> Model 8 (Cost-Sensitive NN) <h4><b>"
      ]
    },
    {
      "cell_type": "markdown",
      "metadata": {
        "id": "Gr69GvDw6ex0"
      },
      "source": [
        "In this final part, the ratio for the weights stays the same, while different architectures are used for the Neural Networks.\n",
        "The following, bigger network consists of 2 hiddel layers with 16 and 32 neuron, using the relu activation function and an output layer of one sigmoid neuron. In this case the adam optimizer is used."
      ]
    },
    {
      "cell_type": "code",
      "metadata": {
        "colab": {
          "base_uri": "https://localhost:8080/"
        },
        "id": "e5FnGnsOJ7kQ",
        "outputId": "830a72a6-8850-434a-9820-6b8115f12b7c"
      },
      "source": [
        "def define_model(n_input):\n",
        "\t# define model\n",
        "\tmodel = Sequential()\n",
        "\t# define first hidden layer and visible layer\n",
        "\tmodel.add(Dense(16, input_dim=n_input, activation='relu', kernel_initializer='he_uniform'))\n",
        "\t# define second hidder layer\n",
        "\tmodel.add(Dense(32, activation='relu'))\n",
        "  # define output layer\n",
        "\tmodel.add(Dense(1, activation='sigmoid'))\n",
        "\t# define loss and optimizer\n",
        "\tmodel.compile(loss='binary_crossentropy', optimizer='adam', metrics=METRICS)\n",
        "\treturn model\n",
        " \n",
        "# get the model\n",
        "n_input = train_features.shape[-1]\n",
        "model8 = define_model(n_input)\n",
        "# fit model\n",
        "weights = {0:35, 1:100}\n",
        "history = model8.fit(train_features, train_labels, class_weight=weights, batch_size=BATCH_SIZE, epochs=EPOCHS, callbacks = [early_stopping], validation_data=(val_features, val_labels))"
      ],
      "execution_count": null,
      "outputs": [
        {
          "output_type": "stream",
          "text": [
            "Epoch 1/100\n",
            "151/151 [==============================] - 4s 15ms/step - loss: 27.0171 - tp: 7803.5329 - fp: 30411.2171 - tn: 137172.6118 - fn: 15563.9276 - accuracy: 0.7323 - precision: 0.2035 - recall: 0.4001 - auc: 0.6932 - val_loss: 0.3504 - val_tp: 1423.0000 - val_fp: 3145.0000 - val_tn: 26861.0000 - val_fn: 2871.0000 - val_accuracy: 0.8246 - val_precision: 0.3115 - val_recall: 0.3314 - val_auc: 0.8132\n",
            "Epoch 2/100\n",
            "151/151 [==============================] - 1s 9ms/step - loss: 18.2904 - tp: 9187.1513 - fp: 20464.3158 - tn: 117071.2697 - fn: 9928.5526 - accuracy: 0.8097 - precision: 0.3097 - recall: 0.4549 - auc: 0.8250 - val_loss: 0.3425 - val_tp: 2757.0000 - val_fp: 5994.0000 - val_tn: 24012.0000 - val_fn: 1537.0000 - val_accuracy: 0.7804 - val_precision: 0.3150 - val_recall: 0.6421 - val_auc: 0.8328\n",
            "Epoch 3/100\n",
            "151/151 [==============================] - 1s 9ms/step - loss: 17.4956 - tp: 11889.0132 - fp: 25956.5987 - tn: 111587.3158 - fn: 7218.3618 - accuracy: 0.7878 - precision: 0.3119 - recall: 0.6185 - auc: 0.8359 - val_loss: 0.3365 - val_tp: 2860.0000 - val_fp: 6031.0000 - val_tn: 23975.0000 - val_fn: 1434.0000 - val_accuracy: 0.7824 - val_precision: 0.3217 - val_recall: 0.6660 - val_auc: 0.8382\n",
            "Epoch 4/100\n",
            "151/151 [==============================] - 1s 9ms/step - loss: 17.4031 - tp: 12347.3618 - fp: 26556.4408 - tn: 110974.0855 - fn: 6773.4013 - accuracy: 0.7864 - precision: 0.3159 - recall: 0.6444 - auc: 0.8385 - val_loss: 0.3305 - val_tp: 2850.0000 - val_fp: 5955.0000 - val_tn: 24051.0000 - val_fn: 1444.0000 - val_accuracy: 0.7843 - val_precision: 0.3237 - val_recall: 0.6637 - val_auc: 0.8405\n",
            "Epoch 5/100\n",
            "151/151 [==============================] - 1s 9ms/step - loss: 17.1249 - tp: 12404.0987 - fp: 26328.0329 - tn: 111345.8487 - fn: 6573.3092 - accuracy: 0.7911 - precision: 0.3211 - recall: 0.6539 - auc: 0.8437 - val_loss: 0.3315 - val_tp: 2937.0000 - val_fp: 6191.0000 - val_tn: 23815.0000 - val_fn: 1357.0000 - val_accuracy: 0.7799 - val_precision: 0.3218 - val_recall: 0.6840 - val_auc: 0.8421\n",
            "Epoch 6/100\n",
            "151/151 [==============================] - 1s 9ms/step - loss: 17.2582 - tp: 12736.5526 - fp: 26811.5197 - tn: 110669.6513 - fn: 6433.5658 - accuracy: 0.7871 - precision: 0.3233 - recall: 0.6686 - auc: 0.8435 - val_loss: 0.3301 - val_tp: 2921.0000 - val_fp: 6036.0000 - val_tn: 23970.0000 - val_fn: 1373.0000 - val_accuracy: 0.7840 - val_precision: 0.3261 - val_recall: 0.6803 - val_auc: 0.8437\n",
            "Epoch 7/100\n",
            "151/151 [==============================] - 1s 9ms/step - loss: 17.2360 - tp: 12804.1184 - fp: 26766.0724 - tn: 110741.4737 - fn: 6339.6250 - accuracy: 0.7880 - precision: 0.3244 - recall: 0.6713 - auc: 0.8446 - val_loss: 0.3289 - val_tp: 2921.0000 - val_fp: 6035.0000 - val_tn: 23971.0000 - val_fn: 1373.0000 - val_accuracy: 0.7840 - val_precision: 0.3262 - val_recall: 0.6803 - val_auc: 0.8446\n",
            "Epoch 8/100\n",
            "151/151 [==============================] - 1s 9ms/step - loss: 17.1444 - tp: 12870.5066 - fp: 26848.0658 - tn: 110653.9211 - fn: 6278.7961 - accuracy: 0.7886 - precision: 0.3253 - recall: 0.6736 - auc: 0.8456 - val_loss: 0.3235 - val_tp: 2816.0000 - val_fp: 5734.0000 - val_tn: 24272.0000 - val_fn: 1478.0000 - val_accuracy: 0.7897 - val_precision: 0.3294 - val_recall: 0.6558 - val_auc: 0.8450\n",
            "Epoch 9/100\n",
            "151/151 [==============================] - 1s 9ms/step - loss: 17.1120 - tp: 13077.6776 - fp: 27053.7039 - tn: 110389.1053 - fn: 6130.8026 - accuracy: 0.7882 - precision: 0.3267 - recall: 0.6832 - auc: 0.8472 - val_loss: 0.3290 - val_tp: 2971.0000 - val_fp: 6101.0000 - val_tn: 23905.0000 - val_fn: 1323.0000 - val_accuracy: 0.7836 - val_precision: 0.3275 - val_recall: 0.6919 - val_auc: 0.8465\n",
            "Epoch 10/100\n",
            "151/151 [==============================] - 1s 9ms/step - loss: 17.1440 - tp: 13022.0395 - fp: 27004.8355 - tn: 110512.2895 - fn: 6112.1250 - accuracy: 0.7876 - precision: 0.3252 - recall: 0.6841 - auc: 0.8461 - val_loss: 0.3277 - val_tp: 2930.0000 - val_fp: 5951.0000 - val_tn: 24055.0000 - val_fn: 1364.0000 - val_accuracy: 0.7867 - val_precision: 0.3299 - val_recall: 0.6823 - val_auc: 0.8477\n",
            "Epoch 11/100\n",
            "151/151 [==============================] - 1s 10ms/step - loss: 17.0377 - tp: 13032.1513 - fp: 27003.7829 - tn: 110535.4737 - fn: 6079.8816 - accuracy: 0.7892 - precision: 0.3262 - recall: 0.6857 - auc: 0.8482 - val_loss: 0.3299 - val_tp: 2986.0000 - val_fp: 6110.0000 - val_tn: 23896.0000 - val_fn: 1308.0000 - val_accuracy: 0.7837 - val_precision: 0.3283 - val_recall: 0.6954 - val_auc: 0.8481\n",
            "Epoch 12/100\n",
            "151/151 [==============================] - 1s 9ms/step - loss: 17.1002 - tp: 12900.9342 - fp: 26627.3816 - tn: 110926.4145 - fn: 6196.5592 - accuracy: 0.7900 - precision: 0.3265 - recall: 0.6748 - auc: 0.8473 - val_loss: 0.3252 - val_tp: 2922.0000 - val_fp: 5903.0000 - val_tn: 24103.0000 - val_fn: 1372.0000 - val_accuracy: 0.7879 - val_precision: 0.3311 - val_recall: 0.6805 - val_auc: 0.8474\n",
            "Epoch 13/100\n",
            "151/151 [==============================] - 1s 9ms/step - loss: 16.9638 - tp: 12903.8750 - fp: 26615.2434 - tn: 110982.5526 - fn: 6149.6184 - accuracy: 0.7915 - precision: 0.3262 - recall: 0.6766 - auc: 0.8488 - val_loss: 0.3275 - val_tp: 2973.0000 - val_fp: 5989.0000 - val_tn: 24017.0000 - val_fn: 1321.0000 - val_accuracy: 0.7869 - val_precision: 0.3317 - val_recall: 0.6924 - val_auc: 0.8481\n",
            "Epoch 14/100\n",
            "151/151 [==============================] - 1s 9ms/step - loss: 16.9719 - tp: 12915.2697 - fp: 26450.7039 - tn: 111116.0855 - fn: 6169.2303 - accuracy: 0.7923 - precision: 0.3285 - recall: 0.6756 - auc: 0.8495 - val_loss: 0.3296 - val_tp: 3040.0000 - val_fp: 6213.0000 - val_tn: 23793.0000 - val_fn: 1254.0000 - val_accuracy: 0.7823 - val_precision: 0.3285 - val_recall: 0.7080 - val_auc: 0.8486\n",
            "Epoch 15/100\n",
            "151/151 [==============================] - 1s 10ms/step - loss: 17.0629 - tp: 13151.6711 - fp: 26933.3882 - tn: 110546.9145 - fn: 6019.3158 - accuracy: 0.7886 - precision: 0.3288 - recall: 0.6917 - auc: 0.8490 - val_loss: 0.3269 - val_tp: 2991.0000 - val_fp: 6049.0000 - val_tn: 23957.0000 - val_fn: 1303.0000 - val_accuracy: 0.7857 - val_precision: 0.3309 - val_recall: 0.6966 - val_auc: 0.8483\n",
            "Epoch 16/100\n",
            "151/151 [==============================] - 1s 9ms/step - loss: 17.0490 - tp: 12961.3421 - fp: 26697.0592 - tn: 110841.4342 - fn: 6151.4539 - accuracy: 0.7900 - precision: 0.3269 - recall: 0.6794 - auc: 0.8488 - val_loss: 0.3263 - val_tp: 2988.0000 - val_fp: 6043.0000 - val_tn: 23963.0000 - val_fn: 1306.0000 - val_accuracy: 0.7857 - val_precision: 0.3309 - val_recall: 0.6959 - val_auc: 0.8487\n",
            "Epoch 17/100\n",
            "151/151 [==============================] - 1s 9ms/step - loss: 16.9924 - tp: 13098.0395 - fp: 26791.5329 - tn: 110739.3750 - fn: 6022.3421 - accuracy: 0.7906 - precision: 0.3275 - recall: 0.6857 - auc: 0.8496 - val_loss: 0.3292 - val_tp: 3033.0000 - val_fp: 6139.0000 - val_tn: 23867.0000 - val_fn: 1261.0000 - val_accuracy: 0.7843 - val_precision: 0.3307 - val_recall: 0.7063 - val_auc: 0.8493\n",
            "Epoch 18/100\n",
            "151/151 [==============================] - 1s 9ms/step - loss: 17.0855 - tp: 13060.9342 - fp: 26930.7368 - tn: 110581.6974 - fn: 6077.9211 - accuracy: 0.7884 - precision: 0.3248 - recall: 0.6809 - auc: 0.8476 - val_loss: 0.3273 - val_tp: 2929.0000 - val_fp: 5868.0000 - val_tn: 24138.0000 - val_fn: 1365.0000 - val_accuracy: 0.7891 - val_precision: 0.3330 - val_recall: 0.6821 - val_auc: 0.8495\n",
            "Epoch 19/100\n",
            "151/151 [==============================] - 1s 9ms/step - loss: 16.9362 - tp: 12855.5395 - fp: 26308.5066 - tn: 111359.0526 - fn: 6128.1908 - accuracy: 0.7937 - precision: 0.3289 - recall: 0.6769 - auc: 0.8496 - val_loss: 0.3303 - val_tp: 3059.0000 - val_fp: 6225.0000 - val_tn: 23781.0000 - val_fn: 1235.0000 - val_accuracy: 0.7825 - val_precision: 0.3295 - val_recall: 0.7124 - val_auc: 0.8492\n",
            "Epoch 20/100\n",
            "151/151 [==============================] - 1s 9ms/step - loss: 16.9457 - tp: 13170.2500 - fp: 26874.5329 - tn: 110633.7105 - fn: 5972.7961 - accuracy: 0.7901 - precision: 0.3293 - recall: 0.6915 - auc: 0.8509 - val_loss: 0.3293 - val_tp: 2987.0000 - val_fp: 6041.0000 - val_tn: 23965.0000 - val_fn: 1307.0000 - val_accuracy: 0.7858 - val_precision: 0.3309 - val_recall: 0.6956 - val_auc: 0.8492\n",
            "Epoch 21/100\n",
            "151/151 [==============================] - 1s 9ms/step - loss: 17.0418 - tp: 12976.5066 - fp: 26583.7434 - tn: 110961.1513 - fn: 6129.8882 - accuracy: 0.7910 - precision: 0.3267 - recall: 0.6776 - auc: 0.8486 - val_loss: 0.3274 - val_tp: 3024.0000 - val_fp: 6106.0000 - val_tn: 23900.0000 - val_fn: 1270.0000 - val_accuracy: 0.7850 - val_precision: 0.3312 - val_recall: 0.7042 - val_auc: 0.8492\n",
            "Epoch 22/100\n",
            "151/151 [==============================] - 1s 9ms/step - loss: 17.0333 - tp: 13146.2237 - fp: 26888.3947 - tn: 110662.9605 - fn: 5953.7105 - accuracy: 0.7888 - precision: 0.3281 - recall: 0.6936 - auc: 0.8495 - val_loss: 0.3297 - val_tp: 2997.0000 - val_fp: 6135.0000 - val_tn: 23871.0000 - val_fn: 1297.0000 - val_accuracy: 0.7833 - val_precision: 0.3282 - val_recall: 0.6980 - val_auc: 0.8490\n",
            "Epoch 23/100\n",
            "151/151 [==============================] - 1s 9ms/step - loss: 16.9944 - tp: 12925.3421 - fp: 26380.6908 - tn: 111158.9013 - fn: 6186.3553 - accuracy: 0.7925 - precision: 0.3284 - recall: 0.6737 - auc: 0.8494 - val_loss: 0.3318 - val_tp: 3087.0000 - val_fp: 6318.0000 - val_tn: 23688.0000 - val_fn: 1207.0000 - val_accuracy: 0.7806 - val_precision: 0.3282 - val_recall: 0.7189 - val_auc: 0.8488\n",
            "Epoch 24/100\n",
            "151/151 [==============================] - 1s 9ms/step - loss: 17.0611 - tp: 12983.5921 - fp: 26617.8224 - tn: 110922.0263 - fn: 6127.8487 - accuracy: 0.7899 - precision: 0.3264 - recall: 0.6808 - auc: 0.8482 - val_loss: 0.3160 - val_tp: 2709.0000 - val_fp: 5267.0000 - val_tn: 24739.0000 - val_fn: 1585.0000 - val_accuracy: 0.8002 - val_precision: 0.3396 - val_recall: 0.6309 - val_auc: 0.8492\n",
            "Epoch 25/100\n",
            "151/151 [==============================] - 1s 10ms/step - loss: 17.0446 - tp: 13062.8684 - fp: 26502.6118 - tn: 111030.2961 - fn: 6055.5132 - accuracy: 0.7927 - precision: 0.3321 - recall: 0.6843 - auc: 0.8503 - val_loss: 0.3254 - val_tp: 2890.0000 - val_fp: 5735.0000 - val_tn: 24271.0000 - val_fn: 1404.0000 - val_accuracy: 0.7919 - val_precision: 0.3351 - val_recall: 0.6730 - val_auc: 0.8497\n",
            "Epoch 26/100\n",
            "151/151 [==============================] - 1s 10ms/step - loss: 16.9975 - tp: 12921.8618 - fp: 26321.7171 - tn: 111233.1908 - fn: 6174.5197 - accuracy: 0.7929 - precision: 0.3295 - recall: 0.6759 - auc: 0.8499 - val_loss: 0.3245 - val_tp: 2925.0000 - val_fp: 5866.0000 - val_tn: 24140.0000 - val_fn: 1369.0000 - val_accuracy: 0.7891 - val_precision: 0.3327 - val_recall: 0.6812 - val_auc: 0.8496\n",
            "Epoch 27/100\n",
            "151/151 [==============================] - 1s 9ms/step - loss: 17.0345 - tp: 13140.4145 - fp: 26655.3553 - tn: 110790.6184 - fn: 6064.9013 - accuracy: 0.7912 - precision: 0.3309 - recall: 0.6849 - auc: 0.8505 - val_loss: 0.3123 - val_tp: 2556.0000 - val_fp: 4921.0000 - val_tn: 25085.0000 - val_fn: 1738.0000 - val_accuracy: 0.8059 - val_precision: 0.3418 - val_recall: 0.5952 - val_auc: 0.8495\n",
            "Epoch 28/100\n",
            "151/151 [==============================] - 1s 9ms/step - loss: 17.0742 - tp: 13082.5658 - fp: 26521.5724 - tn: 110920.4671 - fn: 6126.6842 - accuracy: 0.7925 - precision: 0.3309 - recall: 0.6741 - auc: 0.8500 - val_loss: 0.3239 - val_tp: 2909.0000 - val_fp: 5804.0000 - val_tn: 24202.0000 - val_fn: 1385.0000 - val_accuracy: 0.7904 - val_precision: 0.3339 - val_recall: 0.6775 - val_auc: 0.8494\n",
            "Epoch 29/100\n",
            "151/151 [==============================] - 1s 9ms/step - loss: 16.9807 - tp: 12907.8026 - fp: 26302.6579 - tn: 111213.9408 - fn: 6226.8882 - accuracy: 0.7928 - precision: 0.3293 - recall: 0.6729 - auc: 0.8503 - val_loss: 0.3296 - val_tp: 3001.0000 - val_fp: 6069.0000 - val_tn: 23937.0000 - val_fn: 1293.0000 - val_accuracy: 0.7854 - val_precision: 0.3309 - val_recall: 0.6989 - val_auc: 0.8498\n",
            "Epoch 30/100\n",
            "151/151 [==============================] - 1s 9ms/step - loss: 17.0087 - tp: 12962.4145 - fp: 26461.0066 - tn: 111095.6316 - fn: 6132.2368 - accuracy: 0.7909 - precision: 0.3285 - recall: 0.6793 - auc: 0.8506 - val_loss: 0.3256 - val_tp: 2897.0000 - val_fp: 5767.0000 - val_tn: 24239.0000 - val_fn: 1397.0000 - val_accuracy: 0.7911 - val_precision: 0.3344 - val_recall: 0.6747 - val_auc: 0.8498\n",
            "Epoch 31/100\n",
            "151/151 [==============================] - 1s 9ms/step - loss: 17.0068 - tp: 12777.4737 - fp: 26032.1711 - tn: 111564.7829 - fn: 6276.8618 - accuracy: 0.7943 - precision: 0.3295 - recall: 0.6671 - auc: 0.8498 - val_loss: 0.3220 - val_tp: 2849.0000 - val_fp: 5650.0000 - val_tn: 24356.0000 - val_fn: 1445.0000 - val_accuracy: 0.7931 - val_precision: 0.3352 - val_recall: 0.6635 - val_auc: 0.8500\n",
            "Epoch 32/100\n",
            "151/151 [==============================] - 1s 9ms/step - loss: 16.8817 - tp: 13004.1184 - fp: 26371.0526 - tn: 111213.8289 - fn: 6062.2895 - accuracy: 0.7933 - precision: 0.3315 - recall: 0.6852 - auc: 0.8524 - val_loss: 0.3235 - val_tp: 2875.0000 - val_fp: 5723.0000 - val_tn: 24283.0000 - val_fn: 1419.0000 - val_accuracy: 0.7918 - val_precision: 0.3344 - val_recall: 0.6695 - val_auc: 0.8500\n",
            "Epoch 33/100\n",
            "151/151 [==============================] - 1s 9ms/step - loss: 16.9442 - tp: 13063.2434 - fp: 26314.0461 - tn: 111144.7895 - fn: 6129.2105 - accuracy: 0.7939 - precision: 0.3321 - recall: 0.6788 - auc: 0.8519 - val_loss: 0.3233 - val_tp: 2872.0000 - val_fp: 5712.0000 - val_tn: 24294.0000 - val_fn: 1422.0000 - val_accuracy: 0.7920 - val_precision: 0.3346 - val_recall: 0.6688 - val_auc: 0.8492\n",
            "Epoch 34/100\n",
            "151/151 [==============================] - 1s 9ms/step - loss: 17.0113 - tp: 12994.4408 - fp: 26170.7763 - tn: 111323.8487 - fn: 6162.2237 - accuracy: 0.7940 - precision: 0.3310 - recall: 0.6746 - auc: 0.8504 - val_loss: 0.3249 - val_tp: 2899.0000 - val_fp: 5759.0000 - val_tn: 24247.0000 - val_fn: 1395.0000 - val_accuracy: 0.7914 - val_precision: 0.3348 - val_recall: 0.6751 - val_auc: 0.8499\n",
            "Epoch 35/100\n",
            "151/151 [==============================] - 1s 9ms/step - loss: 16.9247 - tp: 12897.2039 - fp: 26024.6579 - tn: 111485.4013 - fn: 6244.0263 - accuracy: 0.7944 - precision: 0.3324 - recall: 0.6745 - auc: 0.8524 - val_loss: 0.3235 - val_tp: 2893.0000 - val_fp: 5769.0000 - val_tn: 24237.0000 - val_fn: 1401.0000 - val_accuracy: 0.7910 - val_precision: 0.3340 - val_recall: 0.6737 - val_auc: 0.8501\n",
            "Epoch 36/100\n",
            "151/151 [==============================] - 1s 10ms/step - loss: 16.9336 - tp: 12787.2697 - fp: 26069.5855 - tn: 111532.1316 - fn: 6262.3026 - accuracy: 0.7939 - precision: 0.3285 - recall: 0.6688 - auc: 0.8506 - val_loss: 0.3264 - val_tp: 2964.0000 - val_fp: 5928.0000 - val_tn: 24078.0000 - val_fn: 1330.0000 - val_accuracy: 0.7884 - val_precision: 0.3333 - val_recall: 0.6903 - val_auc: 0.8501\n",
            "Epoch 37/100\n",
            "151/151 [==============================] - 1s 10ms/step - loss: 17.0048 - tp: 13005.1382 - fp: 26337.7500 - tn: 111148.8947 - fn: 6159.5066 - accuracy: 0.7924 - precision: 0.3314 - recall: 0.6818 - auc: 0.8513 - val_loss: 0.3251 - val_tp: 2938.0000 - val_fp: 5877.0000 - val_tn: 24129.0000 - val_fn: 1356.0000 - val_accuracy: 0.7891 - val_precision: 0.3333 - val_recall: 0.6842 - val_auc: 0.8503\n",
            "Epoch 38/100\n",
            "151/151 [==============================] - 1s 9ms/step - loss: 17.0123 - tp: 13020.6711 - fp: 26408.4671 - tn: 111058.3487 - fn: 6163.8026 - accuracy: 0.7913 - precision: 0.3290 - recall: 0.6789 - auc: 0.8502 - val_loss: 0.3273 - val_tp: 2957.0000 - val_fp: 5956.0000 - val_tn: 24050.0000 - val_fn: 1337.0000 - val_accuracy: 0.7874 - val_precision: 0.3318 - val_recall: 0.6886 - val_auc: 0.8503\n",
            "Epoch 39/100\n",
            "151/151 [==============================] - 1s 10ms/step - loss: 16.9246 - tp: 12903.8947 - fp: 26049.9211 - tn: 111504.7632 - fn: 6192.7105 - accuracy: 0.7942 - precision: 0.3317 - recall: 0.6777 - auc: 0.8516 - val_loss: 0.3183 - val_tp: 2739.0000 - val_fp: 5299.0000 - val_tn: 24707.0000 - val_fn: 1555.0000 - val_accuracy: 0.8002 - val_precision: 0.3408 - val_recall: 0.6379 - val_auc: 0.8500\n",
            "Epoch 40/100\n",
            "151/151 [==============================] - 1s 10ms/step - loss: 16.9308 - tp: 12868.2763 - fp: 25961.3355 - tn: 111655.8224 - fn: 6165.8553 - accuracy: 0.7946 - precision: 0.3309 - recall: 0.6744 - auc: 0.8514 - val_loss: 0.3348 - val_tp: 3086.0000 - val_fp: 6322.0000 - val_tn: 23684.0000 - val_fn: 1208.0000 - val_accuracy: 0.7805 - val_precision: 0.3280 - val_recall: 0.7187 - val_auc: 0.8503\n",
            "Epoch 41/100\n",
            "151/151 [==============================] - 1s 10ms/step - loss: 16.9391 - tp: 12997.4539 - fp: 26291.9737 - tn: 111235.6776 - fn: 6126.1842 - accuracy: 0.7923 - precision: 0.3299 - recall: 0.6806 - auc: 0.8513 - val_loss: 0.3232 - val_tp: 2849.0000 - val_fp: 5613.0000 - val_tn: 24393.0000 - val_fn: 1445.0000 - val_accuracy: 0.7942 - val_precision: 0.3367 - val_recall: 0.6635 - val_auc: 0.8501\n",
            "Epoch 42/100\n",
            "151/151 [==============================] - 1s 9ms/step - loss: 16.9204 - tp: 12999.1513 - fp: 26144.5592 - tn: 111334.2237 - fn: 6173.3553 - accuracy: 0.7945 - precision: 0.3321 - recall: 0.6764 - auc: 0.8521 - val_loss: 0.3244 - val_tp: 2891.0000 - val_fp: 5756.0000 - val_tn: 24250.0000 - val_fn: 1403.0000 - val_accuracy: 0.7913 - val_precision: 0.3343 - val_recall: 0.6733 - val_auc: 0.8505\n",
            "Epoch 43/100\n",
            "151/151 [==============================] - 1s 9ms/step - loss: 16.9793 - tp: 12979.1447 - fp: 26092.0000 - tn: 111437.7368 - fn: 6142.4079 - accuracy: 0.7941 - precision: 0.3325 - recall: 0.6791 - auc: 0.8511 - val_loss: 0.3214 - val_tp: 2794.0000 - val_fp: 5495.0000 - val_tn: 24511.0000 - val_fn: 1500.0000 - val_accuracy: 0.7961 - val_precision: 0.3371 - val_recall: 0.6507 - val_auc: 0.8497\n",
            "Epoch 44/100\n",
            "151/151 [==============================] - 1s 10ms/step - loss: 16.9683 - tp: 12819.3816 - fp: 25656.2566 - tn: 111870.0197 - fn: 6305.6316 - accuracy: 0.7968 - precision: 0.3339 - recall: 0.6666 - auc: 0.8514 - val_loss: 0.3218 - val_tp: 2810.0000 - val_fp: 5510.0000 - val_tn: 24496.0000 - val_fn: 1484.0000 - val_accuracy: 0.7961 - val_precision: 0.3377 - val_recall: 0.6544 - val_auc: 0.8505\n",
            "Epoch 45/100\n",
            "151/151 [==============================] - 1s 10ms/step - loss: 17.0027 - tp: 13004.4408 - fp: 26021.4803 - tn: 111412.6974 - fn: 6212.6711 - accuracy: 0.7946 - precision: 0.3334 - recall: 0.6745 - auc: 0.8515 - val_loss: 0.3226 - val_tp: 2863.0000 - val_fp: 5638.0000 - val_tn: 24368.0000 - val_fn: 1431.0000 - val_accuracy: 0.7939 - val_precision: 0.3368 - val_recall: 0.6667 - val_auc: 0.8503\n",
            "Epoch 46/100\n",
            "151/151 [==============================] - 1s 10ms/step - loss: 16.9273 - tp: 12971.5395 - fp: 26227.7829 - tn: 111297.1974 - fn: 6154.7697 - accuracy: 0.7934 - precision: 0.3311 - recall: 0.6787 - auc: 0.8515 - val_loss: 0.3267 - val_tp: 2943.0000 - val_fp: 5867.0000 - val_tn: 24139.0000 - val_fn: 1351.0000 - val_accuracy: 0.7896 - val_precision: 0.3341 - val_recall: 0.6854 - val_auc: 0.8502\n",
            "Epoch 47/100\n",
            "151/151 [==============================] - 1s 10ms/step - loss: 17.0413 - tp: 12909.4868 - fp: 25907.1118 - tn: 111589.6250 - fn: 6245.0658 - accuracy: 0.7942 - precision: 0.3323 - recall: 0.6738 - auc: 0.8505 - val_loss: 0.3194 - val_tp: 2797.0000 - val_fp: 5478.0000 - val_tn: 24528.0000 - val_fn: 1497.0000 - val_accuracy: 0.7966 - val_precision: 0.3380 - val_recall: 0.6514 - val_auc: 0.8505\n",
            "Epoch 48/100\n",
            "151/151 [==============================] - 1s 9ms/step - loss: 16.9589 - tp: 12955.7566 - fp: 26003.0855 - tn: 111494.0395 - fn: 6198.4079 - accuracy: 0.7939 - precision: 0.3328 - recall: 0.6776 - auc: 0.8522 - val_loss: 0.3230 - val_tp: 2866.0000 - val_fp: 5630.0000 - val_tn: 24376.0000 - val_fn: 1428.0000 - val_accuracy: 0.7942 - val_precision: 0.3373 - val_recall: 0.6674 - val_auc: 0.8507\n",
            "Epoch 49/100\n",
            "151/151 [==============================] - 1s 9ms/step - loss: 16.9430 - tp: 13021.3816 - fp: 26104.7566 - tn: 111355.0921 - fn: 6170.0592 - accuracy: 0.7940 - precision: 0.3339 - recall: 0.6792 - auc: 0.8527 - val_loss: 0.3172 - val_tp: 2619.0000 - val_fp: 4970.0000 - val_tn: 25036.0000 - val_fn: 1675.0000 - val_accuracy: 0.8063 - val_precision: 0.3451 - val_recall: 0.6099 - val_auc: 0.8510\n",
            "Epoch 50/100\n",
            "151/151 [==============================] - 1s 10ms/step - loss: 16.9369 - tp: 12972.9145 - fp: 25901.8289 - tn: 111564.0592 - fn: 6212.4868 - accuracy: 0.7963 - precision: 0.3352 - recall: 0.6726 - auc: 0.8529 - val_loss: 0.3225 - val_tp: 2771.0000 - val_fp: 5399.0000 - val_tn: 24607.0000 - val_fn: 1523.0000 - val_accuracy: 0.7982 - val_precision: 0.3392 - val_recall: 0.6453 - val_auc: 0.8510\n",
            "Epoch 51/100\n",
            "151/151 [==============================] - 1s 10ms/step - loss: 16.9314 - tp: 12757.1711 - fp: 25876.0592 - tn: 111701.5132 - fn: 6316.5461 - accuracy: 0.7946 - precision: 0.3289 - recall: 0.6654 - auc: 0.8505 - val_loss: 0.3257 - val_tp: 2929.0000 - val_fp: 5836.0000 - val_tn: 24170.0000 - val_fn: 1365.0000 - val_accuracy: 0.7901 - val_precision: 0.3342 - val_recall: 0.6821 - val_auc: 0.8508\n",
            "Epoch 52/100\n",
            "151/151 [==============================] - 1s 10ms/step - loss: 16.9501 - tp: 12992.9671 - fp: 26043.4474 - tn: 111438.8092 - fn: 6176.0658 - accuracy: 0.7941 - precision: 0.3316 - recall: 0.6751 - auc: 0.8512 - val_loss: 0.3234 - val_tp: 2850.0000 - val_fp: 5613.0000 - val_tn: 24393.0000 - val_fn: 1444.0000 - val_accuracy: 0.7943 - val_precision: 0.3368 - val_recall: 0.6637 - val_auc: 0.8510\n",
            "Epoch 53/100\n",
            "151/151 [==============================] - 1s 10ms/step - loss: 16.9427 - tp: 12886.7895 - fp: 25994.2303 - tn: 111550.5724 - fn: 6219.6974 - accuracy: 0.7946 - precision: 0.3325 - recall: 0.6766 - auc: 0.8521 - val_loss: 0.3315 - val_tp: 3025.0000 - val_fp: 6117.0000 - val_tn: 23889.0000 - val_fn: 1269.0000 - val_accuracy: 0.7847 - val_precision: 0.3309 - val_recall: 0.7045 - val_auc: 0.8506\n",
            "Epoch 54/100\n",
            "151/151 [==============================] - 2s 10ms/step - loss: 16.9309 - tp: 12830.0329 - fp: 25926.5395 - tn: 111644.5000 - fn: 6250.2171 - accuracy: 0.7934 - precision: 0.3292 - recall: 0.6734 - auc: 0.8506 - val_loss: 0.3296 - val_tp: 2988.0000 - val_fp: 6007.0000 - val_tn: 23999.0000 - val_fn: 1306.0000 - val_accuracy: 0.7868 - val_precision: 0.3322 - val_recall: 0.6959 - val_auc: 0.8506\n",
            "Epoch 55/100\n",
            "151/151 [==============================] - 2s 10ms/step - loss: 16.9143 - tp: 12963.1184 - fp: 26116.2500 - tn: 111439.7632 - fn: 6132.1579 - accuracy: 0.7935 - precision: 0.3310 - recall: 0.6809 - auc: 0.8519 - val_loss: 0.3252 - val_tp: 2822.0000 - val_fp: 5562.0000 - val_tn: 24444.0000 - val_fn: 1472.0000 - val_accuracy: 0.7949 - val_precision: 0.3366 - val_recall: 0.6572 - val_auc: 0.8508\n",
            "Epoch 56/100\n",
            "151/151 [==============================] - 2s 10ms/step - loss: 17.0382 - tp: 12924.7829 - fp: 25943.0395 - tn: 111450.5263 - fn: 6332.9408 - accuracy: 0.7944 - precision: 0.3337 - recall: 0.6695 - auc: 0.8507 - val_loss: 0.3194 - val_tp: 2732.0000 - val_fp: 5268.0000 - val_tn: 24738.0000 - val_fn: 1562.0000 - val_accuracy: 0.8009 - val_precision: 0.3415 - val_recall: 0.6362 - val_auc: 0.8510\n",
            "Epoch 57/100\n",
            "151/151 [==============================] - 2s 10ms/step - loss: 17.0146 - tp: 12917.3421 - fp: 25877.8816 - tn: 111612.0724 - fn: 6243.9934 - accuracy: 0.7949 - precision: 0.3333 - recall: 0.6740 - auc: 0.8513 - val_loss: 0.3258 - val_tp: 2901.0000 - val_fp: 5778.0000 - val_tn: 24228.0000 - val_fn: 1393.0000 - val_accuracy: 0.7909 - val_precision: 0.3343 - val_recall: 0.6756 - val_auc: 0.8509\n",
            "Epoch 58/100\n",
            "151/151 [==============================] - 2s 10ms/step - loss: 16.8966 - tp: 13018.1053 - fp: 25966.3947 - tn: 111549.7632 - fn: 6117.0263 - accuracy: 0.7951 - precision: 0.3344 - recall: 0.6841 - auc: 0.8529 - val_loss: 0.3315 - val_tp: 3049.0000 - val_fp: 6203.0000 - val_tn: 23803.0000 - val_fn: 1245.0000 - val_accuracy: 0.7829 - val_precision: 0.3296 - val_recall: 0.7101 - val_auc: 0.8507\n",
            "Epoch 59/100\n",
            "151/151 [==============================] - 2s 10ms/step - loss: 16.9440 - tp: 12957.5132 - fp: 25936.0197 - tn: 111532.2303 - fn: 6225.5263 - accuracy: 0.7944 - precision: 0.3339 - recall: 0.6795 - auc: 0.8523 - val_loss: 0.3213 - val_tp: 2850.0000 - val_fp: 5578.0000 - val_tn: 24428.0000 - val_fn: 1444.0000 - val_accuracy: 0.7953 - val_precision: 0.3382 - val_recall: 0.6637 - val_auc: 0.8506\n",
            "Epoch 60/100\n",
            "151/151 [==============================] - 2s 10ms/step - loss: 16.9144 - tp: 12877.0329 - fp: 25855.1447 - tn: 111684.4408 - fn: 6234.6711 - accuracy: 0.7958 - precision: 0.3322 - recall: 0.6707 - auc: 0.8518 - val_loss: 0.3148 - val_tp: 2598.0000 - val_fp: 4946.0000 - val_tn: 25060.0000 - val_fn: 1696.0000 - val_accuracy: 0.8064 - val_precision: 0.3444 - val_recall: 0.6050 - val_auc: 0.8505\n",
            "Epoch 61/100\n",
            "151/151 [==============================] - 2s 10ms/step - loss: 16.9984 - tp: 12855.9408 - fp: 25791.5921 - tn: 111715.8355 - fn: 6287.9211 - accuracy: 0.7953 - precision: 0.3325 - recall: 0.6675 - auc: 0.8512 - val_loss: 0.3202 - val_tp: 2813.0000 - val_fp: 5467.0000 - val_tn: 24539.0000 - val_fn: 1481.0000 - val_accuracy: 0.7974 - val_precision: 0.3397 - val_recall: 0.6551 - val_auc: 0.8505\n",
            "Epoch 62/100\n",
            "151/151 [==============================] - 1s 10ms/step - loss: 16.9394 - tp: 12884.1118 - fp: 25753.2368 - tn: 111738.8026 - fn: 6275.1382 - accuracy: 0.7962 - precision: 0.3333 - recall: 0.6697 - auc: 0.8520 - val_loss: 0.3203 - val_tp: 2718.0000 - val_fp: 5271.0000 - val_tn: 24735.0000 - val_fn: 1576.0000 - val_accuracy: 0.8004 - val_precision: 0.3402 - val_recall: 0.6330 - val_auc: 0.8507\n",
            "Restoring model weights from the end of the best epoch.\n",
            "Epoch 00062: early stopping\n"
          ],
          "name": "stdout"
        }
      ]
    },
    {
      "cell_type": "code",
      "metadata": {
        "id": "W3GfFrsWJ7kX"
      },
      "source": [
        "predictions8 = model8.predict(test_features)"
      ],
      "execution_count": null,
      "outputs": []
    },
    {
      "cell_type": "code",
      "metadata": {
        "id": "ngcQ_2anJ7kY"
      },
      "source": [
        "predictions8 = sigmoid_to_class(predictions8)"
      ],
      "execution_count": null,
      "outputs": []
    },
    {
      "cell_type": "code",
      "metadata": {
        "colab": {
          "base_uri": "https://localhost:8080/",
          "height": 344
        },
        "id": "9rPfd-UHJ7kY",
        "outputId": "38648e39-aa9d-426d-fa96-d14eaaf696dc"
      },
      "source": [
        "cnf_matrix = confusion_matrix(test_labels, predictions8)\n",
        "np.set_printoptions(precision=2)\n",
        "\n",
        "# Plot non-normalized confusion matrix\n",
        "plt.figure()\n",
        "plot_confusion_matrix(cnf_matrix, classes = ['Negative','Positive'],\n",
        "                      title='Confusion matrix')"
      ],
      "execution_count": null,
      "outputs": [
        {
          "output_type": "stream",
          "text": [
            "Confusion matrix, without normalization\n",
            "[[27130  6251]\n",
            " [ 1569  3161]]\n"
          ],
          "name": "stdout"
        },
        {
          "output_type": "display_data",
          "data": {
            "image/png": "[encoded data removed]",
            "text/plain": [
              "<Figure size 432x288 with 2 Axes>"
            ]
          },
          "metadata": {
            "tags": []
          }
        }
      ]
    },
    {
      "cell_type": "code",
      "metadata": {
        "colab": {
          "base_uri": "https://localhost:8080/"
        },
        "id": "VxuuRazoJ7kZ",
        "outputId": "edb3ec12-78db-4618-bbcf-7941272bfe64"
      },
      "source": [
        "print('\\nClassification Report\\n')\n",
        "print(classification_report(test_labels, predictions8, target_names=['Negative','Positive']))"
      ],
      "execution_count": null,
      "outputs": [
        {
          "output_type": "stream",
          "text": [
            "\n",
            "Classification Report\n",
            "\n",
            "              precision    recall  f1-score   support\n",
            "\n",
            "    Negative       0.95      0.81      0.87     33381\n",
            "    Positive       0.34      0.67      0.45      4730\n",
            "\n",
            "    accuracy                           0.79     38111\n",
            "   macro avg       0.64      0.74      0.66     38111\n",
            "weighted avg       0.87      0.79      0.82     38111\n",
            "\n"
          ],
          "name": "stdout"
        }
      ]
    },
    {
      "cell_type": "markdown",
      "metadata": {
        "id": "6J4WeZz27iLj"
      },
      "source": [
        "The results are almost identical."
      ]
    },
    {
      "cell_type": "markdown",
      "metadata": {
        "id": "0Vvsv-jS9_rI"
      },
      "source": [
        "<h4><b> Model 9 (Cost-Sensitive NN) <b><h4>\n",
        "\n",
        "The following networks is composed from one hiden layer only of 60 neurons using the relu activation function. Instead of using the early stopping callback, this model used the ReduceLROnPlateau callback that reduces learning rate by a factor of 0.2 if the selected metric (val_auc) is not improved over 5 epochs.\n",
        "\n"
      ]
    },
    {
      "cell_type": "code",
      "metadata": {
        "id": "YBLCafl88VTC"
      },
      "source": [
        "EPOCHS = 100\n",
        "BATCH_SIZE = 2048\n",
        "\n",
        "reduce_lr = tf.keras.callbacks.ReduceLROnPlateau(\n",
        "    monitor='val_auc', \n",
        "    factor=0.2,\n",
        "    verbose=1,\n",
        "    patience=5,\n",
        "    mode=\"auto\",\n",
        "    min_delta=0.0001,\n",
        "    cooldown=0,\n",
        "    min_lr=0)"
      ],
      "execution_count": null,
      "outputs": []
    },
    {
      "cell_type": "code",
      "metadata": {
        "colab": {
          "base_uri": "https://localhost:8080/"
        },
        "id": "BN6R-IE-d1DC",
        "outputId": "9b169e5d-e279-403c-9196-ab83f4dd1b17"
      },
      "source": [
        "def define_model(n_input):\n",
        "\t# define model\n",
        "\tmodel = Sequential()\n",
        "\t# define first hidden layer and visible layer\n",
        "\tmodel.add(Dense(60, input_dim=n_input, activation='relu', kernel_initializer='he_uniform'))\n",
        "\t# define output layer\n",
        "\tmodel.add(Dense(1, activation='sigmoid'))\n",
        "\t# define loss and optimizer\n",
        "\tmodel.compile(loss='binary_crossentropy', optimizer='adam', metrics=METRICS)\n",
        "\treturn model\n",
        " \n",
        "# get the model\n",
        "n_input = train_features.shape[-1]\n",
        "model9 = define_model(n_input)\n",
        "# fit model\n",
        "weights = {0:35, 1:100}\n",
        "history = model9.fit(train_features, train_labels, class_weight=weights, batch_size=BATCH_SIZE, epochs=EPOCHS, callbacks = [reduce_lr], validation_data=(val_features, val_labels))"
      ],
      "execution_count": null,
      "outputs": [
        {
          "output_type": "stream",
          "text": [
            "Epoch 1/100\n",
            "151/151 [==============================] - 4s 15ms/step - loss: 23.3551 - tp: 10241.6118 - fp: 25984.4934 - tn: 141575.8487 - fn: 13149.3355 - accuracy: 0.7910 - precision: 0.2798 - recall: 0.4457 - auc: 0.7654 - val_loss: 0.3445 - val_tp: 2236.0000 - val_fp: 4654.0000 - val_tn: 25352.0000 - val_fn: 2058.0000 - val_accuracy: 0.8043 - val_precision: 0.3245 - val_recall: 0.5207 - val_auc: 0.8335\n",
            "Epoch 2/100\n",
            "151/151 [==============================] - 1s 9ms/step - loss: 17.8399 - tp: 10965.9408 - fp: 23463.3553 - tn: 113970.8289 - fn: 8251.1645 - accuracy: 0.7973 - precision: 0.3176 - recall: 0.5658 - auc: 0.8367 - val_loss: 0.3327 - val_tp: 2566.0000 - val_fp: 5205.0000 - val_tn: 24801.0000 - val_fn: 1728.0000 - val_accuracy: 0.7979 - val_precision: 0.3302 - val_recall: 0.5976 - val_auc: 0.8410\n",
            "Epoch 3/100\n",
            "151/151 [==============================] - 1s 9ms/step - loss: 17.4415 - tp: 11820.9342 - fp: 25005.2763 - tn: 112493.1118 - fn: 7331.9671 - accuracy: 0.7933 - precision: 0.3202 - recall: 0.6141 - auc: 0.8407 - val_loss: 0.3275 - val_tp: 2674.0000 - val_fp: 5425.0000 - val_tn: 24581.0000 - val_fn: 1620.0000 - val_accuracy: 0.7946 - val_precision: 0.3302 - val_recall: 0.6227 - val_auc: 0.8432\n",
            "Epoch 4/100\n",
            "151/151 [==============================] - 1s 9ms/step - loss: 17.2464 - tp: 12094.2039 - fp: 25559.4145 - tn: 112011.4539 - fn: 6986.2171 - accuracy: 0.7929 - precision: 0.3214 - recall: 0.6316 - auc: 0.8433 - val_loss: 0.3320 - val_tp: 2918.0000 - val_fp: 5978.0000 - val_tn: 24028.0000 - val_fn: 1376.0000 - val_accuracy: 0.7856 - val_precision: 0.3280 - val_recall: 0.6796 - val_auc: 0.8449\n",
            "Epoch 5/100\n",
            "151/151 [==============================] - 1s 9ms/step - loss: 17.2065 - tp: 12568.5197 - fp: 26316.1382 - tn: 111215.3947 - fn: 6551.2368 - accuracy: 0.7892 - precision: 0.3221 - recall: 0.6574 - auc: 0.8437 - val_loss: 0.3247 - val_tp: 2737.0000 - val_fp: 5496.0000 - val_tn: 24510.0000 - val_fn: 1557.0000 - val_accuracy: 0.7944 - val_precision: 0.3324 - val_recall: 0.6374 - val_auc: 0.8458\n",
            "Epoch 6/100\n",
            "151/151 [==============================] - 1s 10ms/step - loss: 17.1980 - tp: 12582.1316 - fp: 26282.3882 - tn: 111258.6184 - fn: 6528.1513 - accuracy: 0.7911 - precision: 0.3239 - recall: 0.6544 - auc: 0.8448 - val_loss: 0.3347 - val_tp: 3072.0000 - val_fp: 6340.0000 - val_tn: 23666.0000 - val_fn: 1222.0000 - val_accuracy: 0.7795 - val_precision: 0.3264 - val_recall: 0.7154 - val_auc: 0.8461\n",
            "\n",
            "Epoch 00006: ReduceLROnPlateau reducing learning rate to 0.00020000000949949026.\n",
            "Epoch 7/100\n",
            "151/151 [==============================] - 1s 9ms/step - loss: 17.0846 - tp: 12886.9803 - fp: 27124.6842 - tn: 110430.5263 - fn: 6209.0987 - accuracy: 0.7859 - precision: 0.3208 - recall: 0.6819 - auc: 0.8456 - val_loss: 0.3269 - val_tp: 2914.0000 - val_fp: 5874.0000 - val_tn: 24132.0000 - val_fn: 1380.0000 - val_accuracy: 0.7885 - val_precision: 0.3316 - val_recall: 0.6786 - val_auc: 0.8465\n",
            "Epoch 8/100\n",
            "151/151 [==============================] - 1s 9ms/step - loss: 17.1221 - tp: 12727.0132 - fp: 26614.0987 - tn: 110968.4474 - fn: 6341.7303 - accuracy: 0.7896 - precision: 0.3236 - recall: 0.6669 - auc: 0.8453 - val_loss: 0.3265 - val_tp: 2902.0000 - val_fp: 5848.0000 - val_tn: 24158.0000 - val_fn: 1392.0000 - val_accuracy: 0.7889 - val_precision: 0.3317 - val_recall: 0.6758 - val_auc: 0.8466\n",
            "Epoch 9/100\n",
            "151/151 [==============================] - 1s 9ms/step - loss: 17.1339 - tp: 12938.4671 - fp: 26737.7763 - tn: 110740.2697 - fn: 6234.7763 - accuracy: 0.7895 - precision: 0.3273 - recall: 0.6767 - auc: 0.8467 - val_loss: 0.3261 - val_tp: 2898.0000 - val_fp: 5819.0000 - val_tn: 24187.0000 - val_fn: 1396.0000 - val_accuracy: 0.7897 - val_precision: 0.3325 - val_recall: 0.6749 - val_auc: 0.8468\n",
            "Epoch 10/100\n",
            "151/151 [==============================] - 1s 9ms/step - loss: 17.1298 - tp: 12814.6974 - fp: 26730.7500 - tn: 110832.2500 - fn: 6273.5921 - accuracy: 0.7887 - precision: 0.3232 - recall: 0.6715 - auc: 0.8457 - val_loss: 0.3284 - val_tp: 2964.0000 - val_fp: 6000.0000 - val_tn: 24006.0000 - val_fn: 1330.0000 - val_accuracy: 0.7863 - val_precision: 0.3307 - val_recall: 0.6903 - val_auc: 0.8469\n",
            "Epoch 11/100\n",
            "151/151 [==============================] - 1s 9ms/step - loss: 17.1019 - tp: 12819.4803 - fp: 26566.2303 - tn: 110997.5921 - fn: 6267.9868 - accuracy: 0.7907 - precision: 0.3268 - recall: 0.6739 - auc: 0.8469 - val_loss: 0.3291 - val_tp: 2984.0000 - val_fp: 6047.0000 - val_tn: 23959.0000 - val_fn: 1310.0000 - val_accuracy: 0.7855 - val_precision: 0.3304 - val_recall: 0.6949 - val_auc: 0.8470\n",
            "\n",
            "Epoch 00011: ReduceLROnPlateau reducing learning rate to 4.0000001899898055e-05.\n",
            "Epoch 12/100\n",
            "151/151 [==============================] - 1s 9ms/step - loss: 17.1013 - tp: 13033.6645 - fp: 27146.2237 - tn: 110386.8355 - fn: 6084.5658 - accuracy: 0.7872 - precision: 0.3230 - recall: 0.6836 - auc: 0.8460 - val_loss: 0.3266 - val_tp: 2921.0000 - val_fp: 5888.0000 - val_tn: 24118.0000 - val_fn: 1373.0000 - val_accuracy: 0.7883 - val_precision: 0.3316 - val_recall: 0.6803 - val_auc: 0.8471\n",
            "Epoch 13/100\n",
            "151/151 [==============================] - 1s 9ms/step - loss: 17.0793 - tp: 12994.3750 - fp: 26899.5395 - tn: 110594.0263 - fn: 6163.3487 - accuracy: 0.7895 - precision: 0.3267 - recall: 0.6782 - auc: 0.8479 - val_loss: 0.3266 - val_tp: 2916.0000 - val_fp: 5886.0000 - val_tn: 24120.0000 - val_fn: 1378.0000 - val_accuracy: 0.7882 - val_precision: 0.3313 - val_recall: 0.6791 - val_auc: 0.8471\n",
            "Epoch 14/100\n",
            "151/151 [==============================] - 1s 9ms/step - loss: 17.1546 - tp: 12942.0921 - fp: 26830.5526 - tn: 110669.2237 - fn: 6209.4211 - accuracy: 0.7892 - precision: 0.3262 - recall: 0.6763 - auc: 0.8462 - val_loss: 0.3266 - val_tp: 2914.0000 - val_fp: 5889.0000 - val_tn: 24117.0000 - val_fn: 1380.0000 - val_accuracy: 0.7881 - val_precision: 0.3310 - val_recall: 0.6786 - val_auc: 0.8471\n",
            "Epoch 15/100\n",
            "151/151 [==============================] - 1s 9ms/step - loss: 17.1199 - tp: 12861.5329 - fp: 26776.3750 - tn: 110771.4013 - fn: 6241.9803 - accuracy: 0.7887 - precision: 0.3247 - recall: 0.6743 - auc: 0.8467 - val_loss: 0.3271 - val_tp: 2932.0000 - val_fp: 5922.0000 - val_tn: 24084.0000 - val_fn: 1362.0000 - val_accuracy: 0.7876 - val_precision: 0.3311 - val_recall: 0.6828 - val_auc: 0.8472\n",
            "Epoch 16/100\n",
            "151/151 [==============================] - 1s 9ms/step - loss: 17.1253 - tp: 12982.5921 - fp: 26921.8355 - tn: 110565.0987 - fn: 6181.7632 - accuracy: 0.7885 - precision: 0.3249 - recall: 0.6769 - auc: 0.8464 - val_loss: 0.3264 - val_tp: 2912.0000 - val_fp: 5873.0000 - val_tn: 24133.0000 - val_fn: 1382.0000 - val_accuracy: 0.7885 - val_precision: 0.3315 - val_recall: 0.6782 - val_auc: 0.8472\n",
            "\n",
            "Epoch 00016: ReduceLROnPlateau reducing learning rate to 8.000000525498762e-06.\n",
            "Epoch 17/100\n",
            "151/151 [==============================] - 1s 10ms/step - loss: 16.9950 - tp: 12799.2368 - fp: 26704.7105 - tn: 110927.7763 - fn: 6219.5658 - accuracy: 0.7897 - precision: 0.3235 - recall: 0.6737 - auc: 0.8473 - val_loss: 0.3265 - val_tp: 2913.0000 - val_fp: 5881.0000 - val_tn: 24125.0000 - val_fn: 1381.0000 - val_accuracy: 0.7883 - val_precision: 0.3312 - val_recall: 0.6784 - val_auc: 0.8472\n",
            "Epoch 18/100\n",
            "151/151 [==============================] - 1s 9ms/step - loss: 17.1417 - tp: 12955.1908 - fp: 26781.6645 - tn: 110692.7171 - fn: 6221.7171 - accuracy: 0.7893 - precision: 0.3264 - recall: 0.6761 - auc: 0.8468 - val_loss: 0.3266 - val_tp: 2918.0000 - val_fp: 5887.0000 - val_tn: 24119.0000 - val_fn: 1376.0000 - val_accuracy: 0.7883 - val_precision: 0.3314 - val_recall: 0.6796 - val_auc: 0.8472\n",
            "Epoch 19/100\n",
            "151/151 [==============================] - 1s 9ms/step - loss: 17.1324 - tp: 12926.6908 - fp: 26691.5658 - tn: 110830.9671 - fn: 6202.0658 - accuracy: 0.7903 - precision: 0.3274 - recall: 0.6768 - auc: 0.8464 - val_loss: 0.3266 - val_tp: 2918.0000 - val_fp: 5882.0000 - val_tn: 24124.0000 - val_fn: 1376.0000 - val_accuracy: 0.7884 - val_precision: 0.3316 - val_recall: 0.6796 - val_auc: 0.8472\n",
            "Epoch 20/100\n",
            "151/151 [==============================] - 1s 9ms/step - loss: 17.0303 - tp: 12868.4934 - fp: 26681.1118 - tn: 110898.9803 - fn: 6202.7039 - accuracy: 0.7907 - precision: 0.3264 - recall: 0.6766 - auc: 0.8479 - val_loss: 0.3266 - val_tp: 2919.0000 - val_fp: 5885.0000 - val_tn: 24121.0000 - val_fn: 1375.0000 - val_accuracy: 0.7883 - val_precision: 0.3316 - val_recall: 0.6798 - val_auc: 0.8472\n",
            "Epoch 21/100\n",
            "151/151 [==============================] - 1s 10ms/step - loss: 17.0762 - tp: 12921.9342 - fp: 26841.0921 - tn: 110701.5592 - fn: 6186.7039 - accuracy: 0.7893 - precision: 0.3253 - recall: 0.6774 - auc: 0.8473 - val_loss: 0.3267 - val_tp: 2919.0000 - val_fp: 5897.0000 - val_tn: 24109.0000 - val_fn: 1375.0000 - val_accuracy: 0.7880 - val_precision: 0.3311 - val_recall: 0.6798 - val_auc: 0.8472\n",
            "\n",
            "Epoch 00021: ReduceLROnPlateau reducing learning rate to 1.6000001778593287e-06.\n",
            "Epoch 22/100\n",
            "151/151 [==============================] - 2s 10ms/step - loss: 17.1255 - tp: 13013.3092 - fp: 26730.3158 - tn: 110729.6974 - fn: 6177.9671 - accuracy: 0.7903 - precision: 0.3291 - recall: 0.6796 - auc: 0.8477 - val_loss: 0.3267 - val_tp: 2919.0000 - val_fp: 5897.0000 - val_tn: 24109.0000 - val_fn: 1375.0000 - val_accuracy: 0.7880 - val_precision: 0.3311 - val_recall: 0.6798 - val_auc: 0.8472\n",
            "Epoch 23/100\n",
            "151/151 [==============================] - 1s 10ms/step - loss: 17.1284 - tp: 12847.1842 - fp: 26785.3750 - tn: 110770.0526 - fn: 6248.6776 - accuracy: 0.7894 - precision: 0.3241 - recall: 0.6725 - auc: 0.8460 - val_loss: 0.3267 - val_tp: 2919.0000 - val_fp: 5897.0000 - val_tn: 24109.0000 - val_fn: 1375.0000 - val_accuracy: 0.7880 - val_precision: 0.3311 - val_recall: 0.6798 - val_auc: 0.8472\n",
            "Epoch 24/100\n",
            "151/151 [==============================] - 1s 10ms/step - loss: 17.1112 - tp: 12926.4934 - fp: 26836.1447 - tn: 110705.1053 - fn: 6183.5461 - accuracy: 0.7887 - precision: 0.3247 - recall: 0.6772 - auc: 0.8464 - val_loss: 0.3267 - val_tp: 2919.0000 - val_fp: 5896.0000 - val_tn: 24110.0000 - val_fn: 1375.0000 - val_accuracy: 0.7880 - val_precision: 0.3311 - val_recall: 0.6798 - val_auc: 0.8472\n",
            "Epoch 25/100\n",
            "151/151 [==============================] - 1s 10ms/step - loss: 17.0894 - tp: 12920.3092 - fp: 26751.3421 - tn: 110818.6645 - fn: 6160.9737 - accuracy: 0.7899 - precision: 0.3252 - recall: 0.6769 - auc: 0.8470 - val_loss: 0.3267 - val_tp: 2919.0000 - val_fp: 5897.0000 - val_tn: 24109.0000 - val_fn: 1375.0000 - val_accuracy: 0.7880 - val_precision: 0.3311 - val_recall: 0.6798 - val_auc: 0.8472\n",
            "Epoch 26/100\n",
            "151/151 [==============================] - 1s 10ms/step - loss: 17.0829 - tp: 12950.1513 - fp: 26702.8355 - tn: 110778.2961 - fn: 6220.0066 - accuracy: 0.7904 - precision: 0.3286 - recall: 0.6776 - auc: 0.8479 - val_loss: 0.3267 - val_tp: 2919.0000 - val_fp: 5897.0000 - val_tn: 24109.0000 - val_fn: 1375.0000 - val_accuracy: 0.7880 - val_precision: 0.3311 - val_recall: 0.6798 - val_auc: 0.8472\n",
            "\n",
            "Epoch 00026: ReduceLROnPlateau reducing learning rate to 3.200000264769187e-07.\n",
            "Epoch 27/100\n",
            "151/151 [==============================] - 1s 10ms/step - loss: 17.0658 - tp: 12926.4539 - fp: 26735.4079 - tn: 110764.9013 - fn: 6224.5263 - accuracy: 0.7904 - precision: 0.3263 - recall: 0.6761 - auc: 0.8478 - val_loss: 0.3267 - val_tp: 2919.0000 - val_fp: 5897.0000 - val_tn: 24109.0000 - val_fn: 1375.0000 - val_accuracy: 0.7880 - val_precision: 0.3311 - val_recall: 0.6798 - val_auc: 0.8472\n",
            "Epoch 28/100\n",
            "151/151 [==============================] - 2s 10ms/step - loss: 17.0705 - tp: 12900.0789 - fp: 26719.8092 - tn: 110838.1711 - fn: 6193.2303 - accuracy: 0.7901 - precision: 0.3259 - recall: 0.6758 - auc: 0.8472 - val_loss: 0.3267 - val_tp: 2919.0000 - val_fp: 5897.0000 - val_tn: 24109.0000 - val_fn: 1375.0000 - val_accuracy: 0.7880 - val_precision: 0.3311 - val_recall: 0.6798 - val_auc: 0.8472\n",
            "Epoch 29/100\n",
            "151/151 [==============================] - 2s 10ms/step - loss: 17.0925 - tp: 12918.7434 - fp: 26798.4408 - tn: 110743.4671 - fn: 6190.6382 - accuracy: 0.7895 - precision: 0.3249 - recall: 0.6786 - auc: 0.8468 - val_loss: 0.3267 - val_tp: 2919.0000 - val_fp: 5897.0000 - val_tn: 24109.0000 - val_fn: 1375.0000 - val_accuracy: 0.7880 - val_precision: 0.3311 - val_recall: 0.6798 - val_auc: 0.8472\n",
            "Epoch 30/100\n",
            "151/151 [==============================] - 1s 10ms/step - loss: 17.0708 - tp: 12897.0855 - fp: 26692.6447 - tn: 110848.5987 - fn: 6212.9605 - accuracy: 0.7905 - precision: 0.3269 - recall: 0.6766 - auc: 0.8476 - val_loss: 0.3267 - val_tp: 2919.0000 - val_fp: 5897.0000 - val_tn: 24109.0000 - val_fn: 1375.0000 - val_accuracy: 0.7880 - val_precision: 0.3311 - val_recall: 0.6798 - val_auc: 0.8472\n",
            "Epoch 31/100\n",
            "151/151 [==============================] - 2s 10ms/step - loss: 17.0749 - tp: 12900.8750 - fp: 26766.5000 - tn: 110776.0263 - fn: 6207.8882 - accuracy: 0.7898 - precision: 0.3261 - recall: 0.6767 - auc: 0.8470 - val_loss: 0.3267 - val_tp: 2919.0000 - val_fp: 5897.0000 - val_tn: 24109.0000 - val_fn: 1375.0000 - val_accuracy: 0.7880 - val_precision: 0.3311 - val_recall: 0.6798 - val_auc: 0.8472\n",
            "\n",
            "Epoch 00031: ReduceLROnPlateau reducing learning rate to 6.400000529538374e-08.\n",
            "Epoch 32/100\n",
            "151/151 [==============================] - 1s 10ms/step - loss: 17.1501 - tp: 12887.6579 - fp: 26848.8421 - tn: 110640.6184 - fn: 6274.1711 - accuracy: 0.7881 - precision: 0.3229 - recall: 0.6714 - auc: 0.8455 - val_loss: 0.3267 - val_tp: 2919.0000 - val_fp: 5897.0000 - val_tn: 24109.0000 - val_fn: 1375.0000 - val_accuracy: 0.7880 - val_precision: 0.3311 - val_recall: 0.6798 - val_auc: 0.8472\n",
            "Epoch 33/100\n",
            "151/151 [==============================] - 1s 10ms/step - loss: 17.1843 - tp: 12895.8092 - fp: 26851.0329 - tn: 110610.9868 - fn: 6293.4605 - accuracy: 0.7882 - precision: 0.3248 - recall: 0.6709 - auc: 0.8456 - val_loss: 0.3267 - val_tp: 2919.0000 - val_fp: 5897.0000 - val_tn: 24109.0000 - val_fn: 1375.0000 - val_accuracy: 0.7880 - val_precision: 0.3311 - val_recall: 0.6798 - val_auc: 0.8472\n",
            "Epoch 34/100\n",
            "151/151 [==============================] - 1s 10ms/step - loss: 17.0260 - tp: 12829.1711 - fp: 26821.0066 - tn: 110829.4803 - fn: 6171.6316 - accuracy: 0.7897 - precision: 0.3238 - recall: 0.6773 - auc: 0.8470 - val_loss: 0.3267 - val_tp: 2919.0000 - val_fp: 5897.0000 - val_tn: 24109.0000 - val_fn: 1375.0000 - val_accuracy: 0.7880 - val_precision: 0.3311 - val_recall: 0.6798 - val_auc: 0.8472\n",
            "Epoch 35/100\n",
            "151/151 [==============================] - 2s 10ms/step - loss: 17.1198 - tp: 12934.1579 - fp: 26738.5197 - tn: 110745.0724 - fn: 6233.5395 - accuracy: 0.7890 - precision: 0.3252 - recall: 0.6729 - auc: 0.8463 - val_loss: 0.3267 - val_tp: 2919.0000 - val_fp: 5897.0000 - val_tn: 24109.0000 - val_fn: 1375.0000 - val_accuracy: 0.7880 - val_precision: 0.3311 - val_recall: 0.6798 - val_auc: 0.8472\n",
            "Epoch 36/100\n",
            "151/151 [==============================] - 1s 10ms/step - loss: 17.1547 - tp: 12906.5855 - fp: 26840.8618 - tn: 110679.1908 - fn: 6224.6513 - accuracy: 0.7888 - precision: 0.3259 - recall: 0.6742 - auc: 0.8465 - val_loss: 0.3267 - val_tp: 2919.0000 - val_fp: 5897.0000 - val_tn: 24109.0000 - val_fn: 1375.0000 - val_accuracy: 0.7880 - val_precision: 0.3311 - val_recall: 0.6798 - val_auc: 0.8472\n",
            "\n",
            "Epoch 00036: ReduceLROnPlateau reducing learning rate to 1.2800001059076749e-08.\n",
            "Epoch 37/100\n",
            "151/151 [==============================] - 1s 10ms/step - loss: 17.1417 - tp: 12930.4408 - fp: 26782.1118 - tn: 110739.0461 - fn: 6199.6908 - accuracy: 0.7895 - precision: 0.3261 - recall: 0.6758 - auc: 0.8463 - val_loss: 0.3267 - val_tp: 2919.0000 - val_fp: 5897.0000 - val_tn: 24109.0000 - val_fn: 1375.0000 - val_accuracy: 0.7880 - val_precision: 0.3311 - val_recall: 0.6798 - val_auc: 0.8472\n",
            "Epoch 38/100\n",
            "151/151 [==============================] - 1s 9ms/step - loss: 17.0930 - tp: 12884.5263 - fp: 26772.4342 - tn: 110766.1974 - fn: 6228.1316 - accuracy: 0.7897 - precision: 0.3254 - recall: 0.6730 - auc: 0.8467 - val_loss: 0.3267 - val_tp: 2919.0000 - val_fp: 5897.0000 - val_tn: 24109.0000 - val_fn: 1375.0000 - val_accuracy: 0.7880 - val_precision: 0.3311 - val_recall: 0.6798 - val_auc: 0.8472\n",
            "Epoch 39/100\n",
            "151/151 [==============================] - 1s 10ms/step - loss: 17.0760 - tp: 12945.3553 - fp: 26735.4145 - tn: 110765.1974 - fn: 6205.3224 - accuracy: 0.7898 - precision: 0.3268 - recall: 0.6765 - auc: 0.8474 - val_loss: 0.3267 - val_tp: 2919.0000 - val_fp: 5897.0000 - val_tn: 24109.0000 - val_fn: 1375.0000 - val_accuracy: 0.7880 - val_precision: 0.3311 - val_recall: 0.6798 - val_auc: 0.8472\n",
            "Epoch 40/100\n",
            "151/151 [==============================] - 1s 10ms/step - loss: 17.1310 - tp: 12905.3224 - fp: 26758.2961 - tn: 110766.0263 - fn: 6221.6447 - accuracy: 0.7891 - precision: 0.3250 - recall: 0.6733 - auc: 0.8461 - val_loss: 0.3267 - val_tp: 2919.0000 - val_fp: 5897.0000 - val_tn: 24109.0000 - val_fn: 1375.0000 - val_accuracy: 0.7880 - val_precision: 0.3311 - val_recall: 0.6798 - val_auc: 0.8472\n",
            "Epoch 41/100\n",
            "151/151 [==============================] - 1s 10ms/step - loss: 17.1110 - tp: 12908.6908 - fp: 26884.8158 - tn: 110631.4868 - fn: 6226.2961 - accuracy: 0.7889 - precision: 0.3246 - recall: 0.6751 - auc: 0.8462 - val_loss: 0.3267 - val_tp: 2919.0000 - val_fp: 5897.0000 - val_tn: 24109.0000 - val_fn: 1375.0000 - val_accuracy: 0.7880 - val_precision: 0.3311 - val_recall: 0.6798 - val_auc: 0.8472\n",
            "\n",
            "Epoch 00041: ReduceLROnPlateau reducing learning rate to 2.5600002118153498e-09.\n",
            "Epoch 42/100\n",
            "151/151 [==============================] - 1s 10ms/step - loss: 17.0412 - tp: 12952.6513 - fp: 26836.6711 - tn: 110702.1842 - fn: 6159.7829 - accuracy: 0.7890 - precision: 0.3250 - recall: 0.6784 - auc: 0.8477 - val_loss: 0.3267 - val_tp: 2919.0000 - val_fp: 5897.0000 - val_tn: 24109.0000 - val_fn: 1375.0000 - val_accuracy: 0.7880 - val_precision: 0.3311 - val_recall: 0.6798 - val_auc: 0.8472\n",
            "Epoch 43/100\n",
            "151/151 [==============================] - 1s 10ms/step - loss: 17.0606 - tp: 12846.4474 - fp: 26671.2303 - tn: 110911.2632 - fn: 6222.3487 - accuracy: 0.7906 - precision: 0.3258 - recall: 0.6737 - auc: 0.8469 - val_loss: 0.3267 - val_tp: 2919.0000 - val_fp: 5897.0000 - val_tn: 24109.0000 - val_fn: 1375.0000 - val_accuracy: 0.7880 - val_precision: 0.3311 - val_recall: 0.6798 - val_auc: 0.8472\n",
            "Epoch 44/100\n",
            "151/151 [==============================] - 1s 10ms/step - loss: 17.0597 - tp: 12898.5592 - fp: 26832.8618 - tn: 110739.3224 - fn: 6180.5461 - accuracy: 0.7890 - precision: 0.3239 - recall: 0.6775 - auc: 0.8464 - val_loss: 0.3267 - val_tp: 2919.0000 - val_fp: 5897.0000 - val_tn: 24109.0000 - val_fn: 1375.0000 - val_accuracy: 0.7880 - val_precision: 0.3311 - val_recall: 0.6798 - val_auc: 0.8472\n",
            "Epoch 45/100\n",
            "151/151 [==============================] - 1s 10ms/step - loss: 17.0488 - tp: 12902.1776 - fp: 26759.9408 - tn: 110806.9868 - fn: 6182.1842 - accuracy: 0.7898 - precision: 0.3260 - recall: 0.6794 - auc: 0.8478 - val_loss: 0.3267 - val_tp: 2919.0000 - val_fp: 5897.0000 - val_tn: 24109.0000 - val_fn: 1375.0000 - val_accuracy: 0.7880 - val_precision: 0.3311 - val_recall: 0.6798 - val_auc: 0.8472\n",
            "Epoch 46/100\n",
            "151/151 [==============================] - 1s 10ms/step - loss: 17.1663 - tp: 12992.8750 - fp: 26670.5987 - tn: 110771.2632 - fn: 6216.5526 - accuracy: 0.7902 - precision: 0.3284 - recall: 0.6746 - auc: 0.8468 - val_loss: 0.3267 - val_tp: 2919.0000 - val_fp: 5897.0000 - val_tn: 24109.0000 - val_fn: 1375.0000 - val_accuracy: 0.7880 - val_precision: 0.3311 - val_recall: 0.6798 - val_auc: 0.8472\n",
            "\n",
            "Epoch 00046: ReduceLROnPlateau reducing learning rate to 5.1200004236307e-10.\n",
            "Epoch 47/100\n",
            "151/151 [==============================] - 1s 10ms/step - loss: 17.0751 - tp: 12927.8092 - fp: 26661.3092 - tn: 110917.5461 - fn: 6144.6250 - accuracy: 0.7915 - precision: 0.3281 - recall: 0.6783 - auc: 0.8477 - val_loss: 0.3267 - val_tp: 2919.0000 - val_fp: 5897.0000 - val_tn: 24109.0000 - val_fn: 1375.0000 - val_accuracy: 0.7880 - val_precision: 0.3311 - val_recall: 0.6798 - val_auc: 0.8472\n",
            "Epoch 48/100\n",
            "151/151 [==============================] - 1s 10ms/step - loss: 17.0658 - tp: 12893.4145 - fp: 26830.3421 - tn: 110733.9737 - fn: 6193.5592 - accuracy: 0.7895 - precision: 0.3250 - recall: 0.6759 - auc: 0.8468 - val_loss: 0.3267 - val_tp: 2919.0000 - val_fp: 5897.0000 - val_tn: 24109.0000 - val_fn: 1375.0000 - val_accuracy: 0.7880 - val_precision: 0.3311 - val_recall: 0.6798 - val_auc: 0.8472\n",
            "Epoch 49/100\n",
            "151/151 [==============================] - 1s 10ms/step - loss: 17.1565 - tp: 12920.1513 - fp: 26798.9474 - tn: 110688.6842 - fn: 6243.5066 - accuracy: 0.7882 - precision: 0.3254 - recall: 0.6748 - auc: 0.8456 - val_loss: 0.3267 - val_tp: 2919.0000 - val_fp: 5897.0000 - val_tn: 24109.0000 - val_fn: 1375.0000 - val_accuracy: 0.7880 - val_precision: 0.3311 - val_recall: 0.6798 - val_auc: 0.8472\n",
            "Epoch 50/100\n",
            "151/151 [==============================] - 1s 10ms/step - loss: 17.1519 - tp: 12916.8355 - fp: 26798.7500 - tn: 110741.1447 - fn: 6194.5592 - accuracy: 0.7889 - precision: 0.3245 - recall: 0.6747 - auc: 0.8459 - val_loss: 0.3267 - val_tp: 2919.0000 - val_fp: 5897.0000 - val_tn: 24109.0000 - val_fn: 1375.0000 - val_accuracy: 0.7880 - val_precision: 0.3311 - val_recall: 0.6798 - val_auc: 0.8472\n",
            "Epoch 51/100\n",
            "151/151 [==============================] - 1s 10ms/step - loss: 17.0932 - tp: 12902.7303 - fp: 26716.0526 - tn: 110826.6382 - fn: 6205.8684 - accuracy: 0.7899 - precision: 0.3260 - recall: 0.6754 - auc: 0.8470 - val_loss: 0.3267 - val_tp: 2919.0000 - val_fp: 5897.0000 - val_tn: 24109.0000 - val_fn: 1375.0000 - val_accuracy: 0.7880 - val_precision: 0.3311 - val_recall: 0.6798 - val_auc: 0.8472\n",
            "\n",
            "Epoch 00051: ReduceLROnPlateau reducing learning rate to 1.0240001069306004e-10.\n",
            "Epoch 52/100\n",
            "151/151 [==============================] - 2s 10ms/step - loss: 17.1904 - tp: 12962.4934 - fp: 26864.0132 - tn: 110606.0855 - fn: 6218.6974 - accuracy: 0.7878 - precision: 0.3251 - recall: 0.6757 - auc: 0.8458 - val_loss: 0.3267 - val_tp: 2919.0000 - val_fp: 5897.0000 - val_tn: 24109.0000 - val_fn: 1375.0000 - val_accuracy: 0.7880 - val_precision: 0.3311 - val_recall: 0.6798 - val_auc: 0.8472\n",
            "Epoch 53/100\n",
            "151/151 [==============================] - 1s 10ms/step - loss: 17.0194 - tp: 12899.1842 - fp: 26822.4276 - tn: 110779.5724 - fn: 6150.1053 - accuracy: 0.7895 - precision: 0.3241 - recall: 0.6788 - auc: 0.8470 - val_loss: 0.3267 - val_tp: 2919.0000 - val_fp: 5897.0000 - val_tn: 24109.0000 - val_fn: 1375.0000 - val_accuracy: 0.7880 - val_precision: 0.3311 - val_recall: 0.6798 - val_auc: 0.8472\n",
            "Epoch 54/100\n",
            "151/151 [==============================] - 1s 10ms/step - loss: 17.1053 - tp: 12854.8750 - fp: 26817.3224 - tn: 110736.6053 - fn: 6242.4868 - accuracy: 0.7888 - precision: 0.3240 - recall: 0.6714 - auc: 0.8463 - val_loss: 0.3267 - val_tp: 2919.0000 - val_fp: 5897.0000 - val_tn: 24109.0000 - val_fn: 1375.0000 - val_accuracy: 0.7880 - val_precision: 0.3311 - val_recall: 0.6798 - val_auc: 0.8472\n",
            "Epoch 55/100\n",
            "151/151 [==============================] - 1s 10ms/step - loss: 17.0817 - tp: 12869.2697 - fp: 26791.4079 - tn: 110773.7105 - fn: 6216.9013 - accuracy: 0.7891 - precision: 0.3239 - recall: 0.6743 - auc: 0.8460 - val_loss: 0.3267 - val_tp: 2919.0000 - val_fp: 5897.0000 - val_tn: 24109.0000 - val_fn: 1375.0000 - val_accuracy: 0.7880 - val_precision: 0.3311 - val_recall: 0.6798 - val_auc: 0.8472\n",
            "Epoch 56/100\n",
            "151/151 [==============================] - 1s 10ms/step - loss: 16.9778 - tp: 12863.1645 - fp: 26847.0526 - tn: 110755.0066 - fn: 6186.0658 - accuracy: 0.7898 - precision: 0.3228 - recall: 0.6754 - auc: 0.8473 - val_loss: 0.3267 - val_tp: 2919.0000 - val_fp: 5897.0000 - val_tn: 24109.0000 - val_fn: 1375.0000 - val_accuracy: 0.7880 - val_precision: 0.3311 - val_recall: 0.6798 - val_auc: 0.8472\n",
            "\n",
            "Epoch 00056: ReduceLROnPlateau reducing learning rate to 2.0480002416167767e-11.\n",
            "Epoch 57/100\n",
            "151/151 [==============================] - 1s 10ms/step - loss: 17.1328 - tp: 12977.7763 - fp: 26727.6842 - tn: 110717.6645 - fn: 6228.1645 - accuracy: 0.7898 - precision: 0.3278 - recall: 0.6764 - auc: 0.8472 - val_loss: 0.3267 - val_tp: 2919.0000 - val_fp: 5897.0000 - val_tn: 24109.0000 - val_fn: 1375.0000 - val_accuracy: 0.7880 - val_precision: 0.3311 - val_recall: 0.6798 - val_auc: 0.8472\n",
            "Epoch 58/100\n",
            "151/151 [==============================] - 2s 10ms/step - loss: 17.1421 - tp: 12945.0921 - fp: 26807.7895 - tn: 110711.5921 - fn: 6186.8158 - accuracy: 0.7892 - precision: 0.3266 - recall: 0.6773 - auc: 0.8465 - val_loss: 0.3267 - val_tp: 2919.0000 - val_fp: 5897.0000 - val_tn: 24109.0000 - val_fn: 1375.0000 - val_accuracy: 0.7880 - val_precision: 0.3311 - val_recall: 0.6798 - val_auc: 0.8472\n",
            "Epoch 59/100\n",
            "151/151 [==============================] - 1s 10ms/step - loss: 17.1388 - tp: 12905.2237 - fp: 26802.8421 - tn: 110708.1316 - fn: 6235.0921 - accuracy: 0.7887 - precision: 0.3244 - recall: 0.6747 - auc: 0.8465 - val_loss: 0.3267 - val_tp: 2919.0000 - val_fp: 5897.0000 - val_tn: 24109.0000 - val_fn: 1375.0000 - val_accuracy: 0.7880 - val_precision: 0.3311 - val_recall: 0.6798 - val_auc: 0.8472\n",
            "Epoch 60/100\n",
            "151/151 [==============================] - 1s 10ms/step - loss: 17.0992 - tp: 12886.0066 - fp: 26824.5329 - tn: 110710.0461 - fn: 6230.7039 - accuracy: 0.7893 - precision: 0.3244 - recall: 0.6713 - auc: 0.8458 - val_loss: 0.3267 - val_tp: 2919.0000 - val_fp: 5897.0000 - val_tn: 24109.0000 - val_fn: 1375.0000 - val_accuracy: 0.7880 - val_precision: 0.3311 - val_recall: 0.6798 - val_auc: 0.8472\n",
            "Epoch 61/100\n",
            "151/151 [==============================] - 1s 10ms/step - loss: 17.1195 - tp: 12916.7368 - fp: 26757.8026 - tn: 110751.2895 - fn: 6225.4605 - accuracy: 0.7887 - precision: 0.3248 - recall: 0.6750 - auc: 0.8464 - val_loss: 0.3267 - val_tp: 2919.0000 - val_fp: 5897.0000 - val_tn: 24109.0000 - val_fn: 1375.0000 - val_accuracy: 0.7880 - val_precision: 0.3311 - val_recall: 0.6798 - val_auc: 0.8472\n",
            "\n",
            "Epoch 00061: ReduceLROnPlateau reducing learning rate to 4.096000622011431e-12.\n",
            "Epoch 62/100\n",
            "151/151 [==============================] - 2s 10ms/step - loss: 17.1692 - tp: 12939.3092 - fp: 26758.6974 - tn: 110735.1118 - fn: 6218.1711 - accuracy: 0.7890 - precision: 0.3259 - recall: 0.6748 - auc: 0.8464 - val_loss: 0.3267 - val_tp: 2919.0000 - val_fp: 5897.0000 - val_tn: 24109.0000 - val_fn: 1375.0000 - val_accuracy: 0.7880 - val_precision: 0.3311 - val_recall: 0.6798 - val_auc: 0.8472\n",
            "Epoch 63/100\n",
            "151/151 [==============================] - 2s 10ms/step - loss: 17.1360 - tp: 12943.2368 - fp: 26898.8947 - tn: 110597.7829 - fn: 6211.3750 - accuracy: 0.7882 - precision: 0.3250 - recall: 0.6765 - auc: 0.8459 - val_loss: 0.3267 - val_tp: 2919.0000 - val_fp: 5897.0000 - val_tn: 24109.0000 - val_fn: 1375.0000 - val_accuracy: 0.7880 - val_precision: 0.3311 - val_recall: 0.6798 - val_auc: 0.8472\n",
            "Epoch 64/100\n",
            "151/151 [==============================] - 1s 10ms/step - loss: 17.0913 - tp: 12913.6711 - fp: 26762.0526 - tn: 110771.0921 - fn: 6204.4737 - accuracy: 0.7895 - precision: 0.3253 - recall: 0.6757 - auc: 0.8468 - val_loss: 0.3267 - val_tp: 2919.0000 - val_fp: 5897.0000 - val_tn: 24109.0000 - val_fn: 1375.0000 - val_accuracy: 0.7880 - val_precision: 0.3311 - val_recall: 0.6798 - val_auc: 0.8472\n",
            "Epoch 65/100\n",
            "151/151 [==============================] - 1s 10ms/step - loss: 17.0919 - tp: 12985.7171 - fp: 26791.1447 - tn: 110685.1645 - fn: 6189.2632 - accuracy: 0.7893 - precision: 0.3265 - recall: 0.6792 - auc: 0.8476 - val_loss: 0.3267 - val_tp: 2919.0000 - val_fp: 5897.0000 - val_tn: 24109.0000 - val_fn: 1375.0000 - val_accuracy: 0.7880 - val_precision: 0.3311 - val_recall: 0.6798 - val_auc: 0.8472\n",
            "Epoch 66/100\n",
            "151/151 [==============================] - 2s 10ms/step - loss: 17.0666 - tp: 12876.0526 - fp: 26859.8882 - tn: 110713.0724 - fn: 6202.2763 - accuracy: 0.7891 - precision: 0.3236 - recall: 0.6770 - auc: 0.8463 - val_loss: 0.3267 - val_tp: 2919.0000 - val_fp: 5897.0000 - val_tn: 24109.0000 - val_fn: 1375.0000 - val_accuracy: 0.7880 - val_precision: 0.3311 - val_recall: 0.6798 - val_auc: 0.8472\n",
            "\n",
            "Epoch 00066: ReduceLROnPlateau reducing learning rate to 8.192000897078167e-13.\n",
            "Epoch 67/100\n",
            "151/151 [==============================] - 1s 10ms/step - loss: 17.0958 - tp: 12880.5461 - fp: 26847.9605 - tn: 110702.8487 - fn: 6219.9342 - accuracy: 0.7890 - precision: 0.3241 - recall: 0.6743 - auc: 0.8461 - val_loss: 0.3267 - val_tp: 2919.0000 - val_fp: 5897.0000 - val_tn: 24109.0000 - val_fn: 1375.0000 - val_accuracy: 0.7880 - val_precision: 0.3311 - val_recall: 0.6798 - val_auc: 0.8472\n",
            "Epoch 68/100\n",
            "151/151 [==============================] - 1s 10ms/step - loss: 17.0963 - tp: 12854.4605 - fp: 26626.6645 - tn: 110918.3947 - fn: 6251.7697 - accuracy: 0.7904 - precision: 0.3256 - recall: 0.6699 - auc: 0.8464 - val_loss: 0.3267 - val_tp: 2919.0000 - val_fp: 5897.0000 - val_tn: 24109.0000 - val_fn: 1375.0000 - val_accuracy: 0.7880 - val_precision: 0.3311 - val_recall: 0.6798 - val_auc: 0.8472\n",
            "Epoch 69/100\n",
            "151/151 [==============================] - 2s 10ms/step - loss: 17.1176 - tp: 12887.8026 - fp: 26790.6513 - tn: 110761.7434 - fn: 6211.0921 - accuracy: 0.7892 - precision: 0.3243 - recall: 0.6732 - auc: 0.8461 - val_loss: 0.3267 - val_tp: 2919.0000 - val_fp: 5897.0000 - val_tn: 24109.0000 - val_fn: 1375.0000 - val_accuracy: 0.7880 - val_precision: 0.3311 - val_recall: 0.6798 - val_auc: 0.8472\n",
            "Epoch 70/100\n",
            "151/151 [==============================] - 2s 10ms/step - loss: 17.0975 - tp: 12898.6579 - fp: 26840.9605 - tn: 110680.0066 - fn: 6231.6645 - accuracy: 0.7885 - precision: 0.3237 - recall: 0.6737 - auc: 0.8462 - val_loss: 0.3267 - val_tp: 2919.0000 - val_fp: 5897.0000 - val_tn: 24109.0000 - val_fn: 1375.0000 - val_accuracy: 0.7880 - val_precision: 0.3311 - val_recall: 0.6798 - val_auc: 0.8472\n",
            "Epoch 71/100\n",
            "151/151 [==============================] - 2s 10ms/step - loss: 17.0371 - tp: 12843.7895 - fp: 26770.9474 - tn: 110834.1842 - fn: 6202.3684 - accuracy: 0.7895 - precision: 0.3228 - recall: 0.6760 - auc: 0.8469 - val_loss: 0.3267 - val_tp: 2919.0000 - val_fp: 5897.0000 - val_tn: 24109.0000 - val_fn: 1375.0000 - val_accuracy: 0.7880 - val_precision: 0.3311 - val_recall: 0.6798 - val_auc: 0.8472\n",
            "\n",
            "Epoch 00071: ReduceLROnPlateau reducing learning rate to 1.6384001360475466e-13.\n",
            "Epoch 72/100\n",
            "151/151 [==============================] - 1s 10ms/step - loss: 17.1054 - tp: 12920.8553 - fp: 26761.5855 - tn: 110771.4934 - fn: 6197.3553 - accuracy: 0.7896 - precision: 0.3256 - recall: 0.6749 - auc: 0.8470 - val_loss: 0.3267 - val_tp: 2919.0000 - val_fp: 5897.0000 - val_tn: 24109.0000 - val_fn: 1375.0000 - val_accuracy: 0.7880 - val_precision: 0.3311 - val_recall: 0.6798 - val_auc: 0.8472\n",
            "Epoch 73/100\n",
            "151/151 [==============================] - 2s 10ms/step - loss: 17.1512 - tp: 12947.4079 - fp: 26874.5526 - tn: 110642.2171 - fn: 6187.1118 - accuracy: 0.7888 - precision: 0.3262 - recall: 0.6762 - auc: 0.8462 - val_loss: 0.3267 - val_tp: 2919.0000 - val_fp: 5897.0000 - val_tn: 24109.0000 - val_fn: 1375.0000 - val_accuracy: 0.7880 - val_precision: 0.3311 - val_recall: 0.6798 - val_auc: 0.8472\n",
            "Epoch 74/100\n",
            "151/151 [==============================] - 2s 10ms/step - loss: 17.0509 - tp: 12875.1184 - fp: 26733.3487 - tn: 110823.9934 - fn: 6218.8289 - accuracy: 0.7897 - precision: 0.3231 - recall: 0.6732 - auc: 0.8466 - val_loss: 0.3267 - val_tp: 2919.0000 - val_fp: 5897.0000 - val_tn: 24109.0000 - val_fn: 1375.0000 - val_accuracy: 0.7880 - val_precision: 0.3311 - val_recall: 0.6798 - val_auc: 0.8472\n",
            "Epoch 75/100\n",
            "151/151 [==============================] - 2s 10ms/step - loss: 17.0706 - tp: 12962.0987 - fp: 26888.0987 - tn: 110645.3553 - fn: 6155.7368 - accuracy: 0.7896 - precision: 0.3268 - recall: 0.6823 - auc: 0.8478 - val_loss: 0.3267 - val_tp: 2919.0000 - val_fp: 5897.0000 - val_tn: 24109.0000 - val_fn: 1375.0000 - val_accuracy: 0.7880 - val_precision: 0.3311 - val_recall: 0.6798 - val_auc: 0.8472\n",
            "Epoch 76/100\n",
            "151/151 [==============================] - 2s 10ms/step - loss: 17.0461 - tp: 12918.8026 - fp: 26829.9342 - tn: 110704.9605 - fn: 6197.5921 - accuracy: 0.7891 - precision: 0.3242 - recall: 0.6766 - auc: 0.8466 - val_loss: 0.3267 - val_tp: 2919.0000 - val_fp: 5897.0000 - val_tn: 24109.0000 - val_fn: 1375.0000 - val_accuracy: 0.7880 - val_precision: 0.3311 - val_recall: 0.6798 - val_auc: 0.8472\n",
            "\n",
            "Epoch 00076: ReduceLROnPlateau reducing learning rate to 3.2768002178849846e-14.\n",
            "Epoch 77/100\n",
            "151/151 [==============================] - 2s 10ms/step - loss: 17.0806 - tp: 12867.7763 - fp: 26786.6711 - tn: 110749.0000 - fn: 6247.8421 - accuracy: 0.7893 - precision: 0.3249 - recall: 0.6710 - auc: 0.8469 - val_loss: 0.3267 - val_tp: 2919.0000 - val_fp: 5897.0000 - val_tn: 24109.0000 - val_fn: 1375.0000 - val_accuracy: 0.7880 - val_precision: 0.3311 - val_recall: 0.6798 - val_auc: 0.8472\n",
            "Epoch 78/100\n",
            "151/151 [==============================] - 1s 10ms/step - loss: 17.0410 - tp: 12812.7105 - fp: 26784.7039 - tn: 110829.8026 - fn: 6224.0724 - accuracy: 0.7892 - precision: 0.3217 - recall: 0.6730 - auc: 0.8462 - val_loss: 0.3267 - val_tp: 2919.0000 - val_fp: 5897.0000 - val_tn: 24109.0000 - val_fn: 1375.0000 - val_accuracy: 0.7880 - val_precision: 0.3311 - val_recall: 0.6798 - val_auc: 0.8472\n",
            "Epoch 79/100\n",
            "151/151 [==============================] - 2s 10ms/step - loss: 16.9954 - tp: 12889.8750 - fp: 26668.9211 - tn: 110923.2763 - fn: 6169.2171 - accuracy: 0.7905 - precision: 0.3261 - recall: 0.6790 - auc: 0.8483 - val_loss: 0.3267 - val_tp: 2919.0000 - val_fp: 5897.0000 - val_tn: 24109.0000 - val_fn: 1375.0000 - val_accuracy: 0.7880 - val_precision: 0.3311 - val_recall: 0.6798 - val_auc: 0.8472\n",
            "Epoch 80/100\n",
            "151/151 [==============================] - 2s 10ms/step - loss: 17.1107 - tp: 12892.0263 - fp: 26774.0263 - tn: 110735.1908 - fn: 6250.0461 - accuracy: 0.7894 - precision: 0.3258 - recall: 0.6726 - auc: 0.8464 - val_loss: 0.3267 - val_tp: 2919.0000 - val_fp: 5897.0000 - val_tn: 24109.0000 - val_fn: 1375.0000 - val_accuracy: 0.7880 - val_precision: 0.3311 - val_recall: 0.6798 - val_auc: 0.8472\n",
            "Epoch 81/100\n",
            "151/151 [==============================] - 2s 10ms/step - loss: 17.1321 - tp: 12964.6711 - fp: 26688.7171 - tn: 110764.3947 - fn: 6233.5066 - accuracy: 0.7900 - precision: 0.3286 - recall: 0.6743 - auc: 0.8475 - val_loss: 0.3267 - val_tp: 2919.0000 - val_fp: 5897.0000 - val_tn: 24109.0000 - val_fn: 1375.0000 - val_accuracy: 0.7880 - val_precision: 0.3311 - val_recall: 0.6798 - val_auc: 0.8472\n",
            "\n",
            "Epoch 00081: ReduceLROnPlateau reducing learning rate to 6.553600300244697e-15.\n",
            "Epoch 82/100\n",
            "151/151 [==============================] - 2s 10ms/step - loss: 17.2493 - tp: 12995.3882 - fp: 26829.0855 - tn: 110531.4803 - fn: 6295.3355 - accuracy: 0.7881 - precision: 0.3282 - recall: 0.6741 - auc: 0.8457 - val_loss: 0.3267 - val_tp: 2919.0000 - val_fp: 5897.0000 - val_tn: 24109.0000 - val_fn: 1375.0000 - val_accuracy: 0.7880 - val_precision: 0.3311 - val_recall: 0.6798 - val_auc: 0.8472\n",
            "Epoch 83/100\n",
            "151/151 [==============================] - 2s 10ms/step - loss: 17.0839 - tp: 12915.7763 - fp: 26907.0724 - tn: 110678.0461 - fn: 6150.3947 - accuracy: 0.7889 - precision: 0.3240 - recall: 0.6780 - auc: 0.8465 - val_loss: 0.3267 - val_tp: 2919.0000 - val_fp: 5897.0000 - val_tn: 24109.0000 - val_fn: 1375.0000 - val_accuracy: 0.7880 - val_precision: 0.3311 - val_recall: 0.6798 - val_auc: 0.8472\n",
            "Epoch 84/100\n",
            "151/151 [==============================] - 2s 10ms/step - loss: 17.0772 - tp: 12941.1579 - fp: 26752.2368 - tn: 110787.9145 - fn: 6169.9803 - accuracy: 0.7896 - precision: 0.3261 - recall: 0.6790 - auc: 0.8470 - val_loss: 0.3267 - val_tp: 2919.0000 - val_fp: 5897.0000 - val_tn: 24109.0000 - val_fn: 1375.0000 - val_accuracy: 0.7880 - val_precision: 0.3311 - val_recall: 0.6798 - val_auc: 0.8472\n",
            "Epoch 85/100\n",
            "151/151 [==============================] - 2s 10ms/step - loss: 17.1129 - tp: 12938.4803 - fp: 26829.0658 - tn: 110668.2763 - fn: 6215.4671 - accuracy: 0.7888 - precision: 0.3258 - recall: 0.6758 - auc: 0.8469 - val_loss: 0.3267 - val_tp: 2919.0000 - val_fp: 5897.0000 - val_tn: 24109.0000 - val_fn: 1375.0000 - val_accuracy: 0.7880 - val_precision: 0.3311 - val_recall: 0.6798 - val_auc: 0.8472\n",
            "Epoch 86/100\n",
            "151/151 [==============================] - 2s 10ms/step - loss: 17.2055 - tp: 12963.5132 - fp: 26701.3421 - tn: 110710.5197 - fn: 6275.9145 - accuracy: 0.7891 - precision: 0.3274 - recall: 0.6715 - auc: 0.8459 - val_loss: 0.3267 - val_tp: 2919.0000 - val_fp: 5897.0000 - val_tn: 24109.0000 - val_fn: 1375.0000 - val_accuracy: 0.7880 - val_precision: 0.3311 - val_recall: 0.6798 - val_auc: 0.8472\n",
            "\n",
            "Epoch 00086: ReduceLROnPlateau reducing learning rate to 1.3107200431082805e-15.\n",
            "Epoch 87/100\n",
            "151/151 [==============================] - 2s 10ms/step - loss: 17.2263 - tp: 12990.3224 - fp: 26778.9671 - tn: 110647.1118 - fn: 6234.8882 - accuracy: 0.7885 - precision: 0.3266 - recall: 0.6737 - auc: 0.8459 - val_loss: 0.3267 - val_tp: 2919.0000 - val_fp: 5897.0000 - val_tn: 24109.0000 - val_fn: 1375.0000 - val_accuracy: 0.7880 - val_precision: 0.3311 - val_recall: 0.6798 - val_auc: 0.8472\n",
            "Epoch 88/100\n",
            "151/151 [==============================] - 2s 10ms/step - loss: 17.1142 - tp: 12978.3289 - fp: 26740.8553 - tn: 110686.4671 - fn: 6245.6382 - accuracy: 0.7901 - precision: 0.3273 - recall: 0.6748 - auc: 0.8472 - val_loss: 0.3267 - val_tp: 2919.0000 - val_fp: 5897.0000 - val_tn: 24109.0000 - val_fn: 1375.0000 - val_accuracy: 0.7880 - val_precision: 0.3311 - val_recall: 0.6798 - val_auc: 0.8472\n",
            "Epoch 89/100\n",
            "151/151 [==============================] - 2s 10ms/step - loss: 17.0923 - tp: 12957.0263 - fp: 26760.6711 - tn: 110717.9079 - fn: 6215.6842 - accuracy: 0.7894 - precision: 0.3260 - recall: 0.6774 - auc: 0.8467 - val_loss: 0.3267 - val_tp: 2919.0000 - val_fp: 5897.0000 - val_tn: 24109.0000 - val_fn: 1375.0000 - val_accuracy: 0.7880 - val_precision: 0.3311 - val_recall: 0.6798 - val_auc: 0.8472\n",
            "Epoch 90/100\n",
            "151/151 [==============================] - 2s 10ms/step - loss: 17.0915 - tp: 12944.6382 - fp: 26675.5066 - tn: 110833.9211 - fn: 6197.2237 - accuracy: 0.7910 - precision: 0.3286 - recall: 0.6781 - auc: 0.8477 - val_loss: 0.3267 - val_tp: 2919.0000 - val_fp: 5897.0000 - val_tn: 24109.0000 - val_fn: 1375.0000 - val_accuracy: 0.7880 - val_precision: 0.3311 - val_recall: 0.6798 - val_auc: 0.8472\n",
            "Epoch 91/100\n",
            "151/151 [==============================] - 2s 11ms/step - loss: 17.1588 - tp: 13003.9934 - fp: 26712.0789 - tn: 110665.8947 - fn: 6269.3224 - accuracy: 0.7896 - precision: 0.3289 - recall: 0.6766 - auc: 0.8474 - val_loss: 0.3267 - val_tp: 2919.0000 - val_fp: 5897.0000 - val_tn: 24109.0000 - val_fn: 1375.0000 - val_accuracy: 0.7880 - val_precision: 0.3311 - val_recall: 0.6798 - val_auc: 0.8472\n",
            "\n",
            "Epoch 00091: ReduceLROnPlateau reducing learning rate to 2.6214401285682084e-16.\n",
            "Epoch 92/100\n",
            "151/151 [==============================] - 2s 10ms/step - loss: 17.0119 - tp: 12847.5132 - fp: 26829.6053 - tn: 110817.4803 - fn: 6156.6908 - accuracy: 0.7894 - precision: 0.3222 - recall: 0.6781 - auc: 0.8470 - val_loss: 0.3267 - val_tp: 2919.0000 - val_fp: 5897.0000 - val_tn: 24109.0000 - val_fn: 1375.0000 - val_accuracy: 0.7880 - val_precision: 0.3311 - val_recall: 0.6798 - val_auc: 0.8472\n",
            "Epoch 93/100\n",
            "151/151 [==============================] - 2s 10ms/step - loss: 17.0588 - tp: 12927.1447 - fp: 26812.5197 - tn: 110710.4145 - fn: 6201.2105 - accuracy: 0.7893 - precision: 0.3253 - recall: 0.6764 - auc: 0.8472 - val_loss: 0.3267 - val_tp: 2919.0000 - val_fp: 5897.0000 - val_tn: 24109.0000 - val_fn: 1375.0000 - val_accuracy: 0.7880 - val_precision: 0.3311 - val_recall: 0.6798 - val_auc: 0.8472\n",
            "Epoch 94/100\n",
            "151/151 [==============================] - 2s 10ms/step - loss: 17.1597 - tp: 12901.8618 - fp: 26849.9276 - tn: 110716.2763 - fn: 6183.2237 - accuracy: 0.7886 - precision: 0.3248 - recall: 0.6755 - auc: 0.8460 - val_loss: 0.3267 - val_tp: 2919.0000 - val_fp: 5897.0000 - val_tn: 24109.0000 - val_fn: 1375.0000 - val_accuracy: 0.7880 - val_precision: 0.3311 - val_recall: 0.6798 - val_auc: 0.8472\n",
            "Epoch 95/100\n",
            "151/151 [==============================] - 2s 10ms/step - loss: 17.0528 - tp: 12885.0789 - fp: 26803.0526 - tn: 110741.0395 - fn: 6222.1184 - accuracy: 0.7893 - precision: 0.3238 - recall: 0.6751 - auc: 0.8468 - val_loss: 0.3267 - val_tp: 2919.0000 - val_fp: 5897.0000 - val_tn: 24109.0000 - val_fn: 1375.0000 - val_accuracy: 0.7880 - val_precision: 0.3311 - val_recall: 0.6798 - val_auc: 0.8472\n",
            "Epoch 96/100\n",
            "151/151 [==============================] - 2s 10ms/step - loss: 17.0406 - tp: 12859.7303 - fp: 26717.0789 - tn: 110910.3289 - fn: 6164.1513 - accuracy: 0.7904 - precision: 0.3250 - recall: 0.6764 - auc: 0.8472 - val_loss: 0.3267 - val_tp: 2919.0000 - val_fp: 5897.0000 - val_tn: 24109.0000 - val_fn: 1375.0000 - val_accuracy: 0.7880 - val_precision: 0.3311 - val_recall: 0.6798 - val_auc: 0.8472\n",
            "\n",
            "Epoch 00096: ReduceLROnPlateau reducing learning rate to 5.2428803630155353e-17.\n",
            "Epoch 97/100\n",
            "151/151 [==============================] - 2s 11ms/step - loss: 17.0873 - tp: 12953.7237 - fp: 26790.1842 - tn: 110711.4868 - fn: 6195.8947 - accuracy: 0.7893 - precision: 0.3257 - recall: 0.6759 - auc: 0.8469 - val_loss: 0.3267 - val_tp: 2919.0000 - val_fp: 5897.0000 - val_tn: 24109.0000 - val_fn: 1375.0000 - val_accuracy: 0.7880 - val_precision: 0.3311 - val_recall: 0.6798 - val_auc: 0.8472\n",
            "Epoch 98/100\n",
            "151/151 [==============================] - 2s 10ms/step - loss: 17.0494 - tp: 12918.0592 - fp: 26792.5658 - tn: 110753.7039 - fn: 6186.9605 - accuracy: 0.7902 - precision: 0.3267 - recall: 0.6769 - auc: 0.8479 - val_loss: 0.3267 - val_tp: 2919.0000 - val_fp: 5897.0000 - val_tn: 24109.0000 - val_fn: 1375.0000 - val_accuracy: 0.7880 - val_precision: 0.3311 - val_recall: 0.6798 - val_auc: 0.8472\n",
            "Epoch 99/100\n",
            "151/151 [==============================] - 2s 10ms/step - loss: 17.1913 - tp: 12949.6842 - fp: 26749.9408 - tn: 110732.3618 - fn: 6219.3026 - accuracy: 0.7900 - precision: 0.3277 - recall: 0.6747 - auc: 0.8463 - val_loss: 0.3267 - val_tp: 2919.0000 - val_fp: 5897.0000 - val_tn: 24109.0000 - val_fn: 1375.0000 - val_accuracy: 0.7880 - val_precision: 0.3311 - val_recall: 0.6798 - val_auc: 0.8472\n",
            "Epoch 100/100\n",
            "151/151 [==============================] - 2s 10ms/step - loss: 17.0254 - tp: 12894.0000 - fp: 26737.8684 - tn: 110833.1842 - fn: 6186.2368 - accuracy: 0.7905 - precision: 0.3257 - recall: 0.6761 - auc: 0.8476 - val_loss: 0.3267 - val_tp: 2919.0000 - val_fp: 5897.0000 - val_tn: 24109.0000 - val_fn: 1375.0000 - val_accuracy: 0.7880 - val_precision: 0.3311 - val_recall: 0.6798 - val_auc: 0.8472\n"
          ],
          "name": "stdout"
        }
      ]
    },
    {
      "cell_type": "code",
      "metadata": {
        "id": "kyu7YNwSd1DK"
      },
      "source": [
        "predictions9 = model9.predict(test_features)"
      ],
      "execution_count": null,
      "outputs": []
    },
    {
      "cell_type": "code",
      "metadata": {
        "id": "gh07BKEZd1DL"
      },
      "source": [
        "predictions9 = sigmoid_to_class(predictions9)"
      ],
      "execution_count": null,
      "outputs": []
    },
    {
      "cell_type": "code",
      "metadata": {
        "colab": {
          "base_uri": "https://localhost:8080/",
          "height": 344
        },
        "id": "zIhuZ42Qd1DM",
        "outputId": "b1d8fafd-70d5-44f0-9c01-d7ca74646816"
      },
      "source": [
        "cnf_matrix = confusion_matrix(test_labels, predictions9)\n",
        "np.set_printoptions(precision=2)\n",
        "\n",
        "# Plot non-normalized confusion matrix\n",
        "plt.figure()\n",
        "plot_confusion_matrix(cnf_matrix, classes = ['Negative','Positive'],\n",
        "                      title='Confusion matrix')"
      ],
      "execution_count": null,
      "outputs": [
        {
          "output_type": "stream",
          "text": [
            "Confusion matrix, without normalization\n",
            "[[26829  6552]\n",
            " [ 1507  3223]]\n"
          ],
          "name": "stdout"
        },
        {
          "output_type": "display_data",
          "data": {
            "image/png": "[encoded data removed]",
            "text/plain": [
              "<Figure size 432x288 with 2 Axes>"
            ]
          },
          "metadata": {
            "tags": []
          }
        }
      ]
    },
    {
      "cell_type": "code",
      "metadata": {
        "colab": {
          "base_uri": "https://localhost:8080/"
        },
        "id": "7M15Syjgd1DN",
        "outputId": "340c5c01-7cf9-42d1-db50-8491d3d4489e"
      },
      "source": [
        "print('\\nClassification Report\\n')\n",
        "print(classification_report(test_labels, predictions9, target_names=['Negative','Positive']))"
      ],
      "execution_count": null,
      "outputs": [
        {
          "output_type": "stream",
          "text": [
            "\n",
            "Classification Report\n",
            "\n",
            "              precision    recall  f1-score   support\n",
            "\n",
            "    Negative       0.95      0.80      0.87     33381\n",
            "    Positive       0.33      0.68      0.44      4730\n",
            "\n",
            "    accuracy                           0.79     38111\n",
            "   macro avg       0.64      0.74      0.66     38111\n",
            "weighted avg       0.87      0.79      0.82     38111\n",
            "\n"
          ],
          "name": "stdout"
        }
      ]
    },
    {
      "cell_type": "markdown",
      "metadata": {
        "id": "-ATGaYe_9yDh"
      },
      "source": [
        "The results remain similar."
      ]
    },
    {
      "cell_type": "markdown",
      "metadata": {
        "id": "pwROUs04Bb2o"
      },
      "source": [
        "<h4><b> Model 10 (Cost-Sensitive NN) <b><h4>\n",
        "\n",
        "This final network uses two hidden layers of 60 and 30 neurons that use the relu activation function and one output layer of one sigmoid neuron. The Reduce Learning rate callback is used again but in this case the RMSprop optimizer is used with a learning rate of 0.1."
      ]
    },
    {
      "cell_type": "code",
      "metadata": {
        "colab": {
          "base_uri": "https://localhost:8080/"
        },
        "id": "lPagJ5DBeOHO",
        "outputId": "c13202dc-6296-4077-dfe3-508879e7267d"
      },
      "source": [
        "opt = tf.keras.optimizers.RMSprop(learning_rate=0.1)\n",
        "\n",
        "def define_model(n_input):\n",
        "  \n",
        "\t# define model\n",
        "\tmodel = Sequential()\n",
        "\t# define first hidden layer and visible layer\n",
        "\tmodel.add(Dense(60, input_dim=n_input, activation='relu', kernel_initializer='he_uniform'))\n",
        "  # define second hidden layer\n",
        "\tmodel.add(Dense(30, activation='relu'))\n",
        "\t# define output layer\n",
        "\tmodel.add(Dense(1, activation='sigmoid'))\n",
        "\t# define loss and optimizer\n",
        "\tmodel.compile(loss='binary_crossentropy', optimizer=opt, metrics=METRICS)\n",
        "\treturn model\n",
        " \n",
        "# get the model\n",
        "n_input = train_features.shape[-1]\n",
        "model10 = define_model(n_input)\n",
        "# fit model\n",
        "weights = {0:35, 1:100}\n",
        "history = model10.fit(train_features, train_labels, class_weight=weights, batch_size=BATCH_SIZE, epochs=EPOCHS, callbacks = [reduce_lr], validation_data=(val_features, val_labels))"
      ],
      "execution_count": null,
      "outputs": [
        {
          "output_type": "stream",
          "text": [
            "Epoch 1/100\n",
            "151/151 [==============================] - 4s 17ms/step - loss: 46.6033 - tp: 15028.3487 - fp: 34654.0197 - tn: 132836.9013 - fn: 8432.0197 - accuracy: 0.7788 - precision: 0.3052 - recall: 0.6218 - auc: 0.8225 - val_loss: 0.3391 - val_tp: 2852.0000 - val_fp: 6020.0000 - val_tn: 23986.0000 - val_fn: 1442.0000 - val_accuracy: 0.7824 - val_precision: 0.3215 - val_recall: 0.6642 - val_auc: 0.8291\n",
            "Epoch 2/100\n",
            "151/151 [==============================] - 2s 11ms/step - loss: 17.7041 - tp: 13992.1184 - fp: 32504.4474 - tn: 105072.1447 - fn: 5082.5789 - accuracy: 0.7569 - precision: 0.2983 - recall: 0.7414 - auc: 0.8291 - val_loss: 0.3617 - val_tp: 3499.0000 - val_fp: 8027.0000 - val_tn: 21979.0000 - val_fn: 795.0000 - val_accuracy: 0.7428 - val_precision: 0.3036 - val_recall: 0.8149 - val_auc: 0.8354\n",
            "Epoch 3/100\n",
            "151/151 [==============================] - 2s 10ms/step - loss: 17.6432 - tp: 14574.3618 - fp: 33840.2105 - tn: 103771.1908 - fn: 4465.5263 - accuracy: 0.7552 - precision: 0.3004 - recall: 0.7658 - auc: 0.8301 - val_loss: 0.3166 - val_tp: 3124.0000 - val_fp: 6656.0000 - val_tn: 23350.0000 - val_fn: 1170.0000 - val_accuracy: 0.7718 - val_precision: 0.3194 - val_recall: 0.7275 - val_auc: 0.8365\n",
            "Epoch 4/100\n",
            "151/151 [==============================] - 2s 11ms/step - loss: 17.4885 - tp: 14573.2829 - fp: 33030.8618 - tn: 104441.4934 - fn: 4605.6513 - accuracy: 0.7613 - precision: 0.3073 - recall: 0.7565 - auc: 0.8339 - val_loss: 0.3562 - val_tp: 3656.0000 - val_fp: 8677.0000 - val_tn: 21329.0000 - val_fn: 638.0000 - val_accuracy: 0.7284 - val_precision: 0.2964 - val_recall: 0.8514 - val_auc: 0.8309\n",
            "Epoch 5/100\n",
            "151/151 [==============================] - 2s 11ms/step - loss: 17.4463 - tp: 14512.3487 - fp: 32712.4737 - tn: 104863.2697 - fn: 4563.1974 - accuracy: 0.7613 - precision: 0.3067 - recall: 0.7636 - auc: 0.8349 - val_loss: 0.3092 - val_tp: 2658.0000 - val_fp: 5198.0000 - val_tn: 24808.0000 - val_fn: 1636.0000 - val_accuracy: 0.8008 - val_precision: 0.3383 - val_recall: 0.6190 - val_auc: 0.8459\n",
            "Epoch 6/100\n",
            "151/151 [==============================] - 2s 10ms/step - loss: 17.4285 - tp: 13530.1382 - fp: 29078.5263 - tn: 108431.4145 - fn: 5611.2105 - accuracy: 0.7790 - precision: 0.3186 - recall: 0.7065 - auc: 0.8409 - val_loss: 0.3292 - val_tp: 3124.0000 - val_fp: 6432.0000 - val_tn: 23574.0000 - val_fn: 1170.0000 - val_accuracy: 0.7784 - val_precision: 0.3269 - val_recall: 0.7275 - val_auc: 0.8430\n",
            "\n",
            "Epoch 00006: ReduceLROnPlateau reducing learning rate to 0.020000000298023225.\n",
            "Epoch 7/100\n",
            "151/151 [==============================] - 2s 10ms/step - loss: 17.1609 - tp: 13085.4474 - fp: 27020.2368 - tn: 110471.9605 - fn: 6073.6447 - accuracy: 0.7871 - precision: 0.3254 - recall: 0.6868 - auc: 0.8449 - val_loss: 0.3246 - val_tp: 2850.0000 - val_fp: 5555.0000 - val_tn: 24451.0000 - val_fn: 1444.0000 - val_accuracy: 0.7959 - val_precision: 0.3391 - val_recall: 0.6637 - val_auc: 0.8495\n",
            "Epoch 8/100\n",
            "151/151 [==============================] - 2s 11ms/step - loss: 17.0322 - tp: 12812.1513 - fp: 26053.8553 - tn: 111499.2500 - fn: 6286.0329 - accuracy: 0.7936 - precision: 0.3297 - recall: 0.6725 - auc: 0.8484 - val_loss: 0.3227 - val_tp: 2894.0000 - val_fp: 5672.0000 - val_tn: 24334.0000 - val_fn: 1400.0000 - val_accuracy: 0.7938 - val_precision: 0.3378 - val_recall: 0.6740 - val_auc: 0.8484\n",
            "Epoch 9/100\n",
            "151/151 [==============================] - 2s 11ms/step - loss: 17.1386 - tp: 12707.6645 - fp: 25702.0789 - tn: 111791.8684 - fn: 6449.6776 - accuracy: 0.7939 - precision: 0.3321 - recall: 0.6684 - auc: 0.8486 - val_loss: 0.3198 - val_tp: 2719.0000 - val_fp: 5200.0000 - val_tn: 24806.0000 - val_fn: 1575.0000 - val_accuracy: 0.8025 - val_precision: 0.3434 - val_recall: 0.6332 - val_auc: 0.8498\n",
            "Epoch 10/100\n",
            "151/151 [==============================] - 2s 11ms/step - loss: 17.0055 - tp: 12753.6118 - fp: 25621.4013 - tn: 111875.4934 - fn: 6400.7829 - accuracy: 0.7962 - precision: 0.3321 - recall: 0.6621 - auc: 0.8496 - val_loss: 0.3287 - val_tp: 2905.0000 - val_fp: 5714.0000 - val_tn: 24292.0000 - val_fn: 1389.0000 - val_accuracy: 0.7929 - val_precision: 0.3370 - val_recall: 0.6765 - val_auc: 0.8501\n",
            "Epoch 11/100\n",
            "151/151 [==============================] - 2s 11ms/step - loss: 16.9970 - tp: 12686.6382 - fp: 25539.1316 - tn: 112042.9474 - fn: 6382.5724 - accuracy: 0.7966 - precision: 0.3313 - recall: 0.6629 - auc: 0.8492 - val_loss: 0.3346 - val_tp: 3069.0000 - val_fp: 6183.0000 - val_tn: 23823.0000 - val_fn: 1225.0000 - val_accuracy: 0.7840 - val_precision: 0.3317 - val_recall: 0.7147 - val_auc: 0.8496\n",
            "\n",
            "Epoch 00011: ReduceLROnPlateau reducing learning rate to 0.003999999910593033.\n",
            "Epoch 12/100\n",
            "151/151 [==============================] - 2s 11ms/step - loss: 17.0101 - tp: 12763.1579 - fp: 25483.1447 - tn: 112008.5789 - fn: 6396.4079 - accuracy: 0.7956 - precision: 0.3330 - recall: 0.6686 - auc: 0.8506 - val_loss: 0.3205 - val_tp: 2744.0000 - val_fp: 5259.0000 - val_tn: 24747.0000 - val_fn: 1550.0000 - val_accuracy: 0.8015 - val_precision: 0.3429 - val_recall: 0.6390 - val_auc: 0.8499\n",
            "Epoch 13/100\n",
            "151/151 [==============================] - 2s 11ms/step - loss: 16.9814 - tp: 12672.6711 - fp: 25224.4408 - tn: 112281.2632 - fn: 6472.9145 - accuracy: 0.7984 - precision: 0.3354 - recall: 0.6625 - auc: 0.8510 - val_loss: 0.3191 - val_tp: 2734.0000 - val_fp: 5252.0000 - val_tn: 24754.0000 - val_fn: 1560.0000 - val_accuracy: 0.8014 - val_precision: 0.3423 - val_recall: 0.6367 - val_auc: 0.8497\n",
            "Epoch 14/100\n",
            "151/151 [==============================] - 2s 11ms/step - loss: 17.0392 - tp: 12534.2566 - fp: 25171.0526 - tn: 112410.1776 - fn: 6535.8026 - accuracy: 0.7975 - precision: 0.3309 - recall: 0.6526 - auc: 0.8488 - val_loss: 0.3213 - val_tp: 2783.0000 - val_fp: 5390.0000 - val_tn: 24616.0000 - val_fn: 1511.0000 - val_accuracy: 0.7988 - val_precision: 0.3405 - val_recall: 0.6481 - val_auc: 0.8500\n",
            "Epoch 15/100\n",
            "151/151 [==============================] - 2s 10ms/step - loss: 17.0134 - tp: 12625.6645 - fp: 25273.6974 - tn: 112234.3355 - fn: 6517.5921 - accuracy: 0.7966 - precision: 0.3327 - recall: 0.6589 - auc: 0.8499 - val_loss: 0.3230 - val_tp: 2819.0000 - val_fp: 5459.0000 - val_tn: 24547.0000 - val_fn: 1475.0000 - val_accuracy: 0.7978 - val_precision: 0.3405 - val_recall: 0.6565 - val_auc: 0.8501\n",
            "Epoch 16/100\n",
            "151/151 [==============================] - 2s 11ms/step - loss: 16.9721 - tp: 12501.7961 - fp: 25101.8224 - tn: 112499.6053 - fn: 6548.0658 - accuracy: 0.7981 - precision: 0.3327 - recall: 0.6573 - auc: 0.8499 - val_loss: 0.3282 - val_tp: 2958.0000 - val_fp: 5858.0000 - val_tn: 24148.0000 - val_fn: 1336.0000 - val_accuracy: 0.7903 - val_precision: 0.3355 - val_recall: 0.6889 - val_auc: 0.8500\n",
            "\n",
            "Epoch 00016: ReduceLROnPlateau reducing learning rate to 0.0007999999448657036.\n",
            "Epoch 17/100\n",
            "151/151 [==============================] - 2s 11ms/step - loss: 16.9848 - tp: 12845.7763 - fp: 25699.3947 - tn: 111839.4211 - fn: 6266.6974 - accuracy: 0.7954 - precision: 0.3329 - recall: 0.6762 - auc: 0.8505 - val_loss: 0.3249 - val_tp: 2861.0000 - val_fp: 5605.0000 - val_tn: 24401.0000 - val_fn: 1433.0000 - val_accuracy: 0.7948 - val_precision: 0.3379 - val_recall: 0.6663 - val_auc: 0.8502\n",
            "Epoch 18/100\n",
            "151/151 [==============================] - 2s 11ms/step - loss: 16.9618 - tp: 12716.2632 - fp: 25333.7434 - tn: 112178.0921 - fn: 6423.1908 - accuracy: 0.7983 - precision: 0.3350 - recall: 0.6655 - auc: 0.8512 - val_loss: 0.3228 - val_tp: 2816.0000 - val_fp: 5457.0000 - val_tn: 24549.0000 - val_fn: 1478.0000 - val_accuracy: 0.7978 - val_precision: 0.3404 - val_recall: 0.6558 - val_auc: 0.8501\n",
            "Epoch 19/100\n",
            "151/151 [==============================] - 2s 11ms/step - loss: 16.9868 - tp: 12501.0263 - fp: 25126.3947 - tn: 112474.1316 - fn: 6549.7368 - accuracy: 0.7977 - precision: 0.3310 - recall: 0.6526 - auc: 0.8493 - val_loss: 0.3247 - val_tp: 2867.0000 - val_fp: 5626.0000 - val_tn: 24380.0000 - val_fn: 1427.0000 - val_accuracy: 0.7944 - val_precision: 0.3376 - val_recall: 0.6677 - val_auc: 0.8500\n",
            "Epoch 20/100\n",
            "151/151 [==============================] - 2s 11ms/step - loss: 17.0207 - tp: 12751.4408 - fp: 25491.8355 - tn: 111962.4211 - fn: 6445.5921 - accuracy: 0.7961 - precision: 0.3339 - recall: 0.6655 - auc: 0.8504 - val_loss: 0.3233 - val_tp: 2836.0000 - val_fp: 5499.0000 - val_tn: 24507.0000 - val_fn: 1458.0000 - val_accuracy: 0.7972 - val_precision: 0.3403 - val_recall: 0.6605 - val_auc: 0.8501\n",
            "Epoch 21/100\n",
            "151/151 [==============================] - 2s 11ms/step - loss: 16.8663 - tp: 12570.7763 - fp: 25076.6118 - tn: 112541.6447 - fn: 6462.2566 - accuracy: 0.7987 - precision: 0.3328 - recall: 0.6592 - auc: 0.8512 - val_loss: 0.3264 - val_tp: 2888.0000 - val_fp: 5681.0000 - val_tn: 24325.0000 - val_fn: 1406.0000 - val_accuracy: 0.7934 - val_precision: 0.3370 - val_recall: 0.6726 - val_auc: 0.8502\n",
            "\n",
            "Epoch 00021: ReduceLROnPlateau reducing learning rate to 0.00015999998431652786.\n",
            "Epoch 22/100\n",
            "151/151 [==============================] - 2s 11ms/step - loss: 16.9296 - tp: 12737.7303 - fp: 25506.3487 - tn: 112056.1842 - fn: 6351.0263 - accuracy: 0.7967 - precision: 0.3338 - recall: 0.6677 - auc: 0.8514 - val_loss: 0.3251 - val_tp: 2867.0000 - val_fp: 5615.0000 - val_tn: 24391.0000 - val_fn: 1427.0000 - val_accuracy: 0.7947 - val_precision: 0.3380 - val_recall: 0.6677 - val_auc: 0.8501\n",
            "Epoch 23/100\n",
            "151/151 [==============================] - 2s 11ms/step - loss: 17.0304 - tp: 12713.6447 - fp: 25428.3487 - tn: 112041.9803 - fn: 6467.3158 - accuracy: 0.7959 - precision: 0.3322 - recall: 0.6623 - auc: 0.8495 - val_loss: 0.3239 - val_tp: 2841.0000 - val_fp: 5539.0000 - val_tn: 24467.0000 - val_fn: 1453.0000 - val_accuracy: 0.7962 - val_precision: 0.3390 - val_recall: 0.6616 - val_auc: 0.8501\n",
            "Epoch 24/100\n",
            "151/151 [==============================] - 2s 11ms/step - loss: 16.9690 - tp: 12607.8553 - fp: 25256.0197 - tn: 112278.1842 - fn: 6509.2303 - accuracy: 0.7971 - precision: 0.3317 - recall: 0.6581 - auc: 0.8506 - val_loss: 0.3240 - val_tp: 2848.0000 - val_fp: 5547.0000 - val_tn: 24459.0000 - val_fn: 1446.0000 - val_accuracy: 0.7961 - val_precision: 0.3392 - val_recall: 0.6633 - val_auc: 0.8501\n",
            "Epoch 25/100\n",
            "151/151 [==============================] - 2s 11ms/step - loss: 16.9257 - tp: 12543.6382 - fp: 25111.8882 - tn: 112463.7632 - fn: 6532.0000 - accuracy: 0.7981 - precision: 0.3331 - recall: 0.6561 - auc: 0.8509 - val_loss: 0.3245 - val_tp: 2858.0000 - val_fp: 5574.0000 - val_tn: 24432.0000 - val_fn: 1436.0000 - val_accuracy: 0.7956 - val_precision: 0.3389 - val_recall: 0.6656 - val_auc: 0.8502\n",
            "Epoch 26/100\n",
            "151/151 [==============================] - 2s 11ms/step - loss: 16.9190 - tp: 12617.5066 - fp: 25220.5395 - tn: 112373.1250 - fn: 6440.1184 - accuracy: 0.7981 - precision: 0.3341 - recall: 0.6620 - auc: 0.8515 - val_loss: 0.3250 - val_tp: 2871.0000 - val_fp: 5625.0000 - val_tn: 24381.0000 - val_fn: 1423.0000 - val_accuracy: 0.7945 - val_precision: 0.3379 - val_recall: 0.6686 - val_auc: 0.8501\n",
            "\n",
            "Epoch 00026: ReduceLROnPlateau reducing learning rate to 3.199999628122896e-05.\n",
            "Epoch 27/100\n",
            "151/151 [==============================] - 2s 11ms/step - loss: 17.0764 - tp: 12754.8684 - fp: 25541.6579 - tn: 111897.8355 - fn: 6456.9276 - accuracy: 0.7948 - precision: 0.3307 - recall: 0.6606 - auc: 0.8482 - val_loss: 0.3248 - val_tp: 2864.0000 - val_fp: 5598.0000 - val_tn: 24408.0000 - val_fn: 1430.0000 - val_accuracy: 0.7951 - val_precision: 0.3385 - val_recall: 0.6670 - val_auc: 0.8501\n",
            "Epoch 28/100\n",
            "151/151 [==============================] - 2s 11ms/step - loss: 16.9808 - tp: 12685.1316 - fp: 25368.2237 - tn: 112160.9079 - fn: 6437.0263 - accuracy: 0.7970 - precision: 0.3330 - recall: 0.6637 - auc: 0.8508 - val_loss: 0.3246 - val_tp: 2862.0000 - val_fp: 5583.0000 - val_tn: 24423.0000 - val_fn: 1432.0000 - val_accuracy: 0.7955 - val_precision: 0.3389 - val_recall: 0.6665 - val_auc: 0.8501\n",
            "Epoch 29/100\n",
            "151/151 [==============================] - 2s 10ms/step - loss: 16.8400 - tp: 12725.4474 - fp: 25194.5921 - tn: 112325.0526 - fn: 6406.1974 - accuracy: 0.7996 - precision: 0.3371 - recall: 0.6674 - auc: 0.8532 - val_loss: 0.3245 - val_tp: 2859.0000 - val_fp: 5578.0000 - val_tn: 24428.0000 - val_fn: 1435.0000 - val_accuracy: 0.7955 - val_precision: 0.3389 - val_recall: 0.6658 - val_auc: 0.8502\n",
            "Epoch 30/100\n",
            "151/151 [==============================] - 2s 11ms/step - loss: 16.9533 - tp: 12619.2368 - fp: 25291.7303 - tn: 112238.3421 - fn: 6501.9803 - accuracy: 0.7970 - precision: 0.3322 - recall: 0.6568 - auc: 0.8505 - val_loss: 0.3245 - val_tp: 2859.0000 - val_fp: 5575.0000 - val_tn: 24431.0000 - val_fn: 1435.0000 - val_accuracy: 0.7956 - val_precision: 0.3390 - val_recall: 0.6658 - val_auc: 0.8502\n",
            "Epoch 31/100\n",
            "151/151 [==============================] - 2s 11ms/step - loss: 16.8763 - tp: 12641.2697 - fp: 25266.0263 - tn: 112338.9671 - fn: 6405.0263 - accuracy: 0.7984 - precision: 0.3341 - recall: 0.6656 - auc: 0.8516 - val_loss: 0.3244 - val_tp: 2859.0000 - val_fp: 5575.0000 - val_tn: 24431.0000 - val_fn: 1435.0000 - val_accuracy: 0.7956 - val_precision: 0.3390 - val_recall: 0.6658 - val_auc: 0.8501\n",
            "\n",
            "Epoch 00031: ReduceLROnPlateau reducing learning rate to 6.399999256245792e-06.\n",
            "Epoch 32/100\n",
            "151/151 [==============================] - 2s 11ms/step - loss: 17.0132 - tp: 12604.8355 - fp: 25430.4671 - tn: 112141.0855 - fn: 6474.9013 - accuracy: 0.7959 - precision: 0.3310 - recall: 0.6615 - auc: 0.8497 - val_loss: 0.3244 - val_tp: 2858.0000 - val_fp: 5574.0000 - val_tn: 24432.0000 - val_fn: 1436.0000 - val_accuracy: 0.7956 - val_precision: 0.3389 - val_recall: 0.6656 - val_auc: 0.8501\n",
            "Epoch 33/100\n",
            "151/151 [==============================] - 2s 11ms/step - loss: 16.9202 - tp: 12634.2697 - fp: 25329.9342 - tn: 112230.1645 - fn: 6456.9211 - accuracy: 0.7966 - precision: 0.3308 - recall: 0.6603 - auc: 0.8501 - val_loss: 0.3244 - val_tp: 2858.0000 - val_fp: 5574.0000 - val_tn: 24432.0000 - val_fn: 1436.0000 - val_accuracy: 0.7956 - val_precision: 0.3389 - val_recall: 0.6656 - val_auc: 0.8501\n",
            "Epoch 34/100\n",
            "151/151 [==============================] - 2s 11ms/step - loss: 16.9337 - tp: 12588.8618 - fp: 25336.7434 - tn: 112271.3487 - fn: 6454.3355 - accuracy: 0.7971 - precision: 0.3310 - recall: 0.6600 - auc: 0.8499 - val_loss: 0.3244 - val_tp: 2857.0000 - val_fp: 5574.0000 - val_tn: 24432.0000 - val_fn: 1437.0000 - val_accuracy: 0.7956 - val_precision: 0.3389 - val_recall: 0.6653 - val_auc: 0.8501\n",
            "Epoch 35/100\n",
            "151/151 [==============================] - 2s 11ms/step - loss: 17.0257 - tp: 12652.0855 - fp: 25288.3092 - tn: 112232.1382 - fn: 6478.7566 - accuracy: 0.7967 - precision: 0.3327 - recall: 0.6612 - auc: 0.8494 - val_loss: 0.3244 - val_tp: 2857.0000 - val_fp: 5573.0000 - val_tn: 24433.0000 - val_fn: 1437.0000 - val_accuracy: 0.7956 - val_precision: 0.3389 - val_recall: 0.6653 - val_auc: 0.8501\n",
            "Epoch 36/100\n",
            "151/151 [==============================] - 2s 11ms/step - loss: 16.9281 - tp: 12638.7303 - fp: 25188.8882 - tn: 112328.5197 - fn: 6495.1513 - accuracy: 0.7982 - precision: 0.3346 - recall: 0.6612 - auc: 0.8518 - val_loss: 0.3244 - val_tp: 2857.0000 - val_fp: 5572.0000 - val_tn: 24434.0000 - val_fn: 1437.0000 - val_accuracy: 0.7957 - val_precision: 0.3389 - val_recall: 0.6653 - val_auc: 0.8501\n",
            "\n",
            "Epoch 00036: ReduceLROnPlateau reducing learning rate to 1.2799998330592645e-06.\n",
            "Epoch 37/100\n",
            "151/151 [==============================] - 2s 10ms/step - loss: 16.9944 - tp: 12648.9276 - fp: 25270.3947 - tn: 112238.2434 - fn: 6493.7237 - accuracy: 0.7966 - precision: 0.3335 - recall: 0.6595 - auc: 0.8505 - val_loss: 0.3244 - val_tp: 2857.0000 - val_fp: 5572.0000 - val_tn: 24434.0000 - val_fn: 1437.0000 - val_accuracy: 0.7957 - val_precision: 0.3389 - val_recall: 0.6653 - val_auc: 0.8501\n",
            "Epoch 38/100\n",
            "151/151 [==============================] - 2s 11ms/step - loss: 16.9939 - tp: 12677.4342 - fp: 25316.1053 - tn: 112197.5724 - fn: 6460.1776 - accuracy: 0.7968 - precision: 0.3333 - recall: 0.6640 - auc: 0.8504 - val_loss: 0.3244 - val_tp: 2857.0000 - val_fp: 5572.0000 - val_tn: 24434.0000 - val_fn: 1437.0000 - val_accuracy: 0.7957 - val_precision: 0.3389 - val_recall: 0.6653 - val_auc: 0.8501\n",
            "Epoch 39/100\n",
            "151/151 [==============================] - 2s 11ms/step - loss: 16.9989 - tp: 12650.8816 - fp: 25296.7237 - tn: 112270.5987 - fn: 6433.0855 - accuracy: 0.7974 - precision: 0.3330 - recall: 0.6630 - auc: 0.8501 - val_loss: 0.3244 - val_tp: 2857.0000 - val_fp: 5572.0000 - val_tn: 24434.0000 - val_fn: 1437.0000 - val_accuracy: 0.7957 - val_precision: 0.3389 - val_recall: 0.6653 - val_auc: 0.8501\n",
            "Epoch 40/100\n",
            "151/151 [==============================] - 2s 11ms/step - loss: 16.9642 - tp: 12665.6513 - fp: 25221.3092 - tn: 112297.7566 - fn: 6466.5724 - accuracy: 0.7976 - precision: 0.3341 - recall: 0.6618 - auc: 0.8513 - val_loss: 0.3244 - val_tp: 2857.0000 - val_fp: 5572.0000 - val_tn: 24434.0000 - val_fn: 1437.0000 - val_accuracy: 0.7957 - val_precision: 0.3389 - val_recall: 0.6653 - val_auc: 0.8501\n",
            "Epoch 41/100\n",
            "151/151 [==============================] - 2s 11ms/step - loss: 16.9629 - tp: 12589.2632 - fp: 25307.9868 - tn: 112284.8750 - fn: 6469.1645 - accuracy: 0.7969 - precision: 0.3320 - recall: 0.6613 - auc: 0.8504 - val_loss: 0.3244 - val_tp: 2857.0000 - val_fp: 5572.0000 - val_tn: 24434.0000 - val_fn: 1437.0000 - val_accuracy: 0.7957 - val_precision: 0.3389 - val_recall: 0.6653 - val_auc: 0.8501\n",
            "\n",
            "Epoch 00041: ReduceLROnPlateau reducing learning rate to 2.559999757067999e-07.\n",
            "Epoch 42/100\n",
            "151/151 [==============================] - 2s 11ms/step - loss: 16.9468 - tp: 12713.4013 - fp: 25188.6579 - tn: 112334.2039 - fn: 6415.0263 - accuracy: 0.7990 - precision: 0.3366 - recall: 0.6649 - auc: 0.8519 - val_loss: 0.3244 - val_tp: 2857.0000 - val_fp: 5572.0000 - val_tn: 24434.0000 - val_fn: 1437.0000 - val_accuracy: 0.7957 - val_precision: 0.3389 - val_recall: 0.6653 - val_auc: 0.8501\n",
            "Epoch 43/100\n",
            "151/151 [==============================] - 2s 11ms/step - loss: 16.9658 - tp: 12705.0197 - fp: 25244.0395 - tn: 112276.3158 - fn: 6425.9145 - accuracy: 0.7981 - precision: 0.3360 - recall: 0.6653 - auc: 0.8512 - val_loss: 0.3244 - val_tp: 2857.0000 - val_fp: 5572.0000 - val_tn: 24434.0000 - val_fn: 1437.0000 - val_accuracy: 0.7957 - val_precision: 0.3389 - val_recall: 0.6653 - val_auc: 0.8501\n",
            "Epoch 44/100\n",
            "151/151 [==============================] - 2s 11ms/step - loss: 16.9301 - tp: 12670.9145 - fp: 25325.9408 - tn: 112214.6711 - fn: 6439.7632 - accuracy: 0.7971 - precision: 0.3333 - recall: 0.6636 - auc: 0.8513 - val_loss: 0.3244 - val_tp: 2857.0000 - val_fp: 5572.0000 - val_tn: 24434.0000 - val_fn: 1437.0000 - val_accuracy: 0.7957 - val_precision: 0.3389 - val_recall: 0.6653 - val_auc: 0.8501\n",
            "Epoch 45/100\n",
            "151/151 [==============================] - 2s 11ms/step - loss: 16.9194 - tp: 12613.7961 - fp: 25210.1908 - tn: 112379.6513 - fn: 6447.6513 - accuracy: 0.7981 - precision: 0.3338 - recall: 0.6629 - auc: 0.8514 - val_loss: 0.3244 - val_tp: 2857.0000 - val_fp: 5572.0000 - val_tn: 24434.0000 - val_fn: 1437.0000 - val_accuracy: 0.7957 - val_precision: 0.3389 - val_recall: 0.6653 - val_auc: 0.8501\n",
            "Epoch 46/100\n",
            "151/151 [==============================] - 2s 11ms/step - loss: 16.9845 - tp: 12686.2434 - fp: 25230.3158 - tn: 112264.8092 - fn: 6469.9211 - accuracy: 0.7980 - precision: 0.3345 - recall: 0.6619 - auc: 0.8506 - val_loss: 0.3244 - val_tp: 2857.0000 - val_fp: 5572.0000 - val_tn: 24434.0000 - val_fn: 1437.0000 - val_accuracy: 0.7957 - val_precision: 0.3389 - val_recall: 0.6653 - val_auc: 0.8501\n",
            "\n",
            "Epoch 00046: ReduceLROnPlateau reducing learning rate to 5.1199992867623226e-08.\n",
            "Epoch 47/100\n",
            "151/151 [==============================] - 2s 11ms/step - loss: 16.9354 - tp: 12674.8092 - fp: 25285.7434 - tn: 112236.9408 - fn: 6453.7961 - accuracy: 0.7980 - precision: 0.3339 - recall: 0.6629 - auc: 0.8511 - val_loss: 0.3244 - val_tp: 2857.0000 - val_fp: 5572.0000 - val_tn: 24434.0000 - val_fn: 1437.0000 - val_accuracy: 0.7957 - val_precision: 0.3389 - val_recall: 0.6653 - val_auc: 0.8501\n",
            "Epoch 48/100\n",
            "151/151 [==============================] - 2s 11ms/step - loss: 16.9829 - tp: 12649.9276 - fp: 25246.9737 - tn: 112243.1382 - fn: 6511.2500 - accuracy: 0.7972 - precision: 0.3333 - recall: 0.6588 - auc: 0.8503 - val_loss: 0.3244 - val_tp: 2857.0000 - val_fp: 5572.0000 - val_tn: 24434.0000 - val_fn: 1437.0000 - val_accuracy: 0.7957 - val_precision: 0.3389 - val_recall: 0.6653 - val_auc: 0.8501\n",
            "Epoch 49/100\n",
            "151/151 [==============================] - 2s 11ms/step - loss: 17.0529 - tp: 12655.5789 - fp: 25307.7368 - tn: 112117.2500 - fn: 6570.7237 - accuracy: 0.7966 - precision: 0.3337 - recall: 0.6577 - auc: 0.8499 - val_loss: 0.3244 - val_tp: 2857.0000 - val_fp: 5572.0000 - val_tn: 24434.0000 - val_fn: 1437.0000 - val_accuracy: 0.7957 - val_precision: 0.3389 - val_recall: 0.6653 - val_auc: 0.8501\n",
            "Epoch 50/100\n",
            "151/151 [==============================] - 2s 11ms/step - loss: 17.0121 - tp: 12691.0263 - fp: 25334.7697 - tn: 112139.1776 - fn: 6486.3158 - accuracy: 0.7963 - precision: 0.3335 - recall: 0.6621 - auc: 0.8503 - val_loss: 0.3244 - val_tp: 2857.0000 - val_fp: 5572.0000 - val_tn: 24434.0000 - val_fn: 1437.0000 - val_accuracy: 0.7957 - val_precision: 0.3389 - val_recall: 0.6653 - val_auc: 0.8501\n",
            "Epoch 51/100\n",
            "151/151 [==============================] - 2s 11ms/step - loss: 16.9833 - tp: 12697.0000 - fp: 25152.9737 - tn: 112313.8684 - fn: 6487.4474 - accuracy: 0.7989 - precision: 0.3376 - recall: 0.6626 - auc: 0.8514 - val_loss: 0.3244 - val_tp: 2857.0000 - val_fp: 5572.0000 - val_tn: 24434.0000 - val_fn: 1437.0000 - val_accuracy: 0.7957 - val_precision: 0.3389 - val_recall: 0.6653 - val_auc: 0.8501\n",
            "\n",
            "Epoch 00051: ReduceLROnPlateau reducing learning rate to 1.0239998715633193e-08.\n",
            "Epoch 52/100\n",
            "151/151 [==============================] - 2s 11ms/step - loss: 16.9432 - tp: 12615.9013 - fp: 25380.6184 - tn: 112222.9803 - fn: 6431.7895 - accuracy: 0.7971 - precision: 0.3325 - recall: 0.6630 - auc: 0.8509 - val_loss: 0.3244 - val_tp: 2857.0000 - val_fp: 5572.0000 - val_tn: 24434.0000 - val_fn: 1437.0000 - val_accuracy: 0.7957 - val_precision: 0.3389 - val_recall: 0.6653 - val_auc: 0.8501\n",
            "Epoch 53/100\n",
            "151/151 [==============================] - 2s 11ms/step - loss: 16.9720 - tp: 12687.0789 - fp: 25223.9408 - tn: 112260.5592 - fn: 6479.7105 - accuracy: 0.7970 - precision: 0.3330 - recall: 0.6611 - auc: 0.8500 - val_loss: 0.3244 - val_tp: 2857.0000 - val_fp: 5572.0000 - val_tn: 24434.0000 - val_fn: 1437.0000 - val_accuracy: 0.7957 - val_precision: 0.3389 - val_recall: 0.6653 - val_auc: 0.8501\n",
            "Epoch 54/100\n",
            "151/151 [==============================] - 2s 11ms/step - loss: 16.9768 - tp: 12575.6908 - fp: 25339.9276 - tn: 112273.4539 - fn: 6462.2171 - accuracy: 0.7961 - precision: 0.3297 - recall: 0.6581 - auc: 0.8493 - val_loss: 0.3244 - val_tp: 2857.0000 - val_fp: 5572.0000 - val_tn: 24434.0000 - val_fn: 1437.0000 - val_accuracy: 0.7957 - val_precision: 0.3389 - val_recall: 0.6653 - val_auc: 0.8501\n",
            "Epoch 55/100\n",
            "151/151 [==============================] - 2s 11ms/step - loss: 16.9476 - tp: 12664.2105 - fp: 25334.2303 - tn: 112190.2434 - fn: 6462.6053 - accuracy: 0.7975 - precision: 0.3336 - recall: 0.6616 - auc: 0.8511 - val_loss: 0.3244 - val_tp: 2857.0000 - val_fp: 5572.0000 - val_tn: 24434.0000 - val_fn: 1437.0000 - val_accuracy: 0.7957 - val_precision: 0.3389 - val_recall: 0.6653 - val_auc: 0.8501\n",
            "Epoch 56/100\n",
            "151/151 [==============================] - 2s 11ms/step - loss: 17.0420 - tp: 12679.7961 - fp: 25346.2434 - tn: 112130.7895 - fn: 6494.4605 - accuracy: 0.7962 - precision: 0.3331 - recall: 0.6605 - auc: 0.8496 - val_loss: 0.3244 - val_tp: 2857.0000 - val_fp: 5572.0000 - val_tn: 24434.0000 - val_fn: 1437.0000 - val_accuracy: 0.7957 - val_precision: 0.3389 - val_recall: 0.6653 - val_auc: 0.8501\n",
            "\n",
            "Epoch 00056: ReduceLROnPlateau reducing learning rate to 2.047999814180912e-09.\n",
            "Epoch 57/100\n",
            "151/151 [==============================] - 2s 11ms/step - loss: 16.9353 - tp: 12666.6053 - fp: 25302.0395 - tn: 112256.6776 - fn: 6425.9671 - accuracy: 0.7972 - precision: 0.3326 - recall: 0.6632 - auc: 0.8510 - val_loss: 0.3244 - val_tp: 2857.0000 - val_fp: 5572.0000 - val_tn: 24434.0000 - val_fn: 1437.0000 - val_accuracy: 0.7957 - val_precision: 0.3389 - val_recall: 0.6653 - val_auc: 0.8501\n",
            "Epoch 58/100\n",
            "151/151 [==============================] - 2s 12ms/step - loss: 17.0444 - tp: 12579.3224 - fp: 25371.6184 - tn: 112209.2039 - fn: 6491.1447 - accuracy: 0.7959 - precision: 0.3309 - recall: 0.6573 - auc: 0.8491 - val_loss: 0.3244 - val_tp: 2857.0000 - val_fp: 5572.0000 - val_tn: 24434.0000 - val_fn: 1437.0000 - val_accuracy: 0.7957 - val_precision: 0.3389 - val_recall: 0.6653 - val_auc: 0.8501\n",
            "Epoch 59/100\n",
            "151/151 [==============================] - 2s 12ms/step - loss: 16.9946 - tp: 12598.4539 - fp: 25355.9605 - tn: 112194.5132 - fn: 6502.3618 - accuracy: 0.7960 - precision: 0.3303 - recall: 0.6569 - auc: 0.8494 - val_loss: 0.3244 - val_tp: 2857.0000 - val_fp: 5572.0000 - val_tn: 24434.0000 - val_fn: 1437.0000 - val_accuracy: 0.7957 - val_precision: 0.3389 - val_recall: 0.6653 - val_auc: 0.8501\n",
            "Epoch 60/100\n",
            "151/151 [==============================] - 2s 11ms/step - loss: 16.9855 - tp: 12597.2961 - fp: 25323.9013 - tn: 112266.0526 - fn: 6464.0395 - accuracy: 0.7966 - precision: 0.3319 - recall: 0.6616 - auc: 0.8495 - val_loss: 0.3244 - val_tp: 2857.0000 - val_fp: 5572.0000 - val_tn: 24434.0000 - val_fn: 1437.0000 - val_accuracy: 0.7957 - val_precision: 0.3389 - val_recall: 0.6653 - val_auc: 0.8501\n",
            "Epoch 61/100\n",
            "151/151 [==============================] - 2s 11ms/step - loss: 17.0177 - tp: 12669.8487 - fp: 25248.6974 - tn: 112240.3224 - fn: 6492.4211 - accuracy: 0.7971 - precision: 0.3345 - recall: 0.6602 - auc: 0.8505 - val_loss: 0.3244 - val_tp: 2857.0000 - val_fp: 5572.0000 - val_tn: 24434.0000 - val_fn: 1437.0000 - val_accuracy: 0.7957 - val_precision: 0.3389 - val_recall: 0.6653 - val_auc: 0.8501\n",
            "\n",
            "Epoch 00061: ReduceLROnPlateau reducing learning rate to 4.0959995395439823e-10.\n",
            "Epoch 62/100\n",
            "151/151 [==============================] - 2s 11ms/step - loss: 17.0197 - tp: 12728.1711 - fp: 25266.0658 - tn: 112209.3618 - fn: 6447.6908 - accuracy: 0.7976 - precision: 0.3364 - recall: 0.6638 - auc: 0.8512 - val_loss: 0.3244 - val_tp: 2857.0000 - val_fp: 5572.0000 - val_tn: 24434.0000 - val_fn: 1437.0000 - val_accuracy: 0.7957 - val_precision: 0.3389 - val_recall: 0.6653 - val_auc: 0.8501\n",
            "Epoch 63/100\n",
            "151/151 [==============================] - 2s 11ms/step - loss: 16.9480 - tp: 12624.0789 - fp: 25203.2566 - tn: 112345.9474 - fn: 6478.0066 - accuracy: 0.7977 - precision: 0.3334 - recall: 0.6608 - auc: 0.8508 - val_loss: 0.3244 - val_tp: 2857.0000 - val_fp: 5572.0000 - val_tn: 24434.0000 - val_fn: 1437.0000 - val_accuracy: 0.7957 - val_precision: 0.3389 - val_recall: 0.6653 - val_auc: 0.8501\n",
            "Epoch 64/100\n",
            "151/151 [==============================] - 2s 11ms/step - loss: 16.9470 - tp: 12619.6908 - fp: 25296.1184 - tn: 112289.6842 - fn: 6445.7961 - accuracy: 0.7972 - precision: 0.3327 - recall: 0.6634 - auc: 0.8505 - val_loss: 0.3244 - val_tp: 2857.0000 - val_fp: 5572.0000 - val_tn: 24434.0000 - val_fn: 1437.0000 - val_accuracy: 0.7957 - val_precision: 0.3389 - val_recall: 0.6653 - val_auc: 0.8501\n",
            "Epoch 65/100\n",
            "151/151 [==============================] - 2s 11ms/step - loss: 17.0373 - tp: 12676.8421 - fp: 25250.9079 - tn: 112209.9737 - fn: 6513.5658 - accuracy: 0.7971 - precision: 0.3347 - recall: 0.6598 - auc: 0.8503 - val_loss: 0.3244 - val_tp: 2857.0000 - val_fp: 5572.0000 - val_tn: 24434.0000 - val_fn: 1437.0000 - val_accuracy: 0.7957 - val_precision: 0.3389 - val_recall: 0.6653 - val_auc: 0.8501\n",
            "Epoch 66/100\n",
            "151/151 [==============================] - 2s 11ms/step - loss: 16.9504 - tp: 12633.5263 - fp: 25354.2303 - tn: 112203.1316 - fn: 6460.4013 - accuracy: 0.7963 - precision: 0.3307 - recall: 0.6603 - auc: 0.8501 - val_loss: 0.3244 - val_tp: 2857.0000 - val_fp: 5572.0000 - val_tn: 24434.0000 - val_fn: 1437.0000 - val_accuracy: 0.7957 - val_precision: 0.3389 - val_recall: 0.6653 - val_auc: 0.8501\n",
            "\n",
            "Epoch 00066: ReduceLROnPlateau reducing learning rate to 8.19199930113257e-11.\n",
            "Epoch 67/100\n",
            "151/151 [==============================] - 2s 11ms/step - loss: 17.0768 - tp: 12716.7105 - fp: 25334.4276 - tn: 112111.6579 - fn: 6488.4934 - accuracy: 0.7966 - precision: 0.3335 - recall: 0.6619 - auc: 0.8500 - val_loss: 0.3244 - val_tp: 2857.0000 - val_fp: 5572.0000 - val_tn: 24434.0000 - val_fn: 1437.0000 - val_accuracy: 0.7957 - val_precision: 0.3389 - val_recall: 0.6653 - val_auc: 0.8501\n",
            "Epoch 68/100\n",
            "151/151 [==============================] - 2s 11ms/step - loss: 16.9659 - tp: 12645.4934 - fp: 25186.3289 - tn: 112305.8553 - fn: 6513.6118 - accuracy: 0.7975 - precision: 0.3341 - recall: 0.6585 - auc: 0.8510 - val_loss: 0.3244 - val_tp: 2857.0000 - val_fp: 5572.0000 - val_tn: 24434.0000 - val_fn: 1437.0000 - val_accuracy: 0.7957 - val_precision: 0.3389 - val_recall: 0.6653 - val_auc: 0.8501\n",
            "Epoch 69/100\n",
            "151/151 [==============================] - 2s 11ms/step - loss: 16.9025 - tp: 12614.4145 - fp: 25224.5658 - tn: 112344.9868 - fn: 6467.3224 - accuracy: 0.7982 - precision: 0.3336 - recall: 0.6618 - auc: 0.8517 - val_loss: 0.3244 - val_tp: 2857.0000 - val_fp: 5572.0000 - val_tn: 24434.0000 - val_fn: 1437.0000 - val_accuracy: 0.7957 - val_precision: 0.3389 - val_recall: 0.6653 - val_auc: 0.8501\n",
            "Epoch 70/100\n",
            "151/151 [==============================] - 2s 12ms/step - loss: 17.0233 - tp: 12664.2566 - fp: 25258.2763 - tn: 112255.8553 - fn: 6472.9013 - accuracy: 0.7975 - precision: 0.3345 - recall: 0.6616 - auc: 0.8505 - val_loss: 0.3244 - val_tp: 2857.0000 - val_fp: 5572.0000 - val_tn: 24434.0000 - val_fn: 1437.0000 - val_accuracy: 0.7957 - val_precision: 0.3389 - val_recall: 0.6653 - val_auc: 0.8501\n",
            "Epoch 71/100\n",
            "151/151 [==============================] - 2s 11ms/step - loss: 16.9844 - tp: 12679.9868 - fp: 25259.7105 - tn: 112220.4474 - fn: 6491.1447 - accuracy: 0.7969 - precision: 0.3330 - recall: 0.6611 - auc: 0.8507 - val_loss: 0.3244 - val_tp: 2857.0000 - val_fp: 5572.0000 - val_tn: 24434.0000 - val_fn: 1437.0000 - val_accuracy: 0.7957 - val_precision: 0.3389 - val_recall: 0.6653 - val_auc: 0.8501\n",
            "\n",
            "Epoch 00071: ReduceLROnPlateau reducing learning rate to 1.638399832470938e-11.\n",
            "Epoch 72/100\n",
            "151/151 [==============================] - 2s 11ms/step - loss: 16.9632 - tp: 12663.7434 - fp: 25316.3882 - tn: 112232.0592 - fn: 6439.0987 - accuracy: 0.7971 - precision: 0.3336 - recall: 0.6636 - auc: 0.8514 - val_loss: 0.3244 - val_tp: 2857.0000 - val_fp: 5572.0000 - val_tn: 24434.0000 - val_fn: 1437.0000 - val_accuracy: 0.7957 - val_precision: 0.3389 - val_recall: 0.6653 - val_auc: 0.8501\n",
            "Epoch 73/100\n",
            "151/151 [==============================] - 2s 11ms/step - loss: 16.9367 - tp: 12679.5461 - fp: 25257.8224 - tn: 112228.5263 - fn: 6485.3947 - accuracy: 0.7978 - precision: 0.3342 - recall: 0.6634 - auc: 0.8513 - val_loss: 0.3244 - val_tp: 2857.0000 - val_fp: 5572.0000 - val_tn: 24434.0000 - val_fn: 1437.0000 - val_accuracy: 0.7957 - val_precision: 0.3389 - val_recall: 0.6653 - val_auc: 0.8501\n",
            "Epoch 74/100\n",
            "151/151 [==============================] - 2s 11ms/step - loss: 17.0745 - tp: 12675.0592 - fp: 25270.4013 - tn: 112204.0724 - fn: 6501.7566 - accuracy: 0.7968 - precision: 0.3350 - recall: 0.6602 - auc: 0.8497 - val_loss: 0.3244 - val_tp: 2857.0000 - val_fp: 5572.0000 - val_tn: 24434.0000 - val_fn: 1437.0000 - val_accuracy: 0.7957 - val_precision: 0.3389 - val_recall: 0.6653 - val_auc: 0.8501\n",
            "Epoch 75/100\n",
            "151/151 [==============================] - 2s 11ms/step - loss: 16.9972 - tp: 12727.2566 - fp: 25234.0855 - tn: 112238.8618 - fn: 6451.0855 - accuracy: 0.7976 - precision: 0.3359 - recall: 0.6628 - auc: 0.8511 - val_loss: 0.3244 - val_tp: 2857.0000 - val_fp: 5572.0000 - val_tn: 24434.0000 - val_fn: 1437.0000 - val_accuracy: 0.7957 - val_precision: 0.3389 - val_recall: 0.6653 - val_auc: 0.8501\n",
            "Epoch 76/100\n",
            "151/151 [==============================] - 2s 11ms/step - loss: 17.0395 - tp: 12708.4934 - fp: 25356.8750 - tn: 112125.7961 - fn: 6460.1250 - accuracy: 0.7962 - precision: 0.3326 - recall: 0.6606 - auc: 0.8495 - val_loss: 0.3244 - val_tp: 2857.0000 - val_fp: 5572.0000 - val_tn: 24434.0000 - val_fn: 1437.0000 - val_accuracy: 0.7957 - val_precision: 0.3389 - val_recall: 0.6653 - val_auc: 0.8501\n",
            "\n",
            "Epoch 00076: ReduceLROnPlateau reducing learning rate to 3.2767996649418765e-12.\n",
            "Epoch 77/100\n",
            "151/151 [==============================] - 2s 11ms/step - loss: 16.9996 - tp: 12621.9145 - fp: 25254.7434 - tn: 112283.2105 - fn: 6491.4211 - accuracy: 0.7970 - precision: 0.3331 - recall: 0.6597 - auc: 0.8504 - val_loss: 0.3244 - val_tp: 2857.0000 - val_fp: 5572.0000 - val_tn: 24434.0000 - val_fn: 1437.0000 - val_accuracy: 0.7957 - val_precision: 0.3389 - val_recall: 0.6653 - val_auc: 0.8501\n",
            "Epoch 78/100\n",
            "151/151 [==============================] - 2s 11ms/step - loss: 16.9425 - tp: 12704.0263 - fp: 25317.7763 - tn: 112196.8816 - fn: 6432.6053 - accuracy: 0.7974 - precision: 0.3345 - recall: 0.6647 - auc: 0.8517 - val_loss: 0.3244 - val_tp: 2857.0000 - val_fp: 5572.0000 - val_tn: 24434.0000 - val_fn: 1437.0000 - val_accuracy: 0.7957 - val_precision: 0.3389 - val_recall: 0.6653 - val_auc: 0.8501\n",
            "Epoch 79/100\n",
            "151/151 [==============================] - 2s 11ms/step - loss: 16.9310 - tp: 12631.2303 - fp: 25267.3158 - tn: 112321.0987 - fn: 6431.6447 - accuracy: 0.7983 - precision: 0.3343 - recall: 0.6643 - auc: 0.8509 - val_loss: 0.3244 - val_tp: 2857.0000 - val_fp: 5572.0000 - val_tn: 24434.0000 - val_fn: 1437.0000 - val_accuracy: 0.7957 - val_precision: 0.3389 - val_recall: 0.6653 - val_auc: 0.8501\n",
            "Epoch 80/100\n",
            "151/151 [==============================] - 2s 11ms/step - loss: 16.9810 - tp: 12681.0395 - fp: 25352.5855 - tn: 112181.5921 - fn: 6436.0724 - accuracy: 0.7969 - precision: 0.3335 - recall: 0.6638 - auc: 0.8503 - val_loss: 0.3244 - val_tp: 2857.0000 - val_fp: 5572.0000 - val_tn: 24434.0000 - val_fn: 1437.0000 - val_accuracy: 0.7957 - val_precision: 0.3389 - val_recall: 0.6653 - val_auc: 0.8501\n",
            "Epoch 81/100\n",
            "151/151 [==============================] - 2s 11ms/step - loss: 16.9424 - tp: 12630.9539 - fp: 25241.5395 - tn: 112304.2961 - fn: 6474.5000 - accuracy: 0.7969 - precision: 0.3323 - recall: 0.6596 - auc: 0.8507 - val_loss: 0.3244 - val_tp: 2857.0000 - val_fp: 5572.0000 - val_tn: 24434.0000 - val_fn: 1437.0000 - val_accuracy: 0.7957 - val_precision: 0.3389 - val_recall: 0.6653 - val_auc: 0.8501\n",
            "\n",
            "Epoch 00081: ReduceLROnPlateau reducing learning rate to 6.553599243147579e-13.\n",
            "Epoch 82/100\n",
            "151/151 [==============================] - 2s 11ms/step - loss: 16.9857 - tp: 12638.5658 - fp: 25332.4145 - tn: 112250.6053 - fn: 6429.7039 - accuracy: 0.7973 - precision: 0.3321 - recall: 0.6633 - auc: 0.8501 - val_loss: 0.3244 - val_tp: 2857.0000 - val_fp: 5572.0000 - val_tn: 24434.0000 - val_fn: 1437.0000 - val_accuracy: 0.7957 - val_precision: 0.3389 - val_recall: 0.6653 - val_auc: 0.8501\n",
            "Epoch 83/100\n",
            "151/151 [==============================] - 2s 11ms/step - loss: 16.9390 - tp: 12674.3816 - fp: 25301.3421 - tn: 112211.4868 - fn: 6464.0789 - accuracy: 0.7974 - precision: 0.3331 - recall: 0.6628 - auc: 0.8512 - val_loss: 0.3244 - val_tp: 2857.0000 - val_fp: 5572.0000 - val_tn: 24434.0000 - val_fn: 1437.0000 - val_accuracy: 0.7957 - val_precision: 0.3389 - val_recall: 0.6653 - val_auc: 0.8501\n",
            "Epoch 84/100\n",
            "151/151 [==============================] - 2s 11ms/step - loss: 16.9319 - tp: 12653.2434 - fp: 25236.6645 - tn: 112327.8618 - fn: 6433.5197 - accuracy: 0.7977 - precision: 0.3330 - recall: 0.6635 - auc: 0.8511 - val_loss: 0.3244 - val_tp: 2857.0000 - val_fp: 5572.0000 - val_tn: 24434.0000 - val_fn: 1437.0000 - val_accuracy: 0.7957 - val_precision: 0.3389 - val_recall: 0.6653 - val_auc: 0.8501\n",
            "Epoch 85/100\n",
            "151/151 [==============================] - 2s 11ms/step - loss: 16.9852 - tp: 12674.3026 - fp: 25253.9803 - tn: 112190.3947 - fn: 6532.6118 - accuracy: 0.7972 - precision: 0.3343 - recall: 0.6589 - auc: 0.8510 - val_loss: 0.3244 - val_tp: 2857.0000 - val_fp: 5572.0000 - val_tn: 24434.0000 - val_fn: 1437.0000 - val_accuracy: 0.7957 - val_precision: 0.3389 - val_recall: 0.6653 - val_auc: 0.8501\n",
            "Epoch 86/100\n",
            "151/151 [==============================] - 2s 11ms/step - loss: 17.0784 - tp: 12709.5132 - fp: 25359.1382 - tn: 112054.5461 - fn: 6528.0921 - accuracy: 0.7957 - precision: 0.3345 - recall: 0.6606 - auc: 0.8496 - val_loss: 0.3244 - val_tp: 2857.0000 - val_fp: 5572.0000 - val_tn: 24434.0000 - val_fn: 1437.0000 - val_accuracy: 0.7957 - val_precision: 0.3389 - val_recall: 0.6653 - val_auc: 0.8501\n",
            "\n",
            "Epoch 00086: ReduceLROnPlateau reducing learning rate to 1.3107198703135591e-13.\n",
            "Epoch 87/100\n",
            "151/151 [==============================] - 2s 11ms/step - loss: 16.9733 - tp: 12595.0921 - fp: 25246.6118 - tn: 112343.6316 - fn: 6465.9539 - accuracy: 0.7973 - precision: 0.3321 - recall: 0.6603 - auc: 0.8504 - val_loss: 0.3244 - val_tp: 2857.0000 - val_fp: 5572.0000 - val_tn: 24434.0000 - val_fn: 1437.0000 - val_accuracy: 0.7957 - val_precision: 0.3389 - val_recall: 0.6653 - val_auc: 0.8501\n",
            "Epoch 88/100\n",
            "151/151 [==============================] - 2s 11ms/step - loss: 16.9471 - tp: 12678.4013 - fp: 25348.6382 - tn: 112168.4737 - fn: 6455.7763 - accuracy: 0.7970 - precision: 0.3335 - recall: 0.6622 - auc: 0.8510 - val_loss: 0.3244 - val_tp: 2857.0000 - val_fp: 5572.0000 - val_tn: 24434.0000 - val_fn: 1437.0000 - val_accuracy: 0.7957 - val_precision: 0.3389 - val_recall: 0.6653 - val_auc: 0.8501\n",
            "Epoch 89/100\n",
            "151/151 [==============================] - 2s 11ms/step - loss: 16.9142 - tp: 12669.0724 - fp: 25269.6447 - tn: 112277.0987 - fn: 6435.4737 - accuracy: 0.7982 - precision: 0.3349 - recall: 0.6641 - auc: 0.8514 - val_loss: 0.3244 - val_tp: 2857.0000 - val_fp: 5572.0000 - val_tn: 24434.0000 - val_fn: 1437.0000 - val_accuracy: 0.7957 - val_precision: 0.3389 - val_recall: 0.6653 - val_auc: 0.8501\n",
            "Epoch 90/100\n",
            "151/151 [==============================] - 2s 11ms/step - loss: 16.9784 - tp: 12708.8947 - fp: 25258.5921 - tn: 112233.9803 - fn: 6449.8224 - accuracy: 0.7979 - precision: 0.3362 - recall: 0.6641 - auc: 0.8519 - val_loss: 0.3244 - val_tp: 2857.0000 - val_fp: 5572.0000 - val_tn: 24434.0000 - val_fn: 1437.0000 - val_accuracy: 0.7957 - val_precision: 0.3389 - val_recall: 0.6653 - val_auc: 0.8501\n",
            "Epoch 91/100\n",
            "151/151 [==============================] - 2s 11ms/step - loss: 17.0049 - tp: 12616.8947 - fp: 25254.8421 - tn: 112291.9605 - fn: 6487.5921 - accuracy: 0.7972 - precision: 0.3319 - recall: 0.6576 - auc: 0.8498 - val_loss: 0.3244 - val_tp: 2857.0000 - val_fp: 5572.0000 - val_tn: 24434.0000 - val_fn: 1437.0000 - val_accuracy: 0.7957 - val_precision: 0.3389 - val_recall: 0.6653 - val_auc: 0.8501\n",
            "\n",
            "Epoch 00091: ReduceLROnPlateau reducing learning rate to 2.621439849047336e-14.\n",
            "Epoch 92/100\n",
            "151/151 [==============================] - 2s 12ms/step - loss: 17.0105 - tp: 12621.0132 - fp: 25282.5000 - tn: 112237.0921 - fn: 6510.6842 - accuracy: 0.7967 - precision: 0.3322 - recall: 0.6577 - auc: 0.8499 - val_loss: 0.3244 - val_tp: 2857.0000 - val_fp: 5572.0000 - val_tn: 24434.0000 - val_fn: 1437.0000 - val_accuracy: 0.7957 - val_precision: 0.3389 - val_recall: 0.6653 - val_auc: 0.8501\n",
            "Epoch 93/100\n",
            "151/151 [==============================] - 2s 12ms/step - loss: 16.9606 - tp: 12698.1842 - fp: 25353.2434 - tn: 112149.2105 - fn: 6450.6513 - accuracy: 0.7971 - precision: 0.3346 - recall: 0.6647 - auc: 0.8519 - val_loss: 0.3244 - val_tp: 2857.0000 - val_fp: 5572.0000 - val_tn: 24434.0000 - val_fn: 1437.0000 - val_accuracy: 0.7957 - val_precision: 0.3389 - val_recall: 0.6653 - val_auc: 0.8501\n",
            "Epoch 94/100\n",
            "151/151 [==============================] - 2s 12ms/step - loss: 17.0275 - tp: 12663.1974 - fp: 25293.9079 - tn: 112212.1118 - fn: 6482.0724 - accuracy: 0.7969 - precision: 0.3339 - recall: 0.6605 - auc: 0.8502 - val_loss: 0.3244 - val_tp: 2857.0000 - val_fp: 5572.0000 - val_tn: 24434.0000 - val_fn: 1437.0000 - val_accuracy: 0.7957 - val_precision: 0.3389 - val_recall: 0.6653 - val_auc: 0.8501\n",
            "Epoch 95/100\n",
            "151/151 [==============================] - 2s 12ms/step - loss: 17.0054 - tp: 12748.4211 - fp: 25243.4605 - tn: 112182.1118 - fn: 6477.2961 - accuracy: 0.7974 - precision: 0.3367 - recall: 0.6641 - auc: 0.8515 - val_loss: 0.3244 - val_tp: 2857.0000 - val_fp: 5572.0000 - val_tn: 24434.0000 - val_fn: 1437.0000 - val_accuracy: 0.7957 - val_precision: 0.3389 - val_recall: 0.6653 - val_auc: 0.8501\n",
            "Epoch 96/100\n",
            "151/151 [==============================] - 2s 12ms/step - loss: 17.0525 - tp: 12711.4539 - fp: 25395.0921 - tn: 112091.2500 - fn: 6453.4934 - accuracy: 0.7962 - precision: 0.3338 - recall: 0.6626 - auc: 0.8499 - val_loss: 0.3244 - val_tp: 2857.0000 - val_fp: 5572.0000 - val_tn: 24434.0000 - val_fn: 1437.0000 - val_accuracy: 0.7957 - val_precision: 0.3389 - val_recall: 0.6653 - val_auc: 0.8501\n",
            "\n",
            "Epoch 00096: ReduceLROnPlateau reducing learning rate to 5.242879833619943e-15.\n",
            "Epoch 97/100\n",
            "151/151 [==============================] - 2s 12ms/step - loss: 16.9775 - tp: 12653.0132 - fp: 25259.3750 - tn: 112265.4211 - fn: 6473.4803 - accuracy: 0.7979 - precision: 0.3346 - recall: 0.6613 - auc: 0.8509 - val_loss: 0.3244 - val_tp: 2857.0000 - val_fp: 5572.0000 - val_tn: 24434.0000 - val_fn: 1437.0000 - val_accuracy: 0.7957 - val_precision: 0.3389 - val_recall: 0.6653 - val_auc: 0.8501\n",
            "Epoch 98/100\n",
            "151/151 [==============================] - 2s 12ms/step - loss: 16.9939 - tp: 12602.2763 - fp: 25322.7961 - tn: 112256.3487 - fn: 6469.8684 - accuracy: 0.7965 - precision: 0.3310 - recall: 0.6596 - auc: 0.8496 - val_loss: 0.3244 - val_tp: 2857.0000 - val_fp: 5572.0000 - val_tn: 24434.0000 - val_fn: 1437.0000 - val_accuracy: 0.7957 - val_precision: 0.3389 - val_recall: 0.6653 - val_auc: 0.8501\n",
            "Epoch 99/100\n",
            "151/151 [==============================] - 2s 12ms/step - loss: 16.9585 - tp: 12640.2961 - fp: 25245.7961 - tn: 112309.5987 - fn: 6455.5987 - accuracy: 0.7973 - precision: 0.3326 - recall: 0.6589 - auc: 0.8502 - val_loss: 0.3244 - val_tp: 2857.0000 - val_fp: 5572.0000 - val_tn: 24434.0000 - val_fn: 1437.0000 - val_accuracy: 0.7957 - val_precision: 0.3389 - val_recall: 0.6653 - val_auc: 0.8501\n",
            "Epoch 100/100\n",
            "151/151 [==============================] - 2s 11ms/step - loss: 17.0003 - tp: 12671.8421 - fp: 25273.6908 - tn: 112238.1776 - fn: 6467.5789 - accuracy: 0.7967 - precision: 0.3333 - recall: 0.6613 - auc: 0.8505 - val_loss: 0.3244 - val_tp: 2857.0000 - val_fp: 5572.0000 - val_tn: 24434.0000 - val_fn: 1437.0000 - val_accuracy: 0.7957 - val_precision: 0.3389 - val_recall: 0.6653 - val_auc: 0.8501\n"
          ],
          "name": "stdout"
        }
      ]
    },
    {
      "cell_type": "code",
      "metadata": {
        "id": "ZzGVFa2ueOHQ"
      },
      "source": [
        "predictions10 = model10.predict(test_features)"
      ],
      "execution_count": null,
      "outputs": []
    },
    {
      "cell_type": "code",
      "metadata": {
        "id": "3YV9z8akeOHR"
      },
      "source": [
        "predictions10 = sigmoid_to_class(predictions10)"
      ],
      "execution_count": null,
      "outputs": []
    },
    {
      "cell_type": "code",
      "metadata": {
        "colab": {
          "base_uri": "https://localhost:8080/",
          "height": 344
        },
        "id": "Qk9MfJZaeOHR",
        "outputId": "cb5c2d33-bc01-4dee-b88c-749f12e3393c"
      },
      "source": [
        "cnf_matrix = confusion_matrix(test_labels, predictions10)\n",
        "np.set_printoptions(precision=2)\n",
        "\n",
        "# Plot non-normalized confusion matrix\n",
        "plt.figure()\n",
        "plot_confusion_matrix(cnf_matrix, classes = ['Negative','Positive'],\n",
        "                      title='Confusion matrix')"
      ],
      "execution_count": null,
      "outputs": [
        {
          "output_type": "stream",
          "text": [
            "Confusion matrix, without normalization\n",
            "[[27245  6136]\n",
            " [ 1586  3144]]\n"
          ],
          "name": "stdout"
        },
        {
          "output_type": "display_data",
          "data": {
            "image/png": "[encoded data removed]",
            "text/plain": [
              "<Figure size 432x288 with 2 Axes>"
            ]
          },
          "metadata": {
            "tags": []
          }
        }
      ]
    },
    {
      "cell_type": "code",
      "metadata": {
        "colab": {
          "base_uri": "https://localhost:8080/"
        },
        "id": "6_3s55FYeOHS",
        "outputId": "6b444c9f-15de-428d-f2c3-035d0ec80fb1"
      },
      "source": [
        "print('\\nClassification Report\\n')\n",
        "print(classification_report(test_labels, predictions10, target_names=['Negative','Positive']))"
      ],
      "execution_count": null,
      "outputs": [
        {
          "output_type": "stream",
          "text": [
            "\n",
            "Classification Report\n",
            "\n",
            "              precision    recall  f1-score   support\n",
            "\n",
            "    Negative       0.94      0.82      0.88     33381\n",
            "    Positive       0.34      0.66      0.45      4730\n",
            "\n",
            "    accuracy                           0.80     38111\n",
            "   macro avg       0.64      0.74      0.66     38111\n",
            "weighted avg       0.87      0.80      0.82     38111\n",
            "\n"
          ],
          "name": "stdout"
        }
      ]
    },
    {
      "cell_type": "markdown",
      "metadata": {
        "id": "LUpR3KPTGBoh"
      },
      "source": [
        "Even if the difference is extremely slight on the accuracy (from 0.79 to 0.80) the current model is the winner since it achieved the highest accuracy while having equal Macro Average f1 score equal to the highest value recorded in this project for this dataset from the previous models."
      ]
    },
    {
      "cell_type": "code",
      "metadata": {
        "colab": {
          "base_uri": "https://localhost:8080/"
        },
        "id": "9PdciSWZOfdi",
        "outputId": "c0067b9f-24e5-43d0-8dcf-f3bb472d0af1"
      },
      "source": [
        "#Save the wining models\n",
        "model5.save(\"Best Positive Response Predictor\")\n",
        "model10.save(\"Best Predictor Overall\")\n",
        "print(\"Saved models to disk\")"
      ],
      "execution_count": null,
      "outputs": [
        {
          "output_type": "stream",
          "text": [
            "INFO:tensorflow:Assets written to: Best Positive Response Predictor/assets\n",
            "INFO:tensorflow:Assets written to: Best Predictor Overall/assets\n",
            "Saved models to disk\n"
          ],
          "name": "stdout"
        }
      ]
    },
    {
      "cell_type": "code",
      "metadata": {
        "id": "qJOD-dSCQLY8"
      },
      "source": [
        "#Copy the files to the Drive\n",
        "!cp -a /content/Best\\ Positive\\ Response\\ Predictor /content/drive/MyDrive/Colab\\ Notebooks\n",
        "!cp -a /content/Best\\ Predictor\\ Overall /content/drive/MyDrive/Colab\\ Notebooks"
      ],
      "execution_count": null,
      "outputs": []
    },
    {
      "cell_type": "markdown",
      "metadata": {
        "id": "oc0c26dDIN2m"
      },
      "source": [
        "<h2><b>6. Conclusions</b></h2>"
      ]
    },
    {
      "cell_type": "markdown",
      "metadata": {
        "id": "9nDgtbGvJsdS"
      },
      "source": [
        "<p>After exploring the various features of the dataset an effort was made in order to address the biggest problem in the particular dataset, the imbalance on the target variable, Response. As it was mentioned, only 12% of the clients are interested in a Vehicle Insurance, hindering the proccess of creating model that predicts Positive Responses.<p>\n",
        "<p>The first method that was used, the generic solution for Imbalanced Machine Learning problems, provided by the Python library imblearn, called Resampling definitely improved the results. When Resampling was not used the model did not managed to find a single client that will have a Positive Response. After using Resampling the model found 4.135 of the 4.694 Positive Responses on the test dataset while maintaining a respectable accuracy of 67%.<p>\n",
        "<p>A Neural Network specific method was used next, in which Cost-Sensitive Neural Networks are created that adapt better on the dataset's imbalance. This method improved the results slightly, as expected and after experimenting on the correct ratio, a Neural Network was created that achieved a 80% accuracy while correctly predicting 3.144 of the 4.694 Positive Responses on the test dataset.<p>\n",
        "A recommendation for future projects would be to experiment even more with various Neural Network architectures while trying different class ratios for the weights or even different feature combinations for the training dataset."
      ]
    }
  ]
}